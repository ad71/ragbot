{
  "nbformat": 4,
  "nbformat_minor": 0,
  "metadata": {
    "colab": {
      "provenance": [],
      "authorship_tag": "ABX9TyNF/syRjXCf/9F7jthbfbdv",
      "include_colab_link": true
    },
    "kernelspec": {
      "name": "python3",
      "display_name": "Python 3"
    },
    "language_info": {
      "name": "python"
    }
  },
  "cells": [
    {
      "cell_type": "markdown",
      "metadata": {
        "id": "view-in-github",
        "colab_type": "text"
      },
      "source": [
        "<a href=\"https://colab.research.google.com/github/ad71/ragbot/blob/master/langgraph_persistence.ipynb\" target=\"_parent\"><img src=\"https://colab.research.google.com/assets/colab-badge.svg\" alt=\"Open In Colab\"/></a>"
      ]
    },
    {
      "cell_type": "code",
      "execution_count": 5,
      "metadata": {
        "colab": {
          "base_uri": "https://localhost:8080/"
        },
        "id": "uiLn0uD3t2nt",
        "outputId": "38cd4966-9bd2-45e9-dc2d-a5ce94449a36"
      },
      "outputs": [
        {
          "output_type": "stream",
          "name": "stdout",
          "text": [
            "\u001b[?25l     \u001b[90m━━━━━━━━━━━━━━━━━━━━━━━━━━━━━━━━━━━━━━━━\u001b[0m \u001b[32m0.0/84.1 kB\u001b[0m \u001b[31m?\u001b[0m eta \u001b[36m-:--:--\u001b[0m\r\u001b[2K     \u001b[91m━━━━━━━━━━━━━━\u001b[0m\u001b[91m╸\u001b[0m\u001b[90m━━━━━━━━━━━━━━━━━━━━━━━━━\u001b[0m \u001b[32m30.7/84.1 kB\u001b[0m \u001b[31m687.7 kB/s\u001b[0m eta \u001b[36m0:00:01\u001b[0m\r\u001b[2K     \u001b[91m━━━━━━━━━━━━━━━━━━━━━━━━\u001b[0m\u001b[90m╺\u001b[0m\u001b[90m━━━━━━━━━━━━━━━\u001b[0m \u001b[32m51.2/84.1 kB\u001b[0m \u001b[31m613.4 kB/s\u001b[0m eta \u001b[36m0:00:01\u001b[0m\r\u001b[2K     \u001b[90m━━━━━━━━━━━━━━━━━━━━━━━━━━━━━━━━━━━━━━━━\u001b[0m \u001b[32m84.1/84.1 kB\u001b[0m \u001b[31m918.7 kB/s\u001b[0m eta \u001b[36m0:00:00\u001b[0m\n",
            "\u001b[?25h"
          ]
        }
      ],
      "source": [
        "%pip install -qU langchain langchain_openai tavily-python langchain_community langgraph"
      ]
    },
    {
      "cell_type": "code",
      "source": [
        "import os\n",
        "from google.colab import userdata\n",
        "\n",
        "os.environ['OPENAI_API_KEY'] = userdata.get('OPENAI_API_KEY')\n",
        "os.environ['LANGCHAIN_API_KEY'] = userdata.get('LANGCHAIN_API_KEY')\n",
        "os.environ['TAVILY_API_KEY'] = userdata.get('TAVILY_API_KEY')\n",
        "\n",
        "# optional, add tracing in LangSmith\n",
        "os.environ['LANGCHAIN_TRACING_V2'] = 'true'"
      ],
      "metadata": {
        "id": "VaSpwCQ3uO3k"
      },
      "execution_count": 2,
      "outputs": []
    },
    {
      "cell_type": "code",
      "source": [
        "# setup tools\n",
        "from langchain_community.tools.tavily_search import TavilySearchResults\n",
        "tools = [TavilySearchResults(max_results=1)]"
      ],
      "metadata": {
        "id": "HuD8AffxuXGN"
      },
      "execution_count": 4,
      "outputs": []
    },
    {
      "cell_type": "code",
      "source": [
        "from langgraph.prebuilt import ToolExecutor\n",
        "tool_executor = ToolExecutor(tools)"
      ],
      "metadata": {
        "id": "8k0p8WmnulNd"
      },
      "execution_count": 6,
      "outputs": []
    },
    {
      "cell_type": "code",
      "source": [
        "from langchain_openai import ChatOpenAI\n",
        "model = ChatOpenAI(temperature=0, streaming=True)"
      ],
      "metadata": {
        "id": "F_IJPIN0utnc"
      },
      "execution_count": 7,
      "outputs": []
    },
    {
      "cell_type": "code",
      "source": [
        "from langchain_core.utils.function_calling import convert_to_openai_function\n",
        "\n",
        "functions = [convert_to_openai_function(t) for t in tools]\n",
        "model = model.bind_functions(functions)"
      ],
      "metadata": {
        "id": "S8kyhNDNu6pI"
      },
      "execution_count": 8,
      "outputs": []
    },
    {
      "cell_type": "code",
      "source": [
        "from langgraph.prebuilt import ToolInvocation\n",
        "from langchain_core.messages import FunctionMessage\n",
        "import json\n",
        "\n",
        "def should_continue(messages):\n",
        "    last_message = messages[-1]\n",
        "\n",
        "    if 'function_call' not in last_message.additional_kwargs:\n",
        "        return 'end'\n",
        "    else:\n",
        "        return 'continue'\n",
        "\n",
        "def call_model(messages):\n",
        "    response = model.invoke(messages)\n",
        "    return response\n",
        "\n",
        "def call_tool(messages):\n",
        "    last_message = messages[-1]\n",
        "    action = ToolInvocation(\n",
        "        tool=last_message.additional_kwargs['function_call']['name'],\n",
        "        tool_input=json.loads(last_message.additional_kwargs['function_call']['arguments'])\n",
        "    )\n",
        "    response = tool_executor.invoke(action)\n",
        "    function_message = FunctionMessage(content=str(response), name=action.tool)\n",
        "    return function_message"
      ],
      "metadata": {
        "id": "31wOHgQdvEAx"
      },
      "execution_count": 9,
      "outputs": []
    },
    {
      "cell_type": "code",
      "source": [
        "from langgraph.graph import MessageGraph, END\n",
        "workflow = MessageGraph()\n",
        "\n",
        "workflow.add_node('agent', call_model)\n",
        "workflow.add_node('action', call_tool)\n",
        "\n",
        "workflow.set_entry_point('agent')\n",
        "\n",
        "workflow.add_conditional_edges(\n",
        "    'agent',\n",
        "    should_continue,\n",
        "    {\n",
        "        'continue': 'action',\n",
        "        'end': END\n",
        "    }\n",
        ")\n",
        "\n",
        "workflow.add_edge('action', 'agent')"
      ],
      "metadata": {
        "id": "rabhbbVNwiDd"
      },
      "execution_count": 10,
      "outputs": []
    },
    {
      "cell_type": "markdown",
      "source": [
        "### Persistence"
      ],
      "metadata": {
        "id": "lhEFS2krxa71"
      }
    },
    {
      "cell_type": "code",
      "source": [
        "from langgraph.checkpoint.sqlite import SqliteSaver\n",
        "memory = SqliteSaver.from_conn_string(':memory:')"
      ],
      "metadata": {
        "id": "Yndm9BiCxZhM"
      },
      "execution_count": 11,
      "outputs": []
    },
    {
      "cell_type": "code",
      "source": [
        "app = workflow.compile(checkpointer=memory)"
      ],
      "metadata": {
        "id": "PFfkGWGUxknj"
      },
      "execution_count": 12,
      "outputs": []
    },
    {
      "cell_type": "code",
      "source": [
        "from langchain_core.messages import HumanMessage\n",
        "inputs = [HumanMessage(content=\"Hi! I'm bob\")]\n",
        "for event in app.stream(inputs, {'configurable': {'thread_id': '2'}}):\n",
        "    for k, v in event.items():\n",
        "        if k != '__end__':\n",
        "            print(v)"
      ],
      "metadata": {
        "colab": {
          "base_uri": "https://localhost:8080/"
        },
        "id": "0UXp17vixq_f",
        "outputId": "473baf23-736e-488d-b0ab-8c5473559187"
      },
      "execution_count": 13,
      "outputs": [
        {
          "output_type": "stream",
          "name": "stdout",
          "text": [
            "content='Hello Bob! How can I assist you today?' response_metadata={'finish_reason': 'stop'} id='run-003fb847-e361-4ac9-8731-0956ffe11a0d-0'\n"
          ]
        }
      ]
    },
    {
      "cell_type": "code",
      "source": [
        "inputs = [HumanMessage(content='what is my name?')]\n",
        "for event in app.stream(inputs, {'configurable': {'thread_id': '2'}}):\n",
        "    for k, v in event.items():\n",
        "        if k != '__end__':\n",
        "            print(v)"
      ],
      "metadata": {
        "colab": {
          "base_uri": "https://localhost:8080/"
        },
        "id": "Oz8j9RTNx92t",
        "outputId": "4acd1b99-28fa-4df1-c315-5b3122d6c98a"
      },
      "execution_count": 14,
      "outputs": [
        {
          "output_type": "stream",
          "name": "stdout",
          "text": [
            "content='Your name is Bob! How can I help you, Bob?' response_metadata={'finish_reason': 'stop'} id='run-86e302c9-e6fb-4444-bd36-3f358e6d8c62-0'\n"
          ]
        }
      ]
    },
    {
      "cell_type": "code",
      "source": [
        "inputs = [HumanMessage(content='what is my name?')]\n",
        "for event in app.stream(inputs, {'configurable': {'thread_id': '3'}}):\n",
        "    for k, v in event.items():\n",
        "        if k != '__end__':\n",
        "            print(v)"
      ],
      "metadata": {
        "colab": {
          "base_uri": "https://localhost:8080/"
        },
        "id": "0LqLEBl0ySaN",
        "outputId": "daf7a076-4794-4331-9b64-bdc9df675a90"
      },
      "execution_count": 15,
      "outputs": [
        {
          "output_type": "stream",
          "name": "stdout",
          "text": [
            "content=\"I'm sorry, but I don't have access to your personal information such as your name. How can I assist you today?\" response_metadata={'finish_reason': 'stop'} id='run-477675ee-f04f-45ae-8fb9-3ebffde6b911-0'\n"
          ]
        }
      ]
    },
    {
      "cell_type": "code",
      "source": [],
      "metadata": {
        "id": "Tgyh4R5_yde1"
      },
      "execution_count": null,
      "outputs": []
    }
  ]
}