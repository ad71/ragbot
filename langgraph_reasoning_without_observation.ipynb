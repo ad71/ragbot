{
 "cells": [
  {
   "cell_type": "markdown",
   "metadata": {},
   "source": [
    "# Reasoning without Observation\n",
    "ReWOO proposes an agent that combines a multi-step planner and variable substitution for effective tool use. It was designed to improve on the ReACT-style agent architecture in the following ways:\n",
    "1. Reduce token consumption and execution time by generating the full chain of tools used in a single pass. _(ReACT style agent architecture requires many LLM calls with redundant prefixes since the system prompt and previous steps are provided to the LLM for each reasoning step)_\n",
    "2. Simplify the fine-tuning process. Since the planning data doesn't depend on the outputs of the tool, models can be fine-tuned without actually invoking the tools (in theory)"
   ]
  },
  {
   "cell_type": "code",
   "execution_count": 2,
   "metadata": {},
   "outputs": [],
   "source": [
    "import re\n",
    "import os\n",
    "import json\n",
    "import base64\n",
    "import asyncio\n",
    "import platform\n",
    "import requests\n",
    "import operator\n",
    "import playwright\n",
    "import numpy as np\n",
    "import pandas as pd\n",
    "import datetime as dt\n",
    "\n",
    "from enum import Enum\n",
    "from typing import List\n",
    "from typing import Dict\n",
    "from typing import Tuple\n",
    "from typing import Union\n",
    "from typing import Literal\n",
    "from typing import Optional\n",
    "from typing import Annotated\n",
    "from typing import TypedDict\n",
    "from operator import itemgetter\n",
    "\n",
    "from IPython import display\n",
    "from IPython.display import HTML\n",
    "from IPython.display import Image\n",
    "\n",
    "from langgraph.graph import END\n",
    "from langgraph.graph import StateGraph\n",
    "from langgraph.prebuilt import create_react_agent\n",
    "\n",
    "from langchain_openai import ChatOpenAI\n",
    "from langchain_openai import OpenAIEmbeddings\n",
    "\n",
    "from langchain_core.messages import BaseMessage\n",
    "from langchain_core.messages.ai import AIMessage\n",
    "from langchain_core.messages.chat import ChatMessage\n",
    "from langchain_core.messages.tool import ToolMessage\n",
    "from langchain_core.messages.human import HumanMessage\n",
    "from langchain_core.messages.system import SystemMessage\n",
    "from langchain_core.messages.function import FunctionMessage\n",
    "from langchain_core.prompts.image import ImagePromptTemplate\n",
    "\n",
    "from langchain_core.pydantic_v1 import Field\n",
    "from langchain_core.pydantic_v1 import BaseModel\n",
    "from langchain_core.runnables import RunnableLambda\n",
    "from langchain_core.runnables import RunnableParallel\n",
    "from langchain_core.runnables import RunnablePassthrough\n",
    "from langchain_core.output_parsers import StrOutputParser\n",
    "from langchain_core.output_parsers import JsonOutputParser\n",
    "\n",
    "from langchain_core.runnables.graph import CurveStyle\n",
    "from langchain_core.runnables.graph import NodeColors\n",
    "from langchain_core.runnables.graph import MermaidDrawMethod\n",
    "\n",
    "from langchain import hub\n",
    "from langchain.schema import Document\n",
    "from langchain.prompts import PromptTemplate\n",
    "from langchain.prompts import ChatPromptTemplate\n",
    "from langchain.prompts import MessagesPlaceholder\n",
    "from langchain.prompts import HumanMessagePromptTemplate\n",
    "from langchain.prompts import SystemMessagePromptTemplate\n",
    "from langchain.agents import create_openai_functions_agent\n",
    "from langchain.text_splitter import RecursiveCharacterTextSplitter\n",
    "\n",
    "from langchain_community.vectorstores import Chroma\n",
    "from langchain_community.document_loaders import WebBaseLoader\n",
    "from langchain_community.tools.tavily_search import TavilySearchResults\n",
    "\n",
    "from dotenv import load_dotenv\n",
    "load_dotenv()\n",
    "os.environ['LANGCHAIN_TRACING_V2'] = 'true'\n",
    "os.environ['LANGCHAIN_PROJECT'] = 'ReWOO'"
   ]
  },
  {
   "cell_type": "code",
   "execution_count": 3,
   "metadata": {},
   "outputs": [],
   "source": [
    "class ReWOO(TypedDict):\n",
    "    task: str\n",
    "    plan_string: str\n",
    "    steps: List\n",
    "    results: dict\n",
    "    result: str"
   ]
  },
  {
   "cell_type": "code",
   "execution_count": 4,
   "metadata": {},
   "outputs": [],
   "source": [
    "model = ChatOpenAI(temperature=0)"
   ]
  },
  {
   "cell_type": "code",
   "execution_count": 5,
   "metadata": {},
   "outputs": [],
   "source": [
    "prompt = '''For the following task, make plans that can solve the problem step by step. \n",
    "For each plan, indicate which external tool together with tool input to retrieve evidence. \n",
    "You can store the evidence into a variable #E that can be called by later tools. (Plan, #E1, Plan, #E2, Plan, ...)\n",
    "\n",
    "Tools can be one of the following:\n",
    "(1) Google[input]: Worker that searches results from Google. Useful when you need to find short \n",
    "and succint answers about a specific topic. The input should be a search query. \n",
    "(2) LLM[input]: A pretrained LLM like yourself. Useful when you need to act with general world knowledge and common sense. \n",
    "Prioritize it when you are confident in solving the problem yourself. Input can be any instruction.\n",
    "\n",
    "For example,\n",
    "Task: Thomas, Toby and Rebecca worked a total of 157 hours in one week. Thomas worked x hours. Toby worked 10 hours less than twice what Thomas worked, \n",
    "and Rebecca worked 8 hours less than Toby. How many hours did Rebecca work? \n",
    "Plan: Given Thomas worked x hours, translate the problem into algebraic expressions and solve with Wolfram Alpha. #E1 = WolframAlpha[Solve x + (2x - 10) + ((2x - 10) - 8) = 157] \n",
    "Plan: Find out the number of hours Thomas worked. #E2 = LLM[What is x, given #E1] \n",
    "Plan: Calculate the number of hours Rebecca worked. #E3 = Calculator[(2 * #E2 - 10) - 8] \n",
    "\n",
    "Begin!\n",
    "Describe your plans with rich details. Each plan should be followed by only one #E. \n",
    "\n",
    "Task: {task}'''"
   ]
  },
  {
   "cell_type": "code",
   "execution_count": 6,
   "metadata": {},
   "outputs": [
    {
     "name": "stdout",
     "output_type": "stream",
     "text": [
      "Plan: Use Google to search for the hometown of the 2024 Australian Open winner. #E1 = Google[2024 Australian Open winner hometown]\n"
     ]
    }
   ],
   "source": [
    "task = 'what is the hometown of the 2024 australian open winner'\n",
    "result = model.invoke(prompt.format(task=task))\n",
    "print(result.content)"
   ]
  },
  {
   "cell_type": "markdown",
   "metadata": {},
   "source": [
    "To connect the planner to the graph, we will create a `get_plan` node that accepts the `ReWOO` state and returns with a state update for the `steps` and `plan_string` fields."
   ]
  },
  {
   "cell_type": "code",
   "execution_count": 7,
   "metadata": {},
   "outputs": [],
   "source": [
    "regex_pattern = r'Plan:\\s*(.+)\\s*(#E\\d+)\\s*=\\s*(\\w+)\\s*\\[([^\\]]+)\\]'\n",
    "prompt_template = ChatPromptTemplate.from_messages([('user', prompt)])\n",
    "planner = prompt_template | model\n",
    "\n",
    "def get_plan(state: ReWOO):\n",
    "    task = state['task']\n",
    "    result = planner.invoke({'task': task})\n",
    "    matches = re.findall(regex_pattern, result.content)\n",
    "    return {'steps': matches, 'plan_string': result.content}"
   ]
  },
  {
   "cell_type": "markdown",
   "metadata": {},
   "source": [
    "## Executor\n",
    "The executor receives the plan and executes the tools in sequence.\n",
    "Below, instantiate the search engine and define the tool execution node."
   ]
  },
  {
   "cell_type": "code",
   "execution_count": 8,
   "metadata": {},
   "outputs": [],
   "source": [
    "search = TavilySearchResults()"
   ]
  },
  {
   "cell_type": "code",
   "execution_count": 9,
   "metadata": {},
   "outputs": [],
   "source": [
    "def _get_current_task(state: ReWOO):\n",
    "    if state['results'] is None:\n",
    "        return 1\n",
    "    if len(state['results']) == len(state['steps']):\n",
    "        return None\n",
    "    else:\n",
    "        return len(state['results']) + 1\n",
    "    \n",
    "def tool_execution(state: ReWOO):\n",
    "    '''Worker node that executes the tools of a given plan'''\n",
    "    _step = _get_current_task(state)\n",
    "    _, step_name, tool, tool_input = state['steps'][_step - 1]\n",
    "    _results = state['results'] or {}\n",
    "    for k, v in _results.items():\n",
    "        tool_input = tool_input.replace(k, v)\n",
    "    if tool == 'Google':\n",
    "        result = search.invoke(tool_input)\n",
    "    elif tool == 'LLM':\n",
    "        result = model.invoke(tool_input)\n",
    "    else:\n",
    "        raise ValueError\n",
    "    _results[step_name] = str(result)\n",
    "    return {'results': _results}"
   ]
  },
  {
   "cell_type": "markdown",
   "metadata": {},
   "source": [
    "## Solver\n",
    "The solver receives the full plan and generates the final response based on the responses of the tool calls from the worker."
   ]
  },
  {
   "cell_type": "code",
   "execution_count": 10,
   "metadata": {},
   "outputs": [],
   "source": [
    "solve_prompt = '''Solve the following task or problem. To solve the problem, we have made step-by-step Plan and retrieved corresponding Evidence to each Plan. \n",
    "Use them with caution since long evidence might contain irrelevant information.\n",
    "\n",
    "{plan}\n",
    "\n",
    "Now solve the question or task according to provided Evidence above. Respond with the answer directly with no extra words.\n",
    "\n",
    "Task: {task}\n",
    "Response:'''\n",
    "\n",
    "def solve(state: ReWOO):\n",
    "    plan = ''\n",
    "    for _plan, step_name, tool, tool_input in state['steps']:\n",
    "        _results = state['results'] or {}\n",
    "        for k, v in _results.items():\n",
    "            tool_input = tool_input.replace(k, v)\n",
    "            step_name = step_name.replace(k, v)\n",
    "\n",
    "        plan += solve_prompt.format(plan=plan, task=state['task'])\n",
    "        result = model.invoke(prompt)\n",
    "        return {'result': result.content}"
   ]
  },
  {
   "cell_type": "markdown",
   "metadata": {},
   "source": [
    "## Define Graph\n",
    "Our graph defines the workflow. Each of the planner, tool executor and solver modules are added as nodes."
   ]
  },
  {
   "cell_type": "code",
   "execution_count": 11,
   "metadata": {},
   "outputs": [],
   "source": [
    "def _route(state):\n",
    "    _step = _get_current_task(state)\n",
    "    if _step is None:\n",
    "        return 'solve'\n",
    "    else:\n",
    "        return 'tool'"
   ]
  },
  {
   "cell_type": "code",
   "execution_count": 13,
   "metadata": {},
   "outputs": [],
   "source": [
    "graph = StateGraph(ReWOO)\n",
    "graph.add_node('plan', get_plan)\n",
    "graph.add_node('tool', tool_execution)\n",
    "graph.add_node('solve', solve)\n",
    "graph.add_edge('plan', 'tool')\n",
    "graph.add_edge('solve', END)\n",
    "graph.add_conditional_edges('tool', _route)\n",
    "graph.set_entry_point('plan')\n",
    "\n",
    "app = graph.compile()"
   ]
  },
  {
   "cell_type": "code",
   "execution_count": 14,
   "metadata": {},
   "outputs": [
    {
     "name": "stdout",
     "output_type": "stream",
     "text": [
      "{'plan': {'plan_string': 'Plan: Use Google to search for the hometown of the 2024 Australian Open winner. #E1 = Google[2024 Australian Open winner hometown] \\nPlan: Identify the name of the 2024 Australian Open winner. #E2 = LLM[Who won the 2024 Australian Open, given #E1] \\nPlan: Find the hometown of the 2024 Australian Open winner. #E3 = Google[#E2 hometown]', 'steps': [('Use Google to search for the hometown of the 2024 Australian Open winner. ', '#E1', 'Google', '2024 Australian Open winner hometown'), ('Identify the name of the 2024 Australian Open winner. ', '#E2', 'LLM', 'Who won the 2024 Australian Open, given #E1'), ('Find the hometown of the 2024 Australian Open winner. ', '#E3', 'Google', '#E2 hometown')]}}\n",
      "----\n",
      "{'tool': {'results': {'#E1': '[{\\'url\\': \"https://en.wikipedia.org/wiki/2024_Australian_Open_–_Men\\'s_singles_final\", \\'content\\': \"This was the first Australian Open final since 2005 not to feature any of the Big Three members.[5]\\\\nMedvedev set an Open Era record for the most time spent playing at a singles major, at 24 hours and 17 minutes.[6] Medvedev also became the first player in the Open Era to lose two major finals after having a two-set lead.[7]\\\\nBackground[edit]\\\\nEntering the final, Medvedev lead the career head-to-head 6–3. He became the second Italian man in the Open Era to win a singles major, after Adriano Panatta at the 1976 French Open,[2] and the first new Australian Open champion in ten years, since Stan Wawrinka in 2014.[3] At 22, Sinner was the youngest Australian Open men\\'s singles champion and finalist since Novak Djokovic in 2008.[4] Contents\\\\n2024 Australian Open – Men\\'s singles final\\\\nThe 2024 Australian Open Men\\'s Singles final was the championship tennis match of the men\\'s singles tournament at the 2024 Australian Open, contested by fourth-seed Jannik Sinner and third-seed Daniil Medvedev. Also in the semifinals, Medvedev came back from two-sets-to-love down against Alexander Zverev to reach a third Australian Open final.[9] Medvedev had already played two other five-set matches, against Emil Ruusuvuori in the second round (when he came back from two-sets-to-love down as well) and against Hubert Hurkacz in the quarterfinals.\\\\n Novak Djokovic, ending his 33-match winning streak at the Australian Open (dating back from the 2019 tournament), as well as marking the Serbian\\'s first-ever defeat in an Australian Open semifinal and his first defeat in any major semifinal since the 2019 French Open.\"}, {\\'url\\': \\'https://en.wikipedia.org/wiki/2024_Australian_Open\\', \\'content\\': \"The tournament featured the following changes from previous tournaments:[9]\\\\nSingles players[edit]\\\\nEvents[edit]\\\\nMen\\'s singles[edit]\\\\nWomen\\'s singles[edit]\\\\nMen\\'s doubles[edit]\\\\nWomen\\'s doubles[edit]\\\\nMixed doubles[edit]\\\\nWheelchair men\\'s singles[edit]\\\\nWheelchair women\\'s singles[edit]\\\\nWheelchair quad singles[edit]\\\\nWheelchair men\\'s doubles[edit]\\\\nWheelchair women\\'s doubles[edit]\\\\nWheelchair quad doubles[edit]\\\\nBoys\\' singles[edit]\\\\nGirls\\' singles[edit]\\\\nBoys\\' doubles[edit]\\\\nGirls\\' doubles[edit]\\\\nPoints and prize money[edit]\\\\nPoint distribution[edit]\\\\nBelow is a series of tables for each competition showing the ranking points offered for each event.[12][13][14]\\\\nPrize money[edit]\\\\nThe Australian Open total prize money for 2024 increased by 13.07% year on year to a tournament record A$86,500,000. Aryna Sabalenka successfully defended the women\\'s singles title as she claimed her second major singles title, defeating Zheng Qinwen without losing a set during the tournament.[6][7]\\\\nIn the tournament\\'s 119-year history, this was the first Australian Open Tennis Championships to be held on an opening Sunday.[8]\\\\n It was the 112th edition of the Australian Open, the 56th in the Open Era, and the first major of the year. The total represented a 162% increase in prize money over the last ten years, from the A$33 million on offer in 2014.\\\\n Contents\\\\n2024 Australian Open\\\\nThe 2024 Australian Open was a Grand Slam level tennis tournament held at Melbourne Park, from 14–28 January 2024.[1]\"}, {\\'url\\': \\'https://ausopen.com/articles/news/sinner-v-medvedev-how-ao-2024-mens-final-was-decided\\', \\'content\\': \"MORE: All the stats from the AO 2024 men’s final\\\\nDaniil Medvedev could not maintain his scintillating start on Sunday night, while first-time major finalist Jannik Sinner simply grew in strength as the five-set contest progressed.\\\\nSinner, winner: Italian takes first major at AO 2024\\\\nNEWS\\\\nSinner, the morning after: “It\\'s great emotions, slowly realising what I\\'ve done”\\\\nNEWS\\\\n Sinner v Medvedev: How the AO 2024 men\\'s final was decided\\\\nJannik Sinner weathered an early onslaught to reel in Daniil Medvedev, growing in potency to win the Australian Open 2024 final – his first Grand Slam singles title.\\\\n Early in the second set Medvedev was averaging 77 per cent of first serves in for the match, and towards the end of it this figure had dipped to 65. Medvedev had spent more than 20 hours on court in his previous six rounds, the equivalent of almost two more matches than Sinner (who had spent less than 15 hours on court in advancing to the final).\\\\n During the shift, Sinner’s forehand was gathering speed, having increased from an average of 122.3 km/h in the first set to 128.7 km/h by the third.\\\\n\"}, {\\'url\\': \\'https://www.nine.com.au/sport/tennis/australian-open-final-2024-live-results-scores-mens-winner-daniil-medvedev-jannik-sinner-womens-doubles-updates-20240129-p5jcbe.html\\', \\'content\\': \"Australian Open day 15 schedule AEDT \\\\ufeffClick here for all live scores, fixtures and results across all cou Watch the 2024 Australian Open live and exclusive on Nine, 9Now and ad-free on Stan Sport. Women\\'s doubles\\\\ufeff fi. From 3pm: \\\\ufeff[11] Jelena Ostapenko (LAT)/Lyudmyla Kichenok (UKR) def by [2] Su-Wei Hsieh (TWN)/Elise Mertens (BEL) 6-1, 7-5. Men\\'s singles final\\\\ufeff\"}, {\\'url\\': \\'https://www.theguardian.com/sport/blog/2024/jan/22/australian-open-2024-aussie-players-rankings-alex-de-minaur-thanasi-kokkinakis\\', \\'content\\': \\'While this cohort may never lift a grand slam singles trophy, their travails add to their charm and as the bar on Melbourne Park’s party court closes at the end of this week, Australia’s tennis family will be back on the practice courts, working to meet the public’s expectations – and their own.\\\\n Alex de Minaur’s demise at Australian Open ends hometown hopes but a new force has awoken\\\\nAll 15 local men’s singles contenders are eliminated from this Australian Open but their inspiring stories and unique styles give hope for the future\\\\nOptimism within Melbourne Park quickly became consternation when Andrey Rublev hit the power button late in his round of 16 victory over Alex De Minaur.\\\\n The Rockhampton product has struggled with self-belief her entire career, but was unlucky against 9th seed Barbora Krejčíková in the third round and is desperate, at age 29, to put her doubles success on the backburner in 2024 and see just how far she can go up the singles ladder.\\\\n De Minaur was Luke Skywalker in his X-wing, the leader of a rag-tag, 15-strong fleet of local players desperate to find a way to dismantle the Death Star of Australian tennis: the 48-year-old drought for local men at their home grand slam.\\\\n Though De Minaur had beaten world No 1 Novak Djokovic in the lead-up, the nature of his defeat against Rublev – brilliant defence bested by an opponent’s world class weapons – renewed questions about the Australian’s ceiling as a grand slam contender.\\\\n\\'}]'}}}\n",
      "----\n",
      "{'tool': {'results': {'#E1': '[{\\'url\\': \"https://en.wikipedia.org/wiki/2024_Australian_Open_–_Men\\'s_singles_final\", \\'content\\': \"This was the first Australian Open final since 2005 not to feature any of the Big Three members.[5]\\\\nMedvedev set an Open Era record for the most time spent playing at a singles major, at 24 hours and 17 minutes.[6] Medvedev also became the first player in the Open Era to lose two major finals after having a two-set lead.[7]\\\\nBackground[edit]\\\\nEntering the final, Medvedev lead the career head-to-head 6–3. He became the second Italian man in the Open Era to win a singles major, after Adriano Panatta at the 1976 French Open,[2] and the first new Australian Open champion in ten years, since Stan Wawrinka in 2014.[3] At 22, Sinner was the youngest Australian Open men\\'s singles champion and finalist since Novak Djokovic in 2008.[4] Contents\\\\n2024 Australian Open – Men\\'s singles final\\\\nThe 2024 Australian Open Men\\'s Singles final was the championship tennis match of the men\\'s singles tournament at the 2024 Australian Open, contested by fourth-seed Jannik Sinner and third-seed Daniil Medvedev. Also in the semifinals, Medvedev came back from two-sets-to-love down against Alexander Zverev to reach a third Australian Open final.[9] Medvedev had already played two other five-set matches, against Emil Ruusuvuori in the second round (when he came back from two-sets-to-love down as well) and against Hubert Hurkacz in the quarterfinals.\\\\n Novak Djokovic, ending his 33-match winning streak at the Australian Open (dating back from the 2019 tournament), as well as marking the Serbian\\'s first-ever defeat in an Australian Open semifinal and his first defeat in any major semifinal since the 2019 French Open.\"}, {\\'url\\': \\'https://en.wikipedia.org/wiki/2024_Australian_Open\\', \\'content\\': \"The tournament featured the following changes from previous tournaments:[9]\\\\nSingles players[edit]\\\\nEvents[edit]\\\\nMen\\'s singles[edit]\\\\nWomen\\'s singles[edit]\\\\nMen\\'s doubles[edit]\\\\nWomen\\'s doubles[edit]\\\\nMixed doubles[edit]\\\\nWheelchair men\\'s singles[edit]\\\\nWheelchair women\\'s singles[edit]\\\\nWheelchair quad singles[edit]\\\\nWheelchair men\\'s doubles[edit]\\\\nWheelchair women\\'s doubles[edit]\\\\nWheelchair quad doubles[edit]\\\\nBoys\\' singles[edit]\\\\nGirls\\' singles[edit]\\\\nBoys\\' doubles[edit]\\\\nGirls\\' doubles[edit]\\\\nPoints and prize money[edit]\\\\nPoint distribution[edit]\\\\nBelow is a series of tables for each competition showing the ranking points offered for each event.[12][13][14]\\\\nPrize money[edit]\\\\nThe Australian Open total prize money for 2024 increased by 13.07% year on year to a tournament record A$86,500,000. Aryna Sabalenka successfully defended the women\\'s singles title as she claimed her second major singles title, defeating Zheng Qinwen without losing a set during the tournament.[6][7]\\\\nIn the tournament\\'s 119-year history, this was the first Australian Open Tennis Championships to be held on an opening Sunday.[8]\\\\n It was the 112th edition of the Australian Open, the 56th in the Open Era, and the first major of the year. The total represented a 162% increase in prize money over the last ten years, from the A$33 million on offer in 2014.\\\\n Contents\\\\n2024 Australian Open\\\\nThe 2024 Australian Open was a Grand Slam level tennis tournament held at Melbourne Park, from 14–28 January 2024.[1]\"}, {\\'url\\': \\'https://ausopen.com/articles/news/sinner-v-medvedev-how-ao-2024-mens-final-was-decided\\', \\'content\\': \"MORE: All the stats from the AO 2024 men’s final\\\\nDaniil Medvedev could not maintain his scintillating start on Sunday night, while first-time major finalist Jannik Sinner simply grew in strength as the five-set contest progressed.\\\\nSinner, winner: Italian takes first major at AO 2024\\\\nNEWS\\\\nSinner, the morning after: “It\\'s great emotions, slowly realising what I\\'ve done”\\\\nNEWS\\\\n Sinner v Medvedev: How the AO 2024 men\\'s final was decided\\\\nJannik Sinner weathered an early onslaught to reel in Daniil Medvedev, growing in potency to win the Australian Open 2024 final – his first Grand Slam singles title.\\\\n Early in the second set Medvedev was averaging 77 per cent of first serves in for the match, and towards the end of it this figure had dipped to 65. Medvedev had spent more than 20 hours on court in his previous six rounds, the equivalent of almost two more matches than Sinner (who had spent less than 15 hours on court in advancing to the final).\\\\n During the shift, Sinner’s forehand was gathering speed, having increased from an average of 122.3 km/h in the first set to 128.7 km/h by the third.\\\\n\"}, {\\'url\\': \\'https://www.nine.com.au/sport/tennis/australian-open-final-2024-live-results-scores-mens-winner-daniil-medvedev-jannik-sinner-womens-doubles-updates-20240129-p5jcbe.html\\', \\'content\\': \"Australian Open day 15 schedule AEDT \\\\ufeffClick here for all live scores, fixtures and results across all cou Watch the 2024 Australian Open live and exclusive on Nine, 9Now and ad-free on Stan Sport. Women\\'s doubles\\\\ufeff fi. From 3pm: \\\\ufeff[11] Jelena Ostapenko (LAT)/Lyudmyla Kichenok (UKR) def by [2] Su-Wei Hsieh (TWN)/Elise Mertens (BEL) 6-1, 7-5. Men\\'s singles final\\\\ufeff\"}, {\\'url\\': \\'https://www.theguardian.com/sport/blog/2024/jan/22/australian-open-2024-aussie-players-rankings-alex-de-minaur-thanasi-kokkinakis\\', \\'content\\': \\'While this cohort may never lift a grand slam singles trophy, their travails add to their charm and as the bar on Melbourne Park’s party court closes at the end of this week, Australia’s tennis family will be back on the practice courts, working to meet the public’s expectations – and their own.\\\\n Alex de Minaur’s demise at Australian Open ends hometown hopes but a new force has awoken\\\\nAll 15 local men’s singles contenders are eliminated from this Australian Open but their inspiring stories and unique styles give hope for the future\\\\nOptimism within Melbourne Park quickly became consternation when Andrey Rublev hit the power button late in his round of 16 victory over Alex De Minaur.\\\\n The Rockhampton product has struggled with self-belief her entire career, but was unlucky against 9th seed Barbora Krejčíková in the third round and is desperate, at age 29, to put her doubles success on the backburner in 2024 and see just how far she can go up the singles ladder.\\\\n De Minaur was Luke Skywalker in his X-wing, the leader of a rag-tag, 15-strong fleet of local players desperate to find a way to dismantle the Death Star of Australian tennis: the 48-year-old drought for local men at their home grand slam.\\\\n Though De Minaur had beaten world No 1 Novak Djokovic in the lead-up, the nature of his defeat against Rublev – brilliant defence bested by an opponent’s world class weapons – renewed questions about the Australian’s ceiling as a grand slam contender.\\\\n\\'}]', '#E2': 'content=\"Jannik Sinner won the 2024 Australian Open Men\\'s Singles final, defeating Daniil Medvedev.\" response_metadata={\\'token_usage\\': {\\'completion_tokens\\': 24, \\'prompt_tokens\\': 1740, \\'total_tokens\\': 1764}, \\'model_name\\': \\'gpt-3.5-turbo\\', \\'system_fingerprint\\': None, \\'finish_reason\\': \\'stop\\', \\'logprobs\\': None} id=\\'run-44ee8645-7852-48df-adb7-38befa315584-0\\''}}}\n",
      "----\n",
      "{'tool': {'results': {'#E1': '[{\\'url\\': \"https://en.wikipedia.org/wiki/2024_Australian_Open_–_Men\\'s_singles_final\", \\'content\\': \"This was the first Australian Open final since 2005 not to feature any of the Big Three members.[5]\\\\nMedvedev set an Open Era record for the most time spent playing at a singles major, at 24 hours and 17 minutes.[6] Medvedev also became the first player in the Open Era to lose two major finals after having a two-set lead.[7]\\\\nBackground[edit]\\\\nEntering the final, Medvedev lead the career head-to-head 6–3. He became the second Italian man in the Open Era to win a singles major, after Adriano Panatta at the 1976 French Open,[2] and the first new Australian Open champion in ten years, since Stan Wawrinka in 2014.[3] At 22, Sinner was the youngest Australian Open men\\'s singles champion and finalist since Novak Djokovic in 2008.[4] Contents\\\\n2024 Australian Open – Men\\'s singles final\\\\nThe 2024 Australian Open Men\\'s Singles final was the championship tennis match of the men\\'s singles tournament at the 2024 Australian Open, contested by fourth-seed Jannik Sinner and third-seed Daniil Medvedev. Also in the semifinals, Medvedev came back from two-sets-to-love down against Alexander Zverev to reach a third Australian Open final.[9] Medvedev had already played two other five-set matches, against Emil Ruusuvuori in the second round (when he came back from two-sets-to-love down as well) and against Hubert Hurkacz in the quarterfinals.\\\\n Novak Djokovic, ending his 33-match winning streak at the Australian Open (dating back from the 2019 tournament), as well as marking the Serbian\\'s first-ever defeat in an Australian Open semifinal and his first defeat in any major semifinal since the 2019 French Open.\"}, {\\'url\\': \\'https://en.wikipedia.org/wiki/2024_Australian_Open\\', \\'content\\': \"The tournament featured the following changes from previous tournaments:[9]\\\\nSingles players[edit]\\\\nEvents[edit]\\\\nMen\\'s singles[edit]\\\\nWomen\\'s singles[edit]\\\\nMen\\'s doubles[edit]\\\\nWomen\\'s doubles[edit]\\\\nMixed doubles[edit]\\\\nWheelchair men\\'s singles[edit]\\\\nWheelchair women\\'s singles[edit]\\\\nWheelchair quad singles[edit]\\\\nWheelchair men\\'s doubles[edit]\\\\nWheelchair women\\'s doubles[edit]\\\\nWheelchair quad doubles[edit]\\\\nBoys\\' singles[edit]\\\\nGirls\\' singles[edit]\\\\nBoys\\' doubles[edit]\\\\nGirls\\' doubles[edit]\\\\nPoints and prize money[edit]\\\\nPoint distribution[edit]\\\\nBelow is a series of tables for each competition showing the ranking points offered for each event.[12][13][14]\\\\nPrize money[edit]\\\\nThe Australian Open total prize money for 2024 increased by 13.07% year on year to a tournament record A$86,500,000. Aryna Sabalenka successfully defended the women\\'s singles title as she claimed her second major singles title, defeating Zheng Qinwen without losing a set during the tournament.[6][7]\\\\nIn the tournament\\'s 119-year history, this was the first Australian Open Tennis Championships to be held on an opening Sunday.[8]\\\\n It was the 112th edition of the Australian Open, the 56th in the Open Era, and the first major of the year. The total represented a 162% increase in prize money over the last ten years, from the A$33 million on offer in 2014.\\\\n Contents\\\\n2024 Australian Open\\\\nThe 2024 Australian Open was a Grand Slam level tennis tournament held at Melbourne Park, from 14–28 January 2024.[1]\"}, {\\'url\\': \\'https://ausopen.com/articles/news/sinner-v-medvedev-how-ao-2024-mens-final-was-decided\\', \\'content\\': \"MORE: All the stats from the AO 2024 men’s final\\\\nDaniil Medvedev could not maintain his scintillating start on Sunday night, while first-time major finalist Jannik Sinner simply grew in strength as the five-set contest progressed.\\\\nSinner, winner: Italian takes first major at AO 2024\\\\nNEWS\\\\nSinner, the morning after: “It\\'s great emotions, slowly realising what I\\'ve done”\\\\nNEWS\\\\n Sinner v Medvedev: How the AO 2024 men\\'s final was decided\\\\nJannik Sinner weathered an early onslaught to reel in Daniil Medvedev, growing in potency to win the Australian Open 2024 final – his first Grand Slam singles title.\\\\n Early in the second set Medvedev was averaging 77 per cent of first serves in for the match, and towards the end of it this figure had dipped to 65. Medvedev had spent more than 20 hours on court in his previous six rounds, the equivalent of almost two more matches than Sinner (who had spent less than 15 hours on court in advancing to the final).\\\\n During the shift, Sinner’s forehand was gathering speed, having increased from an average of 122.3 km/h in the first set to 128.7 km/h by the third.\\\\n\"}, {\\'url\\': \\'https://www.nine.com.au/sport/tennis/australian-open-final-2024-live-results-scores-mens-winner-daniil-medvedev-jannik-sinner-womens-doubles-updates-20240129-p5jcbe.html\\', \\'content\\': \"Australian Open day 15 schedule AEDT \\\\ufeffClick here for all live scores, fixtures and results across all cou Watch the 2024 Australian Open live and exclusive on Nine, 9Now and ad-free on Stan Sport. Women\\'s doubles\\\\ufeff fi. From 3pm: \\\\ufeff[11] Jelena Ostapenko (LAT)/Lyudmyla Kichenok (UKR) def by [2] Su-Wei Hsieh (TWN)/Elise Mertens (BEL) 6-1, 7-5. Men\\'s singles final\\\\ufeff\"}, {\\'url\\': \\'https://www.theguardian.com/sport/blog/2024/jan/22/australian-open-2024-aussie-players-rankings-alex-de-minaur-thanasi-kokkinakis\\', \\'content\\': \\'While this cohort may never lift a grand slam singles trophy, their travails add to their charm and as the bar on Melbourne Park’s party court closes at the end of this week, Australia’s tennis family will be back on the practice courts, working to meet the public’s expectations – and their own.\\\\n Alex de Minaur’s demise at Australian Open ends hometown hopes but a new force has awoken\\\\nAll 15 local men’s singles contenders are eliminated from this Australian Open but their inspiring stories and unique styles give hope for the future\\\\nOptimism within Melbourne Park quickly became consternation when Andrey Rublev hit the power button late in his round of 16 victory over Alex De Minaur.\\\\n The Rockhampton product has struggled with self-belief her entire career, but was unlucky against 9th seed Barbora Krejčíková in the third round and is desperate, at age 29, to put her doubles success on the backburner in 2024 and see just how far she can go up the singles ladder.\\\\n De Minaur was Luke Skywalker in his X-wing, the leader of a rag-tag, 15-strong fleet of local players desperate to find a way to dismantle the Death Star of Australian tennis: the 48-year-old drought for local men at their home grand slam.\\\\n Though De Minaur had beaten world No 1 Novak Djokovic in the lead-up, the nature of his defeat against Rublev – brilliant defence bested by an opponent’s world class weapons – renewed questions about the Australian’s ceiling as a grand slam contender.\\\\n\\'}]', '#E2': 'content=\"Jannik Sinner won the 2024 Australian Open Men\\'s Singles final, defeating Daniil Medvedev.\" response_metadata={\\'token_usage\\': {\\'completion_tokens\\': 24, \\'prompt_tokens\\': 1740, \\'total_tokens\\': 1764}, \\'model_name\\': \\'gpt-3.5-turbo\\', \\'system_fingerprint\\': None, \\'finish_reason\\': \\'stop\\', \\'logprobs\\': None} id=\\'run-44ee8645-7852-48df-adb7-38befa315584-0\\'', '#E3': '[{\\'url\\': \\'https://ausopen.com/articles/news/sinner-winner-italian-takes-first-major-ao-2024\\', \\'content\\': \\'The agile right-hander, who had claimed victory from a two-set deficit only once previously in his young career, is the second Italian man to achieve singles glory at a major, following Adriano Panatta in1976.With victories over Andrey Rublev, 10-time AO champion Novak Djokovic, and Medvedev, the Italian is the youngest player to defeat top 5 opponents in the final three matches of a major since Michael Stich did it at Wimbledon in 1991 – just weeks before Sinner was born.\\\\n He saved the only break he faced with an ace down the tee, and helped by scoreboard pressure, broke Medvedev by slamming a huge forehand to force an error from his more experienced rival, sealing the fourth set to take the final to a decider.\\\\n Sensing a shift in momentum as Medvedev served to close out the second at 5-3, Sinner set the RLA crowd alight with a pair of brilliant passing shots en route to creating a break point opportunity, which Medvedev snuffed out with trademark patience, drawing a forehand error from his opponent. “We are trying to get better every day, even during the tournament we try to get stronger, trying to understand every situation a little bit better, and I’m so glad to have you there supporting me, understanding me, which sometimes it’s not easy because I am a little bit young sometimes,” he said with a smile.\\\\n Medvedev, who held to love in his first three service games of the second set, piled pressure on the Italian, forcing the right-hander to produce his best tennis to save four break points in a nearly 12-minute second game.\\\\n\\'}, {\\'url\\': \\'https://www.cnn.com/2024/01/28/sport/jannik-sinner-daniil-medvedev-2024-australian-open-spt-intl/index.html\\', \\'content\\': \\'Related article\\\\nMeet the Carota Boys, the carrot-clad fan group rooting for Jannik Sinner, Italy’s rising tennis star\\\\nSuch drama provided a fitting finale for a tournament which has featured an incredible 35 five-set thrillers, equaling the Open Era record for any grand slam, as Medvedev raced to a two-set lead, initially heaping pressure on the young Italian who was left defending from every corner of the court in the wake of the No. 3 seed’s precise, aggressive approach.\\\\n CNN values your feedback\\\\nJannik Sinner rallies from two sets down to win men’s Australian Open final over Daniil Medvedev, his first grand slam title\\\\nFollow:\\\\nJannik Sinner overcame a two-set deficit to defeat Russia’s Daniil Medvedev 3-6 3-6 6-4 6-4 6-3 in a thrilling five-set final and claim the men’s Australian Open title on Sunday, becoming the first Italian man to win a grand slam since 1976.\\\\n While Sinner was appearing in his first ever grand slam final, Medvedev is already a grand slam champion who was playing in his fourth major final and that disparity in experience initally showed as the Russian controlled the pace of the match with 14 winners and five aces in the first set.\\\\n As Medvedev tired, Sinner took control of the match and sealed a crucial break point early in the fifth set with a crosscourt forehand winner before completing his remarkable comeback with a forehand down the line, falling to the floor immediately afterwards to celebrate a stunning maiden grand slam title.\\\\n That momentum carried Sinner through the fourth and fifth sets as he overturned the deficit and became the youngest male player to win the Australian Open since 2008, as well as just the third Italian man to ever win a grand slam.\\\\n\\'}, {\\'url\\': \\'https://www.bbc.com/sport/tennis/68120937\\', \\'content\\': \\'Live scores, results and order of play\\\\nAlerts: Get tennis news sent to your phone\\\\nRelated Topics\\\\nTop Stories\\\\nFA Cup: Blackburn Rovers v Wrexham - live text commentary\\\\nRussian skater Valieva given four-year ban for doping\\\\nLinks to Barcelona are \\\\\\'totally untrue\\\\\\' - Arteta\\\\nElsewhere on the BBC\\\\nThe truth behind the fake grooming scandal\\\\nFeaturing unseen police footage and interviews with the officers at the heart of the case\\\\nDid their father and uncle kill Nazi war criminals?\\\\n A real-life murder mystery following three brothers in their quest for the truth\\\\nWhat was it like to travel on the fastest plane?\\\\nTake a behind-the-scenes look at the supersonic story of the Concorde\\\\nToxic love, ruthless ambition and shocking betrayal\\\\nTell Me Lies follows a passionate college relationship with unimaginable consequences...\\\\n \"\\\\nMarathon man Medvedev runs out of steam\\\\nMedvedev is the first player to lose two Grand Slam finals after winning the opening two sets\\\\nSo many players with the experience of a Grand Slam final have talked about how different the occasion can be, particularly if it is the first time, and potentially overwhelming.\\\\n Jannik Sinner beats Daniil Medvedev in Melbourne final\\\\nJannik Sinner is the youngest player to win the Australian Open men\\\\\\'s title since Novak Djokovic in 2008\\\\nJannik Sinner landed the Grand Slam title he has long promised with an extraordinary fightback to beat Daniil Medvedev in the Australian Open final.\\\\n \"\\\\nSinner starts 2024 in inspired form\\\\nSinner won the first Australian Open men\\\\\\'s final since 2005 which did not feature Roger Federer, Rafael Nadal or Novak Djokovic\\\\nSinner was brought to the forefront of conversation when discussing Grand Slam champions in 2024 following a stunning end to last season.\\\\n\\'}, {\\'url\\': \\'https://www.youtube.com/watch?v=qvY9Jl7CI7U\\', \\'content\\': \\'Jannik Sinner won this incredible 39-shot rally against Daniil Medvedev in the final of the Australian Open 2024.Subscribe to keep up with the latest from th...\\'}, {\\'url\\': \\'https://www.nine.com.au/sport/tennis/australian-open-final-2024-live-results-scores-mens-winner-daniil-medvedev-jannik-sinner-womens-doubles-updates-20240129-p5jcbe.html\\', \\'content\\': \\'Wowee! What a special night of tennis as Jannik Sinner was corwned the 2024 Australian Open\\\\\\'s men\\\\\\'s singles champion, his maiden grand slam win.. Thank you for joining the Wide Wrold of Sports\\\\\\' LIVE coverage of tonight\\\\\\'s final, as well as the entire AUstralian Open tournament!. You can READ MORE HERE about Sinner\\\\\\'s \"epic comeback\" victory!. Goodnight!\\'}]'}}}\n",
      "----\n",
      "{'solve': {'result': 'Plan: Use the Pythagorean theorem to find the length of the hypotenuse of a right triangle with legs of length 3 and 4. #E1 = LLM[Apply the Pythagorean theorem with legs of length 3 and 4]\\n\\nPlan: Calculate the square of each leg, add them together, and take the square root to find the length of the hypotenuse. #E2 = Calculator[Sqrt(3^2 + 4^2)]'}}\n",
      "----\n"
     ]
    }
   ],
   "source": [
    "for s in app.stream({'task': task}):\n",
    "    print(s)\n",
    "    print('----')"
   ]
  },
  {
   "cell_type": "code",
   "execution_count": 16,
   "metadata": {},
   "outputs": [
    {
     "name": "stdout",
     "output_type": "stream",
     "text": [
      "Plan: Use the Pythagorean theorem to find the length of the hypotenuse of a right triangle with legs of length 3 and 4. #E1 = LLM[Apply the Pythagorean theorem with legs of length 3 and 4]\n",
      "\n",
      "Plan: Calculate the square of each leg, add them together, and take the square root to find the length of the hypotenuse. #E2 = Calculator[Sqrt(3^2 + 4^2)]\n"
     ]
    }
   ],
   "source": [
    "print(s['solve']['result'])"
   ]
  }
 ],
 "metadata": {
  "kernelspec": {
   "display_name": "pinegap",
   "language": "python",
   "name": "python3"
  },
  "language_info": {
   "codemirror_mode": {
    "name": "ipython",
    "version": 3
   },
   "file_extension": ".py",
   "mimetype": "text/x-python",
   "name": "python",
   "nbconvert_exporter": "python",
   "pygments_lexer": "ipython3",
   "version": "3.10.12"
  }
 },
 "nbformat": 4,
 "nbformat_minor": 2
}
