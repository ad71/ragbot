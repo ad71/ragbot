{
  "nbformat": 4,
  "nbformat_minor": 0,
  "metadata": {
    "colab": {
      "provenance": [],
      "authorship_tag": "ABX9TyPCIXhMLsXSbj3kYoVJG5EU",
      "include_colab_link": true
    },
    "kernelspec": {
      "name": "python3",
      "display_name": "Python 3"
    },
    "language_info": {
      "name": "python"
    }
  },
  "cells": [
    {
      "cell_type": "markdown",
      "metadata": {
        "id": "view-in-github",
        "colab_type": "text"
      },
      "source": [
        "<a href=\"https://colab.research.google.com/github/ad71/ragbot/blob/master/langgraph_agent_executor.ipynb\" target=\"_parent\"><img src=\"https://colab.research.google.com/assets/colab-badge.svg\" alt=\"Open In Colab\"/></a>"
      ]
    },
    {
      "cell_type": "code",
      "execution_count": 14,
      "metadata": {
        "id": "WKUS7CfpjIj1"
      },
      "outputs": [],
      "source": [
        "%pip install -qU langchain langchain_openai tavily-python langchainhub langgraph"
      ]
    },
    {
      "cell_type": "code",
      "source": [
        "import os\n",
        "from google.colab import userdata\n",
        "\n",
        "\n",
        "os.environ['OPENAI_API_KEY'] = userdata.get('OPENAI_API_KEY')\n",
        "os.environ['TAVILY_API_KEY'] = userdata.get('TAVILY_API_KEY')\n",
        "os.environ['LANGCHAIN_TRACING_V2'] = 'true'\n",
        "os.environ['LANGCHAIN_API_KEY'] = userdata.get('LANGCHAIN_API_KEY')"
      ],
      "metadata": {
        "id": "JYVXTta5jN3w"
      },
      "execution_count": 9,
      "outputs": []
    },
    {
      "cell_type": "code",
      "source": [
        "from langchain import hub\n",
        "from langchain.agents import create_openai_functions_agent\n",
        "from langchain_openai.chat_models import ChatOpenAI\n",
        "from langchain_community.tools.tavily_search import TavilySearchResults\n",
        "\n",
        "tools = [TavilySearchResults(max_results=1)]\n",
        "\n",
        "prompt = hub.pull('hwchase17/openai-functions-agent')\n",
        "llm = ChatOpenAI(model='gpt-3.5-turbo-1106', streaming=True)\n",
        "agent_runnable = create_openai_functions_agent(llm, tools, prompt)"
      ],
      "metadata": {
        "id": "CkyRa11ZkLbH"
      },
      "execution_count": 10,
      "outputs": []
    },
    {
      "cell_type": "code",
      "source": [
        "# define agent state\n",
        "\n",
        "from typing import TypedDict, Annotated, List, Union\n",
        "from langchain_core.agents import AgentAction, AgentFinish\n",
        "from langchain_core.messages import BaseMessage\n",
        "import operator\n",
        "\n",
        "\n",
        "class AgentState(TypedDict):\n",
        "    input: str # the input string\n",
        "    chat_history: list[BaseMessage] # the list of previous messages in the conversation\n",
        "    agent_outcome: Union[AgentAction, AgentFinish, None] # the outcome of a given call to the agent, needs 'None' as a valid type, since this is what this will start as\n",
        "    intermediate_steps: Annotated[list[tuple[AgentAction, str]], operator.add] # list of actions and corresponding observations, operations to this state should be added to the existing values"
      ],
      "metadata": {
        "id": "fVdgyqbekzk4"
      },
      "execution_count": 11,
      "outputs": []
    },
    {
      "cell_type": "code",
      "source": [
        "# define the nodes\n",
        "\n",
        "from langchain_core.agents import AgentFinish\n",
        "from langgraph.prebuilt.tool_executor import ToolExecutor\n",
        "\n",
        "tool_executor = ToolExecutor(tools)\n",
        "\n",
        "def run_agent(data):\n",
        "    agent_outcome = agent_runnable.invoke(data)\n",
        "    return {'agent_outcome': agent_outcome}\n",
        "\n",
        "def execute_tools(data):\n",
        "    # get the most recent agent_outcome - this is the key added in the `agent` above\n",
        "    agent_action = data['agent_outcome']\n",
        "    output = tool_executor.invoke(agent_action)\n",
        "    return {'intermediate_steps': [(agent_action, str(output))]}\n",
        "\n",
        "def should_continue(data):\n",
        "    # define logic that will be used to determine which conditional edge to go down\n",
        "    if isinstance(data['agent_outcome'], AgentFinish):\n",
        "        return 'end'\n",
        "\n",
        "    # otherwise an AgentAction is returned\n",
        "    # here we return `continue` string\n",
        "    # this will be used when setting up the graph to define the flow\n",
        "    else:\n",
        "        return 'continue'"
      ],
      "metadata": {
        "id": "EUqoN6d7mkI7"
      },
      "execution_count": 16,
      "outputs": []
    },
    {
      "cell_type": "code",
      "source": [
        "from langgraph.graph import END, StateGraph\n",
        "\n",
        "workflow = StateGraph(AgentState)\n",
        "\n",
        "workflow.add_node('agent', run_agent)\n",
        "workflow.add_node('action', execute_tools)\n",
        "\n",
        "workflow.set_entry_point('agent')\n",
        "\n",
        "workflow.add_conditional_edges(\n",
        "    'agent',\n",
        "    should_continue,\n",
        "    {\n",
        "        'continue': 'action',\n",
        "        'end': END\n",
        "    }\n",
        ")\n",
        "\n",
        "workflow.add_edge('action', 'agent')\n",
        "app = workflow.compile()"
      ],
      "metadata": {
        "id": "Q3VXLTXfmzS1"
      },
      "execution_count": 18,
      "outputs": []
    },
    {
      "cell_type": "code",
      "source": [
        "inputs = {'input': 'what is the weather in SF', 'chat_history': []}\n",
        "for s in app.stream(inputs):\n",
        "    print(list(s.values())[0])\n",
        "    print('----')"
      ],
      "metadata": {
        "colab": {
          "base_uri": "https://localhost:8080/"
        },
        "id": "xBvisNGnrZay",
        "outputId": "496b07af-b405-4176-9c21-08743d420fa0"
      },
      "execution_count": 19,
      "outputs": [
        {
          "output_type": "stream",
          "name": "stdout",
          "text": [
            "{'agent_outcome': AgentActionMessageLog(tool='tavily_search_results_json', tool_input={'query': 'weather in San Francisco'}, log=\"\\nInvoking: `tavily_search_results_json` with `{'query': 'weather in San Francisco'}`\\n\\n\\n\", message_log=[AIMessage(content='', additional_kwargs={'function_call': {'arguments': '{\"query\":\"weather in San Francisco\"}', 'name': 'tavily_search_results_json'}}, response_metadata={'finish_reason': 'function_call'}, id='run-6f0db9f4-df1f-4542-ac00-b6777d856866-0')])}\n",
            "----\n",
            "{'intermediate_steps': [(AgentActionMessageLog(tool='tavily_search_results_json', tool_input={'query': 'weather in San Francisco'}, log=\"\\nInvoking: `tavily_search_results_json` with `{'query': 'weather in San Francisco'}`\\n\\n\\n\", message_log=[AIMessage(content='', additional_kwargs={'function_call': {'arguments': '{\"query\":\"weather in San Francisco\"}', 'name': 'tavily_search_results_json'}}, response_metadata={'finish_reason': 'function_call'}, id='run-6f0db9f4-df1f-4542-ac00-b6777d856866-0')]), '[{\\'url\\': \\'https://www.weatherapi.com/\\', \\'content\\': \"{\\'location\\': {\\'name\\': \\'San Francisco\\', \\'region\\': \\'California\\', \\'country\\': \\'United States of America\\', \\'lat\\': 37.78, \\'lon\\': -122.42, \\'tz_id\\': \\'America/Los_Angeles\\', \\'localtime_epoch\\': 1715951524, \\'localtime\\': \\'2024-05-17 6:12\\'}, \\'current\\': {\\'last_updated_epoch\\': 1715950800, \\'last_updated\\': \\'2024-05-17 06:00\\', \\'temp_c\\': 12.2, \\'temp_f\\': 54.0, \\'is_day\\': 1, \\'condition\\': {\\'text\\': \\'Partly cloudy\\', \\'icon\\': \\'//cdn.weatherapi.com/weather/64x64/day/116.png\\', \\'code\\': 1003}, \\'wind_mph\\': 8.1, \\'wind_kph\\': 13.0, \\'wind_degree\\': 250, \\'wind_dir\\': \\'WSW\\', \\'pressure_mb\\': 1014.0, \\'pressure_in\\': 29.93, \\'precip_mm\\': 0.02, \\'precip_in\\': 0.0, \\'humidity\\': 77, \\'cloud\\': 75, \\'feelslike_c\\': 10.7, \\'feelslike_f\\': 51.2, \\'vis_km\\': 16.0, \\'vis_miles\\': 9.0, \\'uv\\': 3.0, \\'gust_mph\\': 12.5, \\'gust_kph\\': 20.1}}\"}]')]}\n",
            "----\n",
            "{'agent_outcome': AgentFinish(return_values={'output': 'The current weather in San Francisco is partly cloudy with a temperature of 54.0°F (12.2°C). The wind speed is 8.1 mph (13.0 kph) and the humidity is at 77%.'}, log='The current weather in San Francisco is partly cloudy with a temperature of 54.0°F (12.2°C). The wind speed is 8.1 mph (13.0 kph) and the humidity is at 77%.')}\n",
            "----\n"
          ]
        }
      ]
    },
    {
      "cell_type": "code",
      "source": [],
      "metadata": {
        "id": "vfmXCsNCrpjr"
      },
      "execution_count": null,
      "outputs": []
    }
  ]
}