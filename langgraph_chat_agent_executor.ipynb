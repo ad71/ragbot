{
  "nbformat": 4,
  "nbformat_minor": 0,
  "metadata": {
    "colab": {
      "provenance": [],
      "authorship_tag": "ABX9TyMv6WIZ6Quxi5AgVBAPHxvx",
      "include_colab_link": true
    },
    "kernelspec": {
      "name": "python3",
      "display_name": "Python 3"
    },
    "language_info": {
      "name": "python"
    }
  },
  "cells": [
    {
      "cell_type": "markdown",
      "metadata": {
        "id": "view-in-github",
        "colab_type": "text"
      },
      "source": [
        "<a href=\"https://colab.research.google.com/github/ad71/ragbot/blob/master/langgraph_chat_agent_executor.ipynb\" target=\"_parent\"><img src=\"https://colab.research.google.com/assets/colab-badge.svg\" alt=\"Open In Colab\"/></a>"
      ]
    },
    {
      "cell_type": "code",
      "execution_count": 1,
      "metadata": {
        "id": "03UrhIA2ueoW"
      },
      "outputs": [],
      "source": [
        "%pip install -qU langchain langchain_openai langchain_community tavily-python langgraph"
      ]
    },
    {
      "cell_type": "code",
      "source": [
        "import os\n",
        "from google.colab import userdata\n",
        "\n",
        "os.environ['OPENAI_API_KEY'] = userdata.get('OPENAI_API_KEY')\n",
        "os.environ['TAVILY_API_KEY'] = userdata.get('TAVILY_API_KEY')\n",
        "os.environ['LANGCHAIN_TRACING_V2'] = 'true'\n",
        "os.environ['LANGCHAIN_API_KEY'] = userdata.get('LANGCHAIN_API_KEY')"
      ],
      "metadata": {
        "id": "a2zqWyrNunGp"
      },
      "execution_count": 33,
      "outputs": []
    },
    {
      "cell_type": "code",
      "source": [
        "# MODIFICATION FOR DYNAMIC RETURN\n",
        "\n",
        "from langchain_core.pydantic_v1 import BaseModel, Field\n",
        "\n",
        "\n",
        "class SearchTool(BaseModel):\n",
        "    query: str = Field(description='query to look up online')\n",
        "    return_direct: bool = Field(\n",
        "        description='Whether or not the result of this should be returned directly to the user without you seeing what it is',\n",
        "        default=False\n",
        "    )\n",
        "\n",
        "from langchain_community.tools.tavily_search import TavilySearchResults\n",
        "tools = [TavilySearchResults(max_results=1, args_schema=SearchTool)]"
      ],
      "metadata": {
        "id": "tPA6-8bB87Fw"
      },
      "execution_count": 3,
      "outputs": []
    },
    {
      "cell_type": "code",
      "source": [
        "from langchain_community.tools.tavily_search import TavilySearchResults\n",
        "tools = [TavilySearchResults(max_results=1)]"
      ],
      "metadata": {
        "id": "nDBhqHEyvRQh"
      },
      "execution_count": 34,
      "outputs": []
    },
    {
      "cell_type": "code",
      "source": [
        "from langgraph.prebuilt import ToolExecutor\n",
        "tool_executor = ToolExecutor(tools)"
      ],
      "metadata": {
        "id": "qAANqob6vbr8"
      },
      "execution_count": 35,
      "outputs": []
    },
    {
      "cell_type": "code",
      "source": [
        "from langchain_openai import ChatOpenAI\n",
        "model = ChatOpenAI(temperature=0, streaming=True) # stream tokens idk why"
      ],
      "metadata": {
        "id": "btFQYA3wvhoY"
      },
      "execution_count": 36,
      "outputs": []
    },
    {
      "cell_type": "code",
      "source": [
        "from langchain_core.utils.function_calling import convert_to_openai_function\n",
        "\n",
        "functions = [convert_to_openai_function(t) for t in tools]\n",
        "model = model.bind_functions(functions)"
      ],
      "metadata": {
        "id": "WO0J9HXUvtuu"
      },
      "execution_count": 37,
      "outputs": []
    },
    {
      "cell_type": "code",
      "source": [
        "# MODIFICATION for responding in a specific format\n",
        "from langchain_core.pydantic_v1 import BaseModel, Field\n",
        "from langchain_core.utils.function_calling import convert_to_openai_function\n",
        "\n",
        "\n",
        "class Response(BaseModel):\n",
        "    '''Final response to the user'''\n",
        "    temperature: float = Field(description='the temperature')\n",
        "    other_notes: str = Field(description='any other notes about the weather')\n",
        "\n",
        "functions = [convert_to_openai_function(t) for t in tools]\n",
        "functions.append(convert_to_openai_function(Response))\n",
        "model = model.bind_functions(functions)"
      ],
      "metadata": {
        "id": "A4pcEsK4V2du"
      },
      "execution_count": 7,
      "outputs": []
    },
    {
      "cell_type": "code",
      "source": [
        "from typing import TypedDict, Annotated, Sequence\n",
        "import operator\n",
        "from langchain_core.messages import BaseMessage\n",
        "from langgraph.prebuilt import ToolInvocation\n",
        "from langchain_core.messages import FunctionMessage\n",
        "import json\n",
        "\n",
        "\n",
        "class AgentState(TypedDict):\n",
        "    messages: Annotated[Sequence[BaseMessage], operator.add] # list of messages"
      ],
      "metadata": {
        "id": "rxdJZeiNv6xM"
      },
      "execution_count": 38,
      "outputs": []
    },
    {
      "cell_type": "code",
      "source": [
        "# define the nodes\n",
        "from langgraph.prebuilt import ToolInvocation\n",
        "from langchain_core.messages import FunctionMessage\n",
        "import json\n",
        "\n",
        "def should_continue(state):\n",
        "    messages = state['messages']\n",
        "    last_message = messages[-1]\n",
        "\n",
        "    if 'function_call' not in last_message.additional_kwargs:\n",
        "        return 'end'\n",
        "    else:\n",
        "        return 'continue'"
      ],
      "metadata": {
        "id": "cfxn-QQV9w5t"
      },
      "execution_count": 39,
      "outputs": []
    },
    {
      "cell_type": "code",
      "source": [
        "# MODIFICATION:\n",
        "# return direct if required\n",
        "def should_continue(state):\n",
        "    messages = state['messages']\n",
        "    last_message = messages[-1]\n",
        "\n",
        "    # if there is no function call, then we finish\n",
        "    if 'function_call' not in last_message.additional_kwargs:\n",
        "        return 'end'\n",
        "\n",
        "    # otherwise if there is, we check if it's supposed to return direct\n",
        "    else:\n",
        "        arguments = json.loads(last_message.additional_kwargs['function_call']['arguments'])\n",
        "\n",
        "        if arguments.get('return_direct', False):\n",
        "            return 'final'\n",
        "        else:\n",
        "            return 'continue'"
      ],
      "metadata": {
        "id": "xpUINEQS9z1c"
      },
      "execution_count": 9,
      "outputs": []
    },
    {
      "cell_type": "code",
      "source": [
        "# MODIFICATION:\n",
        "# change the should continue function to check what function was called\n",
        "# If Response was called - ie the function that is not a tool, but rather the formatted response, we should not continue in that case\n",
        "def should_continue(state):\n",
        "    messages = state['messages']\n",
        "    last_message = messages[-1]\n",
        "\n",
        "    if 'function_call' not in last_message.additional_kwargs:\n",
        "        return 'end'\n",
        "\n",
        "    # otherwise if there is, we need to check what type of function call it is\n",
        "    elif last_message.additional_kwargs['function_call']['name'] == 'Response':\n",
        "        return 'end'\n",
        "\n",
        "    else:\n",
        "        return 'continue'"
      ],
      "metadata": {
        "id": "BGH60GBVXgiv"
      },
      "execution_count": 9,
      "outputs": []
    },
    {
      "cell_type": "code",
      "source": [
        "def call_model(state):\n",
        "    messages = state['messages']\n",
        "    response = model.invoke(messages)\n",
        "\n",
        "    return {'messages': [response]} # we return a list because this will get added to the existing list"
      ],
      "metadata": {
        "id": "ZmYbzKLOwa5E"
      },
      "execution_count": 40,
      "outputs": []
    },
    {
      "cell_type": "code",
      "source": [
        "# MODIFICATION for managing agent steps\n",
        "# here we don't pass all messages to the model but rather only pass the five most recent.\n",
        "# this is a pretty simplistic way to handle messages, and there may be other methods you want to look into depending on your use case.\n",
        "def call_model(state):\n",
        "    messages = state['messages'][-5:]\n",
        "    response = model.invoke(messages)\n",
        "\n",
        "    # we return a list because this will get added to the existing list\n",
        "    return {'messages': [response]}"
      ],
      "metadata": {
        "id": "OM-83Y18cHLp"
      },
      "execution_count": 29,
      "outputs": []
    },
    {
      "cell_type": "code",
      "source": [
        "# standard call_tool\n",
        "def call_tool(state):\n",
        "    messages = state['messages']\n",
        "    last_message = messages[-1]\n",
        "\n",
        "    action = ToolInvocation(\n",
        "        tool=last_message.additional_kwargs['function_call']['name'],\n",
        "        tool_input=json.loads(last_message.additional_kwargs['function_call']['arguments'])\n",
        "    )\n",
        "\n",
        "    response = tool_executor.invoke(action)\n",
        "    function_message = FunctionMessage(content=str(response), name=action.tool)\n",
        "    return {'messages': [function_message]}"
      ],
      "metadata": {
        "id": "IpZS3RKC-e87"
      },
      "execution_count": 41,
      "outputs": []
    },
    {
      "cell_type": "code",
      "source": [
        "# MODIFICATION: human in the loop\n",
        "def call_tool(state):\n",
        "    messages = state['messages']\n",
        "    last_message = messages[-1]\n",
        "\n",
        "    action = ToolInvocation(\n",
        "        tool=last_message.additional_kwargs['function_call']['name'],\n",
        "        tool_input=json.loads(last_message.additional_kwargs['function_call']['arguments'])\n",
        "    )\n",
        "\n",
        "    response = input(prompt=f'[y/n] continue with {action}?')\n",
        "\n",
        "    if response == 'n':\n",
        "        raise ValueError\n",
        "\n",
        "    response = tool_executor.invoke(action)\n",
        "    function_message = FunctionMessage(content=str(response), name=action.tool)\n",
        "    return {'messages': [function_message]}"
      ],
      "metadata": {
        "id": "FT4Y2b__5UlF"
      },
      "execution_count": 12,
      "outputs": []
    },
    {
      "cell_type": "code",
      "source": [
        "# MODIFICATION: return direct if required\n",
        "def call_tool(state):\n",
        "    messages = state['messages']\n",
        "    last_message = messages[-1]\n",
        "\n",
        "    tool_name = last_message.additional_kwargs['function_call']['name']\n",
        "    arguments = json.loads(last_message.additional_kwargs['function_call']['arguments'])\n",
        "\n",
        "    # delete parameter because if we've reached the call_tool stage, the tool doesn't need to know\n",
        "    if tool_name == 'tavily_search_results_json':\n",
        "        if 'return_direct' in arguments:\n",
        "            del arguments['return_direct']\n",
        "\n",
        "    action = ToolInvocation(\n",
        "        tool=tool_name,\n",
        "        tool_input=arguments\n",
        "    )\n",
        "\n",
        "    response = tool_executor.invoke(action)\n",
        "    function_message = FunctionMessage(content=str(response), name=action.tool)\n",
        "    return {'messages': [function_message]}"
      ],
      "metadata": {
        "id": "4jHYWMs0-ikF"
      },
      "execution_count": 13,
      "outputs": []
    },
    {
      "cell_type": "code",
      "source": [
        "# MODIFICATION: Here we create a node that returns an AIMessage with a tool call - we will use this at the start to force it call a tool\n",
        "from langchain_core.messages import AIMessage\n",
        "import json\n",
        "\n",
        "def first_model(state):\n",
        "    human_input = state['messages'][-1].content\n",
        "\n",
        "    return {\n",
        "        'messages': [\n",
        "            AIMessage(\n",
        "                content='',\n",
        "                additional_kwargs={\n",
        "                    'function_call': {\n",
        "                        'name': 'tavily_search_results_json',\n",
        "                        'arguments': json.dumps({'query': human_input})\n",
        "                    }\n",
        "                }\n",
        "            )\n",
        "        ]\n",
        "    }"
      ],
      "metadata": {
        "id": "5l9E5n9NiLrm"
      },
      "execution_count": 42,
      "outputs": []
    },
    {
      "cell_type": "code",
      "source": [
        "# define the graph\n",
        "\n",
        "from langgraph.graph import StateGraph, END\n",
        "\n",
        "workflow = StateGraph(AgentState)\n",
        "\n",
        "workflow.add_node('agent', call_model)\n",
        "workflow.add_node('action', call_tool)\n",
        "\n",
        "workflow.set_entry_point('agent')\n",
        "\n",
        "workflow.add_conditional_edges(\n",
        "    'agent',\n",
        "    should_continue,\n",
        "    {\n",
        "        'continue': 'action',\n",
        "        'end': END\n",
        "    }\n",
        ")\n",
        "\n",
        "workflow.add_edge('action', 'agent')\n",
        "app = workflow.compile()"
      ],
      "metadata": {
        "id": "DZSwemMF3MbN"
      },
      "execution_count": 31,
      "outputs": []
    },
    {
      "cell_type": "code",
      "source": [
        "# MODIFICATION: return direct graph\n",
        "from langgraph.graph import StateGraph, END\n",
        "\n",
        "workflow = StateGraph(AgentState)\n",
        "\n",
        "workflow.add_node('agent', call_model)\n",
        "workflow.add_node('action', call_tool)\n",
        "workflow.add_node('final', call_tool)\n",
        "\n",
        "workflow.set_entry_point('agent')\n",
        "\n",
        "workflow.add_conditional_edges(\n",
        "    'agent',\n",
        "    should_continue,\n",
        "    {\n",
        "        'continue': 'action', # if `tools`, then we call the tool node\n",
        "        'final': 'final', # final call\n",
        "        'end': END # otherwise we finish\n",
        "    }\n",
        ")\n",
        "\n",
        "workflow.add_edge('action', 'agent')\n",
        "workflow.add_edge('final', END)\n",
        "\n",
        "app = workflow.compile()"
      ],
      "metadata": {
        "id": "h0Z_NkRgAGD4"
      },
      "execution_count": 14,
      "outputs": []
    },
    {
      "cell_type": "code",
      "source": [
        "# MODIFICATION: force calling a tool first\n",
        "# ie Skip LLM call if required and directly call tool to fetch something\n",
        "from langgraph.graph import StateGraph, END\n",
        "\n",
        "workflow = StateGraph(AgentState)\n",
        "\n",
        "# new entry point\n",
        "workflow.add_node('first_agent', first_model)\n",
        "\n",
        "workflow.add_node('agent', call_model)\n",
        "workflow.add_node('action', call_tool)\n",
        "\n",
        "workflow.set_entry_point('first_agent')\n",
        "\n",
        "workflow.add_conditional_edges(\n",
        "    'agent',\n",
        "    should_continue,\n",
        "    {\n",
        "        'continue': 'action',\n",
        "        'end': END\n",
        "    }\n",
        ")\n",
        "\n",
        "workflow.add_edge('action', 'agent')\n",
        "\n",
        "# after we call the first agent, we know we want to go to action\n",
        "workflow.add_edge('first_agent', 'action')\n",
        "\n",
        "app = workflow.compile()"
      ],
      "metadata": {
        "id": "E4NUOsWai6dL"
      },
      "execution_count": 44,
      "outputs": []
    },
    {
      "cell_type": "code",
      "source": [
        "from langchain_core.messages import HumanMessage\n",
        "\n",
        "inputs = {'messages': [HumanMessage(content='what is the weather in SF')]}\n",
        "app.invoke(inputs)"
      ],
      "metadata": {
        "colab": {
          "base_uri": "https://localhost:8080/"
        },
        "id": "g3P8P5Kb3_C9",
        "outputId": "813bd071-af68-4657-80f2-d79e697d7c46"
      },
      "execution_count": 16,
      "outputs": [
        {
          "output_type": "execute_result",
          "data": {
            "text/plain": [
              "{'messages': [HumanMessage(content='what is the weather in SF'),\n",
              "  AIMessage(content='', additional_kwargs={'function_call': {'arguments': '{\"query\":\"weather in San Francisco\"}', 'name': 'tavily_search_results_json'}}, response_metadata={'finish_reason': 'function_call'}, id='run-7f10633a-6fe1-4b5c-b091-971786f342d0-0'),\n",
              "  FunctionMessage(content='[{\\'url\\': \\'https://www.weatherapi.com/\\', \\'content\\': \"{\\'location\\': {\\'name\\': \\'San Francisco\\', \\'region\\': \\'California\\', \\'country\\': \\'United States of America\\', \\'lat\\': 37.78, \\'lon\\': -122.42, \\'tz_id\\': \\'America/Los_Angeles\\', \\'localtime_epoch\\': 1716331448, \\'localtime\\': \\'2024-05-21 15:44\\'}, \\'current\\': {\\'last_updated_epoch\\': 1716330600, \\'last_updated\\': \\'2024-05-21 15:30\\', \\'temp_c\\': 22.2, \\'temp_f\\': 72.0, \\'is_day\\': 1, \\'condition\\': {\\'text\\': \\'Partly cloudy\\', \\'icon\\': \\'//cdn.weatherapi.com/weather/64x64/day/116.png\\', \\'code\\': 1003}, \\'wind_mph\\': 12.5, \\'wind_kph\\': 20.2, \\'wind_degree\\': 300, \\'wind_dir\\': \\'WNW\\', \\'pressure_mb\\': 1015.0, \\'pressure_in\\': 29.96, \\'precip_mm\\': 0.0, \\'precip_in\\': 0.0, \\'humidity\\': 44, \\'cloud\\': 25, \\'feelslike_c\\': 24.6, \\'feelslike_f\\': 76.3, \\'vis_km\\': 16.0, \\'vis_miles\\': 9.0, \\'uv\\': 5.0, \\'gust_mph\\': 18.4, \\'gust_kph\\': 29.6}}\"}]', name='tavily_search_results_json'),\n",
              "  AIMessage(content='The current weather in San Francisco is partly cloudy with a temperature of 72.0°F (22.2°C). The wind speed is 20.2 km/h coming from the west-northwest direction. The humidity is at 44% and the visibility is 16.0 km.', response_metadata={'finish_reason': 'stop'}, id='run-42a4c345-060a-4f68-85ef-d7c7f9006cb6-0')]}"
            ]
          },
          "metadata": {},
          "execution_count": 16
        }
      ]
    },
    {
      "cell_type": "code",
      "source": [
        "from langchain_core.messages import HumanMessage\n",
        "\n",
        "inputs = {'messages': [HumanMessage(content='what is the weather in sf?')]}\n",
        "for output in app.stream(inputs):\n",
        "    for key, value in output.items():\n",
        "        print(f'Output from node {key}: ')\n",
        "        print('----')\n",
        "        print(value)\n",
        "\n",
        "    print('\\n----\\n')"
      ],
      "metadata": {
        "colab": {
          "base_uri": "https://localhost:8080/"
        },
        "id": "ZxiJ-JAQaJ2M",
        "outputId": "cb976704-a339-4b9b-f305-81189e49df67"
      },
      "execution_count": 45,
      "outputs": [
        {
          "output_type": "stream",
          "name": "stdout",
          "text": [
            "Output from node first_agent: \n",
            "----\n",
            "{'messages': [AIMessage(content='', additional_kwargs={'function_call': {'name': 'tavily_search_results_json', 'arguments': '{\"query\": \"what is the weather in sf?\"}'}})]}\n",
            "\n",
            "----\n",
            "\n",
            "Output from node action: \n",
            "----\n",
            "{'messages': [FunctionMessage(content='[{\\'url\\': \\'https://www.weatherapi.com/\\', \\'content\\': \"{\\'location\\': {\\'name\\': \\'San Francisco\\', \\'region\\': \\'California\\', \\'country\\': \\'United States of America\\', \\'lat\\': 37.78, \\'lon\\': -122.42, \\'tz_id\\': \\'America/Los_Angeles\\', \\'localtime_epoch\\': 1716335266, \\'localtime\\': \\'2024-05-21 16:47\\'}, \\'current\\': {\\'last_updated_epoch\\': 1716335100, \\'last_updated\\': \\'2024-05-21 16:45\\', \\'temp_c\\': 22.2, \\'temp_f\\': 72.0, \\'is_day\\': 1, \\'condition\\': {\\'text\\': \\'Partly cloudy\\', \\'icon\\': \\'//cdn.weatherapi.com/weather/64x64/day/116.png\\', \\'code\\': 1003}, \\'wind_mph\\': 18.6, \\'wind_kph\\': 29.9, \\'wind_degree\\': 290, \\'wind_dir\\': \\'WNW\\', \\'pressure_mb\\': 1014.0, \\'pressure_in\\': 29.94, \\'precip_mm\\': 0.0, \\'precip_in\\': 0.0, \\'humidity\\': 41, \\'cloud\\': 25, \\'feelslike_c\\': 24.6, \\'feelslike_f\\': 76.3, \\'vis_km\\': 16.0, \\'vis_miles\\': 9.0, \\'uv\\': 5.0, \\'gust_mph\\': 23.0, \\'gust_kph\\': 37.1}}\"}]', name='tavily_search_results_json')]}\n",
            "\n",
            "----\n",
            "\n",
            "Output from node agent: \n",
            "----\n",
            "{'messages': [AIMessage(content='The current weather in San Francisco is partly cloudy with a temperature of 72.0°F (22.2°C). The wind speed is 29.9 km/h coming from the west-northwest direction. The humidity is at 41% and the visibility is 16.0 km.', response_metadata={'finish_reason': 'stop'}, id='run-9cdf2d54-ad05-4c46-894b-2fcbefba63d8-0')]}\n",
            "\n",
            "----\n",
            "\n"
          ]
        }
      ]
    },
    {
      "cell_type": "code",
      "source": [
        "# for human in the loop, use streaming\n",
        "# for dynamically returning output directly\n",
        "inputs = {'messages': [HumanMessage(content='what is the weather in sf? return this result directly by setting return_direct = True')]}\n",
        "for output in app.stream(inputs):\n",
        "    for key, value in output.items():\n",
        "        print(f'Output from node {key}: ')\n",
        "        print('----')\n",
        "        print(value)\n",
        "\n",
        "    print('\\n----\\n')"
      ],
      "metadata": {
        "colab": {
          "base_uri": "https://localhost:8080/"
        },
        "id": "nBpnJhc84KbU",
        "outputId": "ddcb8b9f-3a0a-4470-f767-9c3bcc98095f"
      },
      "execution_count": 17,
      "outputs": [
        {
          "output_type": "stream",
          "name": "stdout",
          "text": [
            "Output from node agent: \n",
            "----\n",
            "{'messages': [AIMessage(content='', additional_kwargs={'function_call': {'arguments': '{\"query\":\"weather in San Francisco\",\"return_direct\":true}', 'name': 'tavily_search_results_json'}}, response_metadata={'finish_reason': 'function_call'}, id='run-8c5b6f79-58d0-4319-9dcb-e665448be99e-0')]}\n",
            "\n",
            "----\n",
            "\n",
            "Output from node final: \n",
            "----\n",
            "{'messages': [FunctionMessage(content='[{\\'url\\': \\'https://www.weatherapi.com/\\', \\'content\\': \"{\\'location\\': {\\'name\\': \\'San Francisco\\', \\'region\\': \\'California\\', \\'country\\': \\'United States of America\\', \\'lat\\': 37.78, \\'lon\\': -122.42, \\'tz_id\\': \\'America/Los_Angeles\\', \\'localtime_epoch\\': 1716331448, \\'localtime\\': \\'2024-05-21 15:44\\'}, \\'current\\': {\\'last_updated_epoch\\': 1716330600, \\'last_updated\\': \\'2024-05-21 15:30\\', \\'temp_c\\': 22.2, \\'temp_f\\': 72.0, \\'is_day\\': 1, \\'condition\\': {\\'text\\': \\'Partly cloudy\\', \\'icon\\': \\'//cdn.weatherapi.com/weather/64x64/day/116.png\\', \\'code\\': 1003}, \\'wind_mph\\': 12.5, \\'wind_kph\\': 20.2, \\'wind_degree\\': 300, \\'wind_dir\\': \\'WNW\\', \\'pressure_mb\\': 1015.0, \\'pressure_in\\': 29.96, \\'precip_mm\\': 0.0, \\'precip_in\\': 0.0, \\'humidity\\': 44, \\'cloud\\': 25, \\'feelslike_c\\': 24.6, \\'feelslike_f\\': 76.3, \\'vis_km\\': 16.0, \\'vis_miles\\': 9.0, \\'uv\\': 5.0, \\'gust_mph\\': 18.4, \\'gust_kph\\': 29.6}}\"}]', name='tavily_search_results_json')]}\n",
            "\n",
            "----\n",
            "\n"
          ]
        }
      ]
    },
    {
      "cell_type": "code",
      "source": [],
      "metadata": {
        "id": "zJkQQJrKVCkl"
      },
      "execution_count": null,
      "outputs": []
    }
  ]
}