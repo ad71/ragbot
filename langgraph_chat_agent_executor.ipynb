{
  "nbformat": 4,
  "nbformat_minor": 0,
  "metadata": {
    "colab": {
      "provenance": [],
      "authorship_tag": "ABX9TyOhBoh0b6VQc25i7mS9CDd2",
      "include_colab_link": true
    },
    "kernelspec": {
      "name": "python3",
      "display_name": "Python 3"
    },
    "language_info": {
      "name": "python"
    }
  },
  "cells": [
    {
      "cell_type": "markdown",
      "metadata": {
        "id": "view-in-github",
        "colab_type": "text"
      },
      "source": [
        "<a href=\"https://colab.research.google.com/github/ad71/ragbot/blob/master/langgraph_chat_agent_executor.ipynb\" target=\"_parent\"><img src=\"https://colab.research.google.com/assets/colab-badge.svg\" alt=\"Open In Colab\"/></a>"
      ]
    },
    {
      "cell_type": "code",
      "execution_count": 1,
      "metadata": {
        "colab": {
          "base_uri": "https://localhost:8080/"
        },
        "id": "03UrhIA2ueoW",
        "outputId": "a006a335-d68e-403d-eecb-53c6354d4960"
      },
      "outputs": [
        {
          "output_type": "stream",
          "name": "stdout",
          "text": [
            "\u001b[2K     \u001b[90m━━━━━━━━━━━━━━━━━━━━━━━━━━━━━━━━━━━━━━━━\u001b[0m \u001b[32m1.0/1.0 MB\u001b[0m \u001b[31m10.1 MB/s\u001b[0m eta \u001b[36m0:00:00\u001b[0m\n",
            "\u001b[2K     \u001b[90m━━━━━━━━━━━━━━━━━━━━━━━━━━━━━━━━━━━━━━━━\u001b[0m \u001b[32m77.6/77.6 kB\u001b[0m \u001b[31m6.8 MB/s\u001b[0m eta \u001b[36m0:00:00\u001b[0m\n",
            "\u001b[2K     \u001b[90m━━━━━━━━━━━━━━━━━━━━━━━━━━━━━━━━━━━━━━━━\u001b[0m \u001b[32m2.0/2.0 MB\u001b[0m \u001b[31m44.2 MB/s\u001b[0m eta \u001b[36m0:00:00\u001b[0m\n",
            "\u001b[2K     \u001b[90m━━━━━━━━━━━━━━━━━━━━━━━━━━━━━━━━━━━━━━━━\u001b[0m \u001b[32m302.9/302.9 kB\u001b[0m \u001b[31m17.0 MB/s\u001b[0m eta \u001b[36m0:00:00\u001b[0m\n",
            "\u001b[2K     \u001b[90m━━━━━━━━━━━━━━━━━━━━━━━━━━━━━━━━━━━━━━━━\u001b[0m \u001b[32m121.2/121.2 kB\u001b[0m \u001b[31m9.7 MB/s\u001b[0m eta \u001b[36m0:00:00\u001b[0m\n",
            "\u001b[2K     \u001b[90m━━━━━━━━━━━━━━━━━━━━━━━━━━━━━━━━━━━━━━━━\u001b[0m \u001b[32m320.6/320.6 kB\u001b[0m \u001b[31m16.5 MB/s\u001b[0m eta \u001b[36m0:00:00\u001b[0m\n",
            "\u001b[2K     \u001b[90m━━━━━━━━━━━━━━━━━━━━━━━━━━━━━━━━━━━━━━━━\u001b[0m \u001b[32m1.1/1.1 MB\u001b[0m \u001b[31m13.7 MB/s\u001b[0m eta \u001b[36m0:00:00\u001b[0m\n",
            "\u001b[2K     \u001b[90m━━━━━━━━━━━━━━━━━━━━━━━━━━━━━━━━━━━━━━━━\u001b[0m \u001b[32m49.3/49.3 kB\u001b[0m \u001b[31m1.2 MB/s\u001b[0m eta \u001b[36m0:00:00\u001b[0m\n",
            "\u001b[2K     \u001b[90m━━━━━━━━━━━━━━━━━━━━━━━━━━━━━━━━━━━━━━━━\u001b[0m \u001b[32m53.0/53.0 kB\u001b[0m \u001b[31m3.7 MB/s\u001b[0m eta \u001b[36m0:00:00\u001b[0m\n",
            "\u001b[2K     \u001b[90m━━━━━━━━━━━━━━━━━━━━━━━━━━━━━━━━━━━━━━━━\u001b[0m \u001b[32m142.5/142.5 kB\u001b[0m \u001b[31m771.6 kB/s\u001b[0m eta \u001b[36m0:00:00\u001b[0m\n",
            "\u001b[2K     \u001b[90m━━━━━━━━━━━━━━━━━━━━━━━━━━━━━━━━━━━━━━━━\u001b[0m \u001b[32m75.6/75.6 kB\u001b[0m \u001b[31m4.0 MB/s\u001b[0m eta \u001b[36m0:00:00\u001b[0m\n",
            "\u001b[2K     \u001b[90m━━━━━━━━━━━━━━━━━━━━━━━━━━━━━━━━━━━━━━━━\u001b[0m \u001b[32m77.9/77.9 kB\u001b[0m \u001b[31m5.5 MB/s\u001b[0m eta \u001b[36m0:00:00\u001b[0m\n",
            "\u001b[2K     \u001b[90m━━━━━━━━━━━━━━━━━━━━━━━━━━━━━━━━━━━━━━━━\u001b[0m \u001b[32m58.3/58.3 kB\u001b[0m \u001b[31m7.0 MB/s\u001b[0m eta \u001b[36m0:00:00\u001b[0m\n",
            "\u001b[?25h"
          ]
        }
      ],
      "source": [
        "%pip install -qU langchain langchain_openai tavily-python langgraph"
      ]
    },
    {
      "cell_type": "code",
      "source": [
        "import os\n",
        "from google.colab import userdata\n",
        "\n",
        "os.environ['OPENAI_API_KEY'] = userdata.get('OPENAI_API_KEY')\n",
        "os.environ['TAVILY_API_KEY'] = userdata.get('TAVILY_API_KEY')\n",
        "os.environ['LANGCHAIN_TRACING_V2'] = 'true'\n",
        "os.environ['LANGCHAIN_API_KEY'] = userdata.get('LANGCHAIN_API_KEY')"
      ],
      "metadata": {
        "id": "a2zqWyrNunGp"
      },
      "execution_count": 2,
      "outputs": []
    },
    {
      "cell_type": "code",
      "source": [
        "# MODIFICATION FOR DYNAMIC RETURN\n",
        "\n",
        "from langchain_core.pydantic_v1 import BaseModel, Field\n",
        "\n",
        "\n",
        "class SearchTool(BaseModel):\n",
        "    query: str = Field(description='query to look up online')\n",
        "    return_direct: bool = Field(\n",
        "        description='Whether or not the result of this should be returned directly to the user without you seeing what it is',\n",
        "        default=False\n",
        "    )\n",
        "\n",
        "from langchain_community.tools.tavily_search import TavilySearchResults\n",
        "tools = [TavilySearchResults(max_results=1, args_schema=SearchTool)]"
      ],
      "metadata": {
        "id": "tPA6-8bB87Fw"
      },
      "execution_count": 22,
      "outputs": []
    },
    {
      "cell_type": "code",
      "source": [
        "from langchain_community.tools.tavily_search import TavilySearchResults\n",
        "tools = [TavilySearchResults(max_results=1)]"
      ],
      "metadata": {
        "id": "nDBhqHEyvRQh"
      },
      "execution_count": 3,
      "outputs": []
    },
    {
      "cell_type": "code",
      "source": [
        "from langgraph.prebuilt import ToolExecutor\n",
        "tool_executor = ToolExecutor(tools)"
      ],
      "metadata": {
        "id": "qAANqob6vbr8"
      },
      "execution_count": 23,
      "outputs": []
    },
    {
      "cell_type": "code",
      "source": [
        "from langchain_openai import ChatOpenAI\n",
        "model = ChatOpenAI(temperature=0, streaming=True) # stream tokens idk why"
      ],
      "metadata": {
        "id": "btFQYA3wvhoY"
      },
      "execution_count": 24,
      "outputs": []
    },
    {
      "cell_type": "code",
      "source": [
        "from langchain_core.utils.function_calling import convert_to_openai_function\n",
        "\n",
        "functions = [convert_to_openai_function(t) for t in tools]\n",
        "model = model.bind_functions(functions)"
      ],
      "metadata": {
        "id": "WO0J9HXUvtuu"
      },
      "execution_count": 25,
      "outputs": []
    },
    {
      "cell_type": "code",
      "source": [
        "from typing import TypedDict, Annotated, Sequence\n",
        "import operator\n",
        "from langchain_core.messages import BaseMessage\n",
        "\n",
        "\n",
        "class AgentState(TypedDict):\n",
        "    messages: Annotated[Sequence[BaseMessage], operator.add] # list of messages"
      ],
      "metadata": {
        "id": "rxdJZeiNv6xM"
      },
      "execution_count": 26,
      "outputs": []
    },
    {
      "cell_type": "code",
      "source": [
        "# define the nodes\n",
        "from langgraph.prebuilt import ToolInvocation\n",
        "from langchain_core.messages import FunctionMessage\n",
        "import json\n",
        "\n",
        "def should_continue(state):\n",
        "    messages = state['messages']\n",
        "    last_message = messages[-1]\n",
        "\n",
        "    if 'function_call' not in last_message.additional_kwargs:\n",
        "        return 'end'\n",
        "    else:\n",
        "        return 'continue'"
      ],
      "metadata": {
        "id": "cfxn-QQV9w5t"
      },
      "execution_count": 27,
      "outputs": []
    },
    {
      "cell_type": "code",
      "source": [
        "# MODIFICATION:\n",
        "# return direct if required\n",
        "def should_continue(state):\n",
        "    messages = state['messages']\n",
        "    last_message = messages[-1]\n",
        "\n",
        "    if 'function_call' not in last_message.additional_kwargs:\n",
        "        return 'end'\n",
        "\n",
        "    else:\n",
        "        arguments = json.loads(last_message.additional_kwargs['function_call']['arguments'])\n",
        "\n",
        "        if arguments.get('return_direct', False):\n",
        "            return 'final'\n",
        "        else:\n",
        "            return 'continue'"
      ],
      "metadata": {
        "id": "xpUINEQS9z1c"
      },
      "execution_count": 28,
      "outputs": []
    },
    {
      "cell_type": "code",
      "source": [
        "def call_model(state):\n",
        "    messages = state['messages']\n",
        "    response = model.invoke(messages)\n",
        "\n",
        "    return {'messages': [response]} # we return a list because this will get added to the existing list"
      ],
      "metadata": {
        "id": "ZmYbzKLOwa5E"
      },
      "execution_count": 29,
      "outputs": []
    },
    {
      "cell_type": "code",
      "source": [
        "# standard call_tool\n",
        "def call_tool(state):\n",
        "    messages = state['messages']\n",
        "    last_message = messages[-1]\n",
        "\n",
        "    action = ToolInvocation(\n",
        "        tool=last_message.additional_kwargs['function_call']['name'],\n",
        "        tool_input=json.loads(last_message.additional_kwargs['function_call']['arguments'])\n",
        "    )\n",
        "\n",
        "    response = tool_executor.invoke(action)\n",
        "    function_message = FunctionMessage(content=str(response), name=action.tool)\n",
        "    return {'messages': [function_message]}"
      ],
      "metadata": {
        "id": "IpZS3RKC-e87"
      },
      "execution_count": 30,
      "outputs": []
    },
    {
      "cell_type": "code",
      "source": [
        "# MODIFICATION: human in the loop\n",
        "def call_tool(state):\n",
        "    messages = state['messages']\n",
        "    last_message = messages[-1]\n",
        "\n",
        "    action = ToolInvocation(\n",
        "        tool=last_message.additional_kwargs['function_call']['name'],\n",
        "        tool_input=json.loads(last_message.additional_kwargs['function_call']['arguments'])\n",
        "    )\n",
        "\n",
        "    response = input(prompt=f'[y/n] continue with {action}?')\n",
        "\n",
        "    if response == 'n':\n",
        "        raise ValueError\n",
        "\n",
        "    response = tool_executor.invoke(action)\n",
        "    function_message = FunctionMessage(content=str(response), name=action.tool)\n",
        "    return {'messages': [function_message]}"
      ],
      "metadata": {
        "id": "FT4Y2b__5UlF"
      },
      "execution_count": 16,
      "outputs": []
    },
    {
      "cell_type": "code",
      "source": [
        "# MODIFICATION: return direct if required\n",
        "def call_tool(state):\n",
        "    messages = state['messages']\n",
        "    last_message = messages[-1]\n",
        "\n",
        "    tool_name = last_message.additional_kwargs['function_call']['name']\n",
        "    arguments = json.loads(last_message.additional_kwargs['function_call']['arguments'])\n",
        "\n",
        "    # delete parameter because if we've reached the call_tool stage, the tool doesn't need to know\n",
        "    if tool_name == 'tavily_search_results_json':\n",
        "        if 'return_direct' in arguments:\n",
        "            del arguments['return_direct']\n",
        "\n",
        "    action = ToolInvocation(\n",
        "        tool=tool_name,\n",
        "        tool_input=arguments\n",
        "    )\n",
        "\n",
        "    response = tool_executor.invoke(action)\n",
        "    function_message = FunctionMessage(content=str(response), name=action.tool)\n",
        "    return {'messages': [function_message]}"
      ],
      "metadata": {
        "id": "4jHYWMs0-ikF"
      },
      "execution_count": 31,
      "outputs": []
    },
    {
      "cell_type": "code",
      "source": [
        "# define the graph\n",
        "\n",
        "from langgraph.graph import StateGraph, END\n",
        "\n",
        "workflow = StateGraph(AgentState)\n",
        "\n",
        "workflow.add_node('agent', call_model)\n",
        "workflow.add_node('action', call_tool)\n",
        "\n",
        "workflow.set_entry_point('agent')\n",
        "\n",
        "workflow.add_conditional_edges(\n",
        "    'agent',\n",
        "    should_continue,\n",
        "    {\n",
        "        'continue': 'action',\n",
        "        'end': END\n",
        "    }\n",
        ")\n",
        "\n",
        "workflow.add_edge('action', 'agent')\n",
        "app = workflow.compile()"
      ],
      "metadata": {
        "id": "DZSwemMF3MbN"
      },
      "execution_count": 17,
      "outputs": []
    },
    {
      "cell_type": "code",
      "source": [
        "# MODIFICATION: return direct graph\n",
        "from langgraph.graph import StateGraph, END\n",
        "\n",
        "workflow = StateGraph(AgentState)\n",
        "\n",
        "workflow.add_node('agent', call_model)\n",
        "workflow.add_node('action', call_tool)\n",
        "workflow.add_node('final', call_tool)\n",
        "\n",
        "workflow.set_entry_point('agent')\n",
        "\n",
        "workflow.add_conditional_edges(\n",
        "    'agent',\n",
        "    should_continue,\n",
        "    {\n",
        "        'continue': 'action', # if `tools`, then we call the tool node\n",
        "        'final': 'final', # final call\n",
        "        'end': END # otherwise we finish\n",
        "    }\n",
        ")\n",
        "\n",
        "workflow.add_edge('action', 'agent')\n",
        "workflow.add_edge('final', END)\n",
        "\n",
        "app = workflow.compile()"
      ],
      "metadata": {
        "id": "h0Z_NkRgAGD4"
      },
      "execution_count": 33,
      "outputs": []
    },
    {
      "cell_type": "code",
      "source": [
        "from langchain_core.messages import HumanMessage\n",
        "\n",
        "inputs = {'messages': [HumanMessage(content='what is the weather in SF')]}\n",
        "app.invoke(inputs)"
      ],
      "metadata": {
        "colab": {
          "base_uri": "https://localhost:8080/"
        },
        "id": "g3P8P5Kb3_C9",
        "outputId": "cd15fa6d-e80d-4626-e5f0-4638de98fb0f"
      },
      "execution_count": 18,
      "outputs": [
        {
          "name": "stdout",
          "output_type": "stream",
          "text": [
            "[y/n] continue with tool='tavily_search_results_json' tool_input={'query': 'weather in San Francisco'}?y\n"
          ]
        },
        {
          "output_type": "execute_result",
          "data": {
            "text/plain": [
              "{'messages': [HumanMessage(content='what is the weather in SF'),\n",
              "  AIMessage(content='', additional_kwargs={'function_call': {'arguments': '{\"query\":\"weather in San Francisco\"}', 'name': 'tavily_search_results_json'}}, response_metadata={'finish_reason': 'function_call'}, id='run-e09b0ade-3d52-45a4-8b14-6f15cb206a35-0'),\n",
              "  FunctionMessage(content='[{\\'url\\': \\'https://www.weatherapi.com/\\', \\'content\\': \"{\\'location\\': {\\'name\\': \\'San Francisco\\', \\'region\\': \\'California\\', \\'country\\': \\'United States of America\\', \\'lat\\': 37.78, \\'lon\\': -122.42, \\'tz_id\\': \\'America/Los_Angeles\\', \\'localtime_epoch\\': 1715955418, \\'localtime\\': \\'2024-05-17 7:16\\'}, \\'current\\': {\\'last_updated_epoch\\': 1715955300, \\'last_updated\\': \\'2024-05-17 07:15\\', \\'temp_c\\': 12.2, \\'temp_f\\': 54.0, \\'is_day\\': 1, \\'condition\\': {\\'text\\': \\'Overcast\\', \\'icon\\': \\'//cdn.weatherapi.com/weather/64x64/day/122.png\\', \\'code\\': 1009}, \\'wind_mph\\': 5.6, \\'wind_kph\\': 9.0, \\'wind_degree\\': 260, \\'wind_dir\\': \\'W\\', \\'pressure_mb\\': 1014.0, \\'pressure_in\\': 29.95, \\'precip_mm\\': 0.02, \\'precip_in\\': 0.0, \\'humidity\\': 86, \\'cloud\\': 100, \\'feelslike_c\\': 10.8, \\'feelslike_f\\': 51.4, \\'vis_km\\': 16.0, \\'vis_miles\\': 9.0, \\'uv\\': 3.0, \\'gust_mph\\': 11.7, \\'gust_kph\\': 18.8}}\"}]', name='tavily_search_results_json'),\n",
              "  AIMessage(content=\"The current weather in San Francisco is as follows:\\n- Temperature: 12.2°C (54.0°F)\\n- Condition: Overcast\\n- Wind: 5.6 mph from the west\\n- Pressure: 1014.0 mb\\n- Humidity: 86%\\n- Visibility: 16.0 km\\n- UV Index: 3.0\\n\\nPlease note that the weather conditions may change, so it's always good to check for real-time updates.\", response_metadata={'finish_reason': 'stop'}, id='run-525dea18-2669-48ef-9c3f-347962eee8b0-0')]}"
            ]
          },
          "metadata": {},
          "execution_count": 18
        }
      ]
    },
    {
      "cell_type": "code",
      "source": [
        "# for human in the loop, use streaming\n",
        "inputs = {'messages': [HumanMessage(content='what is the weather in sf? return this result directly by setting return_direct = True')]}\n",
        "for output in app.stream(inputs):\n",
        "    for key, value in output.items():\n",
        "        print(f'Output from node {key}: ')\n",
        "        print('----')\n",
        "        print(value)\n",
        "\n",
        "    print('\\n----\\n')"
      ],
      "metadata": {
        "colab": {
          "base_uri": "https://localhost:8080/"
        },
        "id": "nBpnJhc84KbU",
        "outputId": "7bc30ccb-227c-4b17-9427-f64266e9cd6b"
      },
      "execution_count": 35,
      "outputs": [
        {
          "output_type": "stream",
          "name": "stdout",
          "text": [
            "Output from node agent: \n",
            "----\n",
            "{'messages': [AIMessage(content='', additional_kwargs={'function_call': {'arguments': '{\"query\":\"weather in San Francisco\",\"return_direct\":true}', 'name': 'tavily_search_results_json'}}, response_metadata={'finish_reason': 'function_call'}, id='run-d295b4b4-6e7b-4b53-9769-b245eb08e0c0-0')]}\n",
            "\n",
            "----\n",
            "\n",
            "Output from node final: \n",
            "----\n",
            "{'messages': [FunctionMessage(content='[{\\'url\\': \\'https://www.weatherapi.com/\\', \\'content\\': \"{\\'location\\': {\\'name\\': \\'San Francisco\\', \\'region\\': \\'California\\', \\'country\\': \\'United States of America\\', \\'lat\\': 37.78, \\'lon\\': -122.42, \\'tz_id\\': \\'America/Los_Angeles\\', \\'localtime_epoch\\': 1715957314, \\'localtime\\': \\'2024-05-17 7:48\\'}, \\'current\\': {\\'last_updated_epoch\\': 1715957100, \\'last_updated\\': \\'2024-05-17 07:45\\', \\'temp_c\\': 12.2, \\'temp_f\\': 54.0, \\'is_day\\': 1, \\'condition\\': {\\'text\\': \\'Overcast\\', \\'icon\\': \\'//cdn.weatherapi.com/weather/64x64/day/122.png\\', \\'code\\': 1009}, \\'wind_mph\\': 5.6, \\'wind_kph\\': 9.0, \\'wind_degree\\': 260, \\'wind_dir\\': \\'W\\', \\'pressure_mb\\': 1014.0, \\'pressure_in\\': 29.95, \\'precip_mm\\': 0.02, \\'precip_in\\': 0.0, \\'humidity\\': 86, \\'cloud\\': 100, \\'feelslike_c\\': 10.8, \\'feelslike_f\\': 51.4, \\'vis_km\\': 16.0, \\'vis_miles\\': 9.0, \\'uv\\': 3.0, \\'gust_mph\\': 11.7, \\'gust_kph\\': 18.8}}\"}]', name='tavily_search_results_json')]}\n",
            "\n",
            "----\n",
            "\n"
          ]
        }
      ]
    },
    {
      "cell_type": "code",
      "source": [],
      "metadata": {
        "id": "Nxj0AnTR6a5Q"
      },
      "execution_count": null,
      "outputs": []
    }
  ]
}