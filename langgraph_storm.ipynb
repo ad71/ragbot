{
 "cells": [
  {
   "cell_type": "markdown",
   "metadata": {},
   "source": [
    "# STORM\n",
    "### Synthesis of Topic Outlines through Retrieval and Multi-perspective question asking.\n",
    "\n",
    "Research assistant that extends the idea of 'outline-driven RAG' for richer article generation.\n",
    "\n",
    "It applies two main insights to produce more organized and comprehensive articles:\n",
    "1. Creating an outline (planning) by querying similar topics helps improve coverage.\n",
    "2. Multi-perspective, grounded (in search) conversation simulation helps increase the reference count and information density."
   ]
  },
  {
   "cell_type": "markdown",
   "metadata": {},
   "source": [
    "#### Overview\n",
    "1. Generate initial outline + survey related subjects\n",
    "2. Identify distiinct perspectives\n",
    "3. \"Interview subject matter experts\" (role-playing LLMs)\n",
    "4. Refine outline (using references)\n",
    "5. Write sections, then write article\n",
    "\n",
    "The expert interviews stage occurs between the role-playing article writer and a research expert. The \"expert\" is able to query external knowledge and respond to pointed questions, saving cited sources to a vectorstore so that the later refinement stages can synthesize the full article.\n",
    "\n",
    "Hyperparameters to restrict the potentially infinite research breadth:\n",
    "- N: number of perspectives to survey\n",
    "- M: Max number of conversation turns"
   ]
  },
  {
   "cell_type": "code",
   "execution_count": 1,
   "metadata": {},
   "outputs": [
    {
     "data": {
      "text/plain": [
       "True"
      ]
     },
     "execution_count": 1,
     "metadata": {},
     "output_type": "execute_result"
    }
   ],
   "source": [
    "from dotenv import load_dotenv\n",
    "load_dotenv()"
   ]
  },
  {
   "cell_type": "markdown",
   "metadata": {},
   "source": [
    "### Select LLMs\n",
    "We will have a faster LLM to do most of the work, but a slower, long-context model to distill the conversations and write the final report."
   ]
  },
  {
   "cell_type": "code",
   "execution_count": 2,
   "metadata": {},
   "outputs": [],
   "source": [
    "from langchain_openai import ChatOpenAI\n",
    "\n",
    "FAST_LLM = ChatOpenAI(model='gpt-3.5-turbo')\n",
    "GOOD_LLM = ChatOpenAI(model='gpt-4o')"
   ]
  },
  {
   "cell_type": "markdown",
   "metadata": {},
   "source": [
    "### Generate Initial Outline\n",
    "For many topics, your LLM may have an initial idea of the important and related topics. We can generate an initial outline to be referred after our research. Below, we will use our 'fast' llm to generate the outline."
   ]
  },
  {
   "cell_type": "code",
   "execution_count": 3,
   "metadata": {},
   "outputs": [],
   "source": [
    "import json\n",
    "import asyncio\n",
    "\n",
    "from langgraph.graph import END, StateGraph, START\n",
    "from langgraph.checkpoint.memory import MemorySaver\n",
    "\n",
    "from langchain_core.tools import tool\n",
    "from langchain_openai import OpenAIEmbeddings\n",
    "from langchain_core.documents import Document\n",
    "from langchain_core.pydantic_v1 import BaseModel, Field\n",
    "from langchain_core.output_parsers import StrOutputParser\n",
    "from langchain_community.retrievers import WikipediaRetriever\n",
    "from langchain_community.vectorstores import SKLearnVectorStore\n",
    "from langchain_core.prompts import ChatPromptTemplate, MessagesPlaceholder\n",
    "from langchain_core.messages import AnyMessage, AIMessage, HumanMessage, ToolMessage\n",
    "from langchain_community.utilities.duckduckgo_search import DuckDuckGoSearchAPIWrapper\n",
    "from langchain_core.runnables import RunnableLambda, RunnableConfig, chain as as_runnable\n",
    "\n",
    "from typing import List, Optional, Annotated, TypedDict"
   ]
  },
  {
   "cell_type": "code",
   "execution_count": 4,
   "metadata": {},
   "outputs": [],
   "source": [
    "direct_gen_outline_prompt = ChatPromptTemplate.from_messages(\n",
    "    [\n",
    "        (\n",
    "            'system',\n",
    "            'You are a an experienced equity research analyst. Write an outline for an analysis report about a user-provided topic. Be comprehensive and specific.'\n",
    "        ),\n",
    "        ('user', '{topic}')\n",
    "    ]\n",
    ")\n",
    "\n",
    "\n",
    "class Subsection(BaseModel):\n",
    "    subsection_title: str = Field(..., title='Title of the subsection')\n",
    "    description: str = Field(..., title='Content of the subsection')\n",
    "\n",
    "    @property\n",
    "    def as_str(self) -> str:\n",
    "        return f'### {self.subsection_title}\\n\\n{self.description}'.strip()\n",
    "    \n",
    "\n",
    "class Section(BaseModel):\n",
    "    section_title: str = Field(..., title='Title of the section')\n",
    "    description: str = Field(..., title='Content of the section')\n",
    "    subsections: Optional[List[Subsection]] = Field(default=None, title='Titles and descriptions for each subsection of the analysis report.')\n",
    "\n",
    "    @property\n",
    "    def as_str(self) -> str:\n",
    "        subsections = '\\n\\n'.join(f'### {subsection.subsection_title}\\n\\n{subsection.description}' for subsection in self.subsections or [])\n",
    "        return f'## {self.section_title}\\n\\n{self.description}\\n\\n{subsections}'.strip()\n",
    "    \n",
    "\n",
    "class Outline(BaseModel):\n",
    "    page_title: str = Field(..., title='Title of the Report')\n",
    "    sections: List[Section] = Field(\n",
    "        default_factory=list,\n",
    "        title='Titles and descriptions for each section of the Report page.'\n",
    "    )\n",
    "\n",
    "    @property\n",
    "    def as_str(self) -> str:\n",
    "        sections = '\\n\\n'.join(section.as_str for section in self.sections)\n",
    "        return f'# {self.page_title}\\n\\n{sections}'.strip()\n",
    "    \n",
    "generate_outline_direct = direct_gen_outline_prompt | GOOD_LLM.with_structured_output(Outline)"
   ]
  },
  {
   "cell_type": "code",
   "execution_count": 5,
   "metadata": {},
   "outputs": [],
   "source": [
    "# example_topic = 'I am expectating growth of mobile phones de-accelerating , provide which of the us based semiconductor based companies will be most affected by this hypothesis (have the most exposure to )'\n",
    "# example_topic = 'Which are the companies in the US Technology sector which met revenues and had higher DSO. To uncover stuffing the channel by extending terms or big push at the end of the quarter'\n",
    "example_topic = 'Which US companies will be the most affected by the recent assassination attempt on Trump'"
   ]
  },
  {
   "cell_type": "code",
   "execution_count": 6,
   "metadata": {},
   "outputs": [],
   "source": [
    "initial_outline = generate_outline_direct.invoke({'topic': example_topic})"
   ]
  },
  {
   "cell_type": "code",
   "execution_count": 7,
   "metadata": {},
   "outputs": [
    {
     "name": "stdout",
     "output_type": "stream",
     "text": [
      "# Impact Analysis: US Companies Most Affected by Recent Assassination Attempt on Trump\n",
      "\n",
      "## Executive Summary\n",
      "\n",
      "A brief overview of the assassination attempt on former President Trump and the immediate market reactions. A summary of key findings on how this event might affect specific US companies.\n",
      "\n",
      "## Introduction\n",
      "\n",
      "Background information on the assassination attempt, including date, location, and current status of the investigation. Brief overview of Trump's current political and business engagements.\n",
      "\n",
      "## Market Sentiment and Immediate Reactions\n",
      "\n",
      "Analysis of the initial market reactions, including stock market volatility, changes in major indices, and shifts in investor sentiment. Examination of sectors most impacted by political instability.\n",
      "\n",
      "## Political and Economic Implications\n",
      "\n",
      "Discussion on the broader political and economic implications, including potential changes in government policies, shifts in political power, and impacts on international relations. Examination of how these factors could affect the business environment in the US.\n",
      "\n",
      "## Sector Analysis\n",
      "\n",
      "Detailed analysis of how different sectors might be affected, with a focus on those most likely to experience significant impact. Potential sectors to include: Financial Services, Technology, Energy, Healthcare, and Consumer Goods.\n",
      "\n",
      "## Company-Specific Impact\n",
      "\n",
      "Identification and analysis of specific US companies that are likely to be most affected. Evaluation based on factors such as political affiliations, dependency on government contracts, and market positioning.\n",
      "\n",
      "## Case Studies\n",
      "\n",
      "In-depth case studies of a few select companies to illustrate the potential impact. Each case study will include company background, current market position, and a detailed analysis of how the assassination attempt and ensuing political instability might affect their operations.\n",
      "\n",
      "## Risk Assessment and Mitigation Strategies\n",
      "\n",
      "Assessment of the risks faced by the affected companies. Discussion on potential strategies these companies might employ to mitigate the impact. Suggestions for investors on how to navigate the increased volatility.\n",
      "\n",
      "## Conclusion\n",
      "\n",
      "Summary of key insights from the analysis. Final thoughts on the long-term implications for US companies and the overall market.\n",
      "\n",
      "## Appendices\n",
      "\n",
      "Supplementary information, including data tables, charts, and references used in the analysis.\n"
     ]
    }
   ],
   "source": [
    "print(initial_outline.as_str)"
   ]
  },
  {
   "cell_type": "markdown",
   "metadata": {},
   "source": [
    "### Expand topics\n",
    "While language models do store some Wikipedia-like knowledge in their parameters, you will get better results by incorporating relevant and recent information using a search engine.\n",
    "\n",
    "We will start our search by generating a list of related topics, sourced from Wikipedia."
   ]
  },
  {
   "cell_type": "code",
   "execution_count": 8,
   "metadata": {},
   "outputs": [],
   "source": [
    "gen_related_topics_prompt = ChatPromptTemplate.from_template(\n",
    "    '''I'm writing a financial report for a topic mentioned below. Please identify and recommend some Wikipedia pages on closely related subjects.\n",
    "    I'm looking for examples that provide insights into interesting aspects commonly associated with this topic, or examples that help me understand the typical content and structure included in Wikipedia pages for similar topics.\n",
    "    Please list as many subjects and urls as you can.\n",
    "\n",
    "    Topic of interest: {topic}''')\n",
    "\n",
    "class RelatedSubjects(BaseModel):\n",
    "    topics: List[str] = Field(description='Comprehensive list of related subjects as background research')\n",
    "\n",
    "expand_chain = gen_related_topics_prompt | FAST_LLM.with_structured_output(RelatedSubjects)"
   ]
  },
  {
   "cell_type": "code",
   "execution_count": 9,
   "metadata": {},
   "outputs": [
    {
     "data": {
      "text/plain": [
       "RelatedSubjects(topics=['US companies', 'assassination attempt on Trump'])"
      ]
     },
     "execution_count": 9,
     "metadata": {},
     "output_type": "execute_result"
    }
   ],
   "source": [
    "related_subjects = await expand_chain.ainvoke({'topic': example_topic})\n",
    "related_subjects"
   ]
  },
  {
   "cell_type": "markdown",
   "metadata": {},
   "source": [
    "### Generate Perspectives\n",
    "\n",
    "From these related subjects, we can select representative Wikipedia editors as 'subject matter experts' with distinct backgrounds and affiliations. These will help distribute the research process to encourage a more well-rounded final report."
   ]
  },
  {
   "cell_type": "code",
   "execution_count": 10,
   "metadata": {},
   "outputs": [],
   "source": [
    "class Editor(BaseModel):\n",
    "    affiliation: str = Field(description='Primary affiliation of the editor.')\n",
    "    name: str = Field(description='Name of the editor', pattern=r'^[a-zA-Z0-9_-]{1,64}$')\n",
    "    role: str = Field(description='Role of the editor in the context of the topic.')\n",
    "    description: str = Field(description='Description of the editor\\'s focus, concerns and motives')\n",
    "\n",
    "    @property\n",
    "    def persona(self) -> str:\n",
    "        return f'Name: {self.name}\\nRole: {self.role}\\nAffiliation: {self.affiliation}\\nDescription: {self.description}\\n'\n",
    "    \n",
    "\n",
    "class Perspectives(BaseModel):\n",
    "    editors: List[Editor] = Field(description='Comprehensive list of editors with their roles and affiliations.')\n",
    "\n",
    "\n",
    "gen_perspectives_prompt = ChatPromptTemplate.from_messages(\n",
    "    [\n",
    "        (\n",
    "            'system',\n",
    "            '''You need to select a diverse (and distinct) group of equity research analysts, equity researchers and editors who will work together to create a comprehensive article on the topic. Each of them represents a different perspective, role, or affiliation related to this topic. \n",
    "            You can use other Wikipedia pages of related topics for inspiration. For each editor, add a description of what they will focus on. \n",
    "            \n",
    "            Wiki pages outlines of related topics for inspiration: \n",
    "            {examples}''',\n",
    "        ),\n",
    "        (\n",
    "            'user'\n",
    "            'Topic of interest: {topic}'\n",
    "        )\n",
    "    ]\n",
    ")\n",
    "\n",
    "gen_perspectives_chain = gen_perspectives_prompt | FAST_LLM.with_structured_output(Perspectives)"
   ]
  },
  {
   "cell_type": "code",
   "execution_count": 11,
   "metadata": {},
   "outputs": [],
   "source": [
    "wikipedia_retriever = WikipediaRetriever(load_all_available_meta=True, top_k_results=1)\n",
    "\n",
    "def format_doc(doc, max_length=1000):\n",
    "    related = '- '.join(doc.metadata['categories'])\n",
    "    return f\"### {doc.metadata['title']}\\n\\nSummary: {doc.page_content}\\n\\nRelated\\n{related}\"[:max_length]\n",
    "\n",
    "def format_docs(docs):\n",
    "    return '\\n\\n'.join(format_doc(doc) for doc in docs)\n",
    "\n",
    "@as_runnable\n",
    "async def survey_subjects(topic: str):\n",
    "    related_subjects = await expand_chain.ainvoke({'topic': topic})\n",
    "    retrieved_docs = await wikipedia_retriever.abatch(related_subjects.topics, return_exceptions=True)\n",
    "    all_docs = []\n",
    "    for docs in retrieved_docs:\n",
    "        if isinstance(docs, BaseException):\n",
    "            continue\n",
    "        all_docs.extend(docs)\n",
    "    formatted = format_docs(all_docs)\n",
    "    return await gen_perspectives_chain.ainvoke({'examples': formatted, 'topic': topic})"
   ]
  },
  {
   "cell_type": "code",
   "execution_count": 12,
   "metadata": {},
   "outputs": [],
   "source": [
    "perspectives = await survey_subjects.ainvoke(example_topic)"
   ]
  },
  {
   "cell_type": "code",
   "execution_count": 13,
   "metadata": {},
   "outputs": [
    {
     "data": {
      "text/plain": [
       "{'editors': [{'affiliation': 'Equity Research Analyst',\n",
       "   'name': 'AmandaER',\n",
       "   'role': 'Equity Research Analyst',\n",
       "   'description': 'Amanda specializes in analyzing the financial impacts of external events on companies, including political risks and market reactions. She will focus on identifying the US companies most likely to be affected by the recent assassination attempt on Trump and how their stock prices and operations may be impacted.'},\n",
       "  {'affiliation': 'Equity Researcher',\n",
       "   'name': 'RyanEQ',\n",
       "   'role': 'Equity Researcher',\n",
       "   'description': 'Ryan is experienced in conducting in-depth research on companies and industries. He will delve into the potential repercussions of the assassination attempt on Trump for specific sectors and companies in the US market, considering factors such as market sentiment, investor reactions, and industry dynamics.'},\n",
       "  {'affiliation': 'Equity Research Editor',\n",
       "   'name': 'SophiaEE',\n",
       "   'role': 'Equity Research Editor',\n",
       "   'description': 'Sophia oversees the editing and publication of equity research reports. She will ensure the accuracy and quality of the article by reviewing the analysis provided by the research analysts and researchers, verifying sources, and ensuring that the content adheres to editorial standards and guidelines.'}]}"
      ]
     },
     "execution_count": 13,
     "metadata": {},
     "output_type": "execute_result"
    }
   ],
   "source": [
    "perspectives.dict()"
   ]
  },
  {
   "cell_type": "markdown",
   "metadata": {},
   "source": [
    "### Expert Dialog\n",
    "Each wikipedia writer is primed to role-play using the perspectives presented above. It will ask a series of questions of a second \"domain expert\" with access to a search engine. This generates content to generate a refined outline as well as an updated index of reference documents."
   ]
  },
  {
   "cell_type": "markdown",
   "metadata": {},
   "source": [
    "### Interview State\n",
    "The conversation is cyclic, so we will construct it within its own graph. The State will contain messages, the reference docs, and the editor (with its own \"persona\") to make it easy to parallelize these conversations."
   ]
  },
  {
   "cell_type": "code",
   "execution_count": 14,
   "metadata": {},
   "outputs": [],
   "source": [
    "def add_messages(left, right):\n",
    "    if not isinstance(left, list):\n",
    "        left = [left]\n",
    "    if not isinstance(right, list):\n",
    "        right = [right]\n",
    "    return left + right\n",
    "\n",
    "def update_references(references, new_references):\n",
    "    if not references:\n",
    "        references = {}\n",
    "    references.update(new_references)\n",
    "    return references\n",
    "\n",
    "def update_editor(editor, new_editor):\n",
    "    # can only set at the outset\n",
    "    if not editor:\n",
    "        return new_editor\n",
    "    return editor\n",
    "\n",
    "\n",
    "class InterviewState(TypedDict):\n",
    "    messages: Annotated[List[AnyMessage], add_messages]\n",
    "    references: Annotated[Optional[dict], update_references]\n",
    "    editor: Annotated[Optional[Editor], update_editor]"
   ]
  },
  {
   "cell_type": "markdown",
   "metadata": {},
   "source": [
    "### Dialog roles\n",
    "The graph will have two participants: the wikipedia editor (`generate_question`), who asks questions based on its assigned role, and a domain expert (`gen_answer_chain`), who uses a search engine to answer the questions as accurately as possible."
   ]
  },
  {
   "cell_type": "code",
   "execution_count": 15,
   "metadata": {},
   "outputs": [],
   "source": [
    "gen_qn_prompt = ChatPromptTemplate.from_messages(\n",
    "    [\n",
    "        (\n",
    "            'system',\n",
    "            '''You are an experienced equity research analyst with great critical thinking skills. \n",
    "            You want to edit a specific report. \n",
    "            Besides your exceptional writing skills, you have a specific focus when researching the topic. \n",
    "            Now you are chatting with an expert to get information. Ask good questions to get more useful information. \n",
    "            Make sure to get answers for specific industries, specific companies or ticker symbols and verticals within companies, as and when relevant. \n",
    "            \n",
    "            When you have no more questions to ask, say \"Thank you so much for your help!\" to end the conversation. \n",
    "            Please only ask one question at a time and don't ask what you have asked before. \n",
    "            Be comprehensive and curious, gaining as much unique insight from the expert as possible.\n",
    "            \n",
    "            Stay true to your specific perspective: \n",
    "            \n",
    "            {persona}''',\n",
    "        ),\n",
    "        MessagesPlaceholder(variable_name='messages', optional=True)\n",
    "    ]\n",
    ")\n",
    "\n",
    "def tag_with_name(ai_message: AIMessage, name: str):\n",
    "    ai_message.name = name\n",
    "    return ai_message\n",
    "\n",
    "def swap_roles(state: InterviewState, name: str):\n",
    "    converted = []\n",
    "    for message in state['messages']:\n",
    "        if isinstance(message, AIMessage) and message.name != name:\n",
    "            message = HumanMessage(**message.dict(exclude={'type'}))\n",
    "        converted.append(message)\n",
    "    return {'messages': converted}\n",
    "\n",
    "@as_runnable\n",
    "async def generate_question(state: InterviewState):\n",
    "    editor = state['editor']\n",
    "    gn_chain = (\n",
    "        RunnableLambda(swap_roles).bind(name=editor.name)\n",
    "        | gen_qn_prompt.partial(persona=editor.persona)\n",
    "        | FAST_LLM\n",
    "        | RunnableLambda(tag_with_name).bind(name=editor.name)\n",
    "    )\n",
    "    result = await gn_chain.ainvoke(state)\n",
    "    return {'messages': [result]}"
   ]
  },
  {
   "cell_type": "code",
   "execution_count": 16,
   "metadata": {},
   "outputs": [
    {
     "data": {
      "text/plain": [
       "\"Yes, that's correct. I specialize in analyzing the financial impacts of external events on companies, including political risks and market reactions. I'm particularly interested in understanding which specific US companies are most likely to be affected by the recent assassination attempt on Trump and how their stock prices and operations may be impacted. Do you have any insights on which industries or companies could be particularly vulnerable or resilient in this situation?\""
      ]
     },
     "execution_count": 16,
     "metadata": {},
     "output_type": "execute_result"
    }
   ],
   "source": [
    "messages = [\n",
    "    HumanMessage(f'So you said you were writing an article on {example_topic}?')\n",
    "]\n",
    "\n",
    "question = await generate_question.ainvoke(\n",
    "    {\n",
    "        'editor': perspectives.editors[0],\n",
    "        'messages': messages\n",
    "    }\n",
    ")\n",
    "\n",
    "question['messages'][0].content"
   ]
  },
  {
   "cell_type": "markdown",
   "metadata": {},
   "source": [
    "### Answer Questions\n",
    "The `gen_answer_chain` first generates queries (query expansion) to answer the editor's question, then responds with citations."
   ]
  },
  {
   "cell_type": "code",
   "execution_count": 17,
   "metadata": {},
   "outputs": [],
   "source": [
    "class Queries(BaseModel):\n",
    "    queries: List[str] = Field(description='Comprehensive list of search engine queries to answer the user\\'s question')\n",
    "\n",
    "gen_queries_prompt = ChatPromptTemplate.from_messages(\n",
    "    [\n",
    "        (\n",
    "            'system',\n",
    "            'You are a helpful equity research assistant. Query the search engine to answer the user\\'s questions.'\n",
    "        ),\n",
    "        MessagesPlaceholder(variable_name='messages', optional=True)\n",
    "    ]\n",
    ")\n",
    "gen_queries_chain = gen_queries_prompt | GOOD_LLM.with_structured_output(Queries, include_raw=True)"
   ]
  },
  {
   "cell_type": "code",
   "execution_count": 18,
   "metadata": {},
   "outputs": [
    {
     "data": {
      "text/plain": [
       "['US companies affected by assassination attempt on Trump',\n",
       " 'impact of political events on US stock market',\n",
       " 'industries vulnerable to political risks in the US',\n",
       " 'resilient industries to political instability in the US',\n",
       " 'historical stock market reactions to political crises in the US',\n",
       " 'companies most impacted by political instability in the US']"
      ]
     },
     "execution_count": 18,
     "metadata": {},
     "output_type": "execute_result"
    }
   ],
   "source": [
    "queries = await gen_queries_chain.ainvoke({'messages': [HumanMessage(content=question['messages'][0].content)]})\n",
    "queries['parsed'].queries"
   ]
  },
  {
   "cell_type": "code",
   "execution_count": 19,
   "metadata": {},
   "outputs": [],
   "source": [
    "class AnswersWithCitations(BaseModel):\n",
    "    answer: str = Field(description='Comprehensive answer to the user\\'s question with citations.')\n",
    "    cited_urls: List[str] = Field(\n",
    "        description='List of urls cited in the answer.',\n",
    "    )\n",
    "\n",
    "    @property\n",
    "    def as_str(self) -> str:\n",
    "        return f'{self.answer}\\n\\nCitations:\\n\\n' + '\\n'.join(\n",
    "            f'[{i+1}: {url}]' for i, url in enumerate(self.cited_urls)\n",
    "        )\n",
    "    \n",
    "gen_answer_prompt = ChatPromptTemplate.from_messages(\n",
    "    [\n",
    "        (\n",
    "            'system',\n",
    "            '''You are an expert equity research analyst who can use information effectively. \n",
    "            You are chatting with an equity research report writer who wants to write an analysis report on the topic you know. \n",
    "            You have gathered the related information and will now use the information to form a response. \n",
    "            \n",
    "            Make your response as informative as possible and make sure every sentence is supported by the gathered information. \n",
    "            Be sure to mention specific industries, companies and verticals within companies as required. \n",
    "            Each response must be backed up by a citation from a reliable source, formatted as a footnote, reproducing the URLs after your response.'''\n",
    "        ),\n",
    "        MessagesPlaceholder(variable_name='messages', optional=True)\n",
    "    ]\n",
    ")\n",
    "\n",
    "gen_answer_chain = gen_answer_prompt | GOOD_LLM.with_structured_output(AnswersWithCitations, include_raw=True).with_config(run_name='GenerateAnswer')"
   ]
  },
  {
   "cell_type": "code",
   "execution_count": 20,
   "metadata": {},
   "outputs": [],
   "source": [
    "# Tavily is typically a better search engine but free queries are limited.\n",
    "# search_engine = TavilySearchResults(max_results=4)\n",
    "\n",
    "# @tool\n",
    "# async def search_engine(query: str):\n",
    "#     '''Search engine to the internet'''\n",
    "#     results = tavily_search.invoke(query)\n",
    "#     return [{'content': r['content'], 'url': r['url']} for r in results]\n",
    "\n",
    "# DDG\n",
    "search_engine = DuckDuckGoSearchAPIWrapper()\n",
    "\n",
    "@tool\n",
    "async def search_engine(query: str):\n",
    "    '''Search engine to the internet'''\n",
    "    results = DuckDuckGoSearchAPIWrapper()._ddgs_text(query)\n",
    "    return [{'content': r['body'], 'url': r['href']} for r in results]"
   ]
  },
  {
   "cell_type": "code",
   "execution_count": 21,
   "metadata": {},
   "outputs": [],
   "source": [
    "async def gen_answer(state: InterviewState, config: Optional[RunnableConfig]=None, name: str='subject_matter_expert', max_str_len: int=15000):\n",
    "    swapped_state = swap_roles(state, name) # convert all other AI messages\n",
    "    queries = await gen_queries_chain.ainvoke(swapped_state)\n",
    "    query_results = await search_engine.abatch(queries['parsed'].queries, config, return_exceptions=True)\n",
    "    successful_results = [res for res in query_results if not isinstance(res, Exception)]\n",
    "    all_query_results = {res['url']: res['content'] for results in successful_results for res in results}\n",
    "\n",
    "    # we could be more precise about handling max token length if we wanted to here\n",
    "    dumped = json.dumps(all_query_results)[:max_str_len]\n",
    "    ai_message: AIMessage = queries['raw']\n",
    "    tool_call = queries['raw'].additional_kwargs['tool_calls'][0]\n",
    "    tool_id = tool_call['id']\n",
    "    tool_message = ToolMessage(tool_call_id=tool_id, content=dumped)\n",
    "    swapped_state['messages'].extend([ai_message, tool_message])\n",
    "\n",
    "    # only update the shared state with the final answer to avoid polluting the dialog history with intermediate messages\n",
    "    generated = await gen_answer_chain.ainvoke(swapped_state)\n",
    "    cited_urls = set(generated['parsed'].cited_urls)\n",
    "\n",
    "    # save the retrieved information to the shared state for future reference\n",
    "    cited_references = {k: v for k, v in all_query_results.items() if k in cited_urls}\n",
    "    formatted_message = AIMessage(name=name, content=generated['parsed'].as_str)\n",
    "    return {'messages': [formatted_message], 'references': cited_references}"
   ]
  },
  {
   "cell_type": "code",
   "execution_count": 23,
   "metadata": {},
   "outputs": [],
   "source": [
    "example_answer = await gen_answer(\n",
    "    {'messages': [HumanMessage(content=question['messages'][0].content)]}\n",
    ")"
   ]
  },
  {
   "cell_type": "code",
   "execution_count": null,
   "metadata": {},
   "outputs": [
    {
     "name": "stdout",
     "output_type": "stream",
     "text": [
      "The recent assassination attempt on former President Donald Trump has the potential to impact various industries and companies in different ways. Historically, political instability and high-profile political events can create uncertainty in financial markets, leading to volatility and significant stock price movements in certain sectors. Here are some of the industries and companies that might be most affected by this event:\n",
      "\n",
      "1. **Technology Sector**: Companies in the technology sector, especially those involved in social media and digital communication, could see significant movements. Trump's Truth Social platform, owned by TMTG, is already seeing increased investor interest as it is expected to benefit from deregulation if Trump gains political influence again[^1^]. Additionally, companies like Facebook and Twitter may experience increased scrutiny and regulation changes, affecting their stock prices.\n",
      "\n",
      "2. **Financial Sector**: The financial markets generally exhibit sensitivity to political events. Banks and financial institutions might experience increased volatility due to the uncertainty surrounding the political climate and potential regulatory changes[^2^]. Investors often react to such events by adjusting their portfolios, which can lead to fluctuations in stock prices of major financial companies like JPMorgan Chase and Goldman Sachs.\n",
      "\n",
      "3. **Defense Contractors**: Political instability often leads to increased government spending on defense and security. Companies like Lockheed Martin, Northrop Grumman, and Raytheon Technologies, which are heavily reliant on government contracts, might see their stock prices rise due to anticipated increases in defense budgets[^3^].\n",
      "\n",
      "4. **Energy Sector**: The energy sector, particularly oil and gas companies, could be affected by changes in foreign policy and domestic energy regulations. Companies like ExxonMobil and Chevron might experience stock price movements depending on the political stance on energy independence and environmental regulations[^4^].\n",
      "\n",
      "5. **Healthcare Sector**: Healthcare companies, especially those involved in pharmaceuticals and health insurance, might see changes in stock prices due to potential shifts in healthcare policy and regulation[^5^]. Companies like Pfizer, Johnson & Johnson, and UnitedHealth Group could be impacted by changes in drug pricing policies and healthcare coverage regulations.\n",
      "\n",
      "6. **Cryptocurrency and Blockchain**: There has been a notable uptick in cryptocurrency prices, such as Bitcoin, following the assassination attempt. This is likely due to concerns over traditional financial markets and increased interest in decentralized assets[^6^]. Companies involved in cryptocurrency and blockchain technology, such as Coinbase and Riot Blockchain, might continue to see significant stock price movements.\n",
      "\n",
      "Overall, while the immediate market reaction to the assassination attempt on Trump has been relatively muted, the long-term implications for various industries and companies could be substantial as the political landscape evolves[^7^].\n",
      "\n",
      "[^1^]: [Business Insider](https://markets.businessinsider.com/news/stocks/trump-trade-dominate-markets-weekend-shooting-bitcoin-dollar-inflation-bonds-2024-7?op=1)\n",
      "[^2^]: [Harvard Law School](https://corpgov.law.harvard.edu/2023/09/15/financial-implications-of-rising-political-risk-in-the-us/)\n",
      "[^3^]: [Brookings](https://www.brookings.edu/articles/democratic-erosion-causes-economic-decline-here-are-the-seven-kinds-of-business-at-highest-risk/)\n",
      "[^4^]: [Reuters](https://www.reuters.com/world/us/investors-react-shooting-trump-election-rally-2024-07-14/)\n",
      "[^5^]: [Fortune](https://fortune.com/2024/07/14/donald-trump-assassination-attempt-investors-wall-street-financial-markets-outlook-inflation-bonds-stocks-energy-fed/)\n",
      "[^6^]: [Reuters](https://www.reuters.com/world/us/trump-victory-trades-swell-after-shooting-investors-say-2024-07-14/)\n",
      "[^7^]: [CNN](https://www.cnn.com/2024/07/14/markets/premarket-stock-trading-trump-assassination/index.html)\n",
      "\n",
      "Citations:\n",
      "\n",
      "[1: https://markets.businessinsider.com/news/stocks/trump-trade-dominate-markets-weekend-shooting-bitcoin-dollar-inflation-bonds-2024-7?op=1]\n",
      "[2: https://corpgov.law.harvard.edu/2023/09/15/financial-implications-of-rising-political-risk-in-the-us/]\n",
      "[3: https://www.brookings.edu/articles/democratic-erosion-causes-economic-decline-here-are-the-seven-kinds-of-business-at-highest-risk/]\n",
      "[4: https://www.reuters.com/world/us/investors-react-shooting-trump-election-rally-2024-07-14/]\n",
      "[5: https://fortune.com/2024/07/14/donald-trump-assassination-attempt-investors-wall-street-financial-markets-outlook-inflation-bonds-stocks-energy-fed/]\n",
      "[6: https://www.reuters.com/world/us/trump-victory-trades-swell-after-shooting-investors-say-2024-07-14/]\n",
      "[7: https://www.cnn.com/2024/07/14/markets/premarket-stock-trading-trump-assassination/index.html]\n"
     ]
    }
   ],
   "source": [
    "print(example_answer['messages'][-1].content)"
   ]
  },
  {
   "cell_type": "markdown",
   "metadata": {},
   "source": [
    "### Construct the Interview Graph"
   ]
  },
  {
   "cell_type": "code",
   "execution_count": null,
   "metadata": {},
   "outputs": [],
   "source": [
    "max_num_turns = 5\n",
    "\n",
    "def route_messages(state: InterviewState, name: str='subject_matter_expert'):\n",
    "    messages = state['messages']\n",
    "    num_responses = len([m for m in messages if isinstance(m, AIMessage) and m.name == name])\n",
    "    if num_responses >= max_num_turns:\n",
    "        return END\n",
    "    last_question = messages[-2]\n",
    "\n",
    "    if last_question.content.endswith('Thank you so much for your help!'):\n",
    "        return END\n",
    "    \n",
    "    return 'ask_question'\n",
    "\n",
    "builder = StateGraph(InterviewState)\n",
    "\n",
    "builder.add_node('ask_question', generate_question)\n",
    "builder.add_node('answer_question', gen_answer)\n",
    "builder.add_conditional_edges('answer_question', route_messages)\n",
    "builder.add_edge('ask_question', 'answer_question')\n",
    "builder.add_edge(START, 'ask_question')\n",
    "interview_graph = builder.compile().with_config(run_name='Conduct Interviews')"
   ]
  },
  {
   "cell_type": "code",
   "execution_count": null,
   "metadata": {},
   "outputs": [
    {
     "data": {
      "image/jpeg": "[encoded data removed]",
      "text/plain": [
       "<IPython.core.display.Image object>"
      ]
     },
     "metadata": {},
     "output_type": "display_data"
    }
   ],
   "source": [
    "from langchain_core.runnables.graph import CurveStyle, MermaidDrawMethod\n",
    "from IPython.display import display, HTML, Image\n",
    "\n",
    "display(Image(interview_graph.get_graph().draw_mermaid_png(draw_method=MermaidDrawMethod.API)))"
   ]
  },
  {
   "cell_type": "code",
   "execution_count": null,
   "metadata": {},
   "outputs": [
    {
     "name": "stdout",
     "output_type": "stream",
     "text": [
      "ask_question\n",
      "{'ask_question': {'messages': [AIMessage(content=\"Yes, that's correct. I am focusing on analyzing the potential impact of the recent assassination attempt on Trump on US companies. I am specifically interested in looking at how the stock prices of these companies might be affected. Do you have any insights on which specific industries or companies within the US market could be most impacted by this event?\", response_metadata={'token_usage': {'completion_tokens': 66, 'prompt_tokens': 260, 'total_tokens': 326}, 'model_name': 'gpt-3.5-turbo', 'system_fingerprint': None, 'finish_reason': 'stop', 'logprobs': None}, name='AliceSmith', id='run-8b09e6d3-bb9e-4b62-81d5-1c576dde69cb-0')]}}\n",
      "-- [AIMessage(content=\"Yes, that's correct. I am focusing on analyzing the potential impact of the recent assassination attempt on Trump on US companies. I am specifically interested in looking at how the stock prices of these companies might be affected. Do you have any insights on which specific indu\n",
      "answer_question\n",
      "{'answer_question': {'messages': [AIMessage(content='The recent assassination attempt on former President Donald Trump has created a ripple effect across various sectors of the U.S. economy, although the immediate impact on stock markets appears muted. Dow futures showed a modest rise following the incident, indicating that investors are maintaining a degree of calm in the short term.\\n\\nHowever, the long-term implications could be more significant, particularly for industries that are sensitive to political instability. Historically, political events such as this tend to affect investor sentiment, which can lead to increased market volatility.\\n\\n1. **Defense and Security**: Companies in the defense and security sectors are likely to see increased interest and possibly higher stock prices. This is due to anticipated increases in government spending on security measures. For example, companies like Lockheed Martin and Northrop Grumman could benefit from heightened security concerns.\\n\\n2. **Media and Communications**: News organizations and media companies might experience increased viewership and engagement as people seek updates on the political situation. Companies like CNN and Fox News could see a boost in ratings and online traffic.\\n\\n3. **Financials**: The financial sector, including banks and investment firms, could face volatility. Political instability often leads to market uncertainty, which can affect stock prices and trading volumes. Firms like Goldman Sachs and JPMorgan Chase might experience short-term fluctuations but could benefit from increased trading activity.\\n\\n4. **Energy**: Energy companies could also be impacted, particularly if political instability affects global oil prices. Companies like ExxonMobil and Chevron may see stock price movements in response to fluctuating oil prices driven by market uncertainties.\\n\\n5. **Technology**: The technology sector might experience mixed reactions. While companies like Apple and Microsoft are less directly affected by political events, the overall market sentiment can still lead to stock price volatility.\\n\\nOverall, while immediate market reactions might be subdued, the long-term effects of the assassination attempt on Trump could lead to increased volatility and impact various sectors differently.\\n\\n**Sources**:\\n\\n1. [CNN](https://www.cnn.com/2024/07/14/markets/premarket-stock-trading-trump-assassination/index.html)\\n2. [Bloomberg](https://www.bloomberg.com/news/articles/2024-07-15/political-violence-fears-rise-after-trump-assassination-attempt)\\n3. [Fortune](https://fortune.com/2024/07/14/donald-trump-assassination-attempt-investors-wall-street-financial-markets-outlook-inflation-bonds-stocks-energy-fed/)\\n4. [Reuters](https://www.reuters.com/world/us/attack-trump-could-spark-further-us-political-violence-2024-07-14/)\\n5. [Harvard Law School Forum on Corporate Governance](https://corpgov.law.harvard.edu/2023/09/15/financial-implications-of-rising-political-risk-in-the-us/)\\n\\nCitations:\\n\\n[1: https://www.cnn.com/2024/07/14/markets/premarket-stock-trading-trump-assassination/index.html]\\n[2: https://www.bloomberg.com/news/articles/2024-07-15/political-violence-fears-rise-after-trump-assassination-attempt]\\n[3: https://fortune.com/2024/07/14/donald-trump-assassination-attempt-investors-wall-street-financial-markets-outlook-inflation-bonds-stocks-energy-fed/]\\n[4: https://www.reuters.com/world/us/attack-trump-could-spark-further-us-political-violence-2024-07-14/]\\n[5: https://corpgov.law.harvard.edu/2023/09/15/financial-implications-of-rising-political-risk-in-the-us/]', name='subject_matter_expert')], 'references': {'https://www.cnn.com/2024/07/14/markets/premarket-stock-trading-trump-assassination/index.html': 'US stock futures barely budged after an assassination attempt on former President Donald Trump on Saturday, signaling calm in the markets as Trump survived the incident. Dow futures rose 65 points ...', 'https://www.bloomberg.com/news/articles/2024-07-15/political-violence-fears-rise-after-trump-assassination-attempt': 'The attempted assassination of Donald Trump caps an escalating trend of political violence that has plagued the US for more than a decade, sparking calls for cooler rhetoric and heightened security.', 'https://fortune.com/2024/07/14/donald-trump-assassination-attempt-investors-wall-street-financial-markets-outlook-inflation-bonds-stocks-energy-fed/': \"Pre-market trading in the U.S. will begin Sunday evening, marking Wall Street's initial attempt to price in how the assassination attempt on Donald Trump will affect markets.\", 'https://www.reuters.com/world/us/attack-trump-could-spark-further-us-political-violence-2024-07-14/': 'WASHINGTON, July 14 (Reuters) - In a country already on edge, the assassination attempt on former President Donald Trump has enraged his supporters, paused the Democratic campaign and raised fears ...', 'https://corpgov.law.harvard.edu/2023/09/15/financial-implications-of-rising-political-risk-in-the-us/': 'Adding U.S. political risk to the set of factors assessed both in asset allocation and stewardship decisions. Issuing an explicit statement that political risk resulting from democratic erosion in the US elevates probabilities of domestic political disorder and market instability, thus posing a material risk to client investments.'}}}\n",
      "-- [AIMessage(content='The recent assassination attempt on former President Donald Trump has created a ripple effect across various sectors of the U.S. economy, although the immediate impact on stock markets appears muted. Dow futures showed a modest rise following the incident, indicating that investo\n",
      "ask_question\n",
      "{'ask_question': {'messages': [AIMessage(content=\"Thank you for the detailed insights on the potential impact of the recent assassination attempt on Trump on various sectors of the US economy. It's interesting to see how different industries could be affected differently in the long term. \\n\\nCould you provide more information on how consumer discretionary companies such as retail or leisure companies might be impacted by this event?\", response_metadata={'token_usage': {'completion_tokens': 66, 'prompt_tokens': 1107, 'total_tokens': 1173}, 'model_name': 'gpt-3.5-turbo', 'system_fingerprint': None, 'finish_reason': 'stop', 'logprobs': None}, name='AliceSmith', id='run-7443e015-1667-42c7-b8b4-824a340367f0-0')]}}\n",
      "-- [AIMessage(content=\"Thank you for the detailed insights on the potential impact of the recent assassination attempt on Trump on various sectors of the US economy. It's interesting to see how different industries could be affected differently in the long term. \\n\\nCould you provide more information o\n",
      "answer_question\n",
      "{'answer_question': {'messages': [AIMessage(content='The consumer discretionary sector, which includes retail and leisure companies, is particularly sensitive to political instability and events like the recent assassination attempt on Donald Trump. Historically, such events can lead to a decrease in consumer confidence and spending, which directly affects companies in this sector. Here are several ways consumer discretionary companies might be impacted by this event:\\n\\n1. **Consumer Spending**: Political instability often leads to a reduction in consumer spending as people become more cautious with their finances. This can negatively impact retail companies such as Walmart, Target, and Amazon, which rely heavily on consumer spending. A decrease in discretionary spending can lead to lower sales and revenue for these companies.[1]\\n\\n2. **Travel and Leisure**: The leisure industry, including travel and hospitality companies like Marriott International and Carnival Corporation, could also be adversely affected. Political events can decrease consumer willingness to spend on travel and leisure activities. Historical data shows that after significant political events, there is often a downturn in travel bookings and hotel stays as consumers become more risk-averse.[2]\\n\\n3. **Stock Volatility**: The stock prices of consumer discretionary companies tend to be more volatile in times of political uncertainty. Investors may become wary of the potential for decreased revenue and increased operational costs, leading to stock price fluctuations. Retail and leisure stocks are particularly vulnerable because they are closely tied to consumer sentiment.[3]\\n\\n4. **Supply Chain Disruptions**: Geopolitical events can also lead to supply chain disruptions, which can impact retail companies. For example, political instability can lead to delays in the supply of goods, increased shipping costs, and other logistical challenges. This can affect the ability of retailers to stock their shelves and meet consumer demand.[4]\\n\\nOverall, while the immediate market reaction might be subdued, the long-term effects of the assassination attempt on Trump could lead to increased volatility and impact various sectors within the consumer discretionary space differently.\\n\\n**Sources**:\\n\\n1. [CNN](https://www.cnn.com/2024/07/14/markets/premarket-stock-trading-trump-assassination/index.html)\\n2. [Forbes](https://www.forbes.com/sites/dennismitzner/2024/02/19/red-sea-tensions-impact-on-global-trade-retail-and-manufacturing/)\\n3. [Reuters](https://www.reuters.com/markets/us/futures-rise-higher-odds-trump-victory-after-shooting-2024-07-15/)\\n4. [KPMG](https://kpmg.com/au/en/home/insights/2024/04/geopolitical-disruption-impact-australian-retail-market.html)\\n\\nCitations:\\n\\n[1: https://www.cnn.com/2024/07/14/markets/premarket-stock-trading-trump-assassination/index.html]\\n[2: https://www.forbes.com/sites/dennismitzner/2024/02/19/red-sea-tensions-impact-on-global-trade-retail-and-manufacturing/]\\n[3: https://www.reuters.com/markets/us/futures-rise-higher-odds-trump-victory-after-shooting-2024-07-15/]\\n[4: https://kpmg.com/au/en/home/insights/2024/04/geopolitical-disruption-impact-australian-retail-market.html]', name='subject_matter_expert')], 'references': {'https://www.cnn.com/2024/07/14/markets/premarket-stock-trading-trump-assassination/index.html': 'US stock futures barely budged after an assassination attempt on former President Donald Trump on Saturday, signaling calm in the markets as Trump survived the incident.', 'https://www.reuters.com/markets/us/futures-rise-higher-odds-trump-victory-after-shooting-2024-07-15/': 'U.S. stock index futures rose on Monday on higher odds of presidential candidate Donald Trump winning a second term after surviving an assassination attempt, while interest rate cut hopes ...', 'https://kpmg.com/au/en/home/insights/2024/04/geopolitical-disruption-impact-australian-retail-market.html': 'Geopolitical disruption - the new state of play for Australian retail gives business leaders access to detailed insights into the evolving state of world affairs and the geopolitical impact on supply chains, trade and economic policies, competition, consumers and markets. The report uses four key geopolitical megatrends to explain global ...', 'https://www.forbes.com/sites/dennismitzner/2024/02/19/red-sea-tensions-impact-on-global-trade-retail-and-manufacturing/': 'In recent months, the Red Sea, a critical conduit for global commerce, has encountered significant disruptions due to escalating geopolitical tensions.'}}}\n",
      "-- [AIMessage(content='The consumer discretionary sector, which includes retail and leisure companies, is particularly sensitive to political instability and events like the recent assassination attempt on Donald Trump. Historically, such events can lead to a decrease in consumer confidence and spendin\n",
      "ask_question\n",
      "{'ask_question': {'messages': [AIMessage(content=\"Thank you so much for your insights on how the consumer discretionary sector, including retail and leisure companies, might be impacted by the recent assassination attempt on Trump. It's clear that consumer sentiment and spending behavior are crucial factors to consider when evaluating the potential effects of political events on these companies, especially in terms of revenue and stock price volatility. Your perspective has provided valuable insights into the potential challenges these companies may face in the aftermath of such an event.\", response_metadata={'token_usage': {'completion_tokens': 89, 'prompt_tokens': 1866, 'total_tokens': 1955}, 'model_name': 'gpt-3.5-turbo', 'system_fingerprint': None, 'finish_reason': 'stop', 'logprobs': None}, name='AliceSmith', id='run-cac1485f-e110-41d5-91bb-6dd49c8f05d3-0')]}}\n",
      "-- [AIMessage(content=\"Thank you so much for your insights on how the consumer discretionary sector, including retail and leisure companies, might be impacted by the recent assassination attempt on Trump. It's clear that consumer sentiment and spending behavior are crucial factors to consider when eval\n",
      "answer_question\n",
      "{'answer_question': {'messages': [AIMessage(content=\"The recent assassination attempt on former President Donald Trump has the potential to significantly impact the consumer discretionary sector, which includes retail and leisure companies. This sector is sensitive to political instability and shifts in consumer sentiment. Here’s how different aspects of the sector might be impacted by this event:\\n\\n1. **Consumer Spending**: Political instability often leads to reduced consumer spending as people become more cautious with their finances. Companies like Walmart, Target, and Amazon, which rely heavily on consumer spending, could see a decline in sales and revenue. A decrease in consumer confidence can lead to lower expenditure on non-essential goods and services.[1]\\n\\n2. **Travel and Leisure**: The leisure industry, including travel and hospitality companies like Marriott International and Carnival Corporation, could be adversely affected. Political events often reduce the consumer's willingness to spend on travel and leisure activities. Historical data shows that significant political events can lead to a downturn in travel bookings and hotel stays as consumers become more risk-averse.[2]\\n\\n3. **Stock Volatility**: The stock prices of consumer discretionary companies tend to be more volatile during times of political uncertainty. Investors may become wary of the potential for decreased revenue and increased operational costs, leading to stock price fluctuations.[3]\\n\\n4. **Supply Chain Disruptions**: Political instability can lead to supply chain disruptions, impacting retail companies. Delays in the supply of goods, increased shipping costs, and other logistical challenges can affect the ability of retailers to stock their shelves and meet consumer demand.[4]\\n\\n5. **Consumer Sentiment**: Events like the assassination attempt can negatively impact consumer sentiment, leading to a decrease in discretionary spending. Consumer confidence is a crucial driver for the retail and leisure sectors, and any decline can directly impact sales and profitability.[5]\\n\\nOverall, while the immediate market reaction might be subdued, the long-term effects of the assassination attempt on Trump could lead to increased volatility and impact various sectors within the consumer discretionary space differently.\\n\\n**Sources**:\\n\\n1. [CNN](https://www.cnn.com/2024/07/14/markets/premarket-stock-trading-trump-assassination/index.html)\\n2. [Forbes](https://www.forbes.com/sites/dennismitzner/2024/02/19/red-sea-tensions-impact-on-global-trade-retail-and-manufacturing/)\\n3. [Reuters](https://www.reuters.com/markets/us/futures-rise-higher-odds-trump-victory-after-shooting-2024-07-15/)\\n4. [KPMG](https://kpmg.com/au/en/home/insights/2024/04/geopolitical-disruption-impact-australian-retail-market.html)\\n5. [McKinsey](https://www.mckinsey.com/industries/consumer-packaged-goods/our-insights/the-state-of-the-us-consumer)\\n\\nCitations:\\n\\n[1: https://www.cnn.com/2024/07/14/markets/premarket-stock-trading-trump-assassination/index.html]\\n[2: https://www.forbes.com/sites/dennismitzner/2024/02/19/red-sea-tensions-impact-on-global-trade-retail-and-manufacturing/]\\n[3: https://www.reuters.com/markets/us/futures-rise-higher-odds-trump-victory-after-shooting-2024-07-15/]\\n[4: https://kpmg.com/au/en/home/insights/2024/04/geopolitical-disruption-impact-australian-retail-market.html]\\n[5: https://www.mckinsey.com/industries/consumer-packaged-goods/our-insights/the-state-of-the-us-consumer]\", name='subject_matter_expert')], 'references': {'https://www.mckinsey.com/industries/consumer-packaged-goods/our-insights/the-state-of-the-us-consumer': 'In the second quarter of 2024, US consumer optimism fell, mirroring levels seen at the end of 2023. Economic pessimism grew slightly, fueled by concerns over inflation, the depletion of personal savings, and perceived weakness in the labor market. These concerns left consumers somewhat conflicted: on one hand, they continued to splurge on food ...', 'https://www.cnn.com/2024/07/14/markets/premarket-stock-trading-trump-assassination/index.html': 'US stock futures barely budged after an assassination attempt on former President Donald Trump on Saturday, signaling calm in the markets as Trump survived the incident.'}}}\n",
      "-- [AIMessage(content=\"The recent assassination attempt on former President Donald Trump has the potential to significantly impact the consumer discretionary sector, which includes retail and leisure companies. This sector is sensitive to political instability and shifts in consumer sentiment. Here’s h\n",
      "ask_question\n",
      "{'ask_question': {'messages': [AIMessage(content='Thank you so much for your help!', response_metadata={'token_usage': {'completion_tokens': 8, 'prompt_tokens': 2729, 'total_tokens': 2737}, 'model_name': 'gpt-3.5-turbo', 'system_fingerprint': None, 'finish_reason': 'stop', 'logprobs': None}, name='AliceSmith', id='run-228680b4-22ad-498c-a283-e834a04bad58-0')]}}\n",
      "-- [AIMessage(content='Thank you so much for your help!', response_metadata={'token_usage': {'completion_tokens': 8, 'prompt_tokens': 2729, 'total_tokens': 2737}, 'model_name': 'gpt-3.5-turbo', 'system_fingerprint': None, 'finish_reason': 'stop', 'logprobs': None}, name='AliceSmith', id='run-228680b4-2\n",
      "answer_question\n",
      "{'answer_question': {'messages': [AIMessage(content=\"The recent assassination attempt on former President Donald Trump has the potential to impact the consumer discretionary sector, including retail and leisure companies, in several significant ways. This sector is particularly sensitive to political instability and shifts in consumer sentiment. Here’s how different aspects of the sector might be impacted by this event:\\n\\n1. **Consumer Spending**: Political instability often leads to reduced consumer spending as people become more cautious with their finances. Companies like Walmart, Target, and Amazon, which rely heavily on consumer spending, could see a decline in sales and revenue. A decrease in consumer confidence can lead to lower expenditure on non-essential goods and services.\\n\\n2. **Travel and Leisure**: The leisure industry, including travel and hospitality companies like Marriott International and Carnival Corporation, could be adversely affected. Political events often reduce the consumer's willingness to spend on travel and leisure activities. Historical data shows that significant political events can lead to a downturn in travel bookings and hotel stays as consumers become more risk-averse.\\n\\n3. **Stock Volatility**: The stock prices of consumer discretionary companies tend to be more volatile during times of political uncertainty. Investors may become wary of the potential for decreased revenue and increased operational costs, leading to stock price fluctuations.\\n\\n4. **Supply Chain Disruptions**: Political instability can lead to supply chain disruptions, impacting retail companies. Delays in the supply of goods, increased shipping costs, and other logistical challenges can affect the ability of retailers to stock their shelves and meet consumer demand.\\n\\n5. **Consumer Sentiment**: Events like the assassination attempt can negatively impact consumer sentiment, leading to a decrease in discretionary spending. Consumer confidence is a crucial driver for the retail and leisure sectors, and any decline can directly impact sales and profitability.\\n\\nOverall, while the immediate market reaction might be subdued, the long-term effects of the assassination attempt on Trump could lead to increased volatility and impact various sectors within the consumer discretionary space differently.\\n\\nCitations:\\n\\n[1: https://www.cnn.com/2024/07/14/markets/premarket-stock-trading-trump-assassination/index.html]\\n[2: https://www.bloomberg.com/news/articles/2024-07-15/political-violence-fears-rise-after-trump-assassination-attempt]\\n[3: https://fortune.com/2024/07/14/donald-trump-assassination-attempt-investors-wall-street-financial-markets-outlook-inflation-bonds-stocks-energy-fed/]\\n[4: https://www.reuters.com/world/us/attack-trump-could-spark-further-us-political-violence-2024-07-14/]\\n[5: https://corpgov.law.harvard.edu/2023/09/15/financial-implications-of-rising-political-risk-in-the-us/]\", name='subject_matter_expert')], 'references': {'https://www.cnn.com/2024/07/14/markets/premarket-stock-trading-trump-assassination/index.html': 'US stock futures barely budged after an assassination attempt on former President Donald Trump on Saturday, signaling calm in the markets as Trump survived the incident. Dow futures rose 65 points ...', 'https://corpgov.law.harvard.edu/2023/09/15/financial-implications-of-rising-political-risk-in-the-us/': \"Calls to overturn elections and limit voting in the US are having a powerful, long-term, but under-the-radar impact on the financial world. First hard evidence surfaced on August 1 2023, when Fitch Ratings downgraded the US's credit level, citing deteriorating governance standards. Now, according to a first nonpartisan probe of investor opinion in the wake […]\"}}}\n",
      "-- [AIMessage(content=\"The recent assassination attempt on former President Donald Trump has the potential to impact the consumer discretionary sector, including retail and leisure companies, in several significant ways. This sector is particularly sensitive to political instability and shifts in consu\n"
     ]
    }
   ],
   "source": [
    "final_step = None\n",
    "\n",
    "initial_state = {\n",
    "    'editor': perspectives.editors[0],\n",
    "    'messages': [\n",
    "        AIMessage(\n",
    "            content=f'So you said you were writing an article on {example_topic}?',\n",
    "            name='subject_matter_expert'\n",
    "        )\n",
    "    ]\n",
    "}\n",
    "\n",
    "all_steps = []\n",
    "async for step in interview_graph.astream(initial_state):\n",
    "    name = next(iter(step))\n",
    "    print(name)\n",
    "    print(step)\n",
    "    print('--', str(step[name]['messages'])[:300])\n",
    "    all_steps.append(step)\n",
    "    if END in step:\n",
    "        final_step = step"
   ]
  },
  {
   "cell_type": "code",
   "execution_count": null,
   "metadata": {},
   "outputs": [
    {
     "name": "stdout",
     "output_type": "stream",
     "text": [
      "ask_question Yes, that's correct. I am focusing on analyzing the potential impact of the recent assassination attempt on Trump on US companies. I am specifically interested in looking at how the stock prices of these companies might be affected. Do you have any insights on which specific industries or companies within the US market could be most impacted by this event?\n",
      "answer_question The recent assassination attempt on former President Donald Trump has created a ripple effect across various sectors of the U.S. economy, although the immediate impact on stock markets appears muted. Dow futures showed a modest rise following the incident, indicating that investors are maintaining a degree of calm in the short term.\n",
      "\n",
      "However, the long-term implications could be more significant, particularly for industries that are sensitive to political instability. Historically, political events such as this tend to affect investor sentiment, which can lead to increased market volatility.\n",
      "\n",
      "1. **Defense and Security**: Companies in the defense and security sectors are likely to see increased interest and possibly higher stock prices. This is due to anticipated increases in government spending on security measures. For example, companies like Lockheed Martin and Northrop Grumman could benefit from heightened security concerns.\n",
      "\n",
      "2. **Media and Communications**: News organizations and media companies might experience increased viewership and engagement as people seek updates on the political situation. Companies like CNN and Fox News could see a boost in ratings and online traffic.\n",
      "\n",
      "3. **Financials**: The financial sector, including banks and investment firms, could face volatility. Political instability often leads to market uncertainty, which can affect stock prices and trading volumes. Firms like Goldman Sachs and JPMorgan Chase might experience short-term fluctuations but could benefit from increased trading activity.\n",
      "\n",
      "4. **Energy**: Energy companies could also be impacted, particularly if political instability affects global oil prices. Companies like ExxonMobil and Chevron may see stock price movements in response to fluctuating oil prices driven by market uncertainties.\n",
      "\n",
      "5. **Technology**: The technology sector might experience mixed reactions. While companies like Apple and Microsoft are less directly affected by political events, the overall market sentiment can still lead to stock price volatility.\n",
      "\n",
      "Overall, while immediate market reactions might be subdued, the long-term effects of the assassination attempt on Trump could lead to increased volatility and impact various sectors differently.\n",
      "\n",
      "**Sources**:\n",
      "\n",
      "1. [CNN](https://www.cnn.com/2024/07/14/markets/premarket-stock-trading-trump-assassination/index.html)\n",
      "2. [Bloomberg](https://www.bloomberg.com/news/articles/2024-07-15/political-violence-fears-rise-after-trump-assassination-attempt)\n",
      "3. [Fortune](https://fortune.com/2024/07/14/donald-trump-assassination-attempt-investors-wall-street-financial-markets-outlook-inflation-bonds-stocks-energy-fed/)\n",
      "4. [Reuters](https://www.reuters.com/world/us/attack-trump-could-spark-further-us-political-violence-2024-07-14/)\n",
      "5. [Harvard Law School Forum on Corporate Governance](https://corpgov.law.harvard.edu/2023/09/15/financial-implications-of-rising-political-risk-in-the-us/)\n",
      "\n",
      "Citations:\n",
      "\n",
      "[1: https://www.cnn.com/2024/07/14/markets/premarket-stock-trading-trump-assassination/index.html]\n",
      "[2: https://www.bloomberg.com/news/articles/2024-07-15/political-violence-fears-rise-after-trump-assassination-attempt]\n",
      "[3: https://fortune.com/2024/07/14/donald-trump-assassination-attempt-investors-wall-street-financial-markets-outlook-inflation-bonds-stocks-energy-fed/]\n",
      "[4: https://www.reuters.com/world/us/attack-trump-could-spark-further-us-political-violence-2024-07-14/]\n",
      "[5: https://corpgov.law.harvard.edu/2023/09/15/financial-implications-of-rising-political-risk-in-the-us/]\n",
      "ask_question Thank you for the detailed insights on the potential impact of the recent assassination attempt on Trump on various sectors of the US economy. It's interesting to see how different industries could be affected differently in the long term. \n",
      "\n",
      "Could you provide more information on how consumer discretionary companies such as retail or leisure companies might be impacted by this event?\n",
      "answer_question The consumer discretionary sector, which includes retail and leisure companies, is particularly sensitive to political instability and events like the recent assassination attempt on Donald Trump. Historically, such events can lead to a decrease in consumer confidence and spending, which directly affects companies in this sector. Here are several ways consumer discretionary companies might be impacted by this event:\n",
      "\n",
      "1. **Consumer Spending**: Political instability often leads to a reduction in consumer spending as people become more cautious with their finances. This can negatively impact retail companies such as Walmart, Target, and Amazon, which rely heavily on consumer spending. A decrease in discretionary spending can lead to lower sales and revenue for these companies.[1]\n",
      "\n",
      "2. **Travel and Leisure**: The leisure industry, including travel and hospitality companies like Marriott International and Carnival Corporation, could also be adversely affected. Political events can decrease consumer willingness to spend on travel and leisure activities. Historical data shows that after significant political events, there is often a downturn in travel bookings and hotel stays as consumers become more risk-averse.[2]\n",
      "\n",
      "3. **Stock Volatility**: The stock prices of consumer discretionary companies tend to be more volatile in times of political uncertainty. Investors may become wary of the potential for decreased revenue and increased operational costs, leading to stock price fluctuations. Retail and leisure stocks are particularly vulnerable because they are closely tied to consumer sentiment.[3]\n",
      "\n",
      "4. **Supply Chain Disruptions**: Geopolitical events can also lead to supply chain disruptions, which can impact retail companies. For example, political instability can lead to delays in the supply of goods, increased shipping costs, and other logistical challenges. This can affect the ability of retailers to stock their shelves and meet consumer demand.[4]\n",
      "\n",
      "Overall, while the immediate market reaction might be subdued, the long-term effects of the assassination attempt on Trump could lead to increased volatility and impact various sectors within the consumer discretionary space differently.\n",
      "\n",
      "**Sources**:\n",
      "\n",
      "1. [CNN](https://www.cnn.com/2024/07/14/markets/premarket-stock-trading-trump-assassination/index.html)\n",
      "2. [Forbes](https://www.forbes.com/sites/dennismitzner/2024/02/19/red-sea-tensions-impact-on-global-trade-retail-and-manufacturing/)\n",
      "3. [Reuters](https://www.reuters.com/markets/us/futures-rise-higher-odds-trump-victory-after-shooting-2024-07-15/)\n",
      "4. [KPMG](https://kpmg.com/au/en/home/insights/2024/04/geopolitical-disruption-impact-australian-retail-market.html)\n",
      "\n",
      "Citations:\n",
      "\n",
      "[1: https://www.cnn.com/2024/07/14/markets/premarket-stock-trading-trump-assassination/index.html]\n",
      "[2: https://www.forbes.com/sites/dennismitzner/2024/02/19/red-sea-tensions-impact-on-global-trade-retail-and-manufacturing/]\n",
      "[3: https://www.reuters.com/markets/us/futures-rise-higher-odds-trump-victory-after-shooting-2024-07-15/]\n",
      "[4: https://kpmg.com/au/en/home/insights/2024/04/geopolitical-disruption-impact-australian-retail-market.html]\n",
      "ask_question Thank you so much for your insights on how the consumer discretionary sector, including retail and leisure companies, might be impacted by the recent assassination attempt on Trump. It's clear that consumer sentiment and spending behavior are crucial factors to consider when evaluating the potential effects of political events on these companies, especially in terms of revenue and stock price volatility. Your perspective has provided valuable insights into the potential challenges these companies may face in the aftermath of such an event.\n",
      "answer_question The recent assassination attempt on former President Donald Trump has the potential to significantly impact the consumer discretionary sector, which includes retail and leisure companies. This sector is sensitive to political instability and shifts in consumer sentiment. Here’s how different aspects of the sector might be impacted by this event:\n",
      "\n",
      "1. **Consumer Spending**: Political instability often leads to reduced consumer spending as people become more cautious with their finances. Companies like Walmart, Target, and Amazon, which rely heavily on consumer spending, could see a decline in sales and revenue. A decrease in consumer confidence can lead to lower expenditure on non-essential goods and services.[1]\n",
      "\n",
      "2. **Travel and Leisure**: The leisure industry, including travel and hospitality companies like Marriott International and Carnival Corporation, could be adversely affected. Political events often reduce the consumer's willingness to spend on travel and leisure activities. Historical data shows that significant political events can lead to a downturn in travel bookings and hotel stays as consumers become more risk-averse.[2]\n",
      "\n",
      "3. **Stock Volatility**: The stock prices of consumer discretionary companies tend to be more volatile during times of political uncertainty. Investors may become wary of the potential for decreased revenue and increased operational costs, leading to stock price fluctuations.[3]\n",
      "\n",
      "4. **Supply Chain Disruptions**: Political instability can lead to supply chain disruptions, impacting retail companies. Delays in the supply of goods, increased shipping costs, and other logistical challenges can affect the ability of retailers to stock their shelves and meet consumer demand.[4]\n",
      "\n",
      "5. **Consumer Sentiment**: Events like the assassination attempt can negatively impact consumer sentiment, leading to a decrease in discretionary spending. Consumer confidence is a crucial driver for the retail and leisure sectors, and any decline can directly impact sales and profitability.[5]\n",
      "\n",
      "Overall, while the immediate market reaction might be subdued, the long-term effects of the assassination attempt on Trump could lead to increased volatility and impact various sectors within the consumer discretionary space differently.\n",
      "\n",
      "**Sources**:\n",
      "\n",
      "1. [CNN](https://www.cnn.com/2024/07/14/markets/premarket-stock-trading-trump-assassination/index.html)\n",
      "2. [Forbes](https://www.forbes.com/sites/dennismitzner/2024/02/19/red-sea-tensions-impact-on-global-trade-retail-and-manufacturing/)\n",
      "3. [Reuters](https://www.reuters.com/markets/us/futures-rise-higher-odds-trump-victory-after-shooting-2024-07-15/)\n",
      "4. [KPMG](https://kpmg.com/au/en/home/insights/2024/04/geopolitical-disruption-impact-australian-retail-market.html)\n",
      "5. [McKinsey](https://www.mckinsey.com/industries/consumer-packaged-goods/our-insights/the-state-of-the-us-consumer)\n",
      "\n",
      "Citations:\n",
      "\n",
      "[1: https://www.cnn.com/2024/07/14/markets/premarket-stock-trading-trump-assassination/index.html]\n",
      "[2: https://www.forbes.com/sites/dennismitzner/2024/02/19/red-sea-tensions-impact-on-global-trade-retail-and-manufacturing/]\n",
      "[3: https://www.reuters.com/markets/us/futures-rise-higher-odds-trump-victory-after-shooting-2024-07-15/]\n",
      "[4: https://kpmg.com/au/en/home/insights/2024/04/geopolitical-disruption-impact-australian-retail-market.html]\n",
      "[5: https://www.mckinsey.com/industries/consumer-packaged-goods/our-insights/the-state-of-the-us-consumer]\n",
      "ask_question Thank you so much for your help!\n",
      "answer_question The recent assassination attempt on former President Donald Trump has the potential to impact the consumer discretionary sector, including retail and leisure companies, in several significant ways. This sector is particularly sensitive to political instability and shifts in consumer sentiment. Here’s how different aspects of the sector might be impacted by this event:\n",
      "\n",
      "1. **Consumer Spending**: Political instability often leads to reduced consumer spending as people become more cautious with their finances. Companies like Walmart, Target, and Amazon, which rely heavily on consumer spending, could see a decline in sales and revenue. A decrease in consumer confidence can lead to lower expenditure on non-essential goods and services.\n",
      "\n",
      "2. **Travel and Leisure**: The leisure industry, including travel and hospitality companies like Marriott International and Carnival Corporation, could be adversely affected. Political events often reduce the consumer's willingness to spend on travel and leisure activities. Historical data shows that significant political events can lead to a downturn in travel bookings and hotel stays as consumers become more risk-averse.\n",
      "\n",
      "3. **Stock Volatility**: The stock prices of consumer discretionary companies tend to be more volatile during times of political uncertainty. Investors may become wary of the potential for decreased revenue and increased operational costs, leading to stock price fluctuations.\n",
      "\n",
      "4. **Supply Chain Disruptions**: Political instability can lead to supply chain disruptions, impacting retail companies. Delays in the supply of goods, increased shipping costs, and other logistical challenges can affect the ability of retailers to stock their shelves and meet consumer demand.\n",
      "\n",
      "5. **Consumer Sentiment**: Events like the assassination attempt can negatively impact consumer sentiment, leading to a decrease in discretionary spending. Consumer confidence is a crucial driver for the retail and leisure sectors, and any decline can directly impact sales and profitability.\n",
      "\n",
      "Overall, while the immediate market reaction might be subdued, the long-term effects of the assassination attempt on Trump could lead to increased volatility and impact various sectors within the consumer discretionary space differently.\n",
      "\n",
      "Citations:\n",
      "\n",
      "[1: https://www.cnn.com/2024/07/14/markets/premarket-stock-trading-trump-assassination/index.html]\n",
      "[2: https://www.bloomberg.com/news/articles/2024-07-15/political-violence-fears-rise-after-trump-assassination-attempt]\n",
      "[3: https://fortune.com/2024/07/14/donald-trump-assassination-attempt-investors-wall-street-financial-markets-outlook-inflation-bonds-stocks-energy-fed/]\n",
      "[4: https://www.reuters.com/world/us/attack-trump-could-spark-further-us-political-violence-2024-07-14/]\n",
      "[5: https://corpgov.law.harvard.edu/2023/09/15/financial-implications-of-rising-political-risk-in-the-us/]\n"
     ]
    }
   ],
   "source": [
    "for step in all_steps:\n",
    "    for k, v in step.items():\n",
    "        print(k, v['messages'][0].content)"
   ]
  },
  {
   "cell_type": "code",
   "execution_count": null,
   "metadata": {},
   "outputs": [
    {
     "data": {
      "text/plain": [
       "{'https://www.cnn.com/2024/07/14/markets/premarket-stock-trading-trump-assassination/index.html': 'US stock futures barely budged after an assassination attempt on former President Donald Trump on Saturday, signaling calm in the markets as Trump survived the incident. Dow futures rose 65 points ...',\n",
       " 'https://www.bloomberg.com/news/articles/2024-07-15/political-violence-fears-rise-after-trump-assassination-attempt': 'The attempted assassination of Donald Trump caps an escalating trend of political violence that has plagued the US for more than a decade, sparking calls for cooler rhetoric and heightened security.',\n",
       " 'https://fortune.com/2024/07/14/donald-trump-assassination-attempt-investors-wall-street-financial-markets-outlook-inflation-bonds-stocks-energy-fed/': \"Pre-market trading in the U.S. will begin Sunday evening, marking Wall Street's initial attempt to price in how the assassination attempt on Donald Trump will affect markets.\",\n",
       " 'https://www.reuters.com/world/us/attack-trump-could-spark-further-us-political-violence-2024-07-14/': 'WASHINGTON, July 14 (Reuters) - In a country already on edge, the assassination attempt on former President Donald Trump has enraged his supporters, paused the Democratic campaign and raised fears ...',\n",
       " 'https://corpgov.law.harvard.edu/2023/09/15/financial-implications-of-rising-political-risk-in-the-us/': \"Calls to overturn elections and limit voting in the US are having a powerful, long-term, but under-the-radar impact on the financial world. First hard evidence surfaced on August 1 2023, when Fitch Ratings downgraded the US's credit level, citing deteriorating governance standards. Now, according to a first nonpartisan probe of investor opinion in the wake […]\",\n",
       " 'https://www.reuters.com/markets/us/futures-rise-higher-odds-trump-victory-after-shooting-2024-07-15/': 'U.S. stock index futures rose on Monday on higher odds of presidential candidate Donald Trump winning a second term after surviving an assassination attempt, while interest rate cut hopes ...',\n",
       " 'https://kpmg.com/au/en/home/insights/2024/04/geopolitical-disruption-impact-australian-retail-market.html': 'Geopolitical disruption - the new state of play for Australian retail gives business leaders access to detailed insights into the evolving state of world affairs and the geopolitical impact on supply chains, trade and economic policies, competition, consumers and markets. The report uses four key geopolitical megatrends to explain global ...',\n",
       " 'https://www.forbes.com/sites/dennismitzner/2024/02/19/red-sea-tensions-impact-on-global-trade-retail-and-manufacturing/': 'In recent months, the Red Sea, a critical conduit for global commerce, has encountered significant disruptions due to escalating geopolitical tensions.',\n",
       " 'https://www.mckinsey.com/industries/consumer-packaged-goods/our-insights/the-state-of-the-us-consumer': 'In the second quarter of 2024, US consumer optimism fell, mirroring levels seen at the end of 2023. Economic pessimism grew slightly, fueled by concerns over inflation, the depletion of personal savings, and perceived weakness in the labor market. These concerns left consumers somewhat conflicted: on one hand, they continued to splurge on food ...'}"
      ]
     },
     "execution_count": 29,
     "metadata": {},
     "output_type": "execute_result"
    }
   ],
   "source": [
    "all_references = dict()\n",
    "for step in all_steps:\n",
    "    if 'answer_question' in step:\n",
    "        for k, v in step['answer_question']['references'].items():\n",
    "            all_references[k] = v\n",
    "\n",
    "all_references"
   ]
  },
  {
   "cell_type": "code",
   "execution_count": null,
   "metadata": {},
   "outputs": [],
   "source": [
    "final_state = next(iter(step.values()))"
   ]
  },
  {
   "cell_type": "code",
   "execution_count": null,
   "metadata": {},
   "outputs": [
    {
     "data": {
      "text/plain": [
       "\"The recent assassination attempt on former President Donald Trump has the potential to impact the consumer discretionary sector, including retail and leisure companies, in several significant ways. This sector is particularly sensitive to political instability and shifts in consumer sentiment. Here’s how different aspects of the sector might be impacted by this event:\\n\\n1. **Consumer Spending**: Political instability often leads to reduced consumer spending as people become more cautious with their finances. Companies like Walmart, Target, and Amazon, which rely heavily on consumer spending, could see a decline in sales and revenue. A decrease in consumer confidence can lead to lower expenditure on non-essential goods and services.\\n\\n2. **Travel and Leisure**: The leisure industry, including travel and hospitality companies like Marriott International and Carnival Corporation, could be adversely affected. Political events often reduce the consumer's willingness to spend on travel and leisure activities. Historical data shows that significant political events can lead to a downturn in travel bookings and hotel stays as consumers become more risk-averse.\\n\\n3. **Stock Volatility**: The stock prices of consumer discretionary companies tend to be more volatile during times of political uncertainty. Investors may become wary of the potential for decreased revenue and increased operational costs, leading to stock price fluctuations.\\n\\n4. **Supply Chain Disruptions**: Political instability can lead to supply chain disruptions, impacting retail companies. Delays in the supply of goods, increased shipping costs, and other logistical challenges can affect the ability of retailers to stock their shelves and meet consumer demand.\\n\\n5. **Consumer Sentiment**: Events like the assassination attempt can negatively impact consumer sentiment, leading to a decrease in discretionary spending. Consumer confidence is a crucial driver for the retail and leisure sectors, and any decline can directly impact sales and profitability.\\n\\nOverall, while the immediate market reaction might be subdued, the long-term effects of the assassination attempt on Trump could lead to increased volatility and impact various sectors within the consumer discretionary space differently.\\n\\nCitations:\\n\\n[1: https://www.cnn.com/2024/07/14/markets/premarket-stock-trading-trump-assassination/index.html]\\n[2: https://www.bloomberg.com/news/articles/2024-07-15/political-violence-fears-rise-after-trump-assassination-attempt]\\n[3: https://fortune.com/2024/07/14/donald-trump-assassination-attempt-investors-wall-street-financial-markets-outlook-inflation-bonds-stocks-energy-fed/]\\n[4: https://www.reuters.com/world/us/attack-trump-could-spark-further-us-political-violence-2024-07-14/]\\n[5: https://corpgov.law.harvard.edu/2023/09/15/financial-implications-of-rising-political-risk-in-the-us/]\""
      ]
     },
     "execution_count": 31,
     "metadata": {},
     "output_type": "execute_result"
    }
   ],
   "source": [
    "final_state['messages'][0].content"
   ]
  },
  {
   "cell_type": "markdown",
   "metadata": {},
   "source": [
    "## Refine Outline\n",
    "At this point in STORM, we've conducted a large amount of research from different perspectives. \n",
    "It's time to refine the original outline based on these investigations. Below, create a chain using the LLM with a long context window to update the original outline."
   ]
  },
  {
   "cell_type": "code",
   "execution_count": null,
   "metadata": {},
   "outputs": [],
   "source": [
    "refine_outline_prompt = ChatPromptTemplate.from_messages(\n",
    "    [\n",
    "        (\n",
    "            'system',\n",
    "            '''You are a critical equity research analyst. You have gathered information from experts and search engines. Now, you are refining the outline of the financial report you were writing. \n",
    "            You need to make sure that the outline is comprehensive and specific. \n",
    "            This is the topic you are writing about: {topic}\n",
    "\n",
    "            Old outline:\n",
    "            {old_outline}\n",
    "            '''\n",
    "        ),\n",
    "        (\n",
    "            'user',\n",
    "            'Refine the outline based on your conversations with subject-matter experts:\\n\\nConversations:\\n\\n{conversations}\\n\\nWrite the refined financial report outline.'\n",
    "        )\n",
    "    ]\n",
    ")\n",
    "\n",
    "refine_outline_chain = refine_outline_prompt | GOOD_LLM.with_structured_output(Outline)"
   ]
  },
  {
   "cell_type": "code",
   "execution_count": null,
   "metadata": {},
   "outputs": [],
   "source": [
    "refined_outline = refine_outline_chain.invoke(\n",
    "    {\n",
    "        'topic': example_topic,\n",
    "        'old_outline': initial_outline.as_str,\n",
    "        'conversations': '\\n\\n'.join(\n",
    "            f'## {m.name}\\n\\n{m.content}' for m in final_state['messages']\n",
    "        )\n",
    "    }\n",
    ")"
   ]
  },
  {
   "cell_type": "code",
   "execution_count": null,
   "metadata": {},
   "outputs": [
    {
     "name": "stdout",
     "output_type": "stream",
     "text": [
      "# Impact of Recent Assassination Attempt on Trump on US Companies\n",
      "\n",
      "## Executive Summary\n",
      "\n",
      "A brief overview of the assassination attempt on Donald Trump and its potential implications for US companies. Highlight key findings and affected sectors.\n",
      "\n",
      "## Political Climate and Market Reaction\n",
      "\n",
      "Analyze the immediate political climate following the assassination attempt. Examine stock market reactions, including major indices and sector-specific movements.\n",
      "\n",
      "### Immediate Market Response\n",
      "\n",
      "Detail the initial response of the stock market, including changes in major indices like the S&P 500, Dow Jones, and Nasdaq.\n",
      "\n",
      "### Sector-Specific Reactions\n",
      "\n",
      "Identify and analyze which sectors experienced the most significant fluctuations and why.\n",
      "\n",
      "## Companies Most Affected\n",
      "\n",
      "Identify and provide an in-depth analysis of the companies that are most affected by the assassination attempt.\n",
      "\n",
      "### Defense and Security Companies\n",
      "\n",
      "Evaluate the impact on companies within the defense and security sector, such as Lockheed Martin, Raytheon, and Northrop Grumman.\n",
      "\n",
      "### Media and Technology Companies\n",
      "\n",
      "Assess the impact on media companies like Fox News and social media platforms like Twitter and Facebook.\n",
      "\n",
      "### Financial Institutions\n",
      "\n",
      "Analyze the effects on major financial institutions, including banks and investment firms.\n",
      "\n",
      "### Consumer Discretionary Sector\n",
      "\n",
      "Examine the impact on the consumer discretionary sector, including retail and leisure companies.\n",
      "\n",
      "### Consumer Spending\n",
      "\n",
      "Analyze how companies like Walmart, Target, and Amazon may be impacted by potential reductions in consumer spending due to political instability.\n",
      "\n",
      "### Travel and Leisure\n",
      "\n",
      "Discuss how travel and hospitality companies like Marriott International and Carnival Corporation could be adversely affected.\n",
      "\n",
      "### Stock Volatility\n",
      "\n",
      "Evaluate the potential for increased stock volatility in consumer discretionary companies.\n",
      "\n",
      "### Supply Chain Disruptions\n",
      "\n",
      "Analyze potential supply chain disruptions and their impact on retail companies.\n",
      "\n",
      "### Consumer Sentiment\n",
      "\n",
      "Explore how changes in consumer sentiment might affect spending on discretionary goods and services.\n",
      "\n",
      "## Long-term Implications\n",
      "\n",
      "Discuss the potential long-term implications of the assassination attempt on the business environment and investor sentiment in the US.\n",
      "\n",
      "### Regulatory Changes\n",
      "\n",
      "Explore potential regulatory changes that could arise as a result of heightened security concerns.\n",
      "\n",
      "### Investor Confidence\n",
      "\n",
      "Analyze how the event could impact investor confidence and capital flows into the US market.\n",
      "\n",
      "## Conclusion\n",
      "\n",
      "Summarize the key points discussed in the report and provide final insights into the overall impact on US companies.\n"
     ]
    }
   ],
   "source": [
    "print(refined_outline.as_str)"
   ]
  },
  {
   "cell_type": "markdown",
   "metadata": {},
   "source": [
    "### Create Retriever\n",
    "The research process uncovers a large number of reference documents that we may want to query during the final article-writing process."
   ]
  },
  {
   "cell_type": "code",
   "execution_count": null,
   "metadata": {},
   "outputs": [],
   "source": [
    "embeddings = OpenAIEmbeddings(model='text-embedding-3-small')\n",
    "reference_docs = [\n",
    "    Document(page_content=v, metadata={'source': 'k'})\n",
    "    for k, v in all_references.items()\n",
    "]\n",
    "\n",
    "# doesn't need a vectorstore for this size of data but this is just a POC\n",
    "vectorstore = SKLearnVectorStore.from_documents(\n",
    "    reference_docs,\n",
    "    embedding=embeddings,\n",
    "    n_neighbors=4\n",
    ")\n",
    "retriever = vectorstore.as_retriever(k=10)"
   ]
  },
  {
   "cell_type": "code",
   "execution_count": null,
   "metadata": {},
   "outputs": [
    {
     "data": {
      "text/plain": [
       "[Document(metadata={'source': 'k'}, page_content='US stock futures barely budged after an assassination attempt on former President Donald Trump on Saturday, signaling calm in the markets as Trump survived the incident. Dow futures rose 65 points ...'),\n",
       " Document(metadata={'source': 'k'}, page_content='The attempted assassination of Donald Trump caps an escalating trend of political violence that has plagued the US for more than a decade, sparking calls for cooler rhetoric and heightened security.'),\n",
       " Document(metadata={'source': 'k'}, page_content=\"Pre-market trading in the U.S. will begin Sunday evening, marking Wall Street's initial attempt to price in how the assassination attempt on Donald Trump will affect markets.\"),\n",
       " Document(metadata={'source': 'k'}, page_content='WASHINGTON, July 14 (Reuters) - In a country already on edge, the assassination attempt on former President Donald Trump has enraged his supporters, paused the Democratic campaign and raised fears ...'),\n",
       " Document(metadata={'source': 'k'}, page_content=\"Calls to overturn elections and limit voting in the US are having a powerful, long-term, but under-the-radar impact on the financial world. First hard evidence surfaced on August 1 2023, when Fitch Ratings downgraded the US's credit level, citing deteriorating governance standards. Now, according to a first nonpartisan probe of investor opinion in the wake […]\"),\n",
       " Document(metadata={'source': 'k'}, page_content='U.S. stock index futures rose on Monday on higher odds of presidential candidate Donald Trump winning a second term after surviving an assassination attempt, while interest rate cut hopes ...'),\n",
       " Document(metadata={'source': 'k'}, page_content='Geopolitical disruption - the new state of play for Australian retail gives business leaders access to detailed insights into the evolving state of world affairs and the geopolitical impact on supply chains, trade and economic policies, competition, consumers and markets. The report uses four key geopolitical megatrends to explain global ...'),\n",
       " Document(metadata={'source': 'k'}, page_content='In recent months, the Red Sea, a critical conduit for global commerce, has encountered significant disruptions due to escalating geopolitical tensions.'),\n",
       " Document(metadata={'source': 'k'}, page_content='In the second quarter of 2024, US consumer optimism fell, mirroring levels seen at the end of 2023. Economic pessimism grew slightly, fueled by concerns over inflation, the depletion of personal savings, and perceived weakness in the labor market. These concerns left consumers somewhat conflicted: on one hand, they continued to splurge on food ...')]"
      ]
     },
     "execution_count": 36,
     "metadata": {},
     "output_type": "execute_result"
    }
   ],
   "source": [
    "reference_docs"
   ]
  },
  {
   "cell_type": "code",
   "execution_count": null,
   "metadata": {},
   "outputs": [
    {
     "data": {
      "text/plain": [
       "[Document(metadata={'id': 'e956d82e-e25f-4511-8940-d925e811317d', 'source': 'k'}, page_content='US stock futures barely budged after an assassination attempt on former President Donald Trump on Saturday, signaling calm in the markets as Trump survived the incident. Dow futures rose 65 points ...'),\n",
       " Document(metadata={'id': '84524393-c628-4959-8caf-e7bf7c94015c', 'source': 'k'}, page_content='WASHINGTON, July 14 (Reuters) - In a country already on edge, the assassination attempt on former President Donald Trump has enraged his supporters, paused the Democratic campaign and raised fears ...'),\n",
       " Document(metadata={'id': '4f19b0f0-381b-49ac-bc68-9daf5e13ce03', 'source': 'k'}, page_content=\"Pre-market trading in the U.S. will begin Sunday evening, marking Wall Street's initial attempt to price in how the assassination attempt on Donald Trump will affect markets.\"),\n",
       " Document(metadata={'id': 'fc760b75-62a1-4eaf-9107-e67dfc7b0135', 'source': 'k'}, page_content='The attempted assassination of Donald Trump caps an escalating trend of political violence that has plagued the US for more than a decade, sparking calls for cooler rhetoric and heightened security.')]"
      ]
     },
     "execution_count": 37,
     "metadata": {},
     "output_type": "execute_result"
    }
   ],
   "source": [
    "retriever.invoke(example_topic)"
   ]
  },
  {
   "cell_type": "markdown",
   "metadata": {},
   "source": [
    "### Generate Sections"
   ]
  },
  {
   "cell_type": "code",
   "execution_count": null,
   "metadata": {},
   "outputs": [],
   "source": [
    "class Subsection(BaseModel):\n",
    "    subsection_title: str = Field(..., title='Title of the subsection')\n",
    "    content: str = Field(..., title='Full content of the subsection. Include [#] citations to the cited sources where relevant')\n",
    "\n",
    "    @property\n",
    "    def as_str(self) -> str:\n",
    "        return f'### {self.subsection_title}\\n\\n{self.content}'.strip()\n",
    "    \n",
    "\n",
    "class ContentsSection(BaseModel):\n",
    "    section_title: str = Field(..., title='Title of the section')\n",
    "    content: str = Field(..., title='Full content of the section')\n",
    "    subsections: Optional[List[Subsection]] = Field(\n",
    "        default=None,\n",
    "        title='Titles and descriptions of each subsection of the financial report'\n",
    "    )\n",
    "    citations: List[str] = Field(default_factory=list)\n",
    "\n",
    "    @property\n",
    "    def as_str(self) -> str:\n",
    "        subsections = '\\n\\n'.join(subsection.as_str for subsection in self.subsections or [])\n",
    "        citations = '\\n'.join([f' [{i}] {cit}' for i, cit in enumerate(self.citations)])\n",
    "        return (\n",
    "            f'## {self.section_title}\\n\\n{self.content}\\n\\n{subsections}'.strip() +\n",
    "            f'\\n\\n{citations}'.strip()\n",
    "        )\n",
    "    \n",
    "section_writer_prompt = ChatPromptTemplate.from_messages(\n",
    "    [\n",
    "        (\n",
    "            'system',\n",
    "            'You are an expert equity research analyst. Complete your assigned section from the following outline: \\n\\n'\n",
    "            '{outline}\\n\\nCite your sources, using the following references:\\n\\n<Documents>\\n{docs}\\n</Documents>'\n",
    "        ),\n",
    "        (\n",
    "            'user',\n",
    "            'Write the full report section for the {section} section.'\n",
    "        )\n",
    "    ]\n",
    ")\n",
    "\n",
    "async def retrieve(inputs: dict):\n",
    "    docs = await retriever.ainvoke(inputs['topic'] + ': ' + inputs['section'])\n",
    "    formatted = '\\n'.join([f'<Document href=\"{doc.metadata[\"source\"]}\"/>\\n{doc.page_content}\\n</Document>' for doc in docs])\n",
    "    return {'docs': formatted, **inputs}\n",
    "\n",
    "section_writer = (\n",
    "    retrieve\n",
    "    | section_writer_prompt\n",
    "    | GOOD_LLM.with_structured_output(ContentsSection)\n",
    ")"
   ]
  },
  {
   "cell_type": "code",
   "execution_count": null,
   "metadata": {},
   "outputs": [
    {
     "name": "stdout",
     "output_type": "stream",
     "text": [
      "## Political Climate and Market Reaction\n",
      "\n",
      "The recent assassination attempt on former President Donald Trump has undeniably sent shockwaves through the political landscape of the United States. The event has further polarized an already divided nation and has led to heightened security concerns and a temporary halt in the Democratic campaign. This heightened political instability has had an immediate impact on the stock market, with investors seeking to understand the potential ramifications for various sectors and companies.\n",
      "\n",
      "### Immediate Market Response\n",
      "\n",
      "In the immediate aftermath of the assassination attempt, the stock market showed a relatively muted response. Pre-market trading in the U.S. began on Sunday evening, with Wall Street showing an initial attempt to price in the potential impacts of the event. US stock futures barely budged, with Dow futures rising by 65 points, signaling a sense of calm in the market as Trump survived the incident. Major indices like the S&P 500, Dow Jones, and Nasdaq showed minimal fluctuations, indicating that investors were cautiously optimistic about the stability of the market despite the political turbulence.\n",
      "\n",
      "### Sector-Specific Reactions\n",
      "\n",
      "While the overall market reaction was subdued, certain sectors experienced more significant fluctuations due to the assassination attempt. Defense and security companies like Lockheed Martin, Raytheon, and Northrop Grumman saw a positive uptick as investors anticipated increased government spending on security and defense measures. On the other hand, media companies such as Fox News and social media platforms like Twitter and Facebook experienced volatility due to their close association with political content and potential regulatory scrutiny. Financial institutions showed mixed reactions, with some banks and investment firms experiencing slight declines due to concerns about economic stability. The consumer discretionary sector, including retail and leisure companies, faced downward pressure as investors worried about potential reductions in consumer spending amid political instability.[0] <Documents><Document href=\\\n",
      " [1] ]} </Documents>\n"
     ]
    }
   ],
   "source": [
    "section = await section_writer.ainvoke(\n",
    "    {\n",
    "        'outline': refined_outline.as_str,\n",
    "        'section': refined_outline.sections[1].section_title,\n",
    "        'topic': example_topic\n",
    "    }\n",
    ")\n",
    "\n",
    "print(section.as_str)"
   ]
  },
  {
   "cell_type": "code",
   "execution_count": null,
   "metadata": {},
   "outputs": [],
   "source": [
    "from IPython.display import Markdown"
   ]
  },
  {
   "cell_type": "code",
   "execution_count": null,
   "metadata": {},
   "outputs": [
    {
     "data": {
      "text/markdown": [
       "## Political Climate and Market Reaction\n",
       "\n",
       "The recent assassination attempt on former President Donald Trump has undeniably sent shockwaves through the political landscape of the United States. The event has further polarized an already divided nation and has led to heightened security concerns and a temporary halt in the Democratic campaign. This heightened political instability has had an immediate impact on the stock market, with investors seeking to understand the potential ramifications for various sectors and companies.\n",
       "\n",
       "### Immediate Market Response\n",
       "\n",
       "In the immediate aftermath of the assassination attempt, the stock market showed a relatively muted response. Pre-market trading in the U.S. began on Sunday evening, with Wall Street showing an initial attempt to price in the potential impacts of the event. US stock futures barely budged, with Dow futures rising by 65 points, signaling a sense of calm in the market as Trump survived the incident. Major indices like the S&P 500, Dow Jones, and Nasdaq showed minimal fluctuations, indicating that investors were cautiously optimistic about the stability of the market despite the political turbulence.\n",
       "\n",
       "### Sector-Specific Reactions\n",
       "\n",
       "While the overall market reaction was subdued, certain sectors experienced more significant fluctuations due to the assassination attempt. Defense and security companies like Lockheed Martin, Raytheon, and Northrop Grumman saw a positive uptick as investors anticipated increased government spending on security and defense measures. On the other hand, media companies such as Fox News and social media platforms like Twitter and Facebook experienced volatility due to their close association with political content and potential regulatory scrutiny. Financial institutions showed mixed reactions, with some banks and investment firms experiencing slight declines due to concerns about economic stability. The consumer discretionary sector, including retail and leisure companies, faced downward pressure as investors worried about potential reductions in consumer spending amid political instability.[0] <Documents><Document href=\\\n",
       " [1] ]} </Documents>"
      ],
      "text/plain": [
       "<IPython.core.display.Markdown object>"
      ]
     },
     "execution_count": 41,
     "metadata": {},
     "output_type": "execute_result"
    }
   ],
   "source": [
    "Markdown(section.as_str)"
   ]
  },
  {
   "cell_type": "markdown",
   "metadata": {},
   "source": [
    "### Generate final article"
   ]
  },
  {
   "cell_type": "code",
   "execution_count": null,
   "metadata": {},
   "outputs": [],
   "source": [
    "writer_prompt = ChatPromptTemplate.from_messages(\n",
    "    [\n",
    "        (\n",
    "            'system',\n",
    "            'You are an expert equity research analyst. Write the complete financial report on {topic} using the following section drafts: \\n\\n'\n",
    "            '{draft}\\n\\nStrictly follow wikipedia format guidelines.'\n",
    "        ),\n",
    "        (\n",
    "            'user',\n",
    "            'Write the complete financial report using markdown format. Organize citations using footnotes like \"[1]\", '\n",
    "            'avoiding duplicates in the footer. Include URLs in the footer.'\n",
    "        )\n",
    "    ]\n",
    ")\n",
    "\n",
    "writer = writer_prompt | GOOD_LLM | StrOutputParser()"
   ]
  },
  {
   "cell_type": "code",
   "execution_count": null,
   "metadata": {},
   "outputs": [
    {
     "data": {
      "text/markdown": [
       "# Financial Report: Impact of the Recent Assassination Attempt on Trump on US Companies\n",
       "\n",
       "## Political Climate and Market Reaction\n",
       "\n",
       "The recent assassination attempt on former President Donald Trump has undeniably sent shockwaves through the political landscape of the United States. The event has further polarized an already divided nation and has led to heightened security concerns and a temporary halt in the Democratic campaign. This heightened political instability has had an immediate impact on the stock market, with investors seeking to understand the potential ramifications for various sectors and companies.\n",
       "\n",
       "### Immediate Market Response\n",
       "\n",
       "In the immediate aftermath of the assassination attempt, the stock market showed a relatively muted response. Pre-market trading in the U.S. began on Sunday evening, with Wall Street showing an initial attempt to price in the potential impacts of the event. US stock futures barely budged, with Dow futures rising by 65 points, signaling a sense of calm in the market as Trump survived the incident. Major indices like the S&P 500, Dow Jones, and Nasdaq showed minimal fluctuations, indicating that investors were cautiously optimistic about the stability of the market despite the political turbulence.\n",
       "\n",
       "### Sector-Specific Reactions\n",
       "\n",
       "While the overall market reaction was subdued, certain sectors experienced more significant fluctuations due to the assassination attempt. Defense and security companies like Lockheed Martin, Raytheon, and Northrop Grumman saw a positive uptick as investors anticipated increased government spending on security and defense measures. On the other hand, media companies such as Fox News and social media platforms like Twitter and Facebook experienced volatility due to their close association with political content and potential regulatory scrutiny. Financial institutions showed mixed reactions, with some banks and investment firms experiencing slight declines due to concerns about economic stability. The consumer discretionary sector, including retail and leisure companies, faced downward pressure as investors worried about potential reductions in consumer spending amid political instability.\n",
       "\n",
       "## Footnotes\n",
       "\n",
       "[1]: <https://www.example.com/article>"
      ],
      "text/plain": [
       "<IPython.core.display.Markdown object>"
      ]
     },
     "execution_count": 43,
     "metadata": {},
     "output_type": "execute_result"
    }
   ],
   "source": [
    "# for tok in writer.stream({'topic': example_topic, 'draft': section.as_str}):\n",
    "#     print(tok, end='')\n",
    "example_response = writer.invoke({'topic': example_topic, 'draft': section.as_str})\n",
    "Markdown(example_response)"
   ]
  },
  {
   "cell_type": "markdown",
   "metadata": {},
   "source": [
    "## Final Flow\n",
    "6 main stages in sequence:\n",
    "1. Generate the initial outline + perspectives\n",
    "2. Batch converse with each perspective to expand the content for the article\n",
    "3. Refine the outline based on the conversations\n",
    "4. Index the reference docs from the conversations\n",
    "5. Write the individual sections of the article\n",
    "6. Write the final financial report"
   ]
  },
  {
   "cell_type": "code",
   "execution_count": null,
   "metadata": {},
   "outputs": [],
   "source": [
    "class ResearchState(TypedDict):\n",
    "    topic: str\n",
    "    outline: Outline\n",
    "    editors: List[Editor]\n",
    "    interview_results: List[InterviewState]\n",
    "\n",
    "    # the final sections output\n",
    "    sections: List[ContentsSection]\n",
    "    article: str"
   ]
  },
  {
   "cell_type": "code",
   "execution_count": null,
   "metadata": {},
   "outputs": [],
   "source": [
    "import asyncio\n",
    "\n",
    "async def initialize_research(state: ResearchState):\n",
    "    topic = state['topic']\n",
    "    coros = (\n",
    "        generate_outline_direct.ainvoke({'topic': topic}), \n",
    "        survey_subjects.ainvoke(topic)\n",
    "    )\n",
    "    results = await asyncio.gather(*coros)\n",
    "    return {\n",
    "        **state,\n",
    "        'outline': results[0],\n",
    "        'editors': results[1].editors\n",
    "    }\n",
    "\n",
    "async def conduct_interviews(state: ResearchState):\n",
    "    topic = state['topic']\n",
    "    initial_states = [\n",
    "        {\n",
    "            'editor': editor,\n",
    "            'messages': [\n",
    "                AIMessage(\n",
    "                    content=f'So you said you were writing an article on {topic}?',\n",
    "                    name='subject_matter_expert'\n",
    "                )\n",
    "            ]\n",
    "        }\n",
    "        for editor in state['editors']\n",
    "    ]\n",
    "\n",
    "    # we call into the sub-graph here to parallelize the interviews\n",
    "    interview_results = await interview_graph.abatch(initial_states)\n",
    "\n",
    "    return {\n",
    "        **state,\n",
    "        'interview_results': interview_results\n",
    "    }\n",
    "\n",
    "def format_conversation(interview_state):\n",
    "    messages = interview_state['messages']\n",
    "    convo = '\\n'.join(f'{m.name}: {m.content}' for m in messages)\n",
    "    return f'Conversation with {interview_state[\"editor\"].name}\\n\\n' + convo\n",
    "\n",
    "async def refine_outline(state: ResearchState):\n",
    "    convos = '\\n\\n'.join([format_conversation(interview_state) for interview_state in state['interview_results']])\n",
    "    updated_outline = await refine_outline_chain.ainvoke({\n",
    "        'topic': state['topic'],\n",
    "        'old_outline': state['outline'].as_str,\n",
    "        'conversations': convos\n",
    "    })\n",
    "    return {**state, 'outline': updated_outline}\n",
    "\n",
    "async def index_references(state: ResearchState):\n",
    "    all_docs = []\n",
    "    for interview_state in state['interview_results']:\n",
    "        reference_docs = [Document(page_content=v, metadata={'source': k}) for k, v in interview_state['references'].items()]\n",
    "        all_docs.extend(reference_docs)\n",
    "    await vectorstore.aadd_documents(all_docs)\n",
    "    return state\n",
    "\n",
    "async def write_sections(state: ResearchState):\n",
    "    outline = state['outline']\n",
    "    sections = await section_writer.abatch(\n",
    "        [\n",
    "            {\n",
    "                'outline': refine_outline.as_str,\n",
    "                'section': section.section_title,\n",
    "                'topic': state['topic']\n",
    "            }\n",
    "            for section in outline.sections\n",
    "        ]\n",
    "    )\n",
    "\n",
    "    return {\n",
    "        **state,\n",
    "        'sections': sections\n",
    "    }\n",
    "\n",
    "async def write_article(state: ResearchState):\n",
    "    topic = state['topic']\n",
    "    sections = state['sections']\n",
    "    draft = '\\n\\n'.join([section.as_str for section in sections])\n",
    "    article = await writer.ainvoke({'topic': topic, 'draft': draft})\n",
    "    return {**state, 'article': article}"
   ]
  },
  {
   "cell_type": "code",
   "execution_count": null,
   "metadata": {},
   "outputs": [],
   "source": [
    "storm_builder = StateGraph(ResearchState)\n",
    "\n",
    "nodes = [\n",
    "    ('init_research', initialize_research),\n",
    "    ('conduct_interviews', conduct_interviews),\n",
    "    ('refine_outline', refine_outline),\n",
    "    ('index_references', index_references),\n",
    "    ('write_sections', write_sections),\n",
    "    ('write_article', write_article)\n",
    "]\n",
    "for i in range(len(nodes)):\n",
    "    name, node = nodes[i]\n",
    "    storm_builder.add_node(name, node)\n",
    "    if i > 0:\n",
    "        storm_builder.add_edge(nodes[i - 1][0], name)\n",
    "\n",
    "storm_builder.add_edge(START, nodes[0][0])\n",
    "storm_builder.add_edge(nodes[-1][0], END)\n",
    "storm = storm_builder.compile(checkpointer=MemorySaver())"
   ]
  },
  {
   "cell_type": "code",
   "execution_count": null,
   "metadata": {},
   "outputs": [
    {
     "data": {
      "image/jpeg": "[encoded data removed]",
      "text/plain": [
       "<IPython.core.display.Image object>"
      ]
     },
     "metadata": {},
     "output_type": "display_data"
    },
    {
     "ename": "",
     "evalue": "",
     "output_type": "error",
     "traceback": [
      "\u001b[1;31mThe Kernel crashed while executing code in the current cell or a previous cell. \n",
      "\u001b[1;31mPlease review the code in the cell(s) to identify a possible cause of the failure. \n",
      "\u001b[1;31mClick <a href='https://aka.ms/vscodeJupyterKernelCrash'>here</a> for more info. \n",
      "\u001b[1;31mView Jupyter <a href='command:jupyter.viewOutput'>log</a> for further details."
     ]
    }
   ],
   "source": [
    "display(Image(storm.get_graph().draw_mermaid_png(draw_method=MermaidDrawMethod.API)))"
   ]
  },
  {
   "cell_type": "code",
   "execution_count": null,
   "metadata": {},
   "outputs": [
    {
     "name": "stdout",
     "output_type": "stream",
     "text": [
      "init_research\n",
      "--  {'topic': 'Which industries and companies will be most impacted by the assassination attempt of Donald Trump', 'outline': Outline(page_title='Impact of Donald Trump Assassination Attempt on Industries and Companies', sections=[Section(section_title='Executive Summary', description=\"A high-level over\n"
     ]
    }
   ],
   "source": [
    "config = {'configurable': {'thread_id': 'my-thread'}}\n",
    "async for step in storm.astream({'topic': 'Which industries and companies will be most impacted by the assassination attempt of Donald Trump'}, config):\n",
    "    name = next(iter(step))\n",
    "    print(name)\n",
    "    print('-- ', str(step[name])[:300])"
   ]
  },
  {
   "cell_type": "code",
   "execution_count": null,
   "metadata": {},
   "outputs": [],
   "source": []
  },
  {
   "cell_type": "code",
   "execution_count": null,
   "metadata": {},
   "outputs": [],
   "source": []
  },
  {
   "cell_type": "code",
   "execution_count": null,
   "metadata": {},
   "outputs": [],
   "source": []
  }
 ],
 "metadata": {
  "kernelspec": {
   "display_name": "stable",
   "language": "python",
   "name": "python3"
  },
  "language_info": {
   "codemirror_mode": {
    "name": "ipython",
    "version": 3
   },
   "file_extension": ".py",
   "mimetype": "text/x-python",
   "name": "python",
   "nbconvert_exporter": "python",
   "pygments_lexer": "ipython3",
   "version": "3.12.4"
  }
 },
 "nbformat": 4,
 "nbformat_minor": 2
}
