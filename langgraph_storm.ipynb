{
 "cells": [
  {
   "cell_type": "markdown",
   "metadata": {},
   "source": [
    "# STORM\n",
    "### Synthesis of Topic Outlines through Retrieval and Multi-perspective question asking.\n",
    "\n",
    "Research assistant that extends the idea of 'outline-driven RAG' for richer article generation.\n",
    "\n",
    "It applies two main insights to produce more organized and comprehensive articles:\n",
    "1. Creating an outline (planning) by querying similar topics helps improve coverage.\n",
    "2. Multi-perspective, grounded (in search) conversation simulation helps increase the reference count and information density."
   ]
  },
  {
   "cell_type": "markdown",
   "metadata": {},
   "source": [
    "#### Overview\n",
    "1. Generate initial outline + survey related subjects\n",
    "2. Identify distiinct perspectives\n",
    "3. \"Interview subject matter experts\" (role-playing LLMs)\n",
    "4. Refine outline (using references)\n",
    "5. Write sections, then write article\n",
    "\n",
    "The expert interviews stage occurs between the role-playing article writer and a research expert. The \"expert\" is able to query external knowledge and respond to pointed questions, saving cited sources to a vectorstore so that the later refinement stages can synthesize the full article.\n",
    "\n",
    "Hyperparameters to restrict the potentially infinite research breadth:\n",
    "- N: number of perspectives to survey\n",
    "- M: Max number of conversation turns"
   ]
  },
  {
   "cell_type": "code",
   "execution_count": 1,
   "metadata": {},
   "outputs": [
    {
     "data": {
      "text/plain": [
       "True"
      ]
     },
     "execution_count": 1,
     "metadata": {},
     "output_type": "execute_result"
    }
   ],
   "source": [
    "from dotenv import load_dotenv\n",
    "load_dotenv()"
   ]
  },
  {
   "cell_type": "markdown",
   "metadata": {},
   "source": [
    "### Select LLMs\n",
    "We will have a faster LLM to do most of the work, but a slower, long-context model to distill the conversations and write the final report."
   ]
  },
  {
   "cell_type": "code",
   "execution_count": 2,
   "metadata": {},
   "outputs": [],
   "source": [
    "from langchain_openai import ChatOpenAI\n",
    "\n",
    "FAST_LLM = ChatOpenAI(model='gpt-3.5-turbo')\n",
    "GOOD_LLM = ChatOpenAI(model='gpt-4o')"
   ]
  },
  {
   "cell_type": "markdown",
   "metadata": {},
   "source": [
    "### Generate Initial Outline\n",
    "For many topics, your LLM may have an initial idea of the important and related topics. We can generate an initial outline to be referred after our research. Below, we will use our 'fast' llm to generate the outline."
   ]
  },
  {
   "cell_type": "code",
   "execution_count": 3,
   "metadata": {},
   "outputs": [],
   "source": [
    "import json\n",
    "import asyncio\n",
    "\n",
    "from langgraph.graph import END, StateGraph, START\n",
    "from langgraph.checkpoint.memory import MemorySaver\n",
    "\n",
    "from langchain_core.tools import tool\n",
    "from langchain_openai import OpenAIEmbeddings\n",
    "from langchain_core.documents import Document\n",
    "from langchain_core.pydantic_v1 import BaseModel, Field\n",
    "from langchain_core.output_parsers import StrOutputParser\n",
    "from langchain_community.retrievers import WikipediaRetriever\n",
    "from langchain_community.vectorstores import SKLearnVectorStore\n",
    "from langchain_core.prompts import ChatPromptTemplate, MessagesPlaceholder\n",
    "from langchain_core.messages import AnyMessage, AIMessage, HumanMessage, ToolMessage\n",
    "from langchain_community.utilities.duckduckgo_search import DuckDuckGoSearchAPIWrapper\n",
    "from langchain_core.runnables import RunnableLambda, RunnableConfig, chain as as_runnable\n",
    "\n",
    "from typing import List, Optional, Annotated, TypedDict"
   ]
  },
  {
   "cell_type": "code",
   "execution_count": 4,
   "metadata": {},
   "outputs": [],
   "source": [
    "direct_gen_outline_prompt = ChatPromptTemplate.from_messages(\n",
    "    [\n",
    "        (\n",
    "            'system',\n",
    "            'You are a an experienced equity research analyst. Write an outline for an analysis report about a user-provided topic. Be comprehensive and specific.'\n",
    "        ),\n",
    "        ('user', '{topic}')\n",
    "    ]\n",
    ")\n",
    "\n",
    "\n",
    "class Subsection(BaseModel):\n",
    "    subsection_title: str = Field(..., title='Title of the subsection')\n",
    "    description: str = Field(..., title='Content of the subsection')\n",
    "\n",
    "    @property\n",
    "    def as_str(self) -> str:\n",
    "        return f'### {self.subsection_title}\\n\\n{self.description}'.strip()\n",
    "    \n",
    "\n",
    "class Section(BaseModel):\n",
    "    section_title: str = Field(..., title='Title of the section')\n",
    "    description: str = Field(..., title='Content of the section')\n",
    "    subsections: Optional[List[Subsection]] = Field(default=None, title='Titles and descriptions for each subsection of the analysis report.')\n",
    "\n",
    "    @property\n",
    "    def as_str(self) -> str:\n",
    "        subsections = '\\n\\n'.join(f'### {subsection.subsection_title}\\n\\n{subsection.description}' for subsection in self.subsections or [])\n",
    "        return f'## {self.section_title}\\n\\n{self.description}\\n\\n{subsections}'.strip()\n",
    "    \n",
    "\n",
    "class Outline(BaseModel):\n",
    "    page_title: str = Field(..., title='Title of the Report')\n",
    "    sections: List[Section] = Field(\n",
    "        default_factory=list,\n",
    "        title='Titles and descriptions for each section of the Report page.'\n",
    "    )\n",
    "\n",
    "    @property\n",
    "    def as_str(self) -> str:\n",
    "        sections = '\\n\\n'.join(section.as_str for section in self.sections)\n",
    "        return f'# {self.page_title}\\n\\n{sections}'.strip()\n",
    "    \n",
    "generate_outline_direct = direct_gen_outline_prompt | GOOD_LLM.with_structured_output(Outline)"
   ]
  },
  {
   "cell_type": "code",
   "execution_count": 5,
   "metadata": {},
   "outputs": [],
   "source": [
    "# example_topic = 'I am expectating growth of mobile phones de-accelerating , provide which of the us based semiconductor based companies will be most affected by this hypothesis (have the most exposure to )'\n",
    "example_topic = 'Which are the companies in the US Technology sector which met revenues and had higher DSO. To uncover stuffing the channel by extending terms or big push at the end of the quarter'"
   ]
  },
  {
   "cell_type": "code",
   "execution_count": 6,
   "metadata": {},
   "outputs": [],
   "source": [
    "initial_outline = generate_outline_direct.invoke({'topic': example_topic})"
   ]
  },
  {
   "cell_type": "code",
   "execution_count": 7,
   "metadata": {},
   "outputs": [
    {
     "name": "stdout",
     "output_type": "stream",
     "text": [
      "# US Technology Sector: Analysis of Companies Meeting Revenues with Higher DSO\n",
      "\n",
      "## Executive Summary\n",
      "\n",
      "Provide an overview of the purpose and key findings of the report. Highlight the significance of analyzing DSO and revenue metrics to uncover potential channel stuffing practices.\n",
      "\n",
      "## Introduction\n",
      "\n",
      "Introduce the topic of the report, explaining what DSO (Days Sales Outstanding) is and why it is an important metric. Discuss the concept of channel stuffing and why it is a concern for investors and analysts.\n",
      "\n",
      "## Methodology\n",
      "\n",
      "Detail the criteria and methods used to select the companies for analysis. Explain the data sources, the time period considered, and the specific metrics analyzed.\n",
      "\n",
      "### Selection Criteria\n",
      "\n",
      "Describe the parameters used to identify the companies in the US Technology sector that met revenue targets and had higher DSO.\n",
      "\n",
      "### Data Sources\n",
      "\n",
      "List the primary and secondary data sources used for the analysis, such as financial statements, industry reports, and market data platforms.\n",
      "\n",
      "### Analytical Framework\n",
      "\n",
      "Explain the analytical methods and tools used to compare DSO and revenue metrics, and to identify potential channel stuffing practices.\n",
      "\n",
      "## Analysis of Selected Companies\n",
      "\n",
      "Provide a detailed analysis of the companies that met the selection criteria. Compare their revenue and DSO metrics over the selected time period.\n",
      "\n",
      "### Company Profiles\n",
      "\n",
      "Briefly describe each company, including their business model, market position, and recent financial performance.\n",
      "\n",
      "### Revenue and DSO Analysis\n",
      "\n",
      "Present the data on revenue and DSO for each company. Include charts and tables to illustrate trends and comparisons.\n",
      "\n",
      "### Potential Channel Stuffing Indicators\n",
      "\n",
      "Discuss any red flags or indicators of potential channel stuffing practices based on the analysis of revenue and DSO trends.\n",
      "\n",
      "## Case Studies\n",
      "\n",
      "Provide in-depth case studies of a few companies that show the most significant signs of potential channel stuffing.\n",
      "\n",
      "### Case Study 1\n",
      "\n",
      "Detailed analysis of the first selected company, including financial performance, DSO trends, and any identified indicators of channel stuffing.\n",
      "\n",
      "### Case Study 2\n",
      "\n",
      "Detailed analysis of the second selected company, including financial performance, DSO trends, and any identified indicators of channel stuffing.\n",
      "\n",
      "## Industry Implications\n",
      "\n",
      "Discuss the broader implications of the findings for the US Technology sector. Consider the impact on investor confidence, regulatory scrutiny, and market practices.\n",
      "\n",
      "## Conclusion and Recommendations\n",
      "\n",
      "Summarize the key findings of the report. Provide recommendations for investors, analysts, and companies to address and mitigate the risks associated with channel stuffing. Highlight any areas for further research or monitoring.\n"
     ]
    }
   ],
   "source": [
    "print(initial_outline.as_str)"
   ]
  },
  {
   "cell_type": "markdown",
   "metadata": {},
   "source": [
    "### Expand topics\n",
    "While language models do store some Wikipedia-like knowledge in their parameters, you will get better results by incorporating relevant and recent information using a search engine.\n",
    "\n",
    "We will start our search by generating a list of related topics, sourced from Wikipedia."
   ]
  },
  {
   "cell_type": "code",
   "execution_count": 8,
   "metadata": {},
   "outputs": [],
   "source": [
    "gen_related_topics_prompt = ChatPromptTemplate.from_template(\n",
    "    '''I'm writing a financial report for a topic mentioned below. Please identify and recommend some Wikipedia pages on closely related subjects.\n",
    "    I'm looking for examples that provide insights into interesting aspects commonly associated with this topic, or examples that help me understand the typical content and structure included in Wikipedia pages for similar topics.\n",
    "    Please list as many subjects and urls as you can.\n",
    "\n",
    "    Topic of interest: {topic}''')\n",
    "\n",
    "class RelatedSubjects(BaseModel):\n",
    "    topics: List[str] = Field(description='Comprehensive list of related subjects as background research')\n",
    "\n",
    "expand_chain = gen_related_topics_prompt | FAST_LLM.with_structured_output(RelatedSubjects)"
   ]
  },
  {
   "cell_type": "code",
   "execution_count": 9,
   "metadata": {},
   "outputs": [
    {
     "data": {
      "text/plain": [
       "RelatedSubjects(topics=['US Technology Sector', 'Revenue Recognition', 'Days Sales Outstanding', 'Stuffing the Channel', 'Quarterly Financial Reporting'])"
      ]
     },
     "execution_count": 9,
     "metadata": {},
     "output_type": "execute_result"
    }
   ],
   "source": [
    "related_subjects = await expand_chain.ainvoke({'topic': example_topic})\n",
    "related_subjects"
   ]
  },
  {
   "cell_type": "markdown",
   "metadata": {},
   "source": [
    "### Generate Perspectives\n",
    "\n",
    "From these related subjects, we can select representative Wikipedia editors as 'subject matter experts' with distinct backgrounds and affiliations. These will help distribute the research process to encourage a more well-rounded final report."
   ]
  },
  {
   "cell_type": "code",
   "execution_count": 10,
   "metadata": {},
   "outputs": [],
   "source": [
    "class Editor(BaseModel):\n",
    "    affiliation: str = Field(description='Primary affiliation of the editor.')\n",
    "    name: str = Field(description='Name of the editor', pattern=r'^[a-zA-Z0-9_-]{1,64}$')\n",
    "    role: str = Field(description='Role of the editor in the context of the topic.')\n",
    "    description: str = Field(description='Description of the editor\\'s focus, concerns and motives')\n",
    "\n",
    "    @property\n",
    "    def persona(self) -> str:\n",
    "        return f'Name: {self.name}\\nRole: {self.role}\\nAffiliation: {self.affiliation}\\nDescription: {self.description}\\n'\n",
    "    \n",
    "\n",
    "class Perspectives(BaseModel):\n",
    "    editors: List[Editor] = Field(description='Comprehensive list of editors with their roles and affiliations.')\n",
    "\n",
    "\n",
    "gen_perspectives_prompt = ChatPromptTemplate.from_messages(\n",
    "    [\n",
    "        (\n",
    "            'system',\n",
    "            '''You need to select a diverse (and distinct) group of equity research analysts, equity researchers and editors who will work together to create a comprehensive article on the topic. Each of them represents a different perspective, role, or affiliation related to this topic. \n",
    "            You can use other Wikipedia pages of related topics for inspiration. For each editor, add a description of what they will focus on. \n",
    "            \n",
    "            Wiki pages outlines of related topics for inspiration: \n",
    "            {examples}''',\n",
    "        ),\n",
    "        (\n",
    "            'user'\n",
    "            'Topic of interest: {topic}'\n",
    "        )\n",
    "    ]\n",
    ")\n",
    "\n",
    "gen_perspectives_chain = gen_perspectives_prompt | FAST_LLM.with_structured_output(Perspectives)"
   ]
  },
  {
   "cell_type": "code",
   "execution_count": 11,
   "metadata": {},
   "outputs": [],
   "source": [
    "wikipedia_retriever = WikipediaRetriever(load_all_available_meta=True, top_k_results=1)\n",
    "\n",
    "def format_doc(doc, max_length=1000):\n",
    "    related = '- '.join(doc.metadata['categories'])\n",
    "    return f\"### {doc.metadata['title']}\\n\\nSummary: {doc.page_content}\\n\\nRelated\\n{related}\"[:max_length]\n",
    "\n",
    "def format_docs(docs):\n",
    "    return '\\n\\n'.join(format_doc(doc) for doc in docs)\n",
    "\n",
    "@as_runnable\n",
    "async def survey_subjects(topic: str):\n",
    "    related_subjects = await expand_chain.ainvoke({'topic': topic})\n",
    "    retrieved_docs = await wikipedia_retriever.abatch(related_subjects.topics, return_exceptions=True)\n",
    "    all_docs = []\n",
    "    for docs in retrieved_docs:\n",
    "        if isinstance(docs, BaseException):\n",
    "            continue\n",
    "        all_docs.extend(docs)\n",
    "    formatted = format_docs(all_docs)\n",
    "    return await gen_perspectives_chain.ainvoke({'examples': formatted, 'topic': topic})"
   ]
  },
  {
   "cell_type": "code",
   "execution_count": 12,
   "metadata": {},
   "outputs": [],
   "source": [
    "perspectives = await survey_subjects.ainvoke(example_topic)"
   ]
  },
  {
   "cell_type": "code",
   "execution_count": 13,
   "metadata": {},
   "outputs": [
    {
     "data": {
      "text/plain": [
       "{'editors': [{'affiliation': 'Equity Research Analyst',\n",
       "   'name': 'AliceER',\n",
       "   'role': 'Equity Research Analyst',\n",
       "   'description': 'Alice will focus on analyzing the financial performance of the top technology companies in the US, specifically looking at their revenues and Days Sales Outstanding (DSO) to identify companies that may have engaged in channel stuffing by extending terms or making a big push at the end of the quarter.'},\n",
       "  {'affiliation': 'Equity Researcher',\n",
       "   'name': 'BobER',\n",
       "   'role': 'Equity Researcher',\n",
       "   'description': 'Bob will conduct in-depth research on the financial practices of technology companies in the US, with a specific focus on revenue recognition and DSO. He will explore the implications of channel stuffing and the impact on financial statements.'},\n",
       "  {'affiliation': 'Editor',\n",
       "   'name': 'EveED',\n",
       "   'role': 'Editor',\n",
       "   'description': 'Eve will oversee the collaboration between Alice and Bob, ensuring that the article on companies in the US technology sector engaging in channel stuffing through revenue manipulation is comprehensive, well-structured, and informative.'}]}"
      ]
     },
     "execution_count": 13,
     "metadata": {},
     "output_type": "execute_result"
    }
   ],
   "source": [
    "perspectives.dict()"
   ]
  },
  {
   "cell_type": "markdown",
   "metadata": {},
   "source": [
    "### Expert Dialog\n",
    "Each wikipedia writer is primed to role-play using the perspectives presented above. It will ask a series of questions of a second \"domain expert\" with access to a search engine. This generates content to generate a refined outline as well as an updated index of reference documents."
   ]
  },
  {
   "cell_type": "markdown",
   "metadata": {},
   "source": [
    "### Interview State\n",
    "The conversation is cyclic, so we will construct it within its own graph. The State will contain messages, the reference docs, and the editor (with its own \"persona\") to make it easy to parallelize these conversations."
   ]
  },
  {
   "cell_type": "code",
   "execution_count": 14,
   "metadata": {},
   "outputs": [],
   "source": [
    "def add_messages(left, right):\n",
    "    if not isinstance(left, list):\n",
    "        left = [left]\n",
    "    if not isinstance(right, list):\n",
    "        right = [right]\n",
    "    return left + right\n",
    "\n",
    "def update_references(references, new_references):\n",
    "    if not references:\n",
    "        references = {}\n",
    "    references.update(new_references)\n",
    "    return references\n",
    "\n",
    "def update_editor(editor, new_editor):\n",
    "    # can only set at the outset\n",
    "    if not editor:\n",
    "        return new_editor\n",
    "    return editor\n",
    "\n",
    "\n",
    "class InterviewState(TypedDict):\n",
    "    messages: Annotated[List[AnyMessage], add_messages]\n",
    "    references: Annotated[Optional[dict], update_references]\n",
    "    editor: Annotated[Optional[Editor], update_editor]"
   ]
  },
  {
   "cell_type": "markdown",
   "metadata": {},
   "source": [
    "### Dialog roles\n",
    "The graph will have two participants: the wikipedia editor (`generate_question`), who asks questions based on its assigned role, and a domain expert (`gen_answer_chain`), who uses a search engine to answer the questions as accurately as possible."
   ]
  },
  {
   "cell_type": "code",
   "execution_count": 15,
   "metadata": {},
   "outputs": [],
   "source": [
    "gen_qn_prompt = ChatPromptTemplate.from_messages(\n",
    "    [\n",
    "        (\n",
    "            'system',\n",
    "            '''You are an experienced equity research analyst with great critical thinking skills. \n",
    "            You want to edit a specific report. \n",
    "            Besides your exceptional writing skills, you have a specific focus when researching the topic. \n",
    "            Now you are chatting with an expert to get information. Ask good questions to get more useful information. \n",
    "            Make sure to get answers for specific industries, specific companies or ticker symbols and verticals within companies, as and when relevant. \n",
    "            \n",
    "            When you have no more questions to ask, say \"Thank you so much for your help!\" to end the conversation. \n",
    "            Please only ask one question at a time and don't ask what you have asked before. \n",
    "            Be comprehensive and curious, gaining as much unique insight from the expert as possible.\n",
    "            \n",
    "            Stay true to your specific perspective: \n",
    "            \n",
    "            {persona}''',\n",
    "        ),\n",
    "        MessagesPlaceholder(variable_name='messages', optional=True)\n",
    "    ]\n",
    ")\n",
    "\n",
    "def tag_with_name(ai_message: AIMessage, name: str):\n",
    "    ai_message.name = name\n",
    "    return ai_message\n",
    "\n",
    "def swap_roles(state: InterviewState, name: str):\n",
    "    converted = []\n",
    "    for message in state['messages']:\n",
    "        if isinstance(message, AIMessage) and message.name != name:\n",
    "            message = HumanMessage(**message.dict(exclude={'type'}))\n",
    "        converted.append(message)\n",
    "    return {'messages': converted}\n",
    "\n",
    "@as_runnable\n",
    "async def generate_question(state: InterviewState):\n",
    "    editor = state['editor']\n",
    "    gn_chain = (\n",
    "        RunnableLambda(swap_roles).bind(name=editor.name)\n",
    "        | gen_qn_prompt.partial(persona=editor.persona)\n",
    "        | FAST_LLM\n",
    "        | RunnableLambda(tag_with_name).bind(name=editor.name)\n",
    "    )\n",
    "    result = await gn_chain.ainvoke(state)\n",
    "    return {'messages': [result]}"
   ]
  },
  {
   "cell_type": "code",
   "execution_count": 16,
   "metadata": {},
   "outputs": [
    {
     "data": {
      "text/plain": [
       "\"Yes, that's correct. I am focusing on analyzing the financial performance of the top technology companies in the US to identify any potential channel stuffing activities. Channel stuffing is a tactic where companies artificially boost their sales by sending excessive inventory to distributors or offering extended payment terms to customers at the end of a reporting period. This can lead to inflated revenues and higher Days Sales Outstanding (DSO) as customers take longer to pay due to these extended terms. By looking at companies with high revenues and high DSO, I aim to uncover potential instances of channel stuffing. Do you have any insights on specific companies within the US technology sector that have shown this pattern recently?\""
      ]
     },
     "execution_count": 16,
     "metadata": {},
     "output_type": "execute_result"
    }
   ],
   "source": [
    "messages = [\n",
    "    HumanMessage(f'So you said you were writing an article on {example_topic}?')\n",
    "]\n",
    "\n",
    "question = await generate_question.ainvoke(\n",
    "    {\n",
    "        'editor': perspectives.editors[0],\n",
    "        'messages': messages\n",
    "    }\n",
    ")\n",
    "\n",
    "question['messages'][0].content"
   ]
  },
  {
   "cell_type": "markdown",
   "metadata": {},
   "source": [
    "### Answer Questions\n",
    "The `gen_answer_chain` first generates queries (query expansion) to answer the editor's question, then responds with citations."
   ]
  },
  {
   "cell_type": "code",
   "execution_count": 17,
   "metadata": {},
   "outputs": [],
   "source": [
    "class Queries(BaseModel):\n",
    "    queries: List[str] = Field(description='Comprehensive list of search engine queries to answer the user\\'s question')\n",
    "\n",
    "gen_queries_prompt = ChatPromptTemplate.from_messages(\n",
    "    [\n",
    "        (\n",
    "            'system',\n",
    "            'You are a helpful equity research assistant. Query the search engine to answer the user\\'s questions.'\n",
    "        ),\n",
    "        MessagesPlaceholder(variable_name='messages', optional=True)\n",
    "    ]\n",
    ")\n",
    "gen_queries_chain = gen_queries_prompt | GOOD_LLM.with_structured_output(Queries, include_raw=True)"
   ]
  },
  {
   "cell_type": "code",
   "execution_count": 18,
   "metadata": {},
   "outputs": [
    {
     "data": {
      "text/plain": [
       "['recent channel stuffing cases in US technology sector 2023',\n",
       " 'technology companies with high DSO 2023',\n",
       " 'US tech companies financial performance analysis 2023',\n",
       " 'instances of inflated revenues in US tech firms 2023',\n",
       " 'US tech firms with suspicious sales patterns 2023']"
      ]
     },
     "execution_count": 18,
     "metadata": {},
     "output_type": "execute_result"
    }
   ],
   "source": [
    "queries = await gen_queries_chain.ainvoke({'messages': [HumanMessage(content=question['messages'][0].content)]})\n",
    "queries['parsed'].queries"
   ]
  },
  {
   "cell_type": "code",
   "execution_count": 19,
   "metadata": {},
   "outputs": [],
   "source": [
    "class AnswersWithCitations(BaseModel):\n",
    "    answer: str = Field(description='Comprehensive answer to the user\\'s question with citations.')\n",
    "    cited_urls: List[str] = Field(\n",
    "        description='List of urls cited in the answer.',\n",
    "    )\n",
    "\n",
    "    @property\n",
    "    def as_str(self) -> str:\n",
    "        return f'{self.answer}\\n\\nCitations:\\n\\n' + '\\n'.join(\n",
    "            f'[{i+1}: {url}]' for i, url in enumerate(self.cited_urls)\n",
    "        )\n",
    "    \n",
    "gen_answer_prompt = ChatPromptTemplate.from_messages(\n",
    "    [\n",
    "        (\n",
    "            'system',\n",
    "            '''You are an expert equity research analyst who can use information effectively. \n",
    "            You are chatting with an equity research report writer who wants to write an analysis report on the topic you know. \n",
    "            You have gathered the related information and will now use the information to form a response. \n",
    "            \n",
    "            Make your response as informative as possible and make sure every sentence is supported by the gathered information. \n",
    "            Be sure to mention specific industries, companies and verticals within companies as required. \n",
    "            Each response must be backed up by a citation from a reliable source, formatted as a footnote, reproducing the URLs after your response.'''\n",
    "        ),\n",
    "        MessagesPlaceholder(variable_name='messages', optional=True)\n",
    "    ]\n",
    ")\n",
    "\n",
    "gen_answer_chain = gen_answer_prompt | GOOD_LLM.with_structured_output(AnswersWithCitations, include_raw=True).with_config(run_name='GenerateAnswer')"
   ]
  },
  {
   "cell_type": "code",
   "execution_count": 20,
   "metadata": {},
   "outputs": [],
   "source": [
    "# Tavily is typically a better search engine but free queries are limited.\n",
    "# search_engine = TavilySearchResults(max_results=4)\n",
    "\n",
    "# @tool\n",
    "# async def search_engine(query: str):\n",
    "#     '''Search engine to the internet'''\n",
    "#     results = tavily_search.invoke(query)\n",
    "#     return [{'content': r['content'], 'url': r['url']} for r in results]\n",
    "\n",
    "# DDG\n",
    "search_engine = DuckDuckGoSearchAPIWrapper()\n",
    "\n",
    "@tool\n",
    "async def search_engine(query: str):\n",
    "    '''Search engine to the internet'''\n",
    "    results = DuckDuckGoSearchAPIWrapper()._ddgs_text(query)\n",
    "    return [{'content': r['body'], 'url': r['href']} for r in results]"
   ]
  },
  {
   "cell_type": "code",
   "execution_count": 21,
   "metadata": {},
   "outputs": [],
   "source": [
    "async def gen_answer(state: InterviewState, config: Optional[RunnableConfig]=None, name: str='subject_matter_expert', max_str_len: int=15000):\n",
    "    swapped_state = swap_roles(state, name) # convert all other AI messages\n",
    "    queries = await gen_queries_chain.ainvoke(swapped_state)\n",
    "    query_results = await search_engine.abatch(queries['parsed'].queries, config, return_exceptions=True)\n",
    "    successful_results = [res for res in query_results if not isinstance(res, Exception)]\n",
    "    all_query_results = {res['url']: res['content'] for results in successful_results for res in results}\n",
    "\n",
    "    # we could be more precise about handling max token length if we wanted to here\n",
    "    dumped = json.dumps(all_query_results)[:max_str_len]\n",
    "    ai_message: AIMessage = queries['raw']\n",
    "    tool_call = queries['raw'].additional_kwargs['tool_calls'][0]\n",
    "    tool_id = tool_call['id']\n",
    "    tool_message = ToolMessage(tool_call_id=tool_id, content=dumped)\n",
    "    swapped_state['messages'].extend([ai_message, tool_message])\n",
    "\n",
    "    # only update the shared state with the final answer to avoid polluting the dialog history with intermediate messages\n",
    "    generated = await gen_answer_chain.ainvoke(swapped_state)\n",
    "    cited_urls = set(generated['parsed'].cited_urls)\n",
    "\n",
    "    # save the retrieved information to the shared state for future reference\n",
    "    cited_references = {k: v for k, v in all_query_results.items() if k in cited_urls}\n",
    "    formatted_message = AIMessage(name=name, content=generated['parsed'].as_str)\n",
    "    return {'messages': [formatted_message], 'references': cited_references}"
   ]
  },
  {
   "cell_type": "code",
   "execution_count": 22,
   "metadata": {},
   "outputs": [],
   "source": [
    "example_answer = await gen_answer(\n",
    "    {'messages': [HumanMessage(content=question['messages'][0].content)]}\n",
    ")"
   ]
  },
  {
   "cell_type": "code",
   "execution_count": 23,
   "metadata": {},
   "outputs": [
    {
     "name": "stdout",
     "output_type": "stream",
     "text": [
      "In recent years, there have been several instances and allegations of channel stuffing within the US technology sector. Notably, Dentsply Sirona Inc., the world’s largest manufacturer of dental products, faced a securities fraud class action involving alleged channel stuffing activities. The case claims that the company used this tactic to artificially inflate sales figures by pushing excess inventory onto distributors[^1^]. Another significant case involved the former executives of a tech company charged by the SEC for fraudulent revenue recognition practices, which included recording revenues from non-binding purchase orders and concealing these activities from auditors[^2^]. These actions can lead to inflated revenues and prolonged Days Sales Outstanding (DSO), indicating potential channel stuffing activities. The importance of monitoring DSO ratios and revenue patterns in tech companies cannot be overstated as it provides insights into operational efficiency and potential financial red flags[^3^].\n",
      "\n",
      "Citations:\n",
      "\n",
      "[1: https://www.rgrdlaw.com/news-item-Law360-Highlights-Robbins-Geller-Win-in-Dentsply-Securities-Fraud-Case.html]\n",
      "[2: https://corpgov.law.harvard.edu/2023/11/02/sec-charges-executives-with-fraudulent-revenue-recognition-practices/]\n",
      "[3: https://www.wrike.com/blog/mastering-dso-ratio/]\n"
     ]
    }
   ],
   "source": [
    "print(example_answer['messages'][-1].content)"
   ]
  },
  {
   "cell_type": "markdown",
   "metadata": {},
   "source": [
    "### Construct the Interview Graph"
   ]
  },
  {
   "cell_type": "code",
   "execution_count": 24,
   "metadata": {},
   "outputs": [],
   "source": [
    "max_num_turns = 5\n",
    "\n",
    "def route_messages(state: InterviewState, name: str='subject_matter_expert'):\n",
    "    messages = state['messages']\n",
    "    num_responses = len([m for m in messages if isinstance(m, AIMessage) and m.name == name])\n",
    "    if num_responses >= max_num_turns:\n",
    "        return END\n",
    "    last_question = messages[-2]\n",
    "\n",
    "    if last_question.content.endswith('Thank you so much for your help!'):\n",
    "        return END\n",
    "    \n",
    "    return 'ask_question'\n",
    "\n",
    "builder = StateGraph(InterviewState)\n",
    "\n",
    "builder.add_node('ask_question', generate_question)\n",
    "builder.add_node('answer_question', gen_answer)\n",
    "builder.add_conditional_edges('answer_question', route_messages)\n",
    "builder.add_edge('ask_question', 'answer_question')\n",
    "builder.add_edge(START, 'ask_question')\n",
    "interview_graph = builder.compile().with_config(run_name='Conduct Interviews')"
   ]
  },
  {
   "cell_type": "code",
   "execution_count": 25,
   "metadata": {},
   "outputs": [
    {
     "data": {
      "image/jpeg": "[encoded data removed]",
      "text/plain": [
       "<IPython.core.display.Image object>"
      ]
     },
     "metadata": {},
     "output_type": "display_data"
    },
    {
     "ename": "",
     "evalue": "",
     "output_type": "error",
     "traceback": [
      "\u001b[1;31mThe Kernel crashed while executing code in the current cell or a previous cell. \n",
      "\u001b[1;31mPlease review the code in the cell(s) to identify a possible cause of the failure. \n",
      "\u001b[1;31mClick <a href='https://aka.ms/vscodeJupyterKernelCrash'>here</a> for more info. \n",
      "\u001b[1;31mView Jupyter <a href='command:jupyter.viewOutput'>log</a> for further details."
     ]
    }
   ],
   "source": [
    "from langchain_core.runnables.graph import CurveStyle, MermaidDrawMethod\n",
    "from IPython.display import display, HTML, Image\n",
    "\n",
    "display(Image(interview_graph.get_graph().draw_mermaid_png(draw_method=MermaidDrawMethod.API)))"
   ]
  },
  {
   "cell_type": "code",
   "execution_count": 26,
   "metadata": {},
   "outputs": [
    {
     "name": "stdout",
     "output_type": "stream",
     "text": [
      "ask_question\n",
      "{'ask_question': {'messages': [AIMessage(content=\"Yes, that's correct. I am focusing on analyzing the financial performance of the top technology companies in the US, specifically looking at their revenues and Days Sales Outstanding (DSO) to identify companies that may have engaged in channel stuffing by extending terms or making a big push at the end of the quarter. Do you have any insights into specific companies or trends within the US technology sector that I should be aware of?\", response_metadata={'token_usage': {'completion_tokens': 83, 'prompt_tokens': 302, 'total_tokens': 385}, 'model_name': 'gpt-3.5-turbo', 'system_fingerprint': None, 'finish_reason': 'stop', 'logprobs': None}, name='AliceER', id='run-d2410a56-d902-438f-9435-f5bbabe0b807-0')]}}\n",
      "-- [AIMessage(content=\"Yes, that's correct. I am focusing on analyzing the financial performance of the top technology companies in the US, specifically looking at their revenues and Days Sales Outstanding (DSO) to identify companies that may have engaged in channel stuffing by extending terms or makin\n",
      "answer_question\n",
      "{'answer_question': {'messages': [AIMessage(content='A detailed analysis of the US technology sector reveals several key points about revenue performance and Days Sales Outstanding (DSO) trends, which can be indicative of channel stuffing practices. Channel stuffing involves pushing more products through the distribution channel than the channel can sell, often by extending more favorable payment terms to customers, which can artificially inflate sales figures at the end of a reporting period but may lead to higher DSO as payments are delayed.\\n\\n**Revenue and DSO Trends**: According to Deloitte, the tech industry faced headwinds in 2023, including a dip in global tech spending and layoffs. However, there is optimism for modest growth in 2024 as companies leverage technologies like generative AI and cloud computing[1]. Despite these challenges, the overall US tech industry grew by 44% over the last 12 months, with earnings forecasted to grow by 17% annually[2]. This indicates that while some companies are thriving, others might be using aggressive sales tactics to meet revenue targets.\\n\\n**Specific Companies**: \\n1. **Apple and NVIDIA**: Both companies saw significant gains of 5.2% recently, contributing to the overall rise in the tech industry. However, Apple’s performance was somewhat weaker in comparison to its peers[3]. This could be a potential area to investigate for channel stuffing, especially if their DSO has increased disproportionately.\\n\\n2. **Darktrace**: In early 2023, Darktrace faced allegations of channel stuffing but was cleared by EY auditors. This highlights the scrutiny tech companies can face regarding their sales practices[4]. Despite these allegations, Darktrace reported a 31% revenue growth, which might warrant a closer look at their DSO trends to ensure no lingering channel stuffing practices[5].\\n\\n3. **ServiceNow**: This company underperformed within the tech sector, shrinking by 5.4% over the last week. A detailed examination of their financials, especially their DSO, could provide insights into whether they are extending terms excessively to bolster sales figures[6].\\n\\n**Industry Practices**: The practice of extending terms or making a big push at the end of the quarter is not uncommon in the tech sector. Companies may resort to these tactics to meet quarterly targets, but this can lead to inflated DSO figures. For example, the Hackett Group identified a significant working capital opportunity in the tech sector, suggesting that improved management of receivables could release substantial liquidity[7]. This further underscores the need to monitor DSO closely as a potential red flag for channel stuffing.\\n\\nIn conclusion, while the US tech sector shows robust growth, certain companies and practices warrant closer scrutiny. Monitoring DSO alongside revenue can provide a clearer picture of whether companies are engaging in channel stuffing by extending payment terms or pushing sales at the end of the quarter.\\n\\n**Citations**:\\n1. [Deloitte Insights](https://www2.deloitte.com/us/en/insights/industry/technology/executives-expect-tech-industry-growth-in-2024.html)\\n2. [Simply Wall St](https://simplywall.st/markets/us/tech)\\n3. [Economist Intelligence Unit](https://www.eiu.com/n/big-tech-has-recovered-in-2023/)\\n4. [ITPro](https://www.itpro.com/business/business-strategy/darktrace-cleared-of-channel-stuffing-claims-by-ey-audit-announces-31-revenue-growth)\\n5. [Ultimate Finance Guide](https://ultimatefinanceguide.com/insights/c/channel-stuffing/3-0/)\\n6. [Simply Wall St](https://simplywall.st/markets/us/tech)\\n7. [CFO.com](https://www.cfo.com/news/hackett-group-working-capital-scorecard-2023-cash-conversion-dio-dpo-dso/720759/)\\n\\nCitations:\\n\\n[1: https://www2.deloitte.com/us/en/insights/industry/technology/executives-expect-tech-industry-growth-in-2024.html]\\n[2: https://simplywall.st/markets/us/tech]\\n[3: https://www.eiu.com/n/big-tech-has-recovered-in-2023/]\\n[4: https://www.itpro.com/business/business-strategy/darktrace-cleared-of-channel-stuffing-claims-by-ey-audit-announces-31-revenue-growth]\\n[5: https://ultimatefinanceguide.com/insights/c/channel-stuffing/3-0/]\\n[6: https://www.cfo.com/news/hackett-group-working-capital-scorecard-2023-cash-conversion-dio-dpo-dso/720759/]', name='subject_matter_expert')], 'references': {'https://simplywall.st/markets/us/tech': 'U.S. Tech Sector Analysis. Over the last 7 days, the Tech industry has risen 2.4%, driven by gains in Apple and NVIDIA of 5.2% and 5.2%, respectively. Meanwhile, ServiceNow actually underperformed within the industry, shrinking 5.4% in the last week. In the last 12 months, the industry was up 44%. Earnings are forecast to grow by 17% annually.', 'https://www2.deloitte.com/us/en/insights/industry/technology/executives-expect-tech-industry-growth-in-2024.html': \"The tech industry navigated some headwinds in 2023, with a dip in global tech spending and layoffs across the sector. But some analysts are optimistic that the tech sector could return to modest growth in 2024, as companies determine how to leverage generative AI, migrate more workloads to the cloud, and adjust to new regulatory requirements. 1 Tech leaders agree: Deloitte's quarterly ...\", 'https://www.cfo.com/news/hackett-group-working-capital-scorecard-2023-cash-conversion-dio-dpo-dso/720759/': 'Additionally, according to the report, revenue was nearly flat in 2023, with only a 0.3% increase, after averaging a 10% YoY increase over the past decade. Yet even with this drop in revenue growth, Hackett identified that there is a $1.76 trillion working capital opportunity that is an untapped source of additional liquidity.', 'https://www.itpro.com/business/business-strategy/darktrace-cleared-of-channel-stuffing-claims-by-ey-audit-announces-31-revenue-growth': \"In February 2023, Darktrace called in EY auditors to disprove QCM's claims that it had 'stuffed' its revenue figures, and strongly denied the accusations. Looking to FY 2024, the company anticipates a slow start to the financial year with a rise in sales expected towards H2 2024 in line with recovering consumer confidence.\", 'https://ultimatefinanceguide.com/insights/c/channel-stuffing/3-0/': 'October 1, 2023 3 min read Finance Business Accounting. Discover the deceptive world of channel stuffing, its implications on company performance, legal consequences, and notable real-world examples. Learn how to spot, understand, and question this mechanism with a detailed and educational approach.', 'https://www.eiu.com/n/big-tech-has-recovered-in-2023/': \"Big tech has recovered in 2023. Big tech companies have reported better results in 2023, as they reduced costs and the comparison with 2022 is more favourable. As we had expected at the start of 2023, big tech companies—Alphabet, Amazon, Meta and Microsoft—have recovered in 2023, even though Apple's performance has been weaker because of ...\"}}}\n",
      "-- [AIMessage(content='A detailed analysis of the US technology sector reveals several key points about revenue performance and Days Sales Outstanding (DSO) trends, which can be indicative of channel stuffing practices. Channel stuffing involves pushing more products through the distribution channel th\n",
      "ask_question\n",
      "{'ask_question': {'messages': [AIMessage(content='Thank you for sharing those insights and specific companies within the US technology sector. Could you provide more information on how the trend of extending payment terms or making a big push at the end of the quarter is affecting the DSO metrics of these companies?', response_metadata={'token_usage': {'completion_tokens': 49, 'prompt_tokens': 1359, 'total_tokens': 1408}, 'model_name': 'gpt-3.5-turbo', 'system_fingerprint': None, 'finish_reason': 'stop', 'logprobs': None}, name='AliceER', id='run-45abf1a0-2a6a-4fda-a627-7f5dfa63ef14-0')]}}\n",
      "-- [AIMessage(content='Thank you for sharing those insights and specific companies within the US technology sector. Could you provide more information on how the trend of extending payment terms or making a big push at the end of the quarter is affecting the DSO metrics of these companies?', response_m\n",
      "answer_question\n",
      "{'answer_question': {'messages': [AIMessage(content=\"Extending payment terms or making a significant sales push at the end of the quarter can significantly impact the Days Sales Outstanding (DSO) metrics of technology companies. DSO measures the average number of days it takes a company to collect payment after a sale, and higher DSOs can indicate potential issues with cash flow and receivables management.\\n\\n**Impact of Extending Payment Terms**: When companies extend payment terms to their customers, it can lead to an increase in DSO. This is because customers take longer to pay their invoices, which, in turn, delays the company's cash inflows. For instance, a technology company offering credit terms of 60 days would likely see an increase in DSO if customers consistently take longer to pay[1]. Extending payment terms can generate and preserve working capital, but it also comes with hidden costs and risks, such as the potential for bad debts and increased financial risk[2].\\n\\n**End-of-Quarter Sales Push**: Companies often push for higher sales at the end of a quarter to meet revenue targets, which can artificially inflate sales figures. This practice, known as channel stuffing, can lead to an increase in DSO as well. When products are pushed into the distribution channel without immediate demand, it can result in slower collections and higher receivables. This tactic can distort the true financial health of a company and lead to regulatory scrutiny and legal consequences[3][4].\\n\\n**Case Studies and Examples**:\\n- **Apple and NVIDIA**: Both companies have shown significant gains, but it's essential to monitor their DSO metrics. If their DSOs are increasing disproportionately compared to their revenue growth, it could indicate extended payment terms or aggressive sales pushes[5][6].\\n- **Darktrace**: Although cleared of channel stuffing allegations, Darktrace’s 31% revenue growth should be examined alongside its DSO trends to ensure that extended payment terms are not artificially inflating sales figures[7][8].\\n- **ServiceNow**: This company has underperformed recently, which might suggest that they are extending terms to boost sales figures. Monitoring their DSO can provide insights into their receivables management and potential channel stuffing practices[9].\\n\\nOverall, while extending payment terms and end-of-quarter sales pushes can temporarily boost revenue, they often result in higher DSO, indicating potential cash flow issues and financial risks. Companies in the tech sector need to balance these strategies with effective receivables management to maintain healthy financial metrics.\\n\\n**Citations**:\\n1. [Actouch](https://www.actouch.com/knowledgebase/days-sales-outstanding-dso/)\\n2. [BCG](https://www.bcg.com/publications/2024/avoid-hidden-costs-of-extending-supplier-payment-terms)\\n3. [SuperMoney](https://www.supermoney.com/encyclopedia/channel-stuffing)\\n4. [Ultimate Finance Guide](https://ultimatefinanceguide.com/insights/c/channel-stuffing/3-0/)\\n5. [Reuters](https://www.reuters.com/technology/darktrace-upgrades-full-year-revenue-margin-forecasts-2024-03-07/)\\n6. [Forbes](https://www.forbes.com/sites/dereksaul/2024/07/10/apple-and-nvidia-stocks-boost-sp-500-and-nasdaq-to-all-time-highs/)\\n7. [ITPro](https://www.itpro.com/business/business-strategy/darktrace-cleared-of-channel-stuffing-claims-by-ey-audit-announces-31-revenue-growth)\\n8. [ITWire](https://itwire.com/business-it-news/security/darktrace-end-of-year-threat-report-sees-\\n9. [Simply Wall St](https://simplywall.st/markets/us/tech)\\n\\nCitations:\\n\\n[1: https://www.actouch.com/knowledgebase/days-sales-outstanding-dso/]\\n[2: https://www.bcg.com/publications/2024/avoid-hidden-costs-of-extending-supplier-payment-terms]\\n[3: https://www.supermoney.com/encyclopedia/channel-stuffing]\\n[4: https://ultimatefinanceguide.com/insights/c/channel-stuffing/3-0/]\\n[5: https://www.reuters.com/technology/darktrace-upgrades-full-year-revenue-margin-forecasts-2024-03-07/]\\n[6: https://www.forbes.com/sites/dereksaul/2024/07/10/apple-and-nvidia-stocks-boost-sp-500-and-nasdaq-to-all-time-highs/]\\n[7: https://www.itpro.com/business/business-strategy/darktrace-cleared-of-channel-stuffing-claims-by-ey-audit-announces-31-revenue-growth]\\n[8: https://itwire.com/business-it-news/security/darktrace-end-of-year-threat-report-sees-\\nhttps://simplywall.st/markets/us/tech]\", name='subject_matter_expert')], 'references': {'https://www.bcg.com/publications/2024/avoid-hidden-costs-of-extending-supplier-payment-terms': \"Extending payment terms is an effective way for companies to generate and preserve working capital and cash flow. But to truly maximize enterprise value, companies must avoid the hidden costs of this strategy. By taking a pragmatic approach, CFOs can enable their company's procurement teams to make informed tradeoffs that optimize both cash ...\", 'https://www.actouch.com/knowledgebase/days-sales-outstanding-dso/': \"Scenario: An IT services company offers credit terms of 60 days to its clients. In a year, the company's total credit sales amount to $1,200,000, and its accounts receivable at the end of the year are $800,000. DSO Calculation: DSO = (Accounts Receivable / Total Credit Sales) × Number of Days DSO = ($800,000 / $1,200,000) × 365 DSO = 243.33 ...\", 'https://www.supermoney.com/encyclopedia/channel-stuffing': 'Channel stuffing is a deceptive practice that may offer short-term gains, but the risks and consequences far outweigh the benefits. Companies engaging in such tactics face regulatory scrutiny, legal actions, damage to their reputation, and the need for financial adjustments. It is essential for businesses to prioritize transparency and ethical ...', 'https://ultimatefinanceguide.com/insights/c/channel-stuffing/3-0/': 'Discover the deceptive world of channel stuffing, its implications on company performance, legal consequences, and notable real-world examples. Learn how to spot, understand, and question this mechanism with a detailed and educational approach.', 'https://www.reuters.com/technology/darktrace-upgrades-full-year-revenue-margin-forecasts-2024-03-07/': 'British cyber-security firm Darktrace on Thursday raised its forecasts for full-year revenue and margins on strong demand for its services, reflecting growing threats from digital attacks amid ...', 'https://www.forbes.com/sites/dereksaul/2024/07/10/apple-and-nvidia-stocks-boost-sp-500-and-nasdaq-to-all-time-highs/': \"Predictably leading the charge in the record runup were by far the world's three largest companies—Apple (shares up 1.9%), Microsoft (1.5%) and Nvidia (2.7%). Apple registered a new record ...\"}}}\n",
      "-- [AIMessage(content=\"Extending payment terms or making a significant sales push at the end of the quarter can significantly impact the Days Sales Outstanding (DSO) metrics of technology companies. DSO measures the average number of days it takes a company to collect payment after a sale, and higher D\n",
      "ask_question\n",
      "{'ask_question': {'messages': [AIMessage(content='Thank you so much for the insightful information on how extending payment terms and end-of-quarter sales pushes can impact Days Sales Outstanding (DSO) metrics in the technology sector. Your detailed analysis and examples have provided valuable insights into the potential risks associated with these practices. If you have any more insights or specific examples to share related to channel stuffing and its impact on DSO metrics in the US technology sector, please feel free to elaborate further.', response_metadata={'token_usage': {'completion_tokens': 87, 'prompt_tokens': 2437, 'total_tokens': 2524}, 'model_name': 'gpt-3.5-turbo', 'system_fingerprint': None, 'finish_reason': 'stop', 'logprobs': None}, name='AliceER', id='run-0ca09757-6f80-4bf7-9c05-cd26fe4d5b66-0')]}}\n",
      "-- [AIMessage(content='Thank you so much for the insightful information on how extending payment terms and end-of-quarter sales pushes can impact Days Sales Outstanding (DSO) metrics in the technology sector. Your detailed analysis and examples have provided valuable insights into the potential risks a\n",
      "answer_question\n",
      "{'answer_question': {'messages': [AIMessage(content='Channel stuffing and extending payment terms can significantly impact Days Sales Outstanding (DSO) metrics in the US technology sector. Here are some specific examples and insights into how these practices have affected companies in the sector:\\n\\n**1. Darktrace:** Despite being cleared of channel stuffing allegations by EY auditors, Darktrace’s DSO trends still warrant attention. The company reported a 31% revenue growth, but extended payment terms could potentially inflate sales figures and increase DSO, indicating delayed collections from customers[1][2].\\n\\n**2. Apple and NVIDIA:** These companies have shown significant gains in revenue, but their DSO metrics need to be monitored closely. If their DSOs are increasing disproportionately compared to their revenue growth, it could indicate that they are extending payment terms or making aggressive sales pushes at the end of the quarter to meet financial targets[3][4].\\n\\n**3. ServiceNow:** This company has underperformed recently, and an increase in DSO could suggest that they are extending terms to boost sales figures artificially. Monitoring their DSO trends can provide insights into their receivables management and potential channel stuffing practices[5].\\n\\n**4. Monster Beverage Corp:** An example from a few years ago, where the company was accused of channel stuffing by selling excessive products to a distributor, leading to inflated sales figures. Such practices eventually lead to increased DSO as payments from overloaded channels are delayed[6].\\n\\n**5. Hackett Group Findings:** The Hackett Group’s Working Capital Survey indicated that DSO saw the highest jump since the pandemic in 2023. This trend suggests that tech companies might be extending payment terms more frequently, leading to delayed collections and higher DSOs, which can strain cash flow and indicate potential channel stuffing[7].\\n\\n**6. General Industry Trends:** Extending payment terms is a common strategy to generate and preserve working capital, but it comes with hidden costs and risks such as potential bad debts and increased financial risk[8]. Companies need to balance these strategies with effective receivables management to maintain healthy financial metrics[9].\\n\\nOverall, while extending payment terms and end-of-quarter sales pushes can temporarily boost revenue, they often result in higher DSO, indicating potential cash flow issues and financial risks. Companies in the tech sector need to balance these strategies with effective receivables management to maintain healthy financial metrics.\\n\\n**Citations:**\\n1. [ITPro](https://www.itpro.com/business/business-strategy/darktrace-cleared-of-channel-stuffing-claims-by-ey-audit-announces-31-revenue-growth)\\n2. [Ultimate Finance Guide](https://ultimatefinanceguide.com/insights/c/channel-stuffing/3-0/)\\n3. [Reuters](https://www.reuters.com/technology/darktrace-upgrades-full-year-revenue-margin-forecasts-2024-03-07/)\\n4. [Forbes](https://www.forbes.com/sites/dereksaul/2024/07/10/apple-and-nvidia-stocks-boost-sp-500-and-nasdaq-to-all-time-highs/)\\n5. [Simply Wall St](https://simplywall.st/markets/us/tech)\\n6. [WallStreetMojo](https://www.wallstreetmojo.com/channel-stuffing/)\\n7. [CFO.com](https://www.cfo.com/news/hackett-group-working-capital-scorecard-2023-cash-conversion-dio-dpo-dso/720759/)\\n8. [BCG](https://www.bcg.com/publications/2024/avoid-hidden-costs-of-extending-supplier-payment-terms)\\n9. [Actouch](https://www.actouch.com/knowledgebase/days-sales-outstanding-dso/)\\n\\nCitations:\\n\\n[1: https://www.itpro.com/business/business-strategy/darktrace-cleared-of-channel-stuffing-claims-by-ey-audit-announces-31-revenue-growth]\\n[2: https://ultimatefinanceguide.com/insights/c/channel-stuffing/3-0/]\\n[3: https://www.reuters.com/technology/darktrace-upgrades-full-year-revenue-margin-forecasts-2024-03-07/]\\n[4: https://www.forbes.com/sites/dereksaul/2024/07/10/apple-and-nvidia-stocks-boost-sp-500-and-nasdaq-to-all-time-highs/]\\n[5: https://simplywall.st/markets/us/tech]\\n[6: https://www.wallstreetmojo.com/channel-stuffing/]\\n[7: https://www.cfo.com/news/hackett-group-working-capital-scorecard-2023-cash-conversion-dio-dpo-dso/720759/]\\n[8: https://www.bcg.com/publications/2024/avoid-hidden-costs-of-extending-supplier-payment-terms]\\n[9: https://www.actouch.com/knowledgebase/days-sales-outstanding-dso/]', name='subject_matter_expert')], 'references': {'https://www.itpro.com/business/business-strategy/darktrace-cleared-of-channel-stuffing-claims-by-ey-audit-announces-31-revenue-growth': 'Darktrace cleared of channel stuffing claims by EY audit, announces 31% revenue growth. Cyber security firm Darktrace has published its FY 2023 financial results, recording 31% year-on-year growth in revenue against a backdrop of now-quashed allegations of financial wrongdoing.', 'https://ultimatefinanceguide.com/insights/c/channel-stuffing/3-0/': 'Welcome to an insightful journey through one of the lesser-known, yet deeply impactful, corporate shenanigans—Channel Stuffing. This guide aims to break down this deceptive practice into digestible, engaging nuggets of information that both enlighten and entertain. So, grab a coffee, sit back, and prepare to dive deep into the shady world of ...', 'https://www.cfo.com/news/hackett-group-working-capital-scorecard-2023-cash-conversion-dio-dpo-dso/720759/': \"Complete 2023 data from The Hackett Group's Working Capital Survey, provided exclusively here by CFO.com, indicates all elements of the cash conversion cycle (CCC), and therefore the overall productivity of working capital management, declined in 2023. Although day sales outstanding (DSO) saw the highest jump since the pandemic, both DSO and ...\", 'https://www.wallstreetmojo.com/channel-stuffing/': 'Example #1. One of the popular cases came to light some years ago when Monster Beverage Corp was accused by its shareholders of having released inflated results. On an outlining note, the claim accused the company of selling too many drinks to Anheuser-Busch, later categorized as channel stuffing.', 'https://www.bcg.com/publications/2024/avoid-hidden-costs-of-extending-supplier-payment-terms': \"Extending payment terms is an effective way for companies to generate and preserve working capital and cash flow. But to truly maximize enterprise value, companies must avoid the hidden costs of this strategy. By taking a pragmatic approach, CFOs can enable their company's procurement teams to make informed tradeoffs that optimize both cash ...\"}}}\n",
      "-- [AIMessage(content='Channel stuffing and extending payment terms can significantly impact Days Sales Outstanding (DSO) metrics in the US technology sector. Here are some specific examples and insights into how these practices have affected companies in the sector:\\n\\n**1. Darktrace:** Despite being \n",
      "ask_question\n",
      "{'ask_question': {'messages': [AIMessage(content='Thank you for sharing those specific examples and insights into how channel stuffing and extending payment terms can impact Days Sales Outstanding (DSO) metrics in the US technology sector. These examples provide a clear illustration of the potential risks associated with these practices and the importance of closely monitoring DSO trends to identify any irregularities. If you have any additional information or specific cases related to channel stuffing and its impact on DSO metrics within the technology industry, please feel free to share.', response_metadata={'token_usage': {'completion_tokens': 93, 'prompt_tokens': 3561, 'total_tokens': 3654}, 'model_name': 'gpt-3.5-turbo', 'system_fingerprint': None, 'finish_reason': 'stop', 'logprobs': None}, name='AliceER', id='run-0fbc7e79-40b3-4536-bedb-19fce857d824-0')]}}\n",
      "-- [AIMessage(content='Thank you for sharing those specific examples and insights into how channel stuffing and extending payment terms can impact Days Sales Outstanding (DSO) metrics in the US technology sector. These examples provide a clear illustration of the potential risks associated with these p\n"
     ]
    }
   ],
   "source": [
    "final_step = None\n",
    "\n",
    "initial_state = {\n",
    "    'editor': perspectives.editors[0],\n",
    "    'messages': [\n",
    "        AIMessage(\n",
    "            content=f'So you said you were writing an article on {example_topic}?',\n",
    "            name='subject_matter_expert'\n",
    "        )\n",
    "    ]\n",
    "}\n",
    "\n",
    "all_steps = []\n",
    "async for step in interview_graph.astream(initial_state):\n",
    "    name = next(iter(step))\n",
    "    print(name)\n",
    "    print(step)\n",
    "    print('--', str(step[name]['messages'])[:300])\n",
    "    all_steps.append(step)\n",
    "    if END in step:\n",
    "        final_step = step"
   ]
  },
  {
   "cell_type": "code",
   "execution_count": 38,
   "metadata": {},
   "outputs": [
    {
     "name": "stdout",
     "output_type": "stream",
     "text": [
      "ask_question Which US-based semiconductor companies are most exposed to the mobile phone market and how might they be affected by a potential deceleration in mobile phone growth?\n",
      "answer_question Several major US-based semiconductor companies are highly exposed to the mobile phone market, which means a deceleration in mobile phone growth could significantly impact their revenues and market positions. Here are a few notable examples:\n",
      "\n",
      "1. **Qualcomm**: Qualcomm is one of the largest semiconductor companies globally and has a significant portion of its revenue tied to the mobile phone market. The company is well-known for its Snapdragon processors, which are widely used in smartphones. A slowdown in mobile phone sales would directly affect Qualcomm's revenue from its chipsets and licensing fees[1][2].\n",
      "\n",
      "2. **Broadcom**: Broadcom supplies a wide array of semiconductor solutions, including wireless and broadband communication products, many of which are integral to modern smartphones. A decrease in smartphone demand would likely impact Broadcom's revenue from these products[3].\n",
      "\n",
      "3. **Texas Instruments**: While Texas Instruments has a diversified product portfolio, a substantial part of its business comes from analog and embedded processing chips used in mobile devices. A decline in mobile phone sales could negatively affect their business segment that deals with mobile technology[4].\n",
      "\n",
      "4. **Intel**: Intel, though primarily known for its dominance in the PC and server markets, also provides chips for mobile devices. Any downturn in mobile phone growth could have a cascading effect on their mobile chip segment, though to a lesser extent compared to Qualcomm or Broadcom[5].\n",
      "\n",
      "5. **Nvidia**: Nvidia, traditionally strong in graphics processing units (GPUs), has been expanding its presence in the mobile chipset market. A slowdown in mobile phone sales might hinder their growth in this segment, although their primary revenue still comes from other sectors[6].\n",
      "\n",
      "These companies could face reduced demand for their products, leading to lower sales volumes and potentially impacting their financial performance. Additionally, they may need to adjust their production levels, manage inventory more efficiently, and possibly rethink their investment strategies in the mobile sector.\n",
      "\n",
      "---\n",
      "\n",
      "[1] https://www.statista.com/topics/7885/qualcomm/\n",
      "[2] https://builtin.com/hardware/semiconductor-companies\n",
      "[3] https://www.thomasnet.com/insights/biggest-us-semiconductor-manufacturers/\n",
      "[4] https://www.nbcnews.com/business/business-news/intel-used-dominate-us-chip-industry-now-struggling-stay-relevant-rcna149601\n",
      "[5] https://www.gartner.com/en/documents/4589499\n",
      "[6] https://www.manufacturingdive.com/news/semiconductor-industry-outlook-trends-2024-factory-labor-shortage-challenges-regulations/704772/\n",
      "\n",
      "Citations:\n",
      "\n",
      "[1: https://www.statista.com/topics/7885/qualcomm/]\n",
      "[2: https://builtin.com/hardware/semiconductor-companies]\n",
      "[3: https://www.thomasnet.com/insights/biggest-us-semiconductor-manufacturers/]\n",
      "[4: https://www.nbcnews.com/business/business-news/intel-used-dominate-us-chip-industry-now-struggling-stay-relevant-rcna149601]\n",
      "[5: https://www.gartner.com/en/documents/4589499]\n",
      "[6: https://www.manufacturingdive.com/news/semiconductor-industry-outlook-trends-2024-factory-labor-shortage-challenges-regulations/704772/]\n",
      "ask_question Thank you so much for your help!\n",
      "answer_question Several major US-based semiconductor companies are highly exposed to the mobile phone market, and a potential deceleration in mobile phone growth could significantly impact them. Here are some of the most notable examples:\n",
      "\n",
      "1. **Qualcomm**: Qualcomm is significantly exposed to the mobile phone market as its Snapdragon processors are widely used in smartphones. A slowdown in mobile phone sales would directly affect Qualcomm's revenue from its chipsets and licensing fees[1][2].\n",
      "\n",
      "2. **Broadcom**: Broadcom supplies a wide array of semiconductor solutions, including wireless and broadband communication products essential for modern smartphones. A decrease in smartphone demand would likely impact Broadcom's revenue from these products[3][4].\n",
      "\n",
      "3. **Texas Instruments**: Texas Instruments has a diversified product portfolio, but a substantial part of its business comes from analog and embedded processing chips used in mobile devices. A decline in mobile phone sales could negatively affect their business segment that deals with mobile technology[5][6].\n",
      "\n",
      "4. **Intel**: While Intel is primarily known for its dominance in the PC and server markets, it also provides chips for mobile devices. Any downturn in mobile phone growth could have a cascading effect on their mobile chip segment, though to a lesser extent compared to Qualcomm or Broadcom[7][8].\n",
      "\n",
      "5. **Nvidia**: Nvidia has been expanding its presence in the mobile chipset market. A slowdown in mobile phone sales might hinder their growth in this segment, although their primary revenue still comes from other sectors[9][10].\n",
      "\n",
      "These companies could face reduced demand for their products, leading to lower sales volumes and potentially impacting their financial performance. Additionally, they may need to adjust their production levels, manage inventory more efficiently, and possibly rethink their investment strategies in the mobile sector.\n",
      "\n",
      "\n",
      "Citations:\n",
      "\n",
      "[1: https://www.statista.com/topics/7885/qualcomm/]\n",
      "[2: https://builtin.com/hardware/semiconductor-companies]\n",
      "[3: https://www.thomasnet.com/insights/biggest-us-semiconductor-manufacturers/]\n",
      "[4: https://markets.businessinsider.com/news/stocks/broadcom-q2-earnings-preview-ai-related-revenue-in-focus-will-partnerships-with-meta-google-shine-through-in-results-guidance-1033469917?op=1]\n",
      "[5: https://www.investors.com/etfs-and-funds/sectors/sp500-companies-face-much-larger-problems-in-china-than-apple/]\n",
      "[6: https://seekingalpha.com/news/4022556-texas-instruments-look-ahead-watching-china-demand-capacity-expansion-and-margin-pressure]\n",
      "[7: https://www.nbcnews.com/business/business-news/intel-used-dominate-us-chip-industry-now-struggling-stay-relevant-rcna149601]\n",
      "[8: https://www.linkedin.com/pulse/why-intel-missed-smartphone-revolution-tale-amr-elharony-1vfvf]\n",
      "[9: https://www.statista.com/topics/7123/nvidia/]\n",
      "[10: https://www.vox.com/money/2024/3/7/24092309/nvidia-stock-earnings-valuation-ai-explainer]\n"
     ]
    }
   ],
   "source": [
    "for step in all_steps:\n",
    "    for k, v in step.items():\n",
    "        print(k, v['messages'][0].content)"
   ]
  },
  {
   "cell_type": "code",
   "execution_count": 39,
   "metadata": {},
   "outputs": [
    {
     "data": {
      "text/plain": [
       "{'https://www.thomasnet.com/insights/biggest-us-semiconductor-manufacturers/': \"The complex is expected to create 6,000 jobs and play a critical role in the onshoring of semiconductor manufacturing. As of March 4, 2024, Nvidia was the largest semiconductor company in the U.S., with a market capitalization of £2.12 trillion. In May, it became the nation's newest $1 trillion company.\",\n",
       " 'https://www.nbcnews.com/business/business-news/intel-used-dominate-us-chip-industry-now-struggling-stay-relevant-rcna149601': 'Intel, long the most valuable U.S. chipmaker, is now a fraction of the size of Nvidia by market cap, and smaller than Qualcomm, Broadcom, Texas Instruments, and AMD.',\n",
       " 'https://www.manufacturingdive.com/news/semiconductor-industry-outlook-trends-2024-factory-labor-shortage-challenges-regulations/704772/': 'Still, time remains a major challenge facing the U.S. semiconductor industry, even amid the excitement spurred by increased government funding, explains John VerWey, an advisor in the Pacific Northwest National Laboratory\\'s global security, technology and policy group, who studies semiconductors. \"The actual construction time from the date ...',\n",
       " 'https://www.statista.com/topics/7885/qualcomm/': \"Qualcomm's business offering includes mobile, IoT, automotive, and licensing solutions Ranking as the third-largest semiconductor company in the world, Qualcomm's revenue amounted to 35.8 ...\",\n",
       " 'https://builtin.com/hardware/semiconductor-companies': 'Qualcomm makes semiconductors and components for a variety of industries. The company has had a notable impact on mobile and smartphone applications with its Snapdragon 5G platform. Qualcomm also offers a semiconductor mentorship program where it works with startups in India to refine their semiconductor products.',\n",
       " 'https://www.gartner.com/en/documents/4589499': 'Summary. Mobile phone semiconductor revenue declined by 4.5% in 2022, reaching $139.3 billion. Application-specific revenue grew by 8.1%, while general-purpose revenue declined by 14.4%. Strong ASPs were not enough to compensate for deteriorating demand in 2H22 and the start of a major inventory correction.',\n",
       " 'https://markets.businessinsider.com/news/stocks/broadcom-q2-earnings-preview-ai-related-revenue-in-focus-will-partnerships-with-meta-google-shine-through-in-results-guidance-1033469917?op=1': 'Broadcom&#39;s AI-related revenue is a key area of focus in the Q2 earnings according to analysts. Here&#39;s a look at what analysts are saying about the company.',\n",
       " 'https://www.investors.com/etfs-and-funds/sectors/sp500-companies-face-much-larger-problems-in-china-than-apple/': 'Ten stocks in the S&P 500, including Qualcomm ( QCOM ), Monolithic Power ( MPWR) and Texas Instruments ( TXN ), got more than 27% of their revenue from China (including Hong Kong) or Macau in ...',\n",
       " 'https://seekingalpha.com/news/4022556-texas-instruments-look-ahead-watching-china-demand-capacity-expansion-and-margin-pressure': 'Texas Instruments (TXN) is set to report Q3 earnings, with investors focusing on gross margins, demand recovery in China, and the impact of price cuts.',\n",
       " 'https://www.linkedin.com/pulse/why-intel-missed-smartphone-revolution-tale-amr-elharony-1vfvf': 'In the mid-2000s, Intel tried to enter the mobile market with their low-power Atom chips. These chips were designed using familiar x86 architecture principles, but Intel was hesitant to invest ...',\n",
       " 'https://www.vox.com/money/2024/3/7/24092309/nvidia-stock-earnings-valuation-ai-explainer': 'Over a decade ago, Nvidia made a failed gambit to become a major player in the mobile chip market, but today Android phones use a range of non-Nvidia chips, while iPhones use Apple-designed ones.',\n",
       " 'https://www.statista.com/topics/7123/nvidia/': 'Nvidia specialized market revenue worldwide FY2019-2025, by quarter Nvidia specialized market revenue worldwide from fiscal year 2019 to 2025, by quarter (in million U.S. dollars) ESG'}"
      ]
     },
     "execution_count": 39,
     "metadata": {},
     "output_type": "execute_result"
    }
   ],
   "source": [
    "all_references = dict()\n",
    "for step in all_steps:\n",
    "    if 'answer_question' in step:\n",
    "        for k, v in step['answer_question']['references'].items():\n",
    "            all_references[k] = v\n",
    "\n",
    "all_references"
   ]
  },
  {
   "cell_type": "code",
   "execution_count": 40,
   "metadata": {},
   "outputs": [],
   "source": [
    "final_state = next(iter(step.values()))"
   ]
  },
  {
   "cell_type": "code",
   "execution_count": 41,
   "metadata": {},
   "outputs": [
    {
     "data": {
      "text/plain": [
       "\"Several major US-based semiconductor companies are highly exposed to the mobile phone market, and a potential deceleration in mobile phone growth could significantly impact them. Here are some of the most notable examples:\\n\\n1. **Qualcomm**: Qualcomm is significantly exposed to the mobile phone market as its Snapdragon processors are widely used in smartphones. A slowdown in mobile phone sales would directly affect Qualcomm's revenue from its chipsets and licensing fees[1][2].\\n\\n2. **Broadcom**: Broadcom supplies a wide array of semiconductor solutions, including wireless and broadband communication products essential for modern smartphones. A decrease in smartphone demand would likely impact Broadcom's revenue from these products[3][4].\\n\\n3. **Texas Instruments**: Texas Instruments has a diversified product portfolio, but a substantial part of its business comes from analog and embedded processing chips used in mobile devices. A decline in mobile phone sales could negatively affect their business segment that deals with mobile technology[5][6].\\n\\n4. **Intel**: While Intel is primarily known for its dominance in the PC and server markets, it also provides chips for mobile devices. Any downturn in mobile phone growth could have a cascading effect on their mobile chip segment, though to a lesser extent compared to Qualcomm or Broadcom[7][8].\\n\\n5. **Nvidia**: Nvidia has been expanding its presence in the mobile chipset market. A slowdown in mobile phone sales might hinder their growth in this segment, although their primary revenue still comes from other sectors[9][10].\\n\\nThese companies could face reduced demand for their products, leading to lower sales volumes and potentially impacting their financial performance. Additionally, they may need to adjust their production levels, manage inventory more efficiently, and possibly rethink their investment strategies in the mobile sector.\\n\\n\\nCitations:\\n\\n[1: https://www.statista.com/topics/7885/qualcomm/]\\n[2: https://builtin.com/hardware/semiconductor-companies]\\n[3: https://www.thomasnet.com/insights/biggest-us-semiconductor-manufacturers/]\\n[4: https://markets.businessinsider.com/news/stocks/broadcom-q2-earnings-preview-ai-related-revenue-in-focus-will-partnerships-with-meta-google-shine-through-in-results-guidance-1033469917?op=1]\\n[5: https://www.investors.com/etfs-and-funds/sectors/sp500-companies-face-much-larger-problems-in-china-than-apple/]\\n[6: https://seekingalpha.com/news/4022556-texas-instruments-look-ahead-watching-china-demand-capacity-expansion-and-margin-pressure]\\n[7: https://www.nbcnews.com/business/business-news/intel-used-dominate-us-chip-industry-now-struggling-stay-relevant-rcna149601]\\n[8: https://www.linkedin.com/pulse/why-intel-missed-smartphone-revolution-tale-amr-elharony-1vfvf]\\n[9: https://www.statista.com/topics/7123/nvidia/]\\n[10: https://www.vox.com/money/2024/3/7/24092309/nvidia-stock-earnings-valuation-ai-explainer]\""
      ]
     },
     "execution_count": 41,
     "metadata": {},
     "output_type": "execute_result"
    }
   ],
   "source": [
    "final_state['messages'][0].content"
   ]
  },
  {
   "cell_type": "markdown",
   "metadata": {},
   "source": [
    "## Refine Outline\n",
    "At this point in STORM, we've conducted a large amount of research from different perspectives. \n",
    "It's time to refine the original outline based on these investigations. Below, create a chain using the LLM with a long context window to update the original outline."
   ]
  },
  {
   "cell_type": "code",
   "execution_count": 42,
   "metadata": {},
   "outputs": [],
   "source": [
    "refine_outline_prompt = ChatPromptTemplate.from_messages(\n",
    "    [\n",
    "        (\n",
    "            'system',\n",
    "            '''You are a critical equity research analyst. You have gathered information from experts and search engines. Now, you are refining the outline of the financial report you were writing. \n",
    "            You need to make sure that the outline is comprehensive and specific. \n",
    "            This is the topic you are writing about: {topic}\n",
    "\n",
    "            Old outline:\n",
    "            {old_outline}\n",
    "            '''\n",
    "        ),\n",
    "        (\n",
    "            'user',\n",
    "            'Refine the outline based on your conversations with subject-matter experts:\\n\\nConversations:\\n\\n{conversations}\\n\\nWrite the refined financial report outline.'\n",
    "        )\n",
    "    ]\n",
    ")\n",
    "\n",
    "refine_outline_chain = refine_outline_prompt | GOOD_LLM.with_structured_output(Outline)"
   ]
  },
  {
   "cell_type": "code",
   "execution_count": 43,
   "metadata": {},
   "outputs": [],
   "source": [
    "refined_outline = refine_outline_chain.invoke(\n",
    "    {\n",
    "        'topic': example_topic,\n",
    "        'old_outline': initial_outline.as_str,\n",
    "        'conversations': '\\n\\n'.join(\n",
    "            f'## {m.name}\\n\\n{m.content}' for m in final_state['messages']\n",
    "        )\n",
    "    }\n",
    ")"
   ]
  },
  {
   "cell_type": "code",
   "execution_count": 44,
   "metadata": {},
   "outputs": [
    {
     "name": "stdout",
     "output_type": "stream",
     "text": [
      "# Impact of Mobile Phone De-acceleration on US Semiconductor Companies\n",
      "\n",
      "## Introduction\n",
      "\n",
      "Provide an overview of the current market trend of mobile phone de-acceleration and its potential impact on US semiconductor companies.\n",
      "\n",
      "## US Semiconductor Companies with Exposure to Mobile Phones\n",
      "\n",
      "Identify the US-based semiconductor companies that are most likely to be affected by the de-acceleration in the mobile phone market.\n",
      "\n",
      "### Qualcomm\n",
      "\n",
      "Discuss Qualcomm's significant exposure to the mobile phone market through its Snapdragon processors and licensing fees.\n",
      "\n",
      "### Broadcom\n",
      "\n",
      "Analyze Broadcom's exposure due to its semiconductor solutions for wireless and broadband communication products.\n",
      "\n",
      "### Texas Instruments\n",
      "\n",
      "Examine Texas Instruments' exposure with a focus on their analog and embedded processing chips used in mobile devices.\n",
      "\n",
      "### Intel\n",
      "\n",
      "Evaluate Intel's exposure to the mobile phone market and the potential impact on its mobile chip segment.\n",
      "\n",
      "### Nvidia\n",
      "\n",
      "Analyze Nvidia's expanding presence in the mobile chipset market and the potential effects of a slowdown in mobile phone sales.\n",
      "\n",
      "## Analysis of Selected Companies\n",
      "\n",
      "Conduct an in-depth analysis of the identified companies, focusing on their exposure to the mobile phone market and potential risks and opportunities.\n",
      "\n",
      "## Financial Performance Comparison\n",
      "\n",
      "Compare the financial performance of the selected companies to assess their resilience amidst the mobile phone de-acceleration hypothesis.\n",
      "\n",
      "## Investment Recommendation\n",
      "\n",
      "Provide a recommendation on whether to invest in the identified semiconductor companies based on the analysis of their exposure to the mobile phone market.\n"
     ]
    }
   ],
   "source": [
    "print(refined_outline.as_str)"
   ]
  },
  {
   "cell_type": "markdown",
   "metadata": {},
   "source": [
    "### Create Retriever\n",
    "The research process uncovers a large number of reference documents that we may want to query during the final article-writing process."
   ]
  },
  {
   "cell_type": "code",
   "execution_count": 45,
   "metadata": {},
   "outputs": [],
   "source": [
    "embeddings = OpenAIEmbeddings(model='text-embedding-3-small')\n",
    "reference_docs = [\n",
    "    Document(page_content=v, metadata={'source': 'k'})\n",
    "    for k, v in all_references.items()\n",
    "]\n",
    "\n",
    "# doesn't need a vectorstore for this size of data but this is just a POC\n",
    "vectorstore = SKLearnVectorStore.from_documents(\n",
    "    reference_docs,\n",
    "    embedding=embeddings,\n",
    "    n_neighbors=4\n",
    ")\n",
    "retriever = vectorstore.as_retriever(k=10)"
   ]
  },
  {
   "cell_type": "code",
   "execution_count": 46,
   "metadata": {},
   "outputs": [
    {
     "data": {
      "text/plain": [
       "[Document(metadata={'source': 'k'}, page_content=\"The complex is expected to create 6,000 jobs and play a critical role in the onshoring of semiconductor manufacturing. As of March 4, 2024, Nvidia was the largest semiconductor company in the U.S., with a market capitalization of £2.12 trillion. In May, it became the nation's newest $1 trillion company.\"),\n",
       " Document(metadata={'source': 'k'}, page_content='Intel, long the most valuable U.S. chipmaker, is now a fraction of the size of Nvidia by market cap, and smaller than Qualcomm, Broadcom, Texas Instruments, and AMD.'),\n",
       " Document(metadata={'source': 'k'}, page_content='Still, time remains a major challenge facing the U.S. semiconductor industry, even amid the excitement spurred by increased government funding, explains John VerWey, an advisor in the Pacific Northwest National Laboratory\\'s global security, technology and policy group, who studies semiconductors. \"The actual construction time from the date ...'),\n",
       " Document(metadata={'source': 'k'}, page_content=\"Qualcomm's business offering includes mobile, IoT, automotive, and licensing solutions Ranking as the third-largest semiconductor company in the world, Qualcomm's revenue amounted to 35.8 ...\"),\n",
       " Document(metadata={'source': 'k'}, page_content='Qualcomm makes semiconductors and components for a variety of industries. The company has had a notable impact on mobile and smartphone applications with its Snapdragon 5G platform. Qualcomm also offers a semiconductor mentorship program where it works with startups in India to refine their semiconductor products.'),\n",
       " Document(metadata={'source': 'k'}, page_content='Summary. Mobile phone semiconductor revenue declined by 4.5% in 2022, reaching $139.3 billion. Application-specific revenue grew by 8.1%, while general-purpose revenue declined by 14.4%. Strong ASPs were not enough to compensate for deteriorating demand in 2H22 and the start of a major inventory correction.'),\n",
       " Document(metadata={'source': 'k'}, page_content='Broadcom&#39;s AI-related revenue is a key area of focus in the Q2 earnings according to analysts. Here&#39;s a look at what analysts are saying about the company.'),\n",
       " Document(metadata={'source': 'k'}, page_content='Ten stocks in the S&P 500, including Qualcomm ( QCOM ), Monolithic Power ( MPWR) and Texas Instruments ( TXN ), got more than 27% of their revenue from China (including Hong Kong) or Macau in ...'),\n",
       " Document(metadata={'source': 'k'}, page_content='Texas Instruments (TXN) is set to report Q3 earnings, with investors focusing on gross margins, demand recovery in China, and the impact of price cuts.'),\n",
       " Document(metadata={'source': 'k'}, page_content='In the mid-2000s, Intel tried to enter the mobile market with their low-power Atom chips. These chips were designed using familiar x86 architecture principles, but Intel was hesitant to invest ...'),\n",
       " Document(metadata={'source': 'k'}, page_content='Over a decade ago, Nvidia made a failed gambit to become a major player in the mobile chip market, but today Android phones use a range of non-Nvidia chips, while iPhones use Apple-designed ones.'),\n",
       " Document(metadata={'source': 'k'}, page_content='Nvidia specialized market revenue worldwide FY2019-2025, by quarter Nvidia specialized market revenue worldwide from fiscal year 2019 to 2025, by quarter (in million U.S. dollars) ESG')]"
      ]
     },
     "execution_count": 46,
     "metadata": {},
     "output_type": "execute_result"
    }
   ],
   "source": [
    "reference_docs"
   ]
  },
  {
   "cell_type": "code",
   "execution_count": 47,
   "metadata": {},
   "outputs": [
    {
     "data": {
      "text/plain": [
       "[Document(metadata={'id': 'e779c572-539f-4f90-97b5-9fe1b1ad1466', 'source': 'k'}, page_content='Summary. Mobile phone semiconductor revenue declined by 4.5% in 2022, reaching $139.3 billion. Application-specific revenue grew by 8.1%, while general-purpose revenue declined by 14.4%. Strong ASPs were not enough to compensate for deteriorating demand in 2H22 and the start of a major inventory correction.'),\n",
       " Document(metadata={'id': '0f95ad0b-1fa4-4dc7-a489-1e2d1e7f7f8d', 'source': 'k'}, page_content='Qualcomm makes semiconductors and components for a variety of industries. The company has had a notable impact on mobile and smartphone applications with its Snapdragon 5G platform. Qualcomm also offers a semiconductor mentorship program where it works with startups in India to refine their semiconductor products.'),\n",
       " Document(metadata={'id': 'bca99c15-ca0c-49af-803e-2a508c917567', 'source': 'k'}, page_content=\"Qualcomm's business offering includes mobile, IoT, automotive, and licensing solutions Ranking as the third-largest semiconductor company in the world, Qualcomm's revenue amounted to 35.8 ...\"),\n",
       " Document(metadata={'id': '75d63d58-9197-4189-855e-8a93bfd3d806', 'source': 'k'}, page_content=\"The complex is expected to create 6,000 jobs and play a critical role in the onshoring of semiconductor manufacturing. As of March 4, 2024, Nvidia was the largest semiconductor company in the U.S., with a market capitalization of £2.12 trillion. In May, it became the nation's newest $1 trillion company.\")]"
      ]
     },
     "execution_count": 47,
     "metadata": {},
     "output_type": "execute_result"
    }
   ],
   "source": [
    "retriever.invoke(example_topic)"
   ]
  },
  {
   "cell_type": "markdown",
   "metadata": {},
   "source": [
    "### Generate Sections"
   ]
  },
  {
   "cell_type": "code",
   "execution_count": 48,
   "metadata": {},
   "outputs": [],
   "source": [
    "class Subsection(BaseModel):\n",
    "    subsection_title: str = Field(..., title='Title of the subsection')\n",
    "    content: str = Field(..., title='Full content of the subsection. Include [#] citations to the cited sources where relevant')\n",
    "\n",
    "    @property\n",
    "    def as_str(self) -> str:\n",
    "        return f'### {self.subsection_title}\\n\\n{self.content}'.strip()\n",
    "    \n",
    "\n",
    "class ContentsSection(BaseModel):\n",
    "    section_title: str = Field(..., title='Title of the section')\n",
    "    content: str = Field(..., title='Full content of the section')\n",
    "    subsections: Optional[List[Subsection]] = Field(\n",
    "        default=None,\n",
    "        title='Titles and descriptions of each subsection of the financial report'\n",
    "    )\n",
    "    citations: List[str] = Field(default_factory=list)\n",
    "\n",
    "    @property\n",
    "    def as_str(self) -> str:\n",
    "        subsections = '\\n\\n'.join(subsection.as_str for subsection in self.subsections or [])\n",
    "        citations = '\\n'.join([f' [{i}] {cit}' for i, cit in enumerate(self.citations)])\n",
    "        return (\n",
    "            f'## {self.section_title}\\n\\n{self.content}\\n\\n{subsections}'.strip() +\n",
    "            f'\\n\\n{citations}'.strip()\n",
    "        )\n",
    "    \n",
    "section_writer_prompt = ChatPromptTemplate.from_messages(\n",
    "    [\n",
    "        (\n",
    "            'system',\n",
    "            'You are an expert equity research analyst. Complete your assigned section from the following outline: \\n\\n'\n",
    "            '{outline}\\n\\nCite your sources, using the following references:\\n\\n<Documents>\\n{docs}\\n</Documents>'\n",
    "        ),\n",
    "        (\n",
    "            'user',\n",
    "            'Write the full report section for the {section} section.'\n",
    "        )\n",
    "    ]\n",
    ")\n",
    "\n",
    "async def retrieve(inputs: dict):\n",
    "    docs = await retriever.ainvoke(inputs['topic'] + ': ' + inputs['section'])\n",
    "    formatted = '\\n'.join([f'<Document href=\"{doc.metadata[\"source\"]}\"/>\\n{doc.page_content}\\n</Document>' for doc in docs])\n",
    "    return {'docs': formatted, **inputs}\n",
    "\n",
    "section_writer = (\n",
    "    retrieve\n",
    "    | section_writer_prompt\n",
    "    | GOOD_LLM.with_structured_output(ContentsSection)\n",
    ")"
   ]
  },
  {
   "cell_type": "code",
   "execution_count": 49,
   "metadata": {},
   "outputs": [
    {
     "name": "stdout",
     "output_type": "stream",
     "text": [
      "## US Semiconductor Companies with Exposure to Mobile Phones\n",
      "\n",
      "The mobile phone market has been a significant driver of revenue for many US-based semiconductor companies. However, the recent trend of mobile phone de-acceleration poses both challenges and opportunities for these companies. This section identifies the key US-based semiconductor companies with substantial exposure to the mobile phone market and analyzes their specific situations.\n",
      "\n",
      "### Qualcomm\n",
      "\n",
      "Qualcomm is heavily exposed to the mobile phone market through its Snapdragon processors, which are used in a wide range of smartphones. The company also generates significant revenue from licensing its 5G technology to mobile phone manufacturers. In 2022, despite an overall decline in mobile phone semiconductor revenues, Qualcomm managed to maintain a strong market position due to its diversified product offerings and strong average selling prices (ASPs). However, the company faces risks from decreasing demand and inventory corrections in the mobile phone market.\n",
      "\n",
      "### Broadcom\n",
      "\n",
      "Broadcom provides a variety of semiconductor solutions for wireless and broadband communication products, including those used in mobile phones. The company's exposure to the mobile phone market is significant, though it also serves other segments such as data centers and networking. The de-acceleration in mobile phone sales could impact Broadcom's revenue, but its diversified portfolio may help mitigate some of these effects. Broadcom's strategy includes focusing on high-margin products, which could provide some cushion against market volatility.\n",
      "\n",
      "### Texas Instruments\n",
      "\n",
      "Texas Instruments (TI) has a notable presence in the mobile phone market through its analog and embedded processing chips. These components are essential for various functions in mobile devices, including power management and signal processing. TI's extensive product range and strong customer relationships position it well, but a slowdown in mobile phone sales could affect its revenue. The company has been focusing on expanding its presence in industrial and automotive markets, which may offset some of the negative impacts from the mobile phone sector.\n",
      "\n",
      "### Intel\n",
      "\n",
      "Intel's exposure to the mobile phone market is relatively limited compared to other companies on this list. The company has struggled to gain a significant foothold in the mobile chip segment, facing strong competition from established players like Qualcomm and MediaTek. As a result, the de-acceleration in the mobile phone market is less likely to have a major impact on Intel's overall business. Intel has been shifting its focus towards data-centric businesses, including data centers and AI, which are expected to drive future growth.\n",
      "\n",
      "### Nvidia\n",
      "\n",
      "Nvidia has been expanding its presence in the mobile chipset market, particularly through its Tegra processors used in gaming devices and automotive applications. While the company's primary revenue still comes from its GPU business for gaming and data centers, the mobile phone market represents a growing segment. A slowdown in mobile phone sales could hinder Nvidia's plans to expand in this area, but the impact on its overall revenue is expected to be limited due to its strong performance in other sectors.[0] Documents\n"
     ]
    }
   ],
   "source": [
    "section = await section_writer.ainvoke(\n",
    "    {\n",
    "        'outline': refined_outline.as_str,\n",
    "        'section': refined_outline.sections[1].section_title,\n",
    "        'topic': example_topic\n",
    "    }\n",
    ")\n",
    "\n",
    "print(section.as_str)"
   ]
  },
  {
   "cell_type": "code",
   "execution_count": 50,
   "metadata": {},
   "outputs": [],
   "source": [
    "from IPython.display import Markdown"
   ]
  },
  {
   "cell_type": "code",
   "execution_count": 51,
   "metadata": {},
   "outputs": [
    {
     "data": {
      "text/markdown": [
       "## US Semiconductor Companies with Exposure to Mobile Phones\n",
       "\n",
       "The mobile phone market has been a significant driver of revenue for many US-based semiconductor companies. However, the recent trend of mobile phone de-acceleration poses both challenges and opportunities for these companies. This section identifies the key US-based semiconductor companies with substantial exposure to the mobile phone market and analyzes their specific situations.\n",
       "\n",
       "### Qualcomm\n",
       "\n",
       "Qualcomm is heavily exposed to the mobile phone market through its Snapdragon processors, which are used in a wide range of smartphones. The company also generates significant revenue from licensing its 5G technology to mobile phone manufacturers. In 2022, despite an overall decline in mobile phone semiconductor revenues, Qualcomm managed to maintain a strong market position due to its diversified product offerings and strong average selling prices (ASPs). However, the company faces risks from decreasing demand and inventory corrections in the mobile phone market.\n",
       "\n",
       "### Broadcom\n",
       "\n",
       "Broadcom provides a variety of semiconductor solutions for wireless and broadband communication products, including those used in mobile phones. The company's exposure to the mobile phone market is significant, though it also serves other segments such as data centers and networking. The de-acceleration in mobile phone sales could impact Broadcom's revenue, but its diversified portfolio may help mitigate some of these effects. Broadcom's strategy includes focusing on high-margin products, which could provide some cushion against market volatility.\n",
       "\n",
       "### Texas Instruments\n",
       "\n",
       "Texas Instruments (TI) has a notable presence in the mobile phone market through its analog and embedded processing chips. These components are essential for various functions in mobile devices, including power management and signal processing. TI's extensive product range and strong customer relationships position it well, but a slowdown in mobile phone sales could affect its revenue. The company has been focusing on expanding its presence in industrial and automotive markets, which may offset some of the negative impacts from the mobile phone sector.\n",
       "\n",
       "### Intel\n",
       "\n",
       "Intel's exposure to the mobile phone market is relatively limited compared to other companies on this list. The company has struggled to gain a significant foothold in the mobile chip segment, facing strong competition from established players like Qualcomm and MediaTek. As a result, the de-acceleration in the mobile phone market is less likely to have a major impact on Intel's overall business. Intel has been shifting its focus towards data-centric businesses, including data centers and AI, which are expected to drive future growth.\n",
       "\n",
       "### Nvidia\n",
       "\n",
       "Nvidia has been expanding its presence in the mobile chipset market, particularly through its Tegra processors used in gaming devices and automotive applications. While the company's primary revenue still comes from its GPU business for gaming and data centers, the mobile phone market represents a growing segment. A slowdown in mobile phone sales could hinder Nvidia's plans to expand in this area, but the impact on its overall revenue is expected to be limited due to its strong performance in other sectors.[0] Documents"
      ],
      "text/plain": [
       "<IPython.core.display.Markdown object>"
      ]
     },
     "execution_count": 51,
     "metadata": {},
     "output_type": "execute_result"
    }
   ],
   "source": [
    "Markdown(section.as_str)"
   ]
  },
  {
   "cell_type": "markdown",
   "metadata": {},
   "source": [
    "### Generate final article"
   ]
  },
  {
   "cell_type": "code",
   "execution_count": 52,
   "metadata": {},
   "outputs": [],
   "source": [
    "writer_prompt = ChatPromptTemplate.from_messages(\n",
    "    [\n",
    "        (\n",
    "            'system',\n",
    "            'You are an expert equity research analyst. Write the complete financial report on {topic} using the following section drafts: \\n\\n'\n",
    "            '{draft}\\n\\nStrictly follow wikipedia format guidelines.'\n",
    "        ),\n",
    "        (\n",
    "            'user',\n",
    "            'Write the complete financial report using markdown format. Organize citations using footnotes like \"[1]\", '\n",
    "            'avoiding duplicates in the footer. Include URLs in the footer.'\n",
    "        )\n",
    "    ]\n",
    ")\n",
    "\n",
    "writer = writer_prompt | GOOD_LLM | StrOutputParser()"
   ]
  },
  {
   "cell_type": "code",
   "execution_count": 53,
   "metadata": {},
   "outputs": [
    {
     "data": {
      "text/markdown": [
       "# Financial Report: Impact of Mobile Phone Market De-Acceleration on US-Based Semiconductor Companies\n",
       "\n",
       "## Introduction\n",
       "\n",
       "The mobile phone market has been a significant driver of revenue for many US-based semiconductor companies. However, recent trends indicate a de-acceleration in this market, posing both challenges and opportunities for these companies. This report identifies key US-based semiconductor companies with substantial exposure to the mobile phone market and analyzes their specific situations.\n",
       "\n",
       "## US Semiconductor Companies with Exposure to Mobile Phones\n",
       "\n",
       "### Qualcomm\n",
       "\n",
       "Qualcomm is heavily exposed to the mobile phone market through its Snapdragon processors, which are used in a wide range of smartphones. The company also generates significant revenue from licensing its 5G technology to mobile phone manufacturers. In 2022, despite an overall decline in mobile phone semiconductor revenues, Qualcomm managed to maintain a strong market position due to its diversified product offerings and strong average selling prices (ASPs). However, the company faces risks from decreasing demand and inventory corrections in the mobile phone market[1].\n",
       "\n",
       "### Broadcom\n",
       "\n",
       "Broadcom provides a variety of semiconductor solutions for wireless and broadband communication products, including those used in mobile phones. The company's exposure to the mobile phone market is significant, though it also serves other segments such as data centers and networking. The de-acceleration in mobile phone sales could impact Broadcom's revenue, but its diversified portfolio may help mitigate some of these effects. Broadcom's strategy includes focusing on high-margin products, which could provide some cushion against market volatility[2].\n",
       "\n",
       "### Texas Instruments\n",
       "\n",
       "Texas Instruments (TI) has a notable presence in the mobile phone market through its analog and embedded processing chips. These components are essential for various functions in mobile devices, including power management and signal processing. TI's extensive product range and strong customer relationships position it well, but a slowdown in mobile phone sales could affect its revenue. The company has been focusing on expanding its presence in industrial and automotive markets, which may offset some of the negative impacts from the mobile phone sector[3].\n",
       "\n",
       "### Intel\n",
       "\n",
       "Intel's exposure to the mobile phone market is relatively limited compared to other companies on this list. The company has struggled to gain a significant foothold in the mobile chip segment, facing strong competition from established players like Qualcomm and MediaTek. As a result, the de-acceleration in the mobile phone market is less likely to have a major impact on Intel's overall business. Intel has been shifting its focus towards data-centric businesses, including data centers and AI, which are expected to drive future growth[4].\n",
       "\n",
       "### Nvidia\n",
       "\n",
       "Nvidia has been expanding its presence in the mobile chipset market, particularly through its Tegra processors used in gaming devices and automotive applications. While the company's primary revenue still comes from its GPU business for gaming and data centers, the mobile phone market represents a growing segment. A slowdown in mobile phone sales could hinder Nvidia's plans to expand in this area, but the impact on its overall revenue is expected to be limited due to its strong performance in other sectors[5].\n",
       "\n",
       "## Conclusion\n",
       "\n",
       "The de-acceleration of the mobile phone market poses various risks and opportunities for US-based semiconductor companies. Qualcomm and Broadcom face significant exposure due to their extensive involvement in mobile phone semiconductors, while Texas Instruments may also experience some impact. Intel and Nvidia, with their more diversified portfolios, are less likely to be significantly affected. Companies with a focus on high-margin products and diversified market segments may be better positioned to navigate this challenging environment.\n",
       "\n",
       "---\n",
       "\n",
       "## Footnotes\n",
       "\n",
       "[1] \"Qualcomm.\" Wikipedia. [https://en.wikipedia.org/wiki/Qualcomm](https://en.wikipedia.org/wiki/Qualcomm)\n",
       "\n",
       "[2] \"Broadcom Inc.\" Wikipedia. [https://en.wikipedia.org/wiki/Broadcom_Inc.](https://en.wikipedia.org/wiki/Broadcom_Inc.)\n",
       "\n",
       "[3] \"Texas Instruments.\" Wikipedia. [https://en.wikipedia.org/wiki/Texas_Instruments](https://en.wikipedia.org/wiki/Texas_Instruments)\n",
       "\n",
       "[4] \"Intel.\" Wikipedia. [https://en.wikipedia.org/wiki/Intel](https://en.wikipedia.org/wiki/Intel)\n",
       "\n",
       "[5] \"Nvidia.\" Wikipedia. [https://en.wikipedia.org/wiki/Nvidia](https://en.wikipedia.org/wiki/Nvidia)"
      ],
      "text/plain": [
       "<IPython.core.display.Markdown object>"
      ]
     },
     "execution_count": 53,
     "metadata": {},
     "output_type": "execute_result"
    }
   ],
   "source": [
    "# for tok in writer.stream({'topic': example_topic, 'draft': section.as_str}):\n",
    "#     print(tok, end='')\n",
    "example_response = writer.invoke({'topic': example_topic, 'draft': section.as_str})\n",
    "Markdown(example_response)"
   ]
  },
  {
   "cell_type": "markdown",
   "metadata": {},
   "source": [
    "## Final Flow\n",
    "6 main stages in sequence:\n",
    "1. Generate the initial outline + perspectives\n",
    "2. Batch converse with each perspective to expand the content for the article\n",
    "3. Refine the outline based on the conversations\n",
    "4. Index the reference docs from the conversations\n",
    "5. Write the individual sections of the article\n",
    "6. Write the final financial report"
   ]
  },
  {
   "cell_type": "code",
   "execution_count": 48,
   "metadata": {},
   "outputs": [],
   "source": [
    "class ResearchState(TypedDict):\n",
    "    topic: str\n",
    "    outline: Outline\n",
    "    editors: List[Editor]\n",
    "    interview_results: List[InterviewState]\n",
    "\n",
    "    # the final sections output\n",
    "    sections: List[ContentsSection]\n",
    "    article: str"
   ]
  },
  {
   "cell_type": "code",
   "execution_count": 49,
   "metadata": {},
   "outputs": [],
   "source": [
    "import asyncio\n",
    "\n",
    "async def initialize_research(state: ResearchState):\n",
    "    topic = state['topic']\n",
    "    coros = (\n",
    "        generate_outline_direct.ainvoke({'topic': topic}), \n",
    "        survey_subjects.ainvoke(topic)\n",
    "    )\n",
    "    results = await asyncio.gather(*coros)\n",
    "    return {\n",
    "        **state,\n",
    "        'outline': results[0],\n",
    "        'editors': results[1].editors\n",
    "    }\n",
    "\n",
    "async def conduct_interviews(state: ResearchState):\n",
    "    topic = state['topic']\n",
    "    initial_states = [\n",
    "        {\n",
    "            'editor': editor,\n",
    "            'messages': [\n",
    "                AIMessage(\n",
    "                    content=f'So you said you were writing an article on {topic}?',\n",
    "                    name='subject_matter_expert'\n",
    "                )\n",
    "            ]\n",
    "        }\n",
    "        for editor in state['editors']\n",
    "    ]\n",
    "\n",
    "    # we call into the sub-graph here to parallelize the interviews\n",
    "    interview_results = await interview_graph.abatch(initial_states)\n",
    "\n",
    "    return {\n",
    "        **state,\n",
    "        'interview_results': interview_results\n",
    "    }\n",
    "\n",
    "def format_conversation(interview_state):\n",
    "    messages = interview_state['messages']\n",
    "    convo = '\\n'.join(f'{m.name}: {m.content}' for m in messages)\n",
    "    return f'Conversation with {interview_state[\"editor\"].name}\\n\\n' + convo\n",
    "\n",
    "async def refine_outline(state: ResearchState):\n",
    "    convos = '\\n\\n'.join([format_conversation(interview_state) for interview_state in state['interview_results']])\n",
    "    updated_outline = await refine_outline_chain.ainvoke({\n",
    "        'topic': state['topic'],\n",
    "        'old_outline': state['outline'].as_str,\n",
    "        'conversations': convos\n",
    "    })\n",
    "    return {**state, 'outline': updated_outline}\n",
    "\n",
    "async def index_references(state: ResearchState):\n",
    "    all_docs = []\n",
    "    for interview_state in state['interview_results']:\n",
    "        reference_docs = [Document(page_content=v, metadata={'source': k}) for k, v in interview_state['references'].items()]\n",
    "        all_docs.extend(reference_docs)\n",
    "    await vectorstore.aadd_documents(all_docs)\n",
    "    return state\n",
    "\n",
    "async def write_sections(state: ResearchState):\n",
    "    outline = state['outline']\n",
    "    sections = await section_writer.abatch(\n",
    "        [\n",
    "            {\n",
    "                'outline': refine_outline.as_str,\n",
    "                'section': section.section_title,\n",
    "                'topic': state['topic']\n",
    "            }\n",
    "            for section in outline.sections\n",
    "        ]\n",
    "    )\n",
    "\n",
    "    return {\n",
    "        **state,\n",
    "        'sections': sections\n",
    "    }\n",
    "\n",
    "async def write_article(state: ResearchState):\n",
    "    topic = state['topic']\n",
    "    sections = state['sections']\n",
    "    draft = '\\n\\n'.join([section.as_str for section in sections])\n",
    "    article = await writer.ainvoke({'topic': topic, 'draft': draft})\n",
    "    return {**state, 'article': article}"
   ]
  },
  {
   "cell_type": "code",
   "execution_count": 50,
   "metadata": {},
   "outputs": [],
   "source": [
    "storm_builder = StateGraph(ResearchState)\n",
    "\n",
    "nodes = [\n",
    "    ('init_research', initialize_research),\n",
    "    ('conduct_interviews', conduct_interviews),\n",
    "    ('refine_outline', refine_outline),\n",
    "    ('index_references', index_references),\n",
    "    ('write_sections', write_sections),\n",
    "    ('write_article', write_article)\n",
    "]\n",
    "for i in range(len(nodes)):\n",
    "    name, node = nodes[i]\n",
    "    storm_builder.add_node(name, node)\n",
    "    if i > 0:\n",
    "        storm_builder.add_edge(nodes[i - 1][0], name)\n",
    "\n",
    "storm_builder.add_edge(START, nodes[0][0])\n",
    "storm_builder.add_edge(nodes[-1][0], END)\n",
    "storm = storm_builder.compile(checkpointer=MemorySaver())"
   ]
  },
  {
   "cell_type": "code",
   "execution_count": 51,
   "metadata": {},
   "outputs": [
    {
     "data": {
      "image/jpeg": "[encoded data removed]",
      "text/plain": [
       "<IPython.core.display.Image object>"
      ]
     },
     "metadata": {},
     "output_type": "display_data"
    }
   ],
   "source": [
    "display(Image(storm.get_graph().draw_mermaid_png(draw_method=MermaidDrawMethod.API)))"
   ]
  },
  {
   "cell_type": "code",
   "execution_count": 53,
   "metadata": {},
   "outputs": [
    {
     "ename": "",
     "evalue": "",
     "output_type": "error",
     "traceback": [
      "\u001b[1;31mThe Kernel crashed while executing code in the current cell or a previous cell. \n",
      "\u001b[1;31mPlease review the code in the cell(s) to identify a possible cause of the failure. \n",
      "\u001b[1;31mClick <a href='https://aka.ms/vscodeJupyterKernelCrash'>here</a> for more info. \n",
      "\u001b[1;31mView Jupyter <a href='command:jupyter.viewOutput'>log</a> for further details."
     ]
    }
   ],
   "source": [
    "config = {'configurable': {'thread_id': 'my-thread'}}\n",
    "async for step in storm.astream({'topic': 'Which industries and companies will be most impacted by the assassination attempt of Donald Trump'}, config):\n",
    "    name = next(iter(step))\n",
    "    print(name)\n",
    "    print('-- ', str(step[name])[:300])"
   ]
  },
  {
   "cell_type": "code",
   "execution_count": null,
   "metadata": {},
   "outputs": [],
   "source": []
  }
 ],
 "metadata": {
  "kernelspec": {
   "display_name": "pinegap",
   "language": "python",
   "name": "python3"
  },
  "language_info": {
   "codemirror_mode": {
    "name": "ipython",
    "version": 3
   },
   "file_extension": ".py",
   "mimetype": "text/x-python",
   "name": "python",
   "nbconvert_exporter": "python",
   "pygments_lexer": "ipython3",
   "version": "3.10.12"
  }
 },
 "nbformat": 4,
 "nbformat_minor": 2
}
