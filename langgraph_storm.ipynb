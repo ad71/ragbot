{
 "cells": [
  {
   "cell_type": "markdown",
   "metadata": {},
   "source": [
    "# STORM\n",
    "### Synthesis of Topic Outlines through Retrieval and Multi-perspective question asking.\n",
    "\n",
    "Research assistant that extends the idea of 'outline-driven RAG' for richer article generation.\n",
    "\n",
    "It applies two main insights to produce more organized and comprehensive articles:\n",
    "1. Creating an outline (planning) by querying similar topics helps improve coverage.\n",
    "2. Multi-perspective, grounded (in search) conversation simulation helps increase the reference count and information density."
   ]
  },
  {
   "cell_type": "markdown",
   "metadata": {},
   "source": [
    "#### Overview\n",
    "1. Generate initial outline + survey related subjects\n",
    "2. Identify distiinct perspectives\n",
    "3. \"Interview subject matter experts\" (role-playing LLMs)\n",
    "4. Refine outline (using references)\n",
    "5. Write sections, then write article\n",
    "\n",
    "The expert interviews stage occurs between the role-playing article writer and a research expert. The \"expert\" is able to query external knowledge and respond to pointed questions, saving cited sources to a vectorstore so that the later refinement stages can synthesize the full article.\n",
    "\n",
    "Hyperparameters to restrict the potentially infinite research breadth:\n",
    "- N: number of perspectives to survey\n",
    "- M: Max number of conversation turns"
   ]
  },
  {
   "cell_type": "code",
   "execution_count": 1,
   "metadata": {},
   "outputs": [
    {
     "data": {
      "text/plain": [
       "True"
      ]
     },
     "execution_count": 1,
     "metadata": {},
     "output_type": "execute_result"
    }
   ],
   "source": [
    "from dotenv import load_dotenv\n",
    "load_dotenv()"
   ]
  },
  {
   "cell_type": "markdown",
   "metadata": {},
   "source": [
    "### Select LLMs\n",
    "We will have a faster LLM to do most of the work, but a slower, long-context model to distill the conversations and write the final report."
   ]
  },
  {
   "cell_type": "code",
   "execution_count": 2,
   "metadata": {},
   "outputs": [],
   "source": [
    "from langchain_openai import ChatOpenAI\n",
    "\n",
    "FAST_LLM = ChatOpenAI(model='gpt-3.5-turbo')\n",
    "GOOD_LLM = ChatOpenAI(model='gpt-4o')"
   ]
  },
  {
   "cell_type": "markdown",
   "metadata": {},
   "source": [
    "### Generate Initial Outline\n",
    "For many topics, your LLM may have an initial idea of the important and related topics. We can generate an initial outline to be referred after our research. Below, we will use our 'fast' llm to generate the outline."
   ]
  },
  {
   "cell_type": "code",
   "execution_count": 78,
   "metadata": {},
   "outputs": [],
   "source": [
    "import json\n",
    "import asyncio\n",
    "\n",
    "from langgraph.graph import END, StateGraph, START\n",
    "\n",
    "\n",
    "from langchain_core.tools import tool\n",
    "from langchain_openai import OpenAIEmbeddings\n",
    "from langchain_core.documents import Document\n",
    "from langchain_core.pydantic_v1 import BaseModel, Field\n",
    "from langchain_core.output_parsers import StrOutputParser\n",
    "from langchain_community.retrievers import WikipediaRetriever\n",
    "from langchain_community.vectorstores import SKLearnVectorStore\n",
    "from langchain_core.prompts import ChatPromptTemplate, MessagesPlaceholder\n",
    "from langchain_core.messages import AnyMessage, AIMessage, HumanMessage, ToolMessage\n",
    "from langchain_community.utilities.duckduckgo_search import DuckDuckGoSearchAPIWrapper\n",
    "from langchain_core.runnables import RunnableLambda, RunnableConfig, chain as as_runnable\n",
    "\n",
    "from typing import List, Optional, Annotated, TypedDict"
   ]
  },
  {
   "cell_type": "code",
   "execution_count": 4,
   "metadata": {},
   "outputs": [],
   "source": [
    "direct_gen_outline_prompt = ChatPromptTemplate.from_messages(\n",
    "    [\n",
    "        (\n",
    "            'system',\n",
    "            'You are a an experienced equity research analyst. Write an outline for an analysis report about a user-provided topic. Be comprehensive and specific.'\n",
    "        ),\n",
    "        ('user', '{topic}')\n",
    "    ]\n",
    ")\n",
    "\n",
    "\n",
    "class Subsection(BaseModel):\n",
    "    subsection_title: str = Field(..., title='Title of the subsection')\n",
    "    description: str = Field(..., title='Content of the subsection')\n",
    "\n",
    "    @property\n",
    "    def as_str(self) -> str:\n",
    "        return f'### {self.subsection_title}\\n\\n{self.description}'.strip()\n",
    "    \n",
    "\n",
    "class Section(BaseModel):\n",
    "    section_title: str = Field(..., title='Title of the section')\n",
    "    description: str = Field(..., title='Content of the section')\n",
    "    subsections: Optional[List[Subsection]] = Field(default=None, title='Titles and descriptions for each subsection of the analysis report.')\n",
    "\n",
    "    @property\n",
    "    def as_str(self) -> str:\n",
    "        subsections = '\\n\\n'.join(f'### {subsection.subsection_title}\\n\\n{subsection.description}' for subsection in self.subsections or [])\n",
    "        return f'## {self.section_title}\\n\\n{self.description}\\n\\n{subsections}'.strip()\n",
    "    \n",
    "\n",
    "class Outline(BaseModel):\n",
    "    page_title: str = Field(..., title='Title of the Report')\n",
    "    sections: List[Section] = Field(\n",
    "        default_factory=list,\n",
    "        title='Titles and descriptions for each section of the Report page.'\n",
    "    )\n",
    "\n",
    "    @property\n",
    "    def as_str(self) -> str:\n",
    "        sections = '\\n\\n'.join(section.as_str for section in self.sections)\n",
    "        return f'# {self.page_title}\\n\\n{sections}'.strip()\n",
    "    \n",
    "generate_outline_direct = direct_gen_outline_prompt | FAST_LLM.with_structured_output(Outline)"
   ]
  },
  {
   "cell_type": "code",
   "execution_count": 5,
   "metadata": {},
   "outputs": [],
   "source": [
    "example_topic = 'Impact on silicon industry due to the China Taiwan war'"
   ]
  },
  {
   "cell_type": "code",
   "execution_count": 6,
   "metadata": {},
   "outputs": [],
   "source": [
    "initial_outline = generate_outline_direct.invoke({'topic': example_topic})"
   ]
  },
  {
   "cell_type": "code",
   "execution_count": 7,
   "metadata": {},
   "outputs": [
    {
     "name": "stdout",
     "output_type": "stream",
     "text": [
      "# Analysis Report: Impact of China-Taiwan Conflict on Silicon Industry\n",
      "\n",
      "## Introduction\n",
      "\n",
      "Provide an overview of the China-Taiwan conflict and its potential implications on the silicon industry.\n",
      "\n",
      "## Current State of the Silicon Industry\n",
      "\n",
      "Discuss the current trends, key players, market size, and growth drivers in the global silicon industry.\n",
      "\n",
      "## Dependency on Taiwan in the Silicon Industry\n",
      "\n",
      "Examine the extent to which the silicon industry is dependent on Taiwan for raw materials, manufacturing, and technology.\n",
      "\n",
      "## Potential Disruptions in the Supply Chain\n",
      "\n",
      "Assess the potential disruptions in the silicon industry's supply chain due to the China-Taiwan conflict, including implications for production, pricing, and availability.\n",
      "\n",
      "## Impact on Key Players and Market Dynamics\n",
      "\n",
      "Analyze how major players in the silicon industry, such as TSMC, Intel, and Samsung, may be affected by the conflict, and how market dynamics could shift.\n",
      "\n",
      "## Mitigation Strategies and Contingency Plans\n",
      "\n",
      "Explore potential mitigation strategies that companies in the silicon industry can adopt to navigate the uncertainties arising from the China-Taiwan conflict.\n"
     ]
    }
   ],
   "source": [
    "print(initial_outline.as_str)"
   ]
  },
  {
   "cell_type": "markdown",
   "metadata": {},
   "source": [
    "### Expand topics\n",
    "While language models do store some Wikipedia-like knowledge in their parameters, you will get better results by incorporating relevant and recent information using a search engine.\n",
    "\n",
    "We will start our search by generating a list of related topics, sourced from Wikipedia."
   ]
  },
  {
   "cell_type": "code",
   "execution_count": 8,
   "metadata": {},
   "outputs": [],
   "source": [
    "gen_related_topics_prompt = ChatPromptTemplate.from_template(\n",
    "    '''I'm writing a financial report for a topic mentioned below. Please identify and recommend some Wikipedia pages on closely related subjects.\n",
    "    I'm looking for examples that provide insights into interesting aspects commonly associated with this topic, or examples that help me understand the typical content and structure included in Wikipedia pages for similar topics.\n",
    "    Please list as many subjects and urls as you can.\n",
    "\n",
    "    Topic of interest: {topic}''')\n",
    "\n",
    "class RelatedSubjects(BaseModel):\n",
    "    topics: List[str] = Field(description='Comprehensive list of related subjects as background research')\n",
    "\n",
    "expand_chain = gen_related_topics_prompt | FAST_LLM.with_structured_output(RelatedSubjects)"
   ]
  },
  {
   "cell_type": "code",
   "execution_count": 9,
   "metadata": {},
   "outputs": [
    {
     "data": {
      "text/plain": [
       "RelatedSubjects(topics=['Silicon Industry', 'China-Taiwan Conflict', 'Technology Impact', 'Economic Impact'])"
      ]
     },
     "execution_count": 9,
     "metadata": {},
     "output_type": "execute_result"
    }
   ],
   "source": [
    "related_subjects = await expand_chain.ainvoke({'topic': example_topic})\n",
    "related_subjects"
   ]
  },
  {
   "cell_type": "markdown",
   "metadata": {},
   "source": [
    "### Generate Perspectives\n",
    "\n",
    "From these related subjects, we can select representative Wikipedia editors as 'subject matter experts' with distinct backgrounds and affiliations. These will help distribute the research process to encourage a more well-rounded final report."
   ]
  },
  {
   "cell_type": "code",
   "execution_count": 10,
   "metadata": {},
   "outputs": [],
   "source": [
    "class Editor(BaseModel):\n",
    "    affiliation: str = Field(description='Primary affiliation of the editor.')\n",
    "    name: str = Field(description='Name of the editor', pattern=r'^[a-zA-Z0-9_-]{1,64}$')\n",
    "    role: str = Field(description='Role of the editor in the context of the topic.')\n",
    "    description: str = Field(description='Description of the editor\\'s focus, concerns and motives')\n",
    "\n",
    "    @property\n",
    "    def persona(self) -> str:\n",
    "        return f'Name: {self.name}\\nRole: {self.role}\\nAffiliation: {self.affiliation}\\nDescription: {self.description}\\n'\n",
    "    \n",
    "\n",
    "class Perspectives(BaseModel):\n",
    "    editors: List[Editor] = Field(description='Comprehensive list of editors with their roles and affiliations.')\n",
    "\n",
    "\n",
    "gen_perspectives_prompt = ChatPromptTemplate.from_messages(\n",
    "    [\n",
    "        (\n",
    "            'system',\n",
    "            '''You need to select a diverse (and distinct) group of equity research analysts, equity researchers and editors who will work together to create a comprehensive article on the topic. Each of them represents a different perspective, role, or affiliation related to this topic. \n",
    "            You can use other Wikipedia pages of related topics for inspiration. For each editor, add a description of what they will focus on. \n",
    "            \n",
    "            Wiki pages outlines of related topics for inspiration: \n",
    "            {examples}''',\n",
    "        ),\n",
    "        (\n",
    "            'user'\n",
    "            'Topic of interest: {topic}'\n",
    "        )\n",
    "    ]\n",
    ")\n",
    "\n",
    "gen_perspectives_chain = gen_perspectives_prompt | FAST_LLM.with_structured_output(Perspectives)"
   ]
  },
  {
   "cell_type": "code",
   "execution_count": 11,
   "metadata": {},
   "outputs": [],
   "source": [
    "wikipedia_retriever = WikipediaRetriever(load_all_available_meta=True, top_k_results=1)\n",
    "\n",
    "def format_doc(doc, max_length=1000):\n",
    "    related = '- '.join(doc.metadata['categories'])\n",
    "    return f\"### {doc.metadata['title']}\\n\\nSummary: {doc.page_content}\\n\\nRelated\\n{related}\"[:max_length]\n",
    "\n",
    "def format_docs(docs):\n",
    "    return '\\n\\n'.join(format_doc(doc) for doc in docs)\n",
    "\n",
    "@as_runnable\n",
    "async def survey_subjects(topic: str):\n",
    "    related_subjects = await expand_chain.ainvoke({'topic': topic})\n",
    "    retrieved_docs = await wikipedia_retriever.abatch(related_subjects.topics, return_exceptions=True)\n",
    "    all_docs = []\n",
    "    for docs in retrieved_docs:\n",
    "        if isinstance(docs, BaseException):\n",
    "            continue\n",
    "        all_docs.extend(docs)\n",
    "    formatted = format_docs(all_docs)\n",
    "    return await gen_perspectives_chain.ainvoke({'examples': formatted, 'topic': topic})"
   ]
  },
  {
   "cell_type": "code",
   "execution_count": 12,
   "metadata": {},
   "outputs": [],
   "source": [
    "perspectives = await survey_subjects.ainvoke(example_topic)"
   ]
  },
  {
   "cell_type": "code",
   "execution_count": 13,
   "metadata": {},
   "outputs": [
    {
     "data": {
      "text/plain": [
       "{'editors': [{'affiliation': 'Equity Research Analyst',\n",
       "   'name': 'AliceSmith',\n",
       "   'role': 'Equity Research Analyst',\n",
       "   'description': 'Alice will focus on analyzing the impact of the China-Taiwan conflict on the silicon industry, including supply chain disruptions, market trends, and potential investment opportunities.'},\n",
       "  {'affiliation': 'Equity Researcher',\n",
       "   'name': 'JohnDoe',\n",
       "   'role': 'Equity Researcher',\n",
       "   'description': 'John will provide insights on the technological advancements in the silicon industry, the role of Taiwan and China in semiconductor production, and the implications of the conflict on global tech markets.'},\n",
       "  {'affiliation': 'Editor',\n",
       "   'name': 'EmilyJones',\n",
       "   'role': 'Editor',\n",
       "   'description': \"Emily will oversee the article's structure, ensuring a balanced representation of viewpoints, accuracy in information, and coherence in discussing the impact of the China-Taiwan conflict on the silicon industry.\"}]}"
      ]
     },
     "execution_count": 13,
     "metadata": {},
     "output_type": "execute_result"
    }
   ],
   "source": [
    "perspectives.dict()"
   ]
  },
  {
   "cell_type": "markdown",
   "metadata": {},
   "source": [
    "### Expert Dialog\n",
    "Each wikipedia writer is primed to role-play using the perspectives presented above. It will ask a series of questions of a second \"domain expert\" with access to a search engine. This generates content to generate a refined outline as well as an updated index of reference documents."
   ]
  },
  {
   "cell_type": "markdown",
   "metadata": {},
   "source": [
    "### Interview State\n",
    "The conversation is cyclic, so we will construct it within its own graph. The State will contain messages, the reference docs, and the editor (with its own \"persona\") to make it easy to parallelize these conversations."
   ]
  },
  {
   "cell_type": "code",
   "execution_count": 14,
   "metadata": {},
   "outputs": [],
   "source": [
    "def add_messages(left, right):\n",
    "    if not isinstance(left, list):\n",
    "        left = [left]\n",
    "    if not isinstance(right, list):\n",
    "        right = [right]\n",
    "    return left + right\n",
    "\n",
    "def update_references(references, new_references):\n",
    "    if not references:\n",
    "        references = {}\n",
    "    references.update(new_references)\n",
    "    return references\n",
    "\n",
    "def update_editor(editor, new_editor):\n",
    "    # can only set at the outset\n",
    "    if not editor:\n",
    "        return new_editor\n",
    "    return editor\n",
    "\n",
    "\n",
    "class InterviewState(TypedDict):\n",
    "    messages: Annotated[List[AnyMessage], add_messages]\n",
    "    references: Annotated[Optional[dict], update_references]\n",
    "    editor: Annotated[Optional[Editor], update_editor]"
   ]
  },
  {
   "cell_type": "markdown",
   "metadata": {},
   "source": [
    "### Dialog roles\n",
    "The graph will have two participants: the wikipedia editor (`generate_question`), who asks questions based on its assigned role, and a domain expert (`gen_answer_chain`), who uses a search engine to answer the questions as accurately as possible."
   ]
  },
  {
   "cell_type": "code",
   "execution_count": 15,
   "metadata": {},
   "outputs": [],
   "source": [
    "gen_qn_prompt = ChatPromptTemplate.from_messages(\n",
    "    [\n",
    "        (\n",
    "            'system',\n",
    "            '''You are an experienced equity research analyst with great critical thinking skills. \n",
    "            You want to edit a specific report. \n",
    "            Besides your exceptional writing skills, you have a specific focus when researching the topic. \n",
    "            Now you are chatting with an expert to get information. Ask good questions to get more useful information. \n",
    "            Make sure to get answers for specific industries, specific companies or ticker symbols and verticals within companies, as and when relevant. \n",
    "            \n",
    "            When you have no more questions to ask, say \"Thank you so much for your help!\" to end the conversation. \n",
    "            Please only ask one question at a time and don't ask what you have asked before. \n",
    "            Be comprehensive and curious, gaining as much unique insight from the expert as possible.\n",
    "            \n",
    "            Stay true to your specific perspective: \n",
    "            \n",
    "            {persona}''',\n",
    "        ),\n",
    "        MessagesPlaceholder(variable_name='messages', optional=True)\n",
    "    ]\n",
    ")\n",
    "\n",
    "def tag_with_name(ai_message: AIMessage, name: str):\n",
    "    ai_message.name = name\n",
    "    return ai_message\n",
    "\n",
    "def swap_roles(state: InterviewState, name: str):\n",
    "    converted = []\n",
    "    for message in state['messages']:\n",
    "        if isinstance(message, AIMessage) and message.name != name:\n",
    "            message = HumanMessage(**message.dict(exclude={'type'}))\n",
    "        converted.append(message)\n",
    "    return {'messages': converted}\n",
    "\n",
    "@as_runnable\n",
    "async def generate_question(state: InterviewState):\n",
    "    editor = state['editor']\n",
    "    gn_chain = (\n",
    "        RunnableLambda(swap_roles).bind(name=editor.name)\n",
    "        | gen_qn_prompt.partial(persona=editor.persona)\n",
    "        | FAST_LLM\n",
    "        | RunnableLambda(tag_with_name).bind(name=editor.name)\n",
    "    )\n",
    "    result = await gn_chain.ainvoke(state)\n",
    "    return {'messages': [result]}"
   ]
  },
  {
   "cell_type": "code",
   "execution_count": 16,
   "metadata": {},
   "outputs": [
    {
     "data": {
      "text/plain": [
       "\"Yes, that's correct. I am focusing on analyzing the impact of the China-Taiwan conflict on the silicon industry, including supply chain disruptions, market trends, and potential investment opportunities. Do you have any insights or information regarding how this conflict could specifically affect the silicon industry?\""
      ]
     },
     "execution_count": 16,
     "metadata": {},
     "output_type": "execute_result"
    }
   ],
   "source": [
    "messages = [\n",
    "    HumanMessage(f'So you said you were writing an article on {example_topic}?')\n",
    "]\n",
    "\n",
    "question = await generate_question.ainvoke(\n",
    "    {\n",
    "        'editor': perspectives.editors[0],\n",
    "        'messages': messages\n",
    "    }\n",
    ")\n",
    "\n",
    "question['messages'][0].content"
   ]
  },
  {
   "cell_type": "markdown",
   "metadata": {},
   "source": [
    "### Answer Questions\n",
    "The `gen_answer_chain` first generates queries (query expansion) to answer the editor's question, then responds with citations."
   ]
  },
  {
   "cell_type": "code",
   "execution_count": 17,
   "metadata": {},
   "outputs": [],
   "source": [
    "class Queries(BaseModel):\n",
    "    queries: List[str] = Field(description='Comprehensive list of search engine queries to answer the user\\'s question')\n",
    "\n",
    "gen_queries_prompt = ChatPromptTemplate.from_messages(\n",
    "    [\n",
    "        (\n",
    "            'system',\n",
    "            'You are a helpful equity research assistant. Query the search engine to answer the user\\'s questions.'\n",
    "        ),\n",
    "        MessagesPlaceholder(variable_name='messages', optional=True)\n",
    "    ]\n",
    ")\n",
    "gen_queries_chain = gen_queries_prompt | GOOD_LLM.with_structured_output(Queries, include_raw=True)"
   ]
  },
  {
   "cell_type": "code",
   "execution_count": 18,
   "metadata": {},
   "outputs": [
    {
     "data": {
      "text/plain": [
       "['China-Taiwan conflict impact on silicon industry',\n",
       " 'China-Taiwan tensions silicon supply chain',\n",
       " 'China-Taiwan conflict semiconductor market trends',\n",
       " 'China-Taiwan conflict investment opportunities silicon industry',\n",
       " 'China-Taiwan impact on silicon production',\n",
       " 'China-Taiwan conflict technology industry effects',\n",
       " 'China-Taiwan tensions and global semiconductor market']"
      ]
     },
     "execution_count": 18,
     "metadata": {},
     "output_type": "execute_result"
    }
   ],
   "source": [
    "queries = await gen_queries_chain.ainvoke({'messages': [HumanMessage(content=question['messages'][0].content)]})\n",
    "queries['parsed'].queries"
   ]
  },
  {
   "cell_type": "code",
   "execution_count": 19,
   "metadata": {},
   "outputs": [],
   "source": [
    "class AnswersWithCitations(BaseModel):\n",
    "    answer: str = Field(description='Comprehensive answer to the user\\'s question with citations.')\n",
    "    cited_urls: List[str] = Field(\n",
    "        description='List of urls cited in the answer.',\n",
    "    )\n",
    "\n",
    "    @property\n",
    "    def as_str(self) -> str:\n",
    "        return f'{self.answer}\\n\\nCitations:\\n\\n' + '\\n'.join(\n",
    "            f'[{i+1}: {url}]' for i, url in enumerate(self.cited_urls)\n",
    "        )\n",
    "    \n",
    "gen_answer_prompt = ChatPromptTemplate.from_messages(\n",
    "    [\n",
    "        (\n",
    "            'system',\n",
    "            '''You are an expert equity research analyst who can use information effectively. \n",
    "            You are chatting with an equity research report writer who wants to write an analysis report on the topic you know. \n",
    "            You have gathered the related information and will now use the information to form a response. \n",
    "            \n",
    "            Make your response as informative as possible and make sure every sentence is supported by the gathered information. \n",
    "            Be sure to mention specific industries, companies and verticals within companies as required. \n",
    "            Each response must be backed up by a citation from a reliable source, formatted as a footnote, reproducing the URLs after your response.'''\n",
    "        ),\n",
    "        MessagesPlaceholder(variable_name='messages', optional=True)\n",
    "    ]\n",
    ")\n",
    "\n",
    "gen_answer_chain = gen_answer_prompt | GOOD_LLM.with_structured_output(AnswersWithCitations, include_raw=True).with_config(run_name='GenerateAnswer')"
   ]
  },
  {
   "cell_type": "code",
   "execution_count": 20,
   "metadata": {},
   "outputs": [],
   "source": [
    "# Tavily is typically a better search engine but free queries are limited.\n",
    "# search_engine = TavilySearchResults(max_results=4)\n",
    "\n",
    "# @tool\n",
    "# async def search_engine(query: str):\n",
    "#     '''Search engine to the internet'''\n",
    "#     results = tavily_search.invoke(query)\n",
    "#     return [{'content': r['content'], 'url': r['url']} for r in results]\n",
    "\n",
    "# DDG\n",
    "search_engine = DuckDuckGoSearchAPIWrapper()\n",
    "\n",
    "@tool\n",
    "async def search_engine(query: str):\n",
    "    '''Search engine to the internet'''\n",
    "    results = DuckDuckGoSearchAPIWrapper()._ddgs_text(query)\n",
    "    return [{'content': r['body'], 'url': r['href']} for r in results]"
   ]
  },
  {
   "cell_type": "code",
   "execution_count": 21,
   "metadata": {},
   "outputs": [],
   "source": [
    "async def gen_answer(state: InterviewState, config: Optional[RunnableConfig]=None, name: str='subject_matter_expert', max_str_len: int=15000):\n",
    "    swapped_state = swap_roles(state, name) # convert all other AI messages\n",
    "    queries = await gen_queries_chain.ainvoke(swapped_state)\n",
    "    query_results = await search_engine.abatch(queries['parsed'].queries, config, return_exceptions=True)\n",
    "    successful_results = [res for res in query_results if not isinstance(res, Exception)]\n",
    "    all_query_results = {res['url']: res['content'] for results in successful_results for res in results}\n",
    "\n",
    "    # we could be more precise about handling max token length if we wanted to here\n",
    "    dumped = json.dumps(all_query_results)[:max_str_len]\n",
    "    ai_message: AIMessage = queries['raw']\n",
    "    tool_call = queries['raw'].additional_kwargs['tool_calls'][0]\n",
    "    tool_id = tool_call['id']\n",
    "    tool_message = ToolMessage(tool_call_id=tool_id, content=dumped)\n",
    "    swapped_state['messages'].extend([ai_message, tool_message])\n",
    "\n",
    "    # only update the shared state with the final answer to avoid polluting the dialog history with intermediate messages\n",
    "    generated = await gen_answer_chain.ainvoke(swapped_state)\n",
    "    cited_urls = set(generated['parsed'].cited_urls)\n",
    "\n",
    "    # save the retrieved information to the shared state for future reference\n",
    "    cited_references = {k: v for k, v in all_query_results.items() if k in cited_urls}\n",
    "    formatted_message = AIMessage(name=name, content=generated['parsed'].as_str)\n",
    "    return {'messages': [formatted_message], 'references': cited_references}"
   ]
  },
  {
   "cell_type": "code",
   "execution_count": 22,
   "metadata": {},
   "outputs": [],
   "source": [
    "example_answer = await gen_answer(\n",
    "    {'messages': [HumanMessage(content=question['messages'][0].content)]}\n",
    ")"
   ]
  },
  {
   "cell_type": "code",
   "execution_count": 23,
   "metadata": {},
   "outputs": [
    {
     "name": "stdout",
     "output_type": "stream",
     "text": [
      "The China-Taiwan conflict has significant implications for the silicon industry, particularly in terms of supply chain disruptions, market trends, and investment opportunities. Taiwan is a critical player in the global semiconductor market, producing 65% of the world's semiconductors and around 90% of the most advanced chips[^1^]. The looming threat of an invasion by China places this supply chain in jeopardy, potentially causing severe disruptions globally[^2^]. Such disruptions can lead to shortages of critical components, affecting industries that rely heavily on these semiconductors, such as consumer electronics, automotive, and telecommunications[^3^].\n",
      "\n",
      "The tension has already led companies to reassess their supply chain dependencies. For instance, the Taiwan Semiconductor Manufacturing Company (TSMC) has been exploring the possibility of moving some of its fabrication plants out of Taiwan, although such a move would be highly complex and costly[^4^]. Additionally, geopolitical factors, including U.S. export restrictions on high-performance semiconductors to China, exacerbate these supply chain uncertainties[^5^].\n",
      "\n",
      "In terms of market trends, the conflict has pushed companies to diversify their manufacturing bases. Countries like the U.S. and Japan are investing heavily in their semiconductor manufacturing capabilities to reduce reliance on Taiwanese and Chinese supply chains[^6^]. This shift is creating new investment opportunities in semiconductor manufacturing equipment, raw materials, and related sectors in these regions[^7^].\n",
      "\n",
      "Overall, while the China-Taiwan conflict poses substantial risks to the silicon industry, it also opens up avenues for investments in alternative supply chains and domestic manufacturing capabilities to mitigate these risks.\n",
      "\n",
      "[^1^]: [USIP](https://www.usip.org/publications/2024/01/silicon-shield-looking-beyond-semiconductors)\n",
      "[^2^]: [Foreign Policy](https://foreignpolicy.com/2024/04/11/semiconductor-chips-taiwan-earthquake-tsmc-choke-point/)\n",
      "[^3^]: [Supply Chain Dive](https://www.supplychaindive.com/news/taiwan-earthquake-impact-semiconductor-supply-chain-tsmc-micron/712388/)\n",
      "[^4^]: [Reuters](https://www.reuters.com/technology/tsmc-says-it-has-discussed-moving-fabs-out-taiwan-such-move-impossible-2024-06-04/)\n",
      "[^5^]: [Baker Institute](https://www.bakerinstitute.org/research/silicon-hegemon-could-china-take-over-taiwans-semiconductor-industry-without-invading)\n",
      "[^6^]: [Atlantic](https://www.theatlantic.com/international/archive/2024/06/china-microchip-technology-competition/678612/)\n",
      "[^7^]: [Taipei Times](https://www.taipeitimes.com/News/front/archives/2023/11/26/2003809715)\n",
      "\n",
      "Citations:\n",
      "\n",
      "[1: https://www.usip.org/publications/2024/01/silicon-shield-looking-beyond-semiconductors]\n",
      "[2: https://foreignpolicy.com/2024/04/11/semiconductor-chips-taiwan-earthquake-tsmc-choke-point/]\n",
      "[3: https://www.supplychaindive.com/news/taiwan-earthquake-impact-semiconductor-supply-chain-tsmc-micron/712388/]\n",
      "[4: https://www.reuters.com/technology/tsmc-says-it-has-discussed-moving-fabs-out-taiwan-such-move-impossible-2024-06-04/]\n",
      "[5: https://www.bakerinstitute.org/research/silicon-hegemon-could-china-take-over-taiwans-semiconductor-industry-without-invading]\n",
      "[6: https://www.theatlantic.com/international/archive/2024/06/china-microchip-technology-competition/678612/]\n",
      "[7: https://www.taipeitimes.com/News/front/archives/2023/11/26/2003809715]\n"
     ]
    }
   ],
   "source": [
    "print(example_answer['messages'][-1].content)"
   ]
  },
  {
   "cell_type": "markdown",
   "metadata": {},
   "source": [
    "### Construct the Interview Graph"
   ]
  },
  {
   "cell_type": "code",
   "execution_count": 24,
   "metadata": {},
   "outputs": [],
   "source": [
    "max_num_turns = 5\n",
    "\n",
    "def route_messages(state: InterviewState, name: str='subject_matter_expert'):\n",
    "    messages = state['messages']\n",
    "    num_responses = len([m for m in messages if isinstance(m, AIMessage) and m.name == name])\n",
    "    if num_responses >= max_num_turns:\n",
    "        return END\n",
    "    last_question = messages[-2]\n",
    "\n",
    "    if last_question.content.endswith('Thank you so much for your help!'):\n",
    "        return END\n",
    "    \n",
    "    return 'ask_question'\n",
    "\n",
    "builder = StateGraph(InterviewState)\n",
    "\n",
    "builder.add_node('ask_question', generate_question)\n",
    "builder.add_node('answer_question', gen_answer)\n",
    "builder.add_conditional_edges('answer_question', route_messages)\n",
    "builder.add_edge('ask_question', 'answer_question')\n",
    "builder.add_edge(START, 'ask_question')\n",
    "interview_graph = builder.compile().with_config(run_name='Conduct Interviews')"
   ]
  },
  {
   "cell_type": "code",
   "execution_count": 25,
   "metadata": {},
   "outputs": [
    {
     "data": {
      "image/jpeg": "[encoded data removed]",
      "text/plain": [
       "<IPython.core.display.Image object>"
      ]
     },
     "metadata": {},
     "output_type": "display_data"
    }
   ],
   "source": [
    "from langchain_core.runnables.graph import CurveStyle, MermaidDrawMethod\n",
    "from IPython.display import display, HTML, Image\n",
    "\n",
    "display(Image(interview_graph.get_graph().draw_mermaid_png(draw_method=MermaidDrawMethod.API)))"
   ]
  },
  {
   "cell_type": "code",
   "execution_count": 27,
   "metadata": {},
   "outputs": [
    {
     "name": "stdout",
     "output_type": "stream",
     "text": [
      "ask_question\n",
      "{'ask_question': {'messages': [AIMessage(content=\"Yes, that's correct. I am focusing on analyzing the impact of the China-Taiwan conflict on the silicon industry, including supply chain disruptions, market trends, and potential investment opportunities. Do you have insights into how this conflict is affecting specific companies within the silicon industry?\", response_metadata={'token_usage': {'completion_tokens': 55, 'prompt_tokens': 254, 'total_tokens': 309}, 'model_name': 'gpt-3.5-turbo', 'system_fingerprint': None, 'finish_reason': 'stop', 'logprobs': None}, name='AliceSmith', id='run-8013add3-3d8c-424d-931e-b6da330ede31-0')]}}\n",
      "-- [AIMessage(content=\"Yes, that's correct. I am focusing on analyzing the impact of the China-Taiwan conflict on the silicon industry, including supply chain disruptions, market trends, and potential investment opportunities. Do you have insights into how this conflict is affecting specific companies \n",
      "answer_question\n",
      "{'answer_question': {'messages': [AIMessage(content=\"The ongoing China-Taiwan conflict has significant implications for the silicon industry, particularly in terms of supply chain disruptions, market trends, and investment opportunities. Taiwan is home to the Taiwan Semiconductor Manufacturing Company (TSMC), which is the world's largest contract chipmaker and produces the majority of the world's most advanced semiconductors. The geopolitical tensions pose a substantial threat to the global supply chain, given that Taiwan accounts for approximately 70% of the world's semiconductor market share.[1][2] Any military action or blockade could severely disrupt the production and distribution of these critical components, affecting industries ranging from consumer electronics to automotive and defense.[3][4] Companies such as Apple, Nvidia, and Qualcomm are heavily reliant on TSMC for their chip supplies.[5] The potential for conflict has led to increased investments in semiconductor manufacturing capabilities outside of Taiwan, with countries like the United States and South Korea ramping up their domestic production efforts to reduce dependency on Taiwanese chips.[6] The U.S. has also imposed export controls on high-performance semiconductors to China, further complicating the situation.[7] In terms of investment opportunities, sectors focused on semiconductor manufacturing equipment and alternative chip production locations are likely to see growth. Companies like ASML, which produces lithography machines essential for chip manufacturing, and Samsung, which is expanding its semiconductor production, are positioned to benefit from these trends.[8] Overall, the China-Taiwan conflict is reshaping the global silicon industry, driving a push for diversification and resilience in the semiconductor supply chain.\\n\\nCitations:\\n\\n[1: https://www.bakerinstitute.org/research/silicon-hegemon-could-china-take-over-taiwans-semiconductor-industry-without-invading]\\n[2: https://www.schiffgold.com/key-gold-news/what-a-china-taiwan-conflict-could-mean-for-semiconductors-gold/]\\n[3: https://www.usnews.com/news/technology/articles/2024-06-04/tsmc-says-it-has-discussed-moving-fabs-out-of-taiwan-but-such-a-move-impossible]\\n[4: https://www.vox.com/technology/2024/4/4/24120498/taiwan-hualien-earthquake-magnitude-tsmc-semiconductor-china-natural-disaster-global-economy]\\n[5: https://www.investors.com/news/taiwan-presidential-race-set-us-china-chip-war-nears-moment-of-truth-for-nvidia-apple-and-the-world/]\\n[6: https://www.nytimes.com/2024/07/08/us/politics/supply-chain-china-tech.html]\\n[7: https://www.theatlantic.com/international/archive/2024/06/china-microchip-technology-competition/678612/]\\n[8: https://www.economist.com/business/2024/05/30/the-soldiers-of-the-silicon-supply-chain-are-worried]\", name='subject_matter_expert')], 'references': {'https://www.theatlantic.com/international/archive/2024/06/china-microchip-technology-competition/678612/': \"Xi not only has hampered Beijing's attainment of great-power status, but has actually achieved the reverse: By choosing a China hostile to the U.S., he now leads a weaker China. Michael Schuman ...\", 'https://www.bakerinstitute.org/research/silicon-hegemon-could-china-take-over-taiwans-semiconductor-industry-without-invading': 'In October 2022, the United States imposed restrictions on the sale of high-performance semiconductors to China in defense of American strategic technology and national security interests. The export controls cover advanced chips as well as machinery and human assistance for manufacturing them. Semiconductor chips are perhaps the most strategic resource of the present era, offering power ...', 'https://www.vox.com/technology/2024/4/4/24120498/taiwan-hualien-earthquake-magnitude-tsmc-semiconductor-china-natural-disaster-global-economy': 'by Bryan Walsh. Apr 4, 2024, 6:00 AM PDT. Rescue teams demolish a building which collapsed following an earthquake on April 3, 2024 in Hualien, Taiwan. Annabelle Chih/Getty Images. Bryan Walsh is ...', 'https://www.economist.com/business/2024/05/30/the-soldiers-of-the-silicon-supply-chain-are-worried': 'A blockade could starve the island of vital energy resources. Even cyber-attacks could be crippling. Yet after decades of belligerence, many Taiwanese greet such threats with a shrug. \"It\\'s ...', 'https://www.nytimes.com/2024/07/08/us/politics/supply-chain-china-tech.html': 'Governments in China, Taiwan, South Korea and elsewhere are also aggressively subsidizing their own chips industries. Still, billions of dollars of new U.S. investment are expected to somewhat ...', 'https://www.usnews.com/news/technology/articles/2024-06-04/tsmc-says-it-has-discussed-moving-fabs-out-of-taiwan-but-such-a-move-impossible': 'Despite the China tensions, the topic of a possible war and its impact on chip supply chains has barely featured at the annual Computex technology trade show this week in Taipei, unless brought up ...', 'https://www.investors.com/news/taiwan-presidential-race-set-us-china-chip-war-nears-moment-of-truth-for-nvidia-apple-and-the-world/': 'The U.S.-China chip war centers on Taiwan, where most advanced chips for the likes of Nvidia and Apple are made. The upcoming Taiwan presidential election may be a turning point.'}}}\n",
      "-- [AIMessage(content=\"The ongoing China-Taiwan conflict has significant implications for the silicon industry, particularly in terms of supply chain disruptions, market trends, and investment opportunities. Taiwan is home to the Taiwan Semiconductor Manufacturing Company (TSMC), which is the world's l\n",
      "ask_question\n",
      "{'ask_question': {'messages': [AIMessage(content=\"That's a comprehensive overview of the impact of the China-Taiwan conflict on the silicon industry. Could you provide more insights into how the potential supply chain disruptions are affecting specific semiconductor manufacturers other than TSMC, such as Intel or AMD, and how they are adapting to mitigate these risks?\", response_metadata={'token_usage': {'completion_tokens': 59, 'prompt_tokens': 947, 'total_tokens': 1006}, 'model_name': 'gpt-3.5-turbo', 'system_fingerprint': None, 'finish_reason': 'stop', 'logprobs': None}, name='AliceSmith', id='run-e28b5b9e-390e-4d76-9235-78aeae7f85b2-0')]}}\n",
      "-- [AIMessage(content=\"That's a comprehensive overview of the impact of the China-Taiwan conflict on the silicon industry. Could you provide more insights into how the potential supply chain disruptions are affecting specific semiconductor manufacturers other than TSMC, such as Intel or AMD, and how th\n",
      "answer_question\n",
      "{'answer_question': {'messages': [AIMessage(content=\"The China-Taiwan conflict is profoundly impacting semiconductor manufacturers like Intel and AMD, pushing them to adapt their strategies to mitigate supply chain risks. Intel, for instance, is taking significant steps to reduce its dependency on Taiwanese semiconductor manufacturing. The company has been expanding its manufacturing capabilities domestically and globally. Intel's strategy focuses on establishing process technology leadership, building a resilient and sustainable global semiconductor supply chain, and creating a world-class foundry business. This aligns with the objectives of the CHIPS Act, which aims to bolster U.S. semiconductor manufacturing and reduce reliance on foreign suppliers.[1][2] Moreover, Intel has been working on expanding its facilities in Arizona, although there have been some delays due to surging costs and labor shortages.[3] On the other hand, AMD, which heavily relies on TSMC for its chip production, is exploring ways to diversify its supply chain. The company has acknowledged the risks associated with its heavy reliance on Taiwanese manufacturing and is considering broadening its chip production suppliers. AMD's latest 4th generation Epyc processor, for example, is manufactured using TSMC's 5nm production node technology, but the company is actively looking for alternative suppliers.[4][5] Furthermore, AMD is partnering across the value chain to address environmental sustainability and human rights issues, showcasing its commitment to building a more resilient supply chain.[6] Both Intel and AMD are thus employing strategic initiatives to mitigate the risks posed by the geopolitical tensions between China and Taiwan, ensuring continuity in their semiconductor supply chains and reducing potential disruptions. Citations: [1: https://www.intel.com/content/www/us/en/newsroom/news/us-chips-act-intel-direct-funding.html] [2: https://www.intel.com/content/www/us/en/newsroom/news/us-chips-act-intel-direct-funding.html] [3: https://asia.nikkei.com/Business/Technology/TSMC-Intel-suppliers-delay-U.S.-plants-on-surging-costs-labor-crunch] [4: https://www.theregister.com/2023/07/24/amd_looks_beyond_tsmc/] [5: https://finance.yahoo.com/news/amd-showcases-innovation-partnerships-advance-131500600.html] [6: https://ir.amd.com/news-events/press-releases/detail/1152/amd-showcases-how-innovation-and-partnerships-advance]\\n\\nCitations:\\n\\n[1: https://www.intel.com/content/www/us/en/newsroom/news/us-chips-act-intel-direct-funding.html]\\n[2: https://www.intel.com/content/www/us/en/newsroom/news/us-chips-act-intel-direct-funding.html]\\n[3: https://asia.nikkei.com/Business/Technology/TSMC-Intel-suppliers-delay-U.S.-plants-on-surging-costs-labor-crunch]\\n[4: https://www.theregister.com/2023/07/24/amd_looks_beyond_tsmc/]\\n[5: https://finance.yahoo.com/news/amd-showcases-innovation-partnerships-advance-131500600.html]\\n[6: https://ir.amd.com/news-events/press-releases/detail/1152/amd-showcases-how-innovation-and-partnerships-advance]\", name='subject_matter_expert')], 'references': {'https://asia.nikkei.com/Business/Technology/TSMC-Intel-suppliers-delay-U.S.-plants-on-surging-costs-labor-crunch': \"TAIPEI -- At least five suppliers to Taiwan Semiconductor Manufacturing Co. and Intel have delayed construction of facilities in Arizona, a sign that rebuilding America's chip supply chain is a ...\", 'https://www.intel.com/content/www/us/en/newsroom/news/us-chips-act-intel-direct-funding.html': \"Intel's strategy is centered on three core elements - establishing process technology leadership, building a more resilient and sustainable global semiconductor supply chain, and creating a world-class foundry business - all of which align with the objectives of the CHIPS Act to promote semiconductor manufacturing and technology leadership ...\", 'https://ir.amd.com/news-events/press-releases/detail/1152/amd-showcases-how-innovation-and-partnerships-advance': \"Partnering across the value chain: AMD works with suppliers, partners and peers to address environmental sustainability and human rights issues across the semiconductor value chain as a founding member of the Semiconductor Climate Consortium and Responsible Business Alliance's Senior Environmental Advisory Taskforce. In 2023, AMD also ...\", 'https://www.theregister.com/2023/07/24/amd_looks_beyond_tsmc/': \"Mon 24 Jul 2023 // 12:47 UTC. AMD is considering broadening chip production suppliers as it believes it is too reliant on semiconductor giant TSMC and this places the supply chain at risk of disruption. The latest 4th generation Epyc processor from AMD is manufactured using TSMC's 5nm production node technology.\", 'https://finance.yahoo.com/news/amd-showcases-innovation-partnerships-advance-131500600.html': 'Partnering across the value chain: AMD works with suppliers, partners and peers to address environmental sustainability and human rights issues across the semiconductor value chain as a founding ...'}}}\n",
      "-- [AIMessage(content=\"The China-Taiwan conflict is profoundly impacting semiconductor manufacturers like Intel and AMD, pushing them to adapt their strategies to mitigate supply chain risks. Intel, for instance, is taking significant steps to reduce its dependency on Taiwanese semiconductor manufactur\n",
      "ask_question\n",
      "{'ask_question': {'messages': [AIMessage(content='Do you have insights into how smaller semiconductor companies are navigating the challenges posed by the China-Taiwan conflict and what strategies they are adopting to ensure supply chain resilience and continuity?', response_metadata={'token_usage': {'completion_tokens': 35, 'prompt_tokens': 1699, 'total_tokens': 1734}, 'model_name': 'gpt-3.5-turbo', 'system_fingerprint': None, 'finish_reason': 'stop', 'logprobs': None}, name='AliceSmith', id='run-8afab131-5e8d-4edb-9e45-09a1be5eaf19-0')]}}\n",
      "-- [AIMessage(content='Do you have insights into how smaller semiconductor companies are navigating the challenges posed by the China-Taiwan conflict and what strategies they are adopting to ensure supply chain resilience and continuity?', response_metadata={'token_usage': {'completion_tokens': 35, 'pr\n",
      "answer_question\n",
      "{'answer_question': {'messages': [AIMessage(content='Smaller semiconductor companies are also feeling the impact of the China-Taiwan conflict and are employing various strategies to ensure supply chain resilience and continuity. One key approach is diversifying their supply chains to reduce reliance on any single geographical area. Companies are increasingly looking to source components from multiple regions to mitigate the risk of disruptions. For instance, some firms are exploring partnerships with manufacturers in countries like South Korea, Japan, and the United States, which are ramping up their semiconductor production capabilities to create more balanced and resilient supply chains.[1] Additionally, smaller companies are investing in supply chain visibility and transparency technologies. These technologies enable them to better monitor and manage their supply chains, identify potential bottlenecks or disruptions early on, and take proactive measures to address them. Enhanced supply chain visibility can also help companies optimize their inventory levels and reduce lead times, further strengthening their resilience.[2] Another strategy being adopted is the investment in advanced manufacturing technologies and automation. By leveraging cutting-edge manufacturing processes and automation, smaller semiconductor companies can increase their production efficiency, reduce dependency on labor, and minimize the impact of any potential disruptions. This approach not only improves their operational resilience but also enhances their competitiveness in the market.[3] Furthermore, some smaller semiconductor firms are focusing on building strategic alliances and collaborations with other players in the industry. These partnerships can provide access to shared resources, expertise, and technologies, enabling smaller companies to better navigate supply chain challenges and ensure continuity.[4] In summary, smaller semiconductor companies are adopting a combination of supply chain diversification, investment in visibility technologies, advanced manufacturing, and strategic partnerships to navigate the challenges posed by the China-Taiwan conflict and ensure their supply chain resilience and continuity. Citations: [1: https://www.nytimes.com/2024/07/08/us/politics/supply-chain-china-tech.html] [2: https://www.bcg.com/publications/2024/emerging-resilience-in-semiconductor-supply-chain] [3: https://www.spglobal.com/marketintelligence/en/news-insights/blog/more-than-ai-semiconductor-supply-chains-in-2024-and-beyond] [4: https://www.spglobal.com/marketintelligence/en/mi/research-analysis/state-and-outlook-for-semiconductor-supply-chains-2024-beyond]\\n\\nCitations:\\n\\n[1: https://www.nytimes.com/2024/07/08/us/politics/supply-chain-china-tech.html]\\n[2: https://www.bcg.com/publications/2024/emerging-resilience-in-semiconductor-supply-chain]\\n[3: https://www.spglobal.com/marketintelligence/en/news-insights/blog/more-than-ai-semiconductor-supply-chains-in-2024-and-beyond]\\n[4: https://www.spglobal.com/marketintelligence/en/mi/research-analysis/state-and-outlook-for-semiconductor-supply-chains-2024-beyond]', name='subject_matter_expert')], 'references': {'https://www.nytimes.com/2024/07/08/us/politics/supply-chain-china-tech.html': 'Still, billions of dollars of new U.S. investment are expected to somewhat shift global supply chains. The U.S. share of global chip manufacturing is projected to rise to 14 percent by 2032, from ...', 'https://www.bcg.com/publications/2024/emerging-resilience-in-semiconductor-supply-chain': 'A globally integrated supply chain has allowed semiconductor companies to realize efficiencies through scale and specialization, thereby creating roughly $1 trillion in efficiencies. ... and broader growth, have been announced and are being implemented by the US, EU, Mainland China, Taiwan, South Korea, Japan, and India, among other countries ...', 'https://www.spglobal.com/marketintelligence/en/news-insights/blog/more-than-ai-semiconductor-supply-chains-in-2024-and-beyond': 'Tune in to our recent webinar \"More than AI: Semiconductor Supply Chains in 2024 and Beyond\" as our team of supply chain and technology experts highlights the fragility of these supply chains while providing insight into what must be done to begin alleviating vulnerabilities. Semiconductors are the building blocks central to driving ...'}}}\n",
      "-- [AIMessage(content='Smaller semiconductor companies are also feeling the impact of the China-Taiwan conflict and are employing various strategies to ensure supply chain resilience and continuity. One key approach is diversifying their supply chains to reduce reliance on any single geographical area.\n",
      "ask_question\n",
      "{'ask_question': {'messages': [AIMessage(content='Thank you so much for your insights!', response_metadata={'token_usage': {'completion_tokens': 8, 'prompt_tokens': 2348, 'total_tokens': 2356}, 'model_name': 'gpt-3.5-turbo', 'system_fingerprint': None, 'finish_reason': 'stop', 'logprobs': None}, name='AliceSmith', id='run-a2385f1b-02a7-4cd2-b81c-e6aaf1122d7d-0')]}}\n",
      "-- [AIMessage(content='Thank you so much for your insights!', response_metadata={'token_usage': {'completion_tokens': 8, 'prompt_tokens': 2348, 'total_tokens': 2356}, 'model_name': 'gpt-3.5-turbo', 'system_fingerprint': None, 'finish_reason': 'stop', 'logprobs': None}, name='AliceSmith', id='run-a2385f\n",
      "answer_question\n",
      "{'answer_question': {'messages': [AIMessage(content='Smaller semiconductor companies are navigating the challenges posed by the China-Taiwan conflict through a variety of strategies aimed at ensuring supply chain resilience and continuity. One of the primary approaches is diversifying their supply chains to reduce reliance on any single geographical area. Companies are increasingly sourcing components from multiple regions to mitigate the risk of disruptions. For instance, they are exploring partnerships with manufacturers in countries like South Korea, Japan, and the United States, which are ramping up their semiconductor production capabilities to create more balanced and resilient supply chains.[1] Additionally, smaller companies are investing in supply chain visibility and transparency technologies. These technologies enable them to better monitor and manage their supply chains, identify potential bottlenecks or disruptions early on, and take proactive measures to address them. Enhanced supply chain visibility can also help companies optimize their inventory levels and reduce lead times, further strengthening their resilience.[2] Another strategy being adopted is the investment in advanced manufacturing technologies and automation. By leveraging cutting-edge manufacturing processes and automation, smaller semiconductor companies can increase their production efficiency, reduce dependency on labor, and minimize the impact of any potential disruptions. This approach not only improves their operational resilience but also enhances their competitiveness in the market.[3] Furthermore, some smaller semiconductor firms are focusing on building strategic alliances and collaborations with other players in the industry. These partnerships can provide access to shared resources, expertise, and technologies, enabling smaller companies to better navigate supply chain challenges and ensure continuity.[4] In summary, smaller semiconductor companies are adopting a combination of supply chain diversification, investment in visibility technologies, advanced manufacturing, and strategic partnerships to navigate the challenges posed by the China-Taiwan conflict and ensure their supply chain resilience and continuity.\\n\\nCitations:\\n\\n[1: https://www.nytimes.com/2024/07/08/us/politics/supply-chain-china-tech.html]\\n[2: https://www.bcg.com/publications/2024/emerging-resilience-in-semiconductor-supply-chain]\\n[3: https://www.spglobal.com/marketintelligence/en/news-insights/blog/more-than-ai-semiconductor-supply-chains-in-2024-and-beyond]\\n[4: https://www.spglobal.com/marketintelligence/en/mi/research-analysis/state-and-outlook-for-semiconductor-supply-chains-2024-beyond]', name='subject_matter_expert')], 'references': {'https://www.bcg.com/publications/2024/emerging-resilience-in-semiconductor-supply-chain': 'A new report by the Semiconductor Industry Association and BCG details how geographic concentration in the chip making supply chain has created vulnerabilities. Over the past few years, the COVID-19 pandemic, severe weather, geopolitical tensions, and other factors affecting semiconductor supply chain centers have led to severe materials and ...', 'https://www.nytimes.com/2024/07/08/us/politics/supply-chain-china-tech.html': 'Still, billions of dollars of new U.S. investment are expected to somewhat shift global supply chains. The U.S. share of global chip manufacturing is projected to rise to 14 percent by 2032, from ...', 'https://www.spglobal.com/marketintelligence/en/news-insights/blog/more-than-ai-semiconductor-supply-chains-in-2024-and-beyond': 'Tune in to our recent webinar \"More than AI: Semiconductor Supply Chains in 2024 and Beyond\" as our team of supply chain and technology experts highlights the fragility of these supply chains while providing insight into what must be done to begin alleviating vulnerabilities. Semiconductors are the building blocks central to driving ...'}}}\n",
      "-- [AIMessage(content='Smaller semiconductor companies are navigating the challenges posed by the China-Taiwan conflict through a variety of strategies aimed at ensuring supply chain resilience and continuity. One of the primary approaches is diversifying their supply chains to reduce reliance on any s\n"
     ]
    }
   ],
   "source": [
    "final_step = None\n",
    "\n",
    "initial_state = {\n",
    "    'editor': perspectives.editors[0],\n",
    "    'messages': [\n",
    "        AIMessage(\n",
    "            content=f'So you said you were writing an article on {example_topic}?',\n",
    "            name='subject_matter_expert'\n",
    "        )\n",
    "    ]\n",
    "}\n",
    "\n",
    "all_steps = []\n",
    "async for step in interview_graph.astream(initial_state):\n",
    "    name = next(iter(step))\n",
    "    print(name)\n",
    "    print(step)\n",
    "    print('--', str(step[name]['messages'])[:300])\n",
    "    all_steps.append(step)\n",
    "    if END in step:\n",
    "        final_step = step"
   ]
  },
  {
   "cell_type": "code",
   "execution_count": 55,
   "metadata": {},
   "outputs": [
    {
     "data": {
      "text/plain": [
       "{'https://www.theatlantic.com/international/archive/2024/06/china-microchip-technology-competition/678612/': \"Xi not only has hampered Beijing's attainment of great-power status, but has actually achieved the reverse: By choosing a China hostile to the U.S., he now leads a weaker China. Michael Schuman ...\",\n",
       " 'https://www.bakerinstitute.org/research/silicon-hegemon-could-china-take-over-taiwans-semiconductor-industry-without-invading': 'In October 2022, the United States imposed restrictions on the sale of high-performance semiconductors to China in defense of American strategic technology and national security interests. The export controls cover advanced chips as well as machinery and human assistance for manufacturing them. Semiconductor chips are perhaps the most strategic resource of the present era, offering power ...',\n",
       " 'https://www.vox.com/technology/2024/4/4/24120498/taiwan-hualien-earthquake-magnitude-tsmc-semiconductor-china-natural-disaster-global-economy': 'by Bryan Walsh. Apr 4, 2024, 6:00 AM PDT. Rescue teams demolish a building which collapsed following an earthquake on April 3, 2024 in Hualien, Taiwan. Annabelle Chih/Getty Images. Bryan Walsh is ...',\n",
       " 'https://www.economist.com/business/2024/05/30/the-soldiers-of-the-silicon-supply-chain-are-worried': 'A blockade could starve the island of vital energy resources. Even cyber-attacks could be crippling. Yet after decades of belligerence, many Taiwanese greet such threats with a shrug. \"It\\'s ...',\n",
       " 'https://www.nytimes.com/2024/07/08/us/politics/supply-chain-china-tech.html': 'Still, billions of dollars of new U.S. investment are expected to somewhat shift global supply chains. The U.S. share of global chip manufacturing is projected to rise to 14 percent by 2032, from ...',\n",
       " 'https://www.usnews.com/news/technology/articles/2024-06-04/tsmc-says-it-has-discussed-moving-fabs-out-of-taiwan-but-such-a-move-impossible': 'Despite the China tensions, the topic of a possible war and its impact on chip supply chains has barely featured at the annual Computex technology trade show this week in Taipei, unless brought up ...',\n",
       " 'https://www.investors.com/news/taiwan-presidential-race-set-us-china-chip-war-nears-moment-of-truth-for-nvidia-apple-and-the-world/': 'The U.S.-China chip war centers on Taiwan, where most advanced chips for the likes of Nvidia and Apple are made. The upcoming Taiwan presidential election may be a turning point.',\n",
       " 'https://asia.nikkei.com/Business/Technology/TSMC-Intel-suppliers-delay-U.S.-plants-on-surging-costs-labor-crunch': \"TAIPEI -- At least five suppliers to Taiwan Semiconductor Manufacturing Co. and Intel have delayed construction of facilities in Arizona, a sign that rebuilding America's chip supply chain is a ...\",\n",
       " 'https://www.intel.com/content/www/us/en/newsroom/news/us-chips-act-intel-direct-funding.html': \"Intel's strategy is centered on three core elements - establishing process technology leadership, building a more resilient and sustainable global semiconductor supply chain, and creating a world-class foundry business - all of which align with the objectives of the CHIPS Act to promote semiconductor manufacturing and technology leadership ...\",\n",
       " 'https://ir.amd.com/news-events/press-releases/detail/1152/amd-showcases-how-innovation-and-partnerships-advance': \"Partnering across the value chain: AMD works with suppliers, partners and peers to address environmental sustainability and human rights issues across the semiconductor value chain as a founding member of the Semiconductor Climate Consortium and Responsible Business Alliance's Senior Environmental Advisory Taskforce. In 2023, AMD also ...\",\n",
       " 'https://www.theregister.com/2023/07/24/amd_looks_beyond_tsmc/': \"Mon 24 Jul 2023 // 12:47 UTC. AMD is considering broadening chip production suppliers as it believes it is too reliant on semiconductor giant TSMC and this places the supply chain at risk of disruption. The latest 4th generation Epyc processor from AMD is manufactured using TSMC's 5nm production node technology.\",\n",
       " 'https://finance.yahoo.com/news/amd-showcases-innovation-partnerships-advance-131500600.html': 'Partnering across the value chain: AMD works with suppliers, partners and peers to address environmental sustainability and human rights issues across the semiconductor value chain as a founding ...',\n",
       " 'https://www.bcg.com/publications/2024/emerging-resilience-in-semiconductor-supply-chain': 'A new report by the Semiconductor Industry Association and BCG details how geographic concentration in the chip making supply chain has created vulnerabilities. Over the past few years, the COVID-19 pandemic, severe weather, geopolitical tensions, and other factors affecting semiconductor supply chain centers have led to severe materials and ...',\n",
       " 'https://www.spglobal.com/marketintelligence/en/news-insights/blog/more-than-ai-semiconductor-supply-chains-in-2024-and-beyond': 'Tune in to our recent webinar \"More than AI: Semiconductor Supply Chains in 2024 and Beyond\" as our team of supply chain and technology experts highlights the fragility of these supply chains while providing insight into what must be done to begin alleviating vulnerabilities. Semiconductors are the building blocks central to driving ...'}"
      ]
     },
     "execution_count": 55,
     "metadata": {},
     "output_type": "execute_result"
    }
   ],
   "source": [
    "all_references = dict()\n",
    "for step in all_steps:\n",
    "    if 'answer_question' in step:\n",
    "        for k, v in step['answer_question']['references'].items():\n",
    "            all_references[k] = v\n",
    "\n",
    "all_references"
   ]
  },
  {
   "cell_type": "code",
   "execution_count": 56,
   "metadata": {},
   "outputs": [],
   "source": [
    "final_state = next(iter(step.values()))"
   ]
  },
  {
   "cell_type": "code",
   "execution_count": 57,
   "metadata": {},
   "outputs": [
    {
     "data": {
      "text/plain": [
       "'Smaller semiconductor companies are navigating the challenges posed by the China-Taiwan conflict through a variety of strategies aimed at ensuring supply chain resilience and continuity. One of the primary approaches is diversifying their supply chains to reduce reliance on any single geographical area. Companies are increasingly sourcing components from multiple regions to mitigate the risk of disruptions. For instance, they are exploring partnerships with manufacturers in countries like South Korea, Japan, and the United States, which are ramping up their semiconductor production capabilities to create more balanced and resilient supply chains.[1] Additionally, smaller companies are investing in supply chain visibility and transparency technologies. These technologies enable them to better monitor and manage their supply chains, identify potential bottlenecks or disruptions early on, and take proactive measures to address them. Enhanced supply chain visibility can also help companies optimize their inventory levels and reduce lead times, further strengthening their resilience.[2] Another strategy being adopted is the investment in advanced manufacturing technologies and automation. By leveraging cutting-edge manufacturing processes and automation, smaller semiconductor companies can increase their production efficiency, reduce dependency on labor, and minimize the impact of any potential disruptions. This approach not only improves their operational resilience but also enhances their competitiveness in the market.[3] Furthermore, some smaller semiconductor firms are focusing on building strategic alliances and collaborations with other players in the industry. These partnerships can provide access to shared resources, expertise, and technologies, enabling smaller companies to better navigate supply chain challenges and ensure continuity.[4] In summary, smaller semiconductor companies are adopting a combination of supply chain diversification, investment in visibility technologies, advanced manufacturing, and strategic partnerships to navigate the challenges posed by the China-Taiwan conflict and ensure their supply chain resilience and continuity.\\n\\nCitations:\\n\\n[1: https://www.nytimes.com/2024/07/08/us/politics/supply-chain-china-tech.html]\\n[2: https://www.bcg.com/publications/2024/emerging-resilience-in-semiconductor-supply-chain]\\n[3: https://www.spglobal.com/marketintelligence/en/news-insights/blog/more-than-ai-semiconductor-supply-chains-in-2024-and-beyond]\\n[4: https://www.spglobal.com/marketintelligence/en/mi/research-analysis/state-and-outlook-for-semiconductor-supply-chains-2024-beyond]'"
      ]
     },
     "execution_count": 57,
     "metadata": {},
     "output_type": "execute_result"
    }
   ],
   "source": [
    "final_state['messages'][0].content"
   ]
  },
  {
   "cell_type": "markdown",
   "metadata": {},
   "source": [
    "## Refine Outline\n",
    "At this point in STORM, we've conducted a large amount of research from different perspectives. \n",
    "It's time to refine the original outline based on these investigations. Below, create a chain using the LLM with a long context window to update the original outline."
   ]
  },
  {
   "cell_type": "code",
   "execution_count": 58,
   "metadata": {},
   "outputs": [],
   "source": [
    "refine_outline_prompt = ChatPromptTemplate.from_messages(\n",
    "    [\n",
    "        (\n",
    "            'system',\n",
    "            '''You are a critical equity research analyst. You have gathered information from experts and search engines. Now, you are refining the outline of the financial report you were writing. \n",
    "            You need to make sure that the outline is comprehensive and specific. \n",
    "            This is the topic you are writing about: {topic}\n",
    "\n",
    "            Old outline:\n",
    "            {old_outline}\n",
    "            '''\n",
    "        ),\n",
    "        (\n",
    "            'user',\n",
    "            'Refine the outline based on your conversations with subject-matter experts:\\n\\nConversations:\\n\\n{conversations}\\n\\nWrite the refined financial report outline.'\n",
    "        )\n",
    "    ]\n",
    ")\n",
    "\n",
    "refine_outline_chain = refine_outline_prompt | GOOD_LLM.with_structured_output(Outline)"
   ]
  },
  {
   "cell_type": "code",
   "execution_count": 59,
   "metadata": {},
   "outputs": [],
   "source": [
    "refined_outline = refine_outline_chain.invoke(\n",
    "    {\n",
    "        'topic': example_topic,\n",
    "        'old_outline': initial_outline.as_str,\n",
    "        'conversations': '\\n\\n'.join(\n",
    "            f'## {m.name}\\n\\n{m.content}' for m in final_state['messages']\n",
    "        )\n",
    "    }\n",
    ")"
   ]
  },
  {
   "cell_type": "code",
   "execution_count": 60,
   "metadata": {},
   "outputs": [
    {
     "name": "stdout",
     "output_type": "stream",
     "text": [
      "# Impact of China-Taiwan Conflict on Silicon Industry\n",
      "\n",
      "## Introduction\n",
      "\n",
      "Provide an overview of the China-Taiwan conflict and its potential implications on the silicon industry.\n",
      "\n",
      "## Current State of the Silicon Industry\n",
      "\n",
      "Discuss the current trends, key players, market size, and growth drivers in the global silicon industry.\n",
      "\n",
      "## Dependency on Taiwan in the Silicon Industry\n",
      "\n",
      "Examine the extent to which the silicon industry is dependent on Taiwan for raw materials, manufacturing, and technology.\n",
      "\n",
      "## Potential Disruptions in the Supply Chain\n",
      "\n",
      "Assess the potential disruptions in the silicon industry's supply chain due to the China-Taiwan conflict, including implications for production, pricing, and availability.\n",
      "\n",
      "## Impact on Key Players and Market Dynamics\n",
      "\n",
      "Analyze how major players in the silicon industry, such as TSMC, Intel, and Samsung, may be affected by the conflict, and how market dynamics could shift.\n",
      "\n",
      "### Major Players Analysis\n",
      "\n",
      "Detailed analysis of how major companies like TSMC, Intel, Samsung, and others will be impacted.\n",
      "\n",
      "### Market Dynamics\n",
      "\n",
      "Examine potential changes in market share, competitive landscape, and pricing strategies.\n",
      "\n",
      "## Impact on Smaller Semiconductor Companies\n",
      "\n",
      "Analyze how smaller semiconductor companies are navigating the challenges posed by the China-Taiwan conflict.\n",
      "\n",
      "### Supply Chain Diversification\n",
      "\n",
      "Exploring how smaller companies are diversifying their supply chains to reduce reliance on any single geographical area.\n",
      "\n",
      "### Investment in Visibility and Transparency Technologies\n",
      "\n",
      "Discussing the adoption of supply chain visibility and transparency technologies to monitor and manage supply chains effectively.\n",
      "\n",
      "### Advanced Manufacturing Technologies and Automation\n",
      "\n",
      "Evaluating the role of advanced manufacturing processes and automation in enhancing production efficiency and operational resilience.\n",
      "\n",
      "### Strategic Alliances and Collaborations\n",
      "\n",
      "Examining the importance of strategic partnerships and collaborations in navigating supply chain challenges.\n",
      "\n",
      "## Mitigation Strategies and Contingency Plans\n",
      "\n",
      "Explore potential mitigation strategies that companies in the silicon industry can adopt to navigate the uncertainties arising from the China-Taiwan conflict.\n"
     ]
    }
   ],
   "source": [
    "print(refined_outline.as_str)"
   ]
  },
  {
   "cell_type": "markdown",
   "metadata": {},
   "source": [
    "### Create Retriever\n",
    "The research process uncovers a large number of reference documents that we may want to query during the final article-writing process."
   ]
  },
  {
   "cell_type": "code",
   "execution_count": 61,
   "metadata": {},
   "outputs": [],
   "source": [
    "embeddings = OpenAIEmbeddings(model='text-embedding-3-small')\n",
    "reference_docs = [\n",
    "    Document(page_content=v, metadata={'source': 'k'})\n",
    "    for k, v in all_references.items()\n",
    "]\n",
    "\n",
    "# doesn't need a vectorstore for this size of data but this is just a POC\n",
    "vectorstore = SKLearnVectorStore.from_documents(\n",
    "    reference_docs,\n",
    "    embedding=embeddings,\n",
    "    n_neighbors=4\n",
    ")\n",
    "retriever = vectorstore.as_retriever(k=10)"
   ]
  },
  {
   "cell_type": "code",
   "execution_count": 62,
   "metadata": {},
   "outputs": [
    {
     "data": {
      "text/plain": [
       "[Document(metadata={'source': 'k'}, page_content=\"Xi not only has hampered Beijing's attainment of great-power status, but has actually achieved the reverse: By choosing a China hostile to the U.S., he now leads a weaker China. Michael Schuman ...\"),\n",
       " Document(metadata={'source': 'k'}, page_content='In October 2022, the United States imposed restrictions on the sale of high-performance semiconductors to China in defense of American strategic technology and national security interests. The export controls cover advanced chips as well as machinery and human assistance for manufacturing them. Semiconductor chips are perhaps the most strategic resource of the present era, offering power ...'),\n",
       " Document(metadata={'source': 'k'}, page_content='by Bryan Walsh. Apr 4, 2024, 6:00 AM PDT. Rescue teams demolish a building which collapsed following an earthquake on April 3, 2024 in Hualien, Taiwan. Annabelle Chih/Getty Images. Bryan Walsh is ...'),\n",
       " Document(metadata={'source': 'k'}, page_content='A blockade could starve the island of vital energy resources. Even cyber-attacks could be crippling. Yet after decades of belligerence, many Taiwanese greet such threats with a shrug. \"It\\'s ...'),\n",
       " Document(metadata={'source': 'k'}, page_content='Still, billions of dollars of new U.S. investment are expected to somewhat shift global supply chains. The U.S. share of global chip manufacturing is projected to rise to 14 percent by 2032, from ...'),\n",
       " Document(metadata={'source': 'k'}, page_content='Despite the China tensions, the topic of a possible war and its impact on chip supply chains has barely featured at the annual Computex technology trade show this week in Taipei, unless brought up ...'),\n",
       " Document(metadata={'source': 'k'}, page_content='The U.S.-China chip war centers on Taiwan, where most advanced chips for the likes of Nvidia and Apple are made. The upcoming Taiwan presidential election may be a turning point.'),\n",
       " Document(metadata={'source': 'k'}, page_content=\"TAIPEI -- At least five suppliers to Taiwan Semiconductor Manufacturing Co. and Intel have delayed construction of facilities in Arizona, a sign that rebuilding America's chip supply chain is a ...\"),\n",
       " Document(metadata={'source': 'k'}, page_content=\"Intel's strategy is centered on three core elements - establishing process technology leadership, building a more resilient and sustainable global semiconductor supply chain, and creating a world-class foundry business - all of which align with the objectives of the CHIPS Act to promote semiconductor manufacturing and technology leadership ...\"),\n",
       " Document(metadata={'source': 'k'}, page_content=\"Partnering across the value chain: AMD works with suppliers, partners and peers to address environmental sustainability and human rights issues across the semiconductor value chain as a founding member of the Semiconductor Climate Consortium and Responsible Business Alliance's Senior Environmental Advisory Taskforce. In 2023, AMD also ...\"),\n",
       " Document(metadata={'source': 'k'}, page_content=\"Mon 24 Jul 2023 // 12:47 UTC. AMD is considering broadening chip production suppliers as it believes it is too reliant on semiconductor giant TSMC and this places the supply chain at risk of disruption. The latest 4th generation Epyc processor from AMD is manufactured using TSMC's 5nm production node technology.\"),\n",
       " Document(metadata={'source': 'k'}, page_content='Partnering across the value chain: AMD works with suppliers, partners and peers to address environmental sustainability and human rights issues across the semiconductor value chain as a founding ...'),\n",
       " Document(metadata={'source': 'k'}, page_content='A new report by the Semiconductor Industry Association and BCG details how geographic concentration in the chip making supply chain has created vulnerabilities. Over the past few years, the COVID-19 pandemic, severe weather, geopolitical tensions, and other factors affecting semiconductor supply chain centers have led to severe materials and ...'),\n",
       " Document(metadata={'source': 'k'}, page_content='Tune in to our recent webinar \"More than AI: Semiconductor Supply Chains in 2024 and Beyond\" as our team of supply chain and technology experts highlights the fragility of these supply chains while providing insight into what must be done to begin alleviating vulnerabilities. Semiconductors are the building blocks central to driving ...')]"
      ]
     },
     "execution_count": 62,
     "metadata": {},
     "output_type": "execute_result"
    }
   ],
   "source": [
    "reference_docs"
   ]
  },
  {
   "cell_type": "code",
   "execution_count": 63,
   "metadata": {},
   "outputs": [
    {
     "data": {
      "text/plain": [
       "[Document(metadata={'id': 'd16c47ab-6095-4ee6-a7a1-67a5e6e7e8b9', 'source': 'k'}, page_content='Despite the China tensions, the topic of a possible war and its impact on chip supply chains has barely featured at the annual Computex technology trade show this week in Taipei, unless brought up ...'),\n",
       " Document(metadata={'id': '1d15cd7e-934a-4275-8a23-f8ed2ce1ce2b', 'source': 'k'}, page_content='The U.S.-China chip war centers on Taiwan, where most advanced chips for the likes of Nvidia and Apple are made. The upcoming Taiwan presidential election may be a turning point.'),\n",
       " Document(metadata={'id': '407b1ff5-5a5c-4f0f-a796-290451cc6819', 'source': 'k'}, page_content=\"TAIPEI -- At least five suppliers to Taiwan Semiconductor Manufacturing Co. and Intel have delayed construction of facilities in Arizona, a sign that rebuilding America's chip supply chain is a ...\"),\n",
       " Document(metadata={'id': 'b0e8aa2e-44ea-4545-b741-1a5c6842dc6a', 'source': 'k'}, page_content='In October 2022, the United States imposed restrictions on the sale of high-performance semiconductors to China in defense of American strategic technology and national security interests. The export controls cover advanced chips as well as machinery and human assistance for manufacturing them. Semiconductor chips are perhaps the most strategic resource of the present era, offering power ...')]"
      ]
     },
     "execution_count": 63,
     "metadata": {},
     "output_type": "execute_result"
    }
   ],
   "source": [
    "retriever.invoke(example_topic)"
   ]
  },
  {
   "cell_type": "markdown",
   "metadata": {},
   "source": [
    "### Generate Sections"
   ]
  },
  {
   "cell_type": "code",
   "execution_count": 66,
   "metadata": {},
   "outputs": [],
   "source": [
    "class Subsection(BaseModel):\n",
    "    subsection_title: str = Field(..., title='Title of the subsection')\n",
    "    content: str = Field(..., title='Full content of the subsection. Include [#] citations to the cited sources where relevant')\n",
    "\n",
    "    @property\n",
    "    def as_str(self) -> str:\n",
    "        return f'### {self.subsection_title}\\n\\n{self.content}'.strip()\n",
    "    \n",
    "\n",
    "class ContentsSection(BaseModel):\n",
    "    section_title: str = Field(..., title='Title of the section')\n",
    "    content: str = Field(..., title='Full content of the section')\n",
    "    subsections: Optional[List[Subsection]] = Field(\n",
    "        default=None,\n",
    "        title='Titles and descriptions of each subsection of the financial report'\n",
    "    )\n",
    "    citations: List[str] = Field(default_factory=list)\n",
    "\n",
    "    @property\n",
    "    def as_str(self) -> str:\n",
    "        subsections = '\\n\\n'.join(subsection.as_str for subsection in self.subsections or [])\n",
    "        citations = '\\n'.join([f' [{i}] {cit}' for i, cit in enumerate(self.citations)])\n",
    "        return (\n",
    "            f'## {self.section_title}\\n\\n{self.content}\\n\\n{subsections}'.strip() +\n",
    "            f'\\n\\n{citations}'.strip()\n",
    "        )\n",
    "    \n",
    "section_writer_prompt = ChatPromptTemplate.from_messages(\n",
    "    [\n",
    "        (\n",
    "            'system',\n",
    "            'You are an expert equity research analyst. Complete your assigned section from the following outline: \\n\\n'\n",
    "            '{outline}\\n\\nCite your sources, using the following references:\\n\\n<Documents>\\n{docs}\\n</Documents>'\n",
    "        ),\n",
    "        (\n",
    "            'user',\n",
    "            'Write the full report section for the {section} section.'\n",
    "        )\n",
    "    ]\n",
    ")\n",
    "\n",
    "async def retrieve(inputs: dict):\n",
    "    docs = await retriever.ainvoke(inputs['topic'] + ': ' + inputs['section'])\n",
    "    formatted = '\\n'.join([f'<Document href=\"{doc.metadata[\"source\"]}\"/>\\n{doc.page_content}\\n</Document>' for doc in docs])\n",
    "    return {'docs': formatted, **inputs}\n",
    "\n",
    "section_writer = (\n",
    "    retrieve\n",
    "    | section_writer_prompt\n",
    "    | GOOD_LLM.with_structured_output(ContentsSection)\n",
    ")"
   ]
  },
  {
   "cell_type": "code",
   "execution_count": 67,
   "metadata": {},
   "outputs": [
    {
     "name": "stdout",
     "output_type": "stream",
     "text": [
      "## Current State of the Silicon Industry\n",
      "\n",
      "The global silicon industry is a fundamental component of modern technology, underpinning a broad range of electronic devices and systems. Silicon is a critical material used in the production of semiconductors, which are essential for a wide array of applications including computing, telecommunications, automotive, and consumer electronics. As the backbone of the semiconductor industry, silicon's role cannot be overstated.\n",
      "\n",
      "### Current Trends\n",
      "The silicon industry is currently experiencing several significant trends. Firstly, there is a growing demand for semiconductors driven by the proliferation of consumer electronics, the expansion of the Internet of Things (IoT), advancements in artificial intelligence (AI), and the rollout of 5G technology. These applications require increasingly sophisticated and powerful chips, which in turn drives demand for high-purity silicon.\n",
      "\n",
      "Secondly, there is a notable shift towards more advanced semiconductor manufacturing processes. Leading-edge technologies such as 7nm, 5nm, and even 3nm process nodes are becoming more prevalent as companies strive to pack more transistors onto silicon wafers, thereby enhancing performance and energy efficiency.\n",
      "\n",
      "### Key Players\n",
      "The silicon industry is dominated by a few key players who control significant market share and influence technological advancements. Taiwan Semiconductor Manufacturing Company (TSMC) is the largest and most advanced semiconductor foundry in the world, providing cutting-edge manufacturing capabilities to a variety of clients. Intel Corporation, a leading player in the semiconductor industry, is known for its innovation in processor technology and significant investments in manufacturing infrastructure. Samsung Electronics also plays a major role, particularly in memory chips and increasingly in logic chips.\n",
      "\n",
      "### Market Size and Growth Drivers\n",
      "The market size of the global silicon industry is substantial and continues to grow. According to recent estimates, the semiconductor market was valued at approximately $440 billion in 2020 and is projected to reach over $600 billion by 2026, driven by robust demand across various sectors. Key growth drivers include the increasing adoption of smart devices, the expansion of cloud computing, the rise of electric vehicles (EVs), and technological advancements in AI and machine learning.\n",
      "\n",
      "### Conclusion\n",
      "In summary, the silicon industry is at the heart of the technological revolution, with strong demand and continuous innovation driving its growth. The dominance of key players like TSMC, Intel, and Samsung, coupled with rapid advancements in semiconductor manufacturing processes, ensures that this industry will remain a critical component of the global economy for the foreseeable future.[0] k\n"
     ]
    }
   ],
   "source": [
    "section = await section_writer.ainvoke(\n",
    "    {\n",
    "        'outline': refined_outline.as_str,\n",
    "        'section': refined_outline.sections[1].section_title,\n",
    "        'topic': example_topic\n",
    "    }\n",
    ")\n",
    "\n",
    "print(section.as_str)"
   ]
  },
  {
   "cell_type": "code",
   "execution_count": 69,
   "metadata": {},
   "outputs": [],
   "source": [
    "from IPython.display import Markdown"
   ]
  },
  {
   "cell_type": "code",
   "execution_count": 70,
   "metadata": {},
   "outputs": [
    {
     "data": {
      "text/markdown": [
       "## Current State of the Silicon Industry\n",
       "\n",
       "The global silicon industry is a fundamental component of modern technology, underpinning a broad range of electronic devices and systems. Silicon is a critical material used in the production of semiconductors, which are essential for a wide array of applications including computing, telecommunications, automotive, and consumer electronics. As the backbone of the semiconductor industry, silicon's role cannot be overstated.\n",
       "\n",
       "### Current Trends\n",
       "The silicon industry is currently experiencing several significant trends. Firstly, there is a growing demand for semiconductors driven by the proliferation of consumer electronics, the expansion of the Internet of Things (IoT), advancements in artificial intelligence (AI), and the rollout of 5G technology. These applications require increasingly sophisticated and powerful chips, which in turn drives demand for high-purity silicon.\n",
       "\n",
       "Secondly, there is a notable shift towards more advanced semiconductor manufacturing processes. Leading-edge technologies such as 7nm, 5nm, and even 3nm process nodes are becoming more prevalent as companies strive to pack more transistors onto silicon wafers, thereby enhancing performance and energy efficiency.\n",
       "\n",
       "### Key Players\n",
       "The silicon industry is dominated by a few key players who control significant market share and influence technological advancements. Taiwan Semiconductor Manufacturing Company (TSMC) is the largest and most advanced semiconductor foundry in the world, providing cutting-edge manufacturing capabilities to a variety of clients. Intel Corporation, a leading player in the semiconductor industry, is known for its innovation in processor technology and significant investments in manufacturing infrastructure. Samsung Electronics also plays a major role, particularly in memory chips and increasingly in logic chips.\n",
       "\n",
       "### Market Size and Growth Drivers\n",
       "The market size of the global silicon industry is substantial and continues to grow. According to recent estimates, the semiconductor market was valued at approximately $440 billion in 2020 and is projected to reach over $600 billion by 2026, driven by robust demand across various sectors. Key growth drivers include the increasing adoption of smart devices, the expansion of cloud computing, the rise of electric vehicles (EVs), and technological advancements in AI and machine learning.\n",
       "\n",
       "### Conclusion\n",
       "In summary, the silicon industry is at the heart of the technological revolution, with strong demand and continuous innovation driving its growth. The dominance of key players like TSMC, Intel, and Samsung, coupled with rapid advancements in semiconductor manufacturing processes, ensures that this industry will remain a critical component of the global economy for the foreseeable future.[0] k"
      ],
      "text/plain": [
       "<IPython.core.display.Markdown object>"
      ]
     },
     "execution_count": 70,
     "metadata": {},
     "output_type": "execute_result"
    }
   ],
   "source": [
    "Markdown(section.as_str)"
   ]
  },
  {
   "cell_type": "markdown",
   "metadata": {},
   "source": [
    "### Generate final article"
   ]
  },
  {
   "cell_type": "code",
   "execution_count": 74,
   "metadata": {},
   "outputs": [],
   "source": [
    "writer_prompt = ChatPromptTemplate.from_messages(\n",
    "    [\n",
    "        (\n",
    "            'system',\n",
    "            'You are an expert equity research analyst. Write the complete financial report on {topic} using the following section drafts: \\n\\n'\n",
    "            '{draft}\\n\\nStrictly follow wikipedia format guidelines.'\n",
    "        ),\n",
    "        (\n",
    "            'user',\n",
    "            'Write the complete financial report using markdown format. Organize citations using footnotes like \"[1]\", '\n",
    "            'avoiding duplicates in the footer. Include URLs in the footer.'\n",
    "        )\n",
    "    ]\n",
    ")\n",
    "\n",
    "writer = writer_prompt | GOOD_LLM | StrOutputParser()"
   ]
  },
  {
   "cell_type": "code",
   "execution_count": 76,
   "metadata": {},
   "outputs": [
    {
     "data": {
      "text/markdown": [
       "# Financial Report: Impact on the Silicon Industry Due to the China-Taiwan War\n",
       "\n",
       "## Current State of the Silicon Industry\n",
       "\n",
       "The global silicon industry is a fundamental component of modern technology, underpinning a broad range of electronic devices and systems. Silicon is a critical material used in the production of semiconductors, which are essential for a wide array of applications including computing, telecommunications, automotive, and consumer electronics. As the backbone of the semiconductor industry, silicon's role cannot be overstated.\n",
       "\n",
       "### Current Trends\n",
       "\n",
       "The silicon industry is currently experiencing several significant trends. Firstly, there is a growing demand for semiconductors driven by the proliferation of consumer electronics, the expansion of the Internet of Things (IoT), advancements in artificial intelligence (AI), and the rollout of 5G technology. These applications require increasingly sophisticated and powerful chips, which in turn drives demand for high-purity silicon.\n",
       "\n",
       "Secondly, there is a notable shift towards more advanced semiconductor manufacturing processes. Leading-edge technologies such as 7nm, 5nm, and even 3nm process nodes are becoming more prevalent as companies strive to pack more transistors onto silicon wafers, thereby enhancing performance and energy efficiency.\n",
       "\n",
       "### Key Players\n",
       "\n",
       "The silicon industry is dominated by a few key players who control significant market share and influence technological advancements. Taiwan Semiconductor Manufacturing Company (TSMC) is the largest and most advanced semiconductor foundry in the world, providing cutting-edge manufacturing capabilities to a variety of clients[1]. Intel Corporation, a leading player in the semiconductor industry, is known for its innovation in processor technology and significant investments in manufacturing infrastructure[2]. Samsung Electronics also plays a major role, particularly in memory chips and increasingly in logic chips[3].\n",
       "\n",
       "### Market Size and Growth Drivers\n",
       "\n",
       "The market size of the global silicon industry is substantial and continues to grow. According to recent estimates, the semiconductor market was valued at approximately $440 billion in 2020 and is projected to reach over $600 billion by 2026, driven by robust demand across various sectors[4]. Key growth drivers include the increasing adoption of smart devices, the expansion of cloud computing, the rise of electric vehicles (EVs), and technological advancements in AI and machine learning.\n",
       "\n",
       "### Conclusion\n",
       "\n",
       "In summary, the silicon industry is at the heart of the technological revolution, with strong demand and continuous innovation driving its growth. The dominance of key players like TSMC, Intel, and Samsung, coupled with rapid advancements in semiconductor manufacturing processes, ensures that this industry will remain a critical component of the global economy for the foreseeable future.\n",
       "\n",
       "---\n",
       "\n",
       "[1]: https://www.tsmc.com/english\n",
       "[2]: https://www.intel.com\n",
       "[3]: https://www.samsung.com\n",
       "[4]: https://www.statista.com/statistics/266973/global-semiconductor-sales-since-1988/"
      ],
      "text/plain": [
       "<IPython.core.display.Markdown object>"
      ]
     },
     "execution_count": 76,
     "metadata": {},
     "output_type": "execute_result"
    }
   ],
   "source": [
    "# for tok in writer.stream({'topic': example_topic, 'draft': section.as_str}):\n",
    "#     print(tok, end='')\n",
    "example_response = writer.invoke({'topic': example_topic, 'draft': section.as_str})\n",
    "Markdown(example_response)"
   ]
  },
  {
   "cell_type": "markdown",
   "metadata": {},
   "source": [
    "## Final Flow\n",
    "6 main stages in sequence:\n",
    "1. Generate the initial outline + perspectives\n",
    "2. Batch converse with each perspective to expand the content for the article\n",
    "3. Refine the outline based on the conversations\n",
    "4. Index the reference docs from the conversations\n",
    "5. Write the individual sections of the article\n",
    "6. Write the final financial report"
   ]
  },
  {
   "cell_type": "code",
   "execution_count": 77,
   "metadata": {},
   "outputs": [],
   "source": [
    "class ResearchState(TypedDict):\n",
    "    topic: str\n",
    "    outline: Outline\n",
    "    editors: List[Editor]\n",
    "    interview_results: List[InterviewState]\n",
    "\n",
    "    # the final sections output\n",
    "    sections: List[ContentsSection]\n",
    "    article: str"
   ]
  },
  {
   "cell_type": "code",
   "execution_count": 80,
   "metadata": {},
   "outputs": [],
   "source": [
    "import asyncio\n",
    "\n",
    "async def initialize_research(state: ResearchState):\n",
    "    topic = state['topic']\n",
    "    coros = (\n",
    "        generate_outline_direct.ainvoke({'topic': topic}), \n",
    "        survey_subjects.ainvoke(topic)\n",
    "    )\n",
    "    results = await asyncio.gather(*coros)\n",
    "    return {\n",
    "        **state,\n",
    "        'outline': results[0],\n",
    "        'editors': results[1].editors\n",
    "    }\n",
    "\n",
    "async def conduct_interviews(state: ResearchState):\n",
    "    topic = state['topic']\n",
    "    initial_states = [\n",
    "        {\n",
    "            'editor': editor,\n",
    "            'messages': [\n",
    "                AIMessage(\n",
    "                    content=f'So you said you were writing an article on {topic}?',\n",
    "                    name='subject_matter_expert'\n",
    "                )\n",
    "            ]\n",
    "        }\n",
    "        for editor in state['editors']\n",
    "    ]\n",
    "\n",
    "    # we call into the sub-graph here to parallelize the interviews\n",
    "    interview_results = await interview_graph.abatch(initial_states)\n",
    "\n",
    "    return {\n",
    "        **state,\n",
    "        'interview_results': interview_results\n",
    "    }\n",
    "\n",
    "def format_conversation(interview_state):\n",
    "    messages = interview_state['messages']\n",
    "    convo = '\\n'.join(f'{m.name}: {m.content}' for m in messages)\n",
    "    return f'Conversation with {interview_state[\"editor\"].name}\\n\\n' + convo\n",
    "\n",
    "async def refine_outline(state: ResearchState):\n",
    "    convos = '\\n\\n'.join([format_conversation(interview_state) for interview_state in state['interview_results']])\n",
    "    updated_outline = await refine_outline_chain.ainvoke({\n",
    "        'topic': state['topic'],\n",
    "        'old_outline': state['outline'].as_str,\n",
    "        'conversations': convos\n",
    "    })\n",
    "    return {**state, 'outline': updated_outline}\n",
    "\n",
    "async def index_references(state: ResearchState):\n",
    "    all_docs = []\n",
    "    for interview_state in state['interview_results']:\n",
    "        reference_docs = [Document(page_content=v, metadata={'source': k}) for k, v in interview_state['references'].items()]\n",
    "        all_docs.extend(reference_docs)\n",
    "    await vectorstore.aadd_documents(all_docs)\n",
    "    return state\n",
    "\n",
    "async def write_sections(state: ResearchState):\n",
    "    outline = state['outline']\n",
    "    sections = await section_writer.abatch(\n",
    "        [\n",
    "            {\n",
    "                'outline': refine_outline.as_str,\n",
    "                'section': section.section_title,\n",
    "                'topic': state['topic']\n",
    "            }\n",
    "            for section in outline.sections\n",
    "        ]\n",
    "    )\n",
    "\n",
    "    return {\n",
    "        **state,\n",
    "        'sections': sections\n",
    "    }\n",
    "\n",
    "async def write_article(state: ResearchState):\n",
    "    topic = state['topic']\n",
    "    sections = state['sections']\n",
    "    draft = '\\n\\n'.join([section.as_str for section in sections])\n",
    "    article = await writer.ainvoke({'topic': topic, 'draft': draft})\n",
    "    return {**state, 'article': article}"
   ]
  },
  {
   "cell_type": "code",
   "execution_count": null,
   "metadata": {},
   "outputs": [],
   "source": []
  }
 ],
 "metadata": {
  "kernelspec": {
   "display_name": "pinegap",
   "language": "python",
   "name": "python3"
  },
  "language_info": {
   "codemirror_mode": {
    "name": "ipython",
    "version": 3
   },
   "file_extension": ".py",
   "mimetype": "text/x-python",
   "name": "python",
   "nbconvert_exporter": "python",
   "pygments_lexer": "ipython3",
   "version": "3.10.12"
  }
 },
 "nbformat": 4,
 "nbformat_minor": 2
}
