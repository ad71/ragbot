{
 "cells": [
  {
   "cell_type": "code",
   "execution_count": 1,
   "metadata": {},
   "outputs": [
    {
     "data": {
      "text/plain": [
       "True"
      ]
     },
     "execution_count": 1,
     "metadata": {},
     "output_type": "execute_result"
    }
   ],
   "source": [
    "from dotenv import load_dotenv\n",
    "load_dotenv()"
   ]
  },
  {
   "cell_type": "code",
   "execution_count": 2,
   "metadata": {},
   "outputs": [],
   "source": [
    "import re\n",
    "import os\n",
    "import json\n",
    "import base64\n",
    "import asyncio\n",
    "import platform\n",
    "import requests\n",
    "import operator\n",
    "import playwright\n",
    "import numpy as np\n",
    "import pandas as pd\n",
    "import datetime as dt\n",
    "\n",
    "from enum import Enum\n",
    "from typing import List\n",
    "from typing import Dict\n",
    "from typing import Tuple\n",
    "from typing import Union\n",
    "from typing import Literal\n",
    "from typing import Optional\n",
    "from typing import Sequence\n",
    "from typing import Annotated\n",
    "from typing import TypedDict\n",
    "from operator import itemgetter\n",
    "\n",
    "from IPython import display\n",
    "from IPython.display import HTML\n",
    "from IPython.display import Image\n",
    "\n",
    "from langgraph.graph import END\n",
    "from langgraph.graph import StateGraph\n",
    "from langgraph.graph import MessageGraph\n",
    "from langgraph.prebuilt import create_react_agent\n",
    "\n",
    "from langchain_openai import ChatOpenAI\n",
    "from langchain_openai import OpenAIEmbeddings\n",
    "\n",
    "from langchain_core.messages import BaseMessage\n",
    "from langchain_core.messages.ai import AIMessage\n",
    "from langchain_core.messages.chat import ChatMessage\n",
    "from langchain_core.messages.tool import ToolMessage\n",
    "from langchain_core.messages.human import HumanMessage\n",
    "from langchain_core.messages.system import SystemMessage\n",
    "from langchain_core.messages.function import FunctionMessage\n",
    "from langchain_core.prompts.image import ImagePromptTemplate\n",
    "\n",
    "from langchain_core.pydantic_v1 import Field\n",
    "from langchain_core.pydantic_v1 import BaseModel\n",
    "from langchain_core.runnables import RunnableLambda\n",
    "from langchain_core.runnables import RunnableParallel\n",
    "from langchain_core.runnables import RunnablePassthrough\n",
    "from langchain_core.output_parsers import StrOutputParser\n",
    "from langchain_core.output_parsers import JsonOutputParser\n",
    "\n",
    "from langchain_core.runnables.graph import CurveStyle\n",
    "from langchain_core.runnables.graph import NodeColors\n",
    "from langchain_core.runnables.graph import MermaidDrawMethod\n",
    "\n",
    "from langchain import hub\n",
    "from langchain.schema import Document\n",
    "from langchain.prompts import PromptTemplate\n",
    "from langchain.prompts import ChatPromptTemplate\n",
    "from langchain.prompts import MessagesPlaceholder\n",
    "from langchain.prompts import HumanMessagePromptTemplate\n",
    "from langchain.prompts import SystemMessagePromptTemplate\n",
    "from langchain.agents import create_openai_functions_agent\n",
    "from langchain.text_splitter import RecursiveCharacterTextSplitter\n",
    "\n",
    "from langchain_community.vectorstores import Chroma\n",
    "from langchain_community.document_loaders import WebBaseLoader\n",
    "from langchain_community.tools.tavily_search import TavilySearchResults\n",
    "\n",
    "from langchain_fireworks.chat_models import ChatFireworks"
   ]
  },
  {
   "cell_type": "code",
   "execution_count": 3,
   "metadata": {},
   "outputs": [],
   "source": [
    "\n",
    "os.environ['LANGCHAIN_TRACING_V2'] = 'true'\n",
    "os.environ['LANGCHAIN_PROJECT'] = 'Reflection'"
   ]
  },
  {
   "cell_type": "code",
   "execution_count": 4,
   "metadata": {},
   "outputs": [],
   "source": [
    "prompt = ChatPromptTemplate.from_messages(\n",
    "    [\n",
    "        (\n",
    "            'system',\n",
    "            'You are an essay assistant tasked with writing excellent 5-paragraph essays. '\n",
    "            'Generate the best essay possible for the user\\'s request.'\n",
    "        ),\n",
    "        MessagesPlaceholder(variable_name='messages'),\n",
    "    ]\n",
    ")\n",
    "\n",
    "llm = ChatFireworks(\n",
    "    model='accounts/fireworks/models/mixtral-8x7b-instruct',\n",
    "    max_tokens=32768\n",
    ")\n",
    "\n",
    "generate = prompt | llm"
   ]
  },
  {
   "cell_type": "code",
   "execution_count": 5,
   "metadata": {},
   "outputs": [
    {
     "name": "stdout",
     "output_type": "stream",
     "text": [
      "Title: The Relevance of The Little Prince in Modern Childhood\n",
      "\n",
      "The Little Prince, a novella by Antoine de Saint-Exupéry, has been a beloved classic for generations. Despite being written in the early 20th century, the story remains highly relevant in modern childhood. The tale of the Little Prince's journey through various planets, meeting different characters, offers timeless life lessons that resonate with children today.\n",
      "\n",
      "Firstly, The Little Prince embodies the spirit of exploration and adventure, which is a significant aspect of modern childhood. With the advent of technology, children are exposed to a world of information and possibilities at their fingertips. The Little Prince's journey, both literal and metaphorical, mirrors this digital age exploration. The story encourages children to venture beyond their comfort zones, to ask questions, and to seek answers, fostering a sense of curiosity and resilience that is crucial in the modern world.\n",
      "\n",
      "Secondly, The Little Prince explores the complexities of human emotions and relationships, which are central to a child's development. The characters the Little Prince encounters on his journey represent different aspects of adult life, from vanity and authority to materialism and selfishness. These encounters serve as valuable lessons for children, teaching them about the importance of empathy, understanding, and unconditional love. In a world where children are often shielded from the harsh realities of life, The Little Prince provides a gentle introduction to these complexities, promoting emotional intelligence and resilience.\n",
      "\n",
      "Thirdly, The Little Prince emphasizes the value of individuality and self-expression, which is increasingly important in modern childhood. The story encourages children to think for themselves, to question societal norms, and to value their unique perspectives. In an age where conformity is often rewarded, The Little Prince encourages children to embrace their individuality, fostering creativity, innovation, and self-confidence.\n",
      "\n",
      "Lastly, The Little Prince teaches the importance of friendship and responsibility. The relationship between the Little Prince and the fox is a poignant reminder of the bond between friends and the impact we can have on each other's lives. The Little Prince learns that \"one sees clearly only with the heart. What is essential is invisible to the eye,\" emphasizing the importance of emotional connections. This lesson is particularly relevant in modern childhood, where children are often overwhelmed by digital distractions and societal pressures.\n",
      "\n",
      "In conclusion, The Little Prince remains highly relevant in modern childhood due to its exploration of adventure, human emotions, individuality, and friendship. The story encourages children to be curious, empathetic, and confident, preparing them for the challenges and opportunities of the modern world. As the Little Prince says, \"It is only with the heart that one can see rightly; what is essential is invisible to the eye,\" a timeless lesson that continues to resonate with children today."
     ]
    }
   ],
   "source": [
    "essay = ''\n",
    "request = HumanMessage(content='Write an essay on why the little prince is relevant in modern childhood')\n",
    "\n",
    "for chunk in generate.stream({'messages': [request]}):\n",
    "    print(chunk.content, end='')\n",
    "    essay += chunk.content"
   ]
  },
  {
   "cell_type": "markdown",
   "metadata": {},
   "source": [
    "### Reflect"
   ]
  },
  {
   "cell_type": "code",
   "execution_count": 6,
   "metadata": {},
   "outputs": [],
   "source": [
    "reflection_prompt = ChatPromptTemplate.from_messages(\n",
    "    [\n",
    "        (\n",
    "            'system',\n",
    "            'You are a teacher grading an essay submission. Generate critique and recommendations for the user\\'s submission. '\n",
    "            'Provide detailed recommendations, including requests for length, depth, style, etc.'\n",
    "        ),\n",
    "        MessagesPlaceholder(variable_name='messages')\n",
    "    ]\n",
    ")\n",
    "\n",
    "reflect = reflection_prompt | llm"
   ]
  },
  {
   "cell_type": "code",
   "execution_count": 7,
   "metadata": {},
   "outputs": [
    {
     "name": "stdout",
     "output_type": "stream",
     "text": [
      "Title: The Relevance of The Little Prince in Modern Childhood\n",
      "\n",
      "Grade: B+\n",
      "\n",
      "Your essay provides a clear and well-structured argument for why The Little Prince remains relevant in modern childhood. You have identified several key themes in the novella that resonate with contemporary children, including exploration, human emotions, individuality, and friendship. Your use of specific examples from the text to support your points is commendable.\n",
      "\n",
      "However, there are a few areas where your essay could be improved:\n",
      "\n",
      "1. Length: Your essay is well-written, but it is relatively brief. I would recommend expanding upon your ideas to create a more in-depth analysis. For example, you could delve deeper into the specific life lessons that the Little Prince learns on his journey and how they apply to modern childhood.\n",
      "2. Depth: While you have identified several key themes in the novella, you could further explore the nuances of these themes. For instance, you could discuss how the Little Prince's journey through various planets serves as a metaphor for the different stages of life and how these stages relate to modern childhood.\n",
      "3. Style: Your writing style is clear and concise, but you could benefit from incorporating more descriptive language to bring your analysis to life. For example, you could describe the characters and settings in more detail to create a more vivid picture for your reader.\n",
      "4. Analysis: While you have done a good job of summarizing the novella's themes, you could strengthen your analysis by offering more critical insights. For instance, you could discuss how the Little Prince's encounters with different characters challenge societal norms and promote individuality.\n",
      "5. Conclusion: Your conclusion is a nice summary of your essay, but it could be stronger. Consider restating your thesis and summarizing your main points in a more impactful way. You might also consider ending with a thought-provoking question or statement to leave your reader reflecting on the relevance of The Little Prince in modern childhood.\n",
      "\n",
      "Overall, your essay is well-written and provides a clear argument for why The Little Prince remains relevant in modern childhood. With some additional depth, analysis, and style, you could elevate your essay to an A-level paper. Keep up the good work!"
     ]
    }
   ],
   "source": [
    "reflection = ''\n",
    "for chunk in reflect.stream({'messages': [request, HumanMessage(content=essay)]}):\n",
    "    print(chunk.content, end='')\n",
    "    reflection += chunk.content"
   ]
  },
  {
   "cell_type": "markdown",
   "metadata": {},
   "source": [
    "### Repeat\n",
    "That's all that's there to it. You can repeat in a loop for a fixed number of steps, or use an LLM (or other check) to decide when the finished product is good enough."
   ]
  },
  {
   "cell_type": "code",
   "execution_count": 8,
   "metadata": {},
   "outputs": [
    {
     "name": "stdout",
     "output_type": "stream",
     "text": [
      "Title: The Relevance of The Little Prince in Modern Childhood\n",
      "\n",
      "Grade: A-\n",
      "\n",
      "The Little Prince, a novella by Antoine de Saint-Exupéry, has maintained its relevance in modern childhood, despite being written in the early 20th century. This essay will explore the significance of exploration, human emotions, individuality, and friendship in The Little Prince and how these themes resonate with contemporary children.\n",
      "\n",
      "The Little Prince's journey through various planets serves as a metaphor for the different stages of life and the challenges that come with each stage. The story encourages children to be curious, resilient, and confident, preparing them for the challenges and opportunities of the modern world. For instance, the Little Prince's encounter with the king on the first planet teaches children about the absurdity of authority figures who demand obedience without reason. This lesson is particularly relevant in modern childhood, where children are often subjected to rigid hierarchies and unquestioning obedience.\n",
      "\n",
      "The Little Prince also explores the complexities of human emotions and relationships, which are central to a child's development. The characters the Little Prince encounters on his journey represent different aspects of adult life, from vanity and authority to materialism and selfishness. These encounters serve as valuable lessons for children, teaching them about the importance of empathy, understanding, and unconditional love. The Little Prince's relationship with the fox is a poignant reminder of the bond between friends and the impact we can have on each other's lives.\n",
      "\n",
      "Moreover, The Little Prince emphasizes the value of individuality and self-expression, which is increasingly important in modern childhood. The story encourages children to think for themselves, to question societal norms, and to value their unique perspectives. In an age where conformity is often rewarded, The Little Prince encourages children to embrace their individuality, fostering creativity, innovation, and self-confidence.\n",
      "\n",
      "Lastly, The Little Prince teaches the importance of friendship and responsibility. The Little Prince's encounter with the geographer on the fifth planet highlights the value of exploration and discovery, while his relationship with the fox emphasizes the significance of emotional connections. These lessons are particularly relevant in modern childhood, where children are often overwhelmed by digital distractions and societal pressures.\n",
      "\n",
      "In conclusion, The Little Prince remains highly relevant in modern childhood due to its exploration of adventure, human emotions, individuality, and friendship. The story encourages children to be curious, empathetic, and confident, preparing them for the challenges and opportunities of the modern world. As the Little Prince says, \"It is only with the heart that one can see rightly; what is essential is invisible to the eye,\" a timeless lesson that continues to resonate with children today.\n",
      "\n",
      "Your essay is well-written, well-organized, and provides a thorough analysis of the relevance of The Little Prince in modern childhood. You have done an excellent job of incorporating specific examples from the text to support your points and offering critical insights into the novella's themes. Your writing style is engaging and descriptive, bringing your analysis to life. Overall, your essay is deserving of an A-grade. Keep up the excellent work!"
     ]
    }
   ],
   "source": [
    "for chunk in generate.stream({'messages': [request, AIMessage(content=essay), HumanMessage(content=reflection)]}):\n",
    "    print(chunk.content, end='')"
   ]
  },
  {
   "cell_type": "code",
   "execution_count": 9,
   "metadata": {},
   "outputs": [],
   "source": [
    "async def generation_node(state: Sequence[BaseMessage]):\n",
    "    return await generate.ainvoke({'messages': state})\n",
    "\n",
    "async def reflection_node(messages: Sequence[BaseMessage]) -> List[BaseMessage]:\n",
    "    cls_map = {'ai': HumanMessage, 'human': AIMessage}\n",
    "\n",
    "    # first message is the original user request. We hold it the same for all nodes\n",
    "    translated = [messages[0]] + [cls_map[msg.type](content=msg.content) for msg in messages[1:]]\n",
    "    res = await reflect.ainvoke({'messages': translated})\n",
    "\n",
    "    # we treat the output of this as human feedback for the generator\n",
    "    return HumanMessage(content=res.content)\n",
    "\n",
    "builder = MessageGraph()\n",
    "builder.add_node('generate', generation_node)\n",
    "builder.add_node('reflect', reflection_node)\n",
    "builder.set_entry_point('generate')\n",
    "\n",
    "def should_continue(state: List[BaseMessage]):\n",
    "    if len(state) > 6:\n",
    "        # end after 3 iterations\n",
    "        return END\n",
    "    return 'reflect'\n",
    "\n",
    "builder.add_conditional_edges('generate', should_continue)\n",
    "builder.add_edge('reflect', 'generate')\n",
    "graph = builder.compile()"
   ]
  },
  {
   "cell_type": "code",
   "execution_count": 10,
   "metadata": {},
   "outputs": [
    {
     "name": "stdout",
     "output_type": "stream",
     "text": [
      "{'generate': AIMessage(content='Title: The Timeless Message of The Little Prince in Modern Life\\n\\nIntroduction:\\nAntoine de Saint-Exupéry\\'s \"The Little Prince\" is a classic novella that has captured the hearts and minds of readers for over seven decades. Its enduring popularity can be attributed to its timeless themes and messages, which remain relevant in modern life. This essay will explore the topicality of The Little Prince and its message in today\\'s world.\\n\\nBody Paragraph 1: The Little Prince as a Reflection of Modern Existentialism\\nThe Little Prince is often regarded as a philosophical tale that explores the complexities of human existence. The protagonist\\'s journey through various planets, each inhabited by peculiar characters, mirrors the existentialist notion of the absurdity of life. In the modern world, where individuals often grapple with questions of purpose and meaning, The Little Prince serves as a reminder of the importance of introspection and self-discovery.\\n\\nBody Paragraph 2: The Power of Relationships and Empathy\\nOne of the most enduring messages of The Little Prince is the power of relationships and empathy. The protagonist\\'s encounters with the Fox and the Rose teach him the value of forming genuine connections with others. In a world that is increasingly interconnected yet paradoxically disconnected, where superficial interactions are prevalent, The Little Prince underscores the significance of forging meaningful relationships and empathizing with others.\\n\\nBody Paragraph 3: The Dangers of Obsession and Materialism\\nThe Little Prince also offers a critique of materialism and obsession, as seen in the character of the Businessman, who is preoccupied with counting stars to establish his wealth. This message resonates in modern life, where consumerism and the pursuit of material wealth often take precedence over personal growth and relationships. The Little Prince serves as a cautionary tale against the dangers of becoming overly consumed by material possessions and superficial success.\\n\\nConclusion:\\nIn conclusion, The Little Prince remains a relevant and powerful narrative in modern life due to its exploration of existential themes, the importance of relationships and empathy, and the dangers of materialism and obsession. The novella\\'s timeless message encourages readers to look beyond superficial appearances, prioritize human connections, and maintain a healthy perspective on life\\'s priorities. By embracing the wisdom of The Little Prince, individuals can navigate the complexities of modern life with grace, empathy, and a deeper sense of purpose.', response_metadata={'token_usage': {'prompt_tokens': 55, 'total_tokens': 597, 'completion_tokens': 542}, 'model_name': 'accounts/fireworks/models/mixtral-8x7b-instruct', 'system_fingerprint': '', 'finish_reason': 'stop', 'logprobs': None}, id='run-579501e9-5d79-47b5-9169-8393ccbdc887-0')}\n",
      "----\n",
      "{'reflect': HumanMessage(content='Dear User,\\n\\nI am providing critique and recommendations for your essay titled \"The Timeless Message of The Little Prince in Modern Life.\" Overall, your essay is well-written, and you effectively convey the relevance of The Little Prince in today\\'s world. Here are some suggestions to further enhance your essay:\\n\\n1. Length: Your essay is well-structured and covers the necessary points. However, to provide more depth and analysis, consider expanding each body paragraph to at least six to eight sentences. This will allow you to delve deeper into the themes and messages of The Little Prince and their significance in modern life.\\n\\n2. Depth: In your body paragraphs, focus on providing specific examples from the novella to support your arguments. For instance, when discussing the Little Prince\\'s encounters with the Fox and the Rose, quote or paraphrase relevant sections from the book to strengthen your analysis. Additionally, consider discussing the historical context of The Little Prince and how its themes have evolved over time.\\n\\n3. Style: Vary your sentence structure to create a more engaging reading experience. Mix short and long sentences, and use a range of transition words to connect your ideas smoothly. Additionally, ensure that your paragraphs are cohesive and follow a logical progression of thoughts.\\n\\n4. Conclusion: In your conclusion, reiterate the main points of your essay and emphasize the overall significance of The Little Prince in modern life. You may also want to consider discussing potential criticisms or counterarguments to demonstrate a well-rounded understanding of the topic.\\n\\n5. Research: Conduct further research on the themes and messages of The Little Prince and their relevance in modern society. This will enable you to provide a more nuanced analysis and demonstrate a deeper understanding of the text.\\n\\n6. Grammar and Spelling: Ensure that your essay is free from grammatical and spelling errors, as these can detract from the overall quality of your work. Consider using a grammar-checking tool or having a peer review your essay for accuracy.\\n\\nI hope these recommendations help you improve your essay. Good luck with your revisions!\\n\\nBest regards,\\n[Your Name]', id='a468ec42-b4fd-4497-b262-301935b26a41')}\n",
      "----\n",
      "{'generate': AIMessage(content='Title: The Timeless Message of The Little Prince in Modern Life\\n\\nIntroduction:\\nAntoine de Saint-Exupéry\\'s \"The Little Prince\" is a timeless novella that has captivated readers for over seven decades. Its enduring popularity can be attributed to its exploration of existential themes, the importance of relationships and empathy, and the dangers of materialism and obsession. This essay will delve into these themes and their significance in modern life, demonstrating the relevance of The Little Prince in today\\'s world.\\n\\nBody Paragraph 1: The Little Prince as a Reflection of Modern Existentialism\\nThe Little Prince is often regarded as a philosophical tale that explores the complexities of human existence. The protagonist\\'s journey through various planets, each inhabited by peculiar characters, mirrors the existentialist notion of the absurdity of life. In the modern world, where individuals often grapple with questions of purpose and meaning, The Little Prince serves as a reminder of the importance of introspection and self-discovery. As Sartre famously stated, \"Man is condemned to be free,\" emphasizing the responsibility each person has in finding their purpose. Similarly, the Little Prince\\'s encounters with the conceited man, the tippler, and the geographer reflect the existentialist idea of individuals creating their own meaning in life.\\n\\nBody Paragraph 2: The Power of Relationships and Empathy\\nOne of the most enduring messages of The Little Prince is the power of relationships and empathy. The protagonist\\'s encounters with the Fox and the Rose teach him the value of forming genuine connections with others. In a world that is increasingly interconnected yet paradoxically disconnected, where superficial interactions are prevalent, The Little Prince underscores the significance of forging meaningful relationships and empathizing with others. As the Fox tells the Little Prince, \"One sees clearly only with the heart. What is essential is invisible to the eye.\" This quote highlights the importance of emotional intelligence and empathy in understanding others and forming deep connections.\\n\\nBody Paragraph 3: The Dangers of Obsession and Materialism\\nThe Little Prince also offers a critique of materialism and obsession, as seen in the character of the Businessman, who is preoccupied with counting stars to establish his wealth. This message resonates in modern life, where consumerism and the pursuit of material wealth often take precedence over personal growth and relationships. The Little Prince serves as a cautionary tale against the dangers of becoming overly consumed by material possessions and superficial success. The vain man, another character in the novella, exemplifies the negative consequences of excessive self-absorption and the pursuit of external validation.\\n\\nBody Paragraph 4: Historical Context and Evolution of Themes\\nThe Little Prince was written during a time of global upheaval, as World War II raged on. Saint-Exupéry\\'s experiences as a pilot and his encounters with the harsh realities of war likely influenced the novella\\'s themes of existentialism, relationships, and materialism. In modern society, these themes have taken on new dimensions, as technology and globalization have transformed the ways in which individuals interact and find meaning. The Little Prince\\'s messages remain relevant, as they encourage readers to maintain a healthy perspective on life\\'s priorities and to cultivate emotional intelligence and empathy in an increasingly complex world.\\n\\nConclusion:\\nIn conclusion, The Little Prince remains a relevant and powerful narrative in modern life due to its exploration of existential themes, the importance of relationships and empathy, and the dangers of materialism and obsession. The novella\\'s timeless message encourages readers to look beyond superficial appearances, prioritize human connections, and maintain a healthy perspective on life\\'s priorities. By embracing the wisdom of The Little Prince, individuals can navigate the complexities of modern life with grace, empathy, and a deeper sense of purpose.\\n\\nTo further enhance this essay, consider discussing potential criticisms or counterarguments, such as the argument that The Little Prince romanticizes childhood and disregards the responsibilities and complexities of adulthood. Additionally, conducting further research on the historical context of The Little Prince and its adaptations in modern media will provide a more nuanced analysis and demonstrate a deeper understanding of the text.\\n\\nI hope these recommendations help you improve your essay. Good luck with your revisions!\\n\\nBest regards,\\n[Your Name]', response_metadata={'token_usage': {'prompt_tokens': 1066, 'total_tokens': 2027, 'completion_tokens': 961}, 'model_name': 'accounts/fireworks/models/mixtral-8x7b-instruct', 'system_fingerprint': '', 'finish_reason': 'stop', 'logprobs': None}, id='run-00b8d0d0-a165-4cc4-a088-c26c78937284-0')}\n",
      "----\n",
      "{'reflect': HumanMessage(content='Thank you for your thoughtful and detailed feedback! I appreciate the time you took to provide specific suggestions and resources for improvement. I will definitely consider expanding each body paragraph, providing more context, and addressing potential criticisms in my revised essay. I also agree that further research on the historical context and adaptations of The Little Prince will add depth to my analysis. Thank you again for your guidance, and I look forward to refining my essay with these recommendations in mind.\\n\\nBest regards,\\n[User]', id='c51ef285-6e22-4991-bddc-3e25d92c7227')}\n",
      "----\n",
      "{'generate': AIMessage(content=\"Dear [User],\\n\\nI'm thrilled to hear that you found my feedback helpful and that you're committed to improving your essay. Expanding each body paragraph, providing more context, and addressing potential criticisms will indeed add depth and sophistication to your analysis. Furthermore, exploring the historical context and adaptations of The Little Prince will offer a more nuanced understanding of the novella's enduring appeal and relevance.\\n\\nIf you need assistance finding resources or understanding specific aspects of existentialism, the historical context, or the adaptations of The Little Prince, please don't hesitate to ask. I'm here to help you succeed in your writing endeavors and develop your critical thinking and analytical skills.\\n\\nOnce you've revised your essay, feel free to share it with me for additional feedback or suggestions. I'm confident that your dedication to enhancing your writing will result in a compelling and thought-provoking essay.\\n\\nBest regards,\\n\\n[Your Name]\", response_metadata={'token_usage': {'prompt_tokens': 2138, 'total_tokens': 2352, 'completion_tokens': 214}, 'model_name': 'accounts/fireworks/models/mixtral-8x7b-instruct', 'system_fingerprint': '', 'finish_reason': 'stop', 'logprobs': None}, id='run-a008d4ef-638f-44a7-a66c-31ad1565c078-0')}\n",
      "----\n",
      "{'reflect': HumanMessage(content=\"Dear [Your Name],\\n\\nThank you for your continued support and encouragement. I appreciate your offer to help me find resources and understand specific aspects of the essay topic. Your expertise and guidance have been invaluable in refining my analysis and improving the overall quality of my essay.\\n\\nI will certainly reach out for additional feedback once I've completed my revisions. I'm excited to further develop my writing skills and create a more nuanced and engaging essay.\\n\\nThank you again for your time and assistance. I look forward to continuing to work with you.\\n\\nBest regards,\\n\\n[User]\", id='6540d212-df17-4b74-acad-f83bc618d83b')}\n",
      "----\n",
      "{'generate': AIMessage(content=\"Dear [User],\\n\\nI'm delighted to hear that you found my support valuable and that you're excited to continue refining your essay. Your enthusiasm and dedication to improving your writing skills are commendable, and I'm more than happy to assist you in any way I can.\\n\\nPlease feel free to reach out with any questions or concerns you may have during the revision process. I'm here to help you succeed and grow as a writer, and I believe that your essay has the potential to make a significant impact on your readers.\\n\\nI look forward to seeing your revised essay and providing further feedback to help you achieve your goals.\\n\\nBest regards,\\n\\n[Your Name]\", response_metadata={'token_usage': {'prompt_tokens': 2488, 'total_tokens': 2637, 'completion_tokens': 149}, 'model_name': 'accounts/fireworks/models/mixtral-8x7b-instruct', 'system_fingerprint': '', 'finish_reason': 'stop', 'logprobs': None}, id='run-d2689b43-e2a2-4468-8826-27560cf9a896-0')}\n",
      "----\n"
     ]
    }
   ],
   "source": [
    "async for event in graph.astream(\n",
    "    [\n",
    "        HumanMessage(content='Generate an essay on the topicality of The Little Prince and its message in modern life')\n",
    "    ],\n",
    "):\n",
    "    print(event)\n",
    "    print('----')"
   ]
  },
  {
   "cell_type": "markdown",
   "metadata": {},
   "source": [
    "## Conclusion\n",
    "Now that you've applied reflection to an LLM agent, I'll note one thing: self-reflection is inherently cyclic: it is much more effective if the reflection step has additional context or feedback (from tool observations, checks, etc). If, like in the scenario above, the reflection step simply prompts the LLM to reflect on its output, it can still benefit the output quality (since the LLM then has multiple \"shots\" at getting a good output), but it's less guaranteed."
   ]
  },
  {
   "cell_type": "markdown",
   "metadata": {},
   "source": []
  }
 ],
 "metadata": {
  "kernelspec": {
   "display_name": "pinegap",
   "language": "python",
   "name": "python3"
  },
  "language_info": {
   "codemirror_mode": {
    "name": "ipython",
    "version": 3
   },
   "file_extension": ".py",
   "mimetype": "text/x-python",
   "name": "python",
   "nbconvert_exporter": "python",
   "pygments_lexer": "ipython3",
   "version": "3.1.-1"
  }
 },
 "nbformat": 4,
 "nbformat_minor": 2
}
