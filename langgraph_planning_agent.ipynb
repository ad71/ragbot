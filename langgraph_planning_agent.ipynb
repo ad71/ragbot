{
 "cells": [
  {
   "cell_type": "markdown",
   "metadata": {},
   "source": [
    "# Plan-and-Execute\n",
    "This notebook shows how to create a 'plan-and-execute' style agent. This is heavily inspired by the Plan-and-Solve paper as well as the Baby-AGI project\n",
    "\n",
    "The idea is to come up with a multi-step plan, and then go through that plan one item at a time. After accomplishing a particular task, you can then revisit the plan and modify as appropriate."
   ]
  },
  {
   "cell_type": "code",
   "execution_count": 1,
   "metadata": {},
   "outputs": [
    {
     "data": {
      "text/plain": [
       "True"
      ]
     },
     "execution_count": 1,
     "metadata": {},
     "output_type": "execute_result"
    }
   ],
   "source": [
    "from dotenv import load_dotenv\n",
    "load_dotenv()"
   ]
  },
  {
   "cell_type": "code",
   "execution_count": 2,
   "metadata": {},
   "outputs": [],
   "source": [
    "import os\n",
    "os.environ['LANGCHAIN_TRACING_V2'] = 'true'\n",
    "os.environ['LANGCHAIN_PROJECT'] = 'Plan-and-execute'"
   ]
  },
  {
   "cell_type": "code",
   "execution_count": 3,
   "metadata": {},
   "outputs": [],
   "source": [
    "import re\n",
    "import os\n",
    "import json\n",
    "import base64\n",
    "import asyncio\n",
    "import platform\n",
    "import requests\n",
    "import operator\n",
    "import playwright\n",
    "import numpy as np\n",
    "import pandas as pd\n",
    "import datetime as dt\n",
    "\n",
    "from enum import Enum\n",
    "from typing import List\n",
    "from typing import Dict\n",
    "from typing import Tuple\n",
    "from typing import Union\n",
    "from typing import Literal\n",
    "from typing import Optional\n",
    "from typing import Annotated\n",
    "from typing import TypedDict\n",
    "from operator import itemgetter\n",
    "\n",
    "from IPython import display\n",
    "from IPython.display import HTML\n",
    "from IPython.display import Image\n",
    "\n",
    "from langgraph.graph import END\n",
    "from langgraph.graph import StateGraph\n",
    "from langgraph.prebuilt import create_react_agent\n",
    "\n",
    "from langchain_openai import ChatOpenAI\n",
    "from langchain_openai import OpenAIEmbeddings\n",
    "\n",
    "from langchain_core.messages import BaseMessage\n",
    "from langchain_core.messages.ai import AIMessage\n",
    "from langchain_core.messages.chat import ChatMessage\n",
    "from langchain_core.messages.tool import ToolMessage\n",
    "from langchain_core.messages.human import HumanMessage\n",
    "from langchain_core.messages.system import SystemMessage\n",
    "from langchain_core.messages.function import FunctionMessage\n",
    "from langchain_core.prompts.image import ImagePromptTemplate\n",
    "\n",
    "from langchain_core.pydantic_v1 import Field\n",
    "from langchain_core.pydantic_v1 import BaseModel\n",
    "from langchain_core.runnables import RunnableLambda\n",
    "from langchain_core.runnables import RunnableParallel\n",
    "from langchain_core.runnables import RunnablePassthrough\n",
    "from langchain_core.output_parsers import StrOutputParser\n",
    "from langchain_core.output_parsers import JsonOutputParser\n",
    "\n",
    "from langchain_core.runnables.graph import CurveStyle\n",
    "from langchain_core.runnables.graph import NodeColors\n",
    "from langchain_core.runnables.graph import MermaidDrawMethod\n",
    "\n",
    "from langchain import hub\n",
    "from langchain.prompts import ChatPromptTemplate\n",
    "from langchain_community.tools.tavily_search import TavilySearchResults"
   ]
  },
  {
   "cell_type": "code",
   "execution_count": 4,
   "metadata": {},
   "outputs": [],
   "source": [
    "tools = [TavilySearchResults(max_results=3)]"
   ]
  },
  {
   "cell_type": "code",
   "execution_count": 5,
   "metadata": {},
   "outputs": [
    {
     "name": "stdout",
     "output_type": "stream",
     "text": [
      "================================\u001b[1m System Message \u001b[0m================================\n",
      "\n",
      "You are a helpful assistant.\n",
      "\n",
      "=============================\u001b[1m Messages Placeholder \u001b[0m=============================\n",
      "\n",
      "\u001b[33;1m\u001b[1;3m{{messages}}\u001b[0m\n"
     ]
    }
   ],
   "source": [
    "prompt = hub.pull('wfh/react-agent-executor')\n",
    "prompt.pretty_print()"
   ]
  },
  {
   "cell_type": "code",
   "execution_count": 6,
   "metadata": {},
   "outputs": [],
   "source": [
    "llm = ChatOpenAI(model='gpt-4o')\n",
    "agent_executor = create_react_agent(llm, tools, messages_modifier=prompt)"
   ]
  },
  {
   "cell_type": "code",
   "execution_count": 7,
   "metadata": {},
   "outputs": [
    {
     "data": {
      "text/plain": [
       "{'messages': [HumanMessage(content='who is the winner of the us open', id='d32a438c-dd92-4e64-b8e0-dea34937401d'),\n",
       "  AIMessage(content='', additional_kwargs={'tool_calls': [{'id': 'call_1EYfnZqFP45BkRyoYlwpcvCg', 'function': {'arguments': '{\"query\":\"winner of the US Open 2023\"}', 'name': 'tavily_search_results_json'}, 'type': 'function'}]}, response_metadata={'token_usage': {'completion_tokens': 25, 'prompt_tokens': 93, 'total_tokens': 118}, 'model_name': 'gpt-4o', 'system_fingerprint': 'fp_43dfabdef1', 'finish_reason': 'tool_calls', 'logprobs': None}, id='run-e80c2691-b2e2-49f9-a76f-e29e7306946b-0', tool_calls=[{'name': 'tavily_search_results_json', 'args': {'query': 'winner of the US Open 2023'}, 'id': 'call_1EYfnZqFP45BkRyoYlwpcvCg'}]),\n",
       "  ToolMessage(content='[{\"url\": \"https://www.sportingnews.com/us/golf/news/us-open-2023-live-scores-results-leaderboard/jbmxrpro5jc37drgq8e2lehn\", \"content\": \"Sixth hole may be one to watch in Round 4, with the hole location for Round 4 in a pretty dangerous spot close to a bunker and a nice, thick rough.\\\\n12:15 p.m.:\\\\u00a0Just past noon on the east coast, and Adam Hadwin and Abraham Ancer are set to tee off at 12:18 p.m., one of the day\\'s featured groups. He gets onto the green with a great shot at 17.\\\\n9:15 p.m.:\\\\u00a0Clark\\'s trip to the bunker isn\\'t a fun one, with a terrible spot keeping him from trying for the green.\\\\n Scottie in the #USOpen:2021: T-72022: T-22023: \\\\ud83e\\\\udd14@Lexus #LexusGolf pic.twitter.com/BCiWw5uuih\\\\n3:56 p.m.:\\\\u00a0Fleetwood continues his hot start and is rocketing up the leaderboard through the front nine, moving into the top ten thanks to a birdie at the 9th.\\\\n pic.twitter.com/15389pikrX\\\\n9:36 p.m.:\\\\u00a0Clark begins his trek to the 18th tee and holds a one-shot lead while McIlroy hopes for a miracle up ahead on the green.\\\\n He will have a chance to go for birdie as he begins the back-nine.\\\\n7:35 p.m.:\\\\u00a0And Clark manages to save par on the ninth.\"}, {\"url\": \"https://www.cnn.com/2023/06/18/golf/wyndham-clark-2023-us-open-winner-spt-intl/index.html\", \"content\": \"The American, boasting just one prior win on the PGA Tour and having never previously made the cut at the tournament, held off the challenge of Northern Ireland\\\\u2019s four-time major champion to win the 123rd edition of the major by a single stroke.\\\\n The 34-year-old had made a historic start, shooting 62 to join American compatriot Xander Schauffele in breaking the record for the lowest single round score ever shot at a US Open, but closed with a 75, the fourth highest score of the final round, to fall to tied-fifth.\\\\n One-on-one\\\\nThe prospect of a one-on-one shootout was soon all but confirmed, as Fowler made back-to-back bogeys to sink two below eight-under overall, the score he had held after just 18 holes of the tournament.\\\\n Three times a runner-up, eight times in the top-10: the bittersweet tag of being one of the best golfers to never win a major remains stuck to the fan-favorite Californian.\\\\n The Northern Irishman dropped to his knees in anguish, but received a boost when rules officials deemed his ball broke the surface, granting him a drop in the rough ahead of the bunker.\\\\n\"}, {\"url\": \"https://www.wordplays.com/crossword-solver/winner-2023-us-open\", \"content\": \"The Crossword Solver found 30 answers to \\\\\"winner 2023 us open\\\\\", 7 letters crossword clue. The Crossword Solver finds answers to classic crosswords and cryptic crossword puzzles. Enter the length or pattern for better results. Click the answer to find similar crossword clues . A clue is required.\"}]', name='tavily_search_results_json', id='0f21f7f9-6baa-475c-ac93-df5635397c76', tool_call_id='call_1EYfnZqFP45BkRyoYlwpcvCg'),\n",
       "  AIMessage(content='The winner of the 2023 US Open in golf is Wyndham Clark. He held off the challenge of Northern Ireland’s four-time major champion, Rory McIlroy, to win by a single stroke.', response_metadata={'token_usage': {'completion_tokens': 42, 'prompt_tokens': 880, 'total_tokens': 922}, 'model_name': 'gpt-4o', 'system_fingerprint': 'fp_43dfabdef1', 'finish_reason': 'stop', 'logprobs': None}, id='run-047670b4-72db-4b03-82f7-e46c2781a944-0')]}"
      ]
     },
     "execution_count": 7,
     "metadata": {},
     "output_type": "execute_result"
    }
   ],
   "source": [
    "agent_executor.invoke({'messages': [('user', 'who is the winner of the us open')]})"
   ]
  },
  {
   "cell_type": "code",
   "execution_count": 8,
   "metadata": {},
   "outputs": [],
   "source": [
    "class PlanExecute(TypedDict):\n",
    "    input: str\n",
    "    plan: List[str]\n",
    "    past_steps: Annotated[List[Tuple], operator.add]\n",
    "    response: str"
   ]
  },
  {
   "cell_type": "code",
   "execution_count": 9,
   "metadata": {},
   "outputs": [],
   "source": [
    "class Plan(BaseModel):\n",
    "    steps: List[str] = Field(description='different steps to follow, should be in sorted order')"
   ]
  },
  {
   "cell_type": "code",
   "execution_count": 11,
   "metadata": {},
   "outputs": [],
   "source": [
    "planner_prompt = ChatPromptTemplate.from_messages(\n",
    "    [\n",
    "        (\n",
    "            'system',\n",
    "            '''For the given objective, come up with a simple step by step plan. This plan should involve individual tasks, that if executed correctly will yield the correct answer. Do not add any superfluous steps. The result of the final step should be the final answer. Make sure that each step has all the information needed - do not skip steps.'''\n",
    "        ),\n",
    "        ('placeholder', '{messages}')\n",
    "    ]\n",
    ")\n",
    "planner = planner_prompt | ChatOpenAI(model='gpt-4o', temperature=0).with_structured_output(schema=Plan)"
   ]
  },
  {
   "cell_type": "code",
   "execution_count": 13,
   "metadata": {},
   "outputs": [
    {
     "data": {
      "text/plain": [
       "Plan(steps=['Identify the current winner of the Australian Open.', 'Determine the hometown of the identified winner.'])"
      ]
     },
     "execution_count": 13,
     "metadata": {},
     "output_type": "execute_result"
    }
   ],
   "source": [
    "planner.invoke({'messages': [('user', 'what is the hometown of the current Australia open winner?')]})"
   ]
  },
  {
   "cell_type": "code",
   "execution_count": 14,
   "metadata": {},
   "outputs": [],
   "source": [
    "class Response(BaseModel):\n",
    "    response: str\n",
    "\n",
    "class Act(BaseModel):\n",
    "    action: Union[Response, Plan] = Field(description='Action to perform. If you want to respond to user, use Response. If you need to further use tools to get the answer, use Plan.')"
   ]
  },
  {
   "cell_type": "code",
   "execution_count": 15,
   "metadata": {},
   "outputs": [],
   "source": [
    "replanner_prompt = ChatPromptTemplate.from_template(\n",
    "'''For the given objective, come up with a simple step-by-step plan. This plan should have involve individual tasks, that if executed correctly will yield the correct answer. \n",
    "Do not add any superfluous steps. The result of the final step should be the final answer. Make sure that each step has all the information needed - do not skip steps. \n",
    "\n",
    "Your objective was this: \n",
    "{input}\n",
    "\n",
    "Your original plan was this: \n",
    "{plan}\n",
    "\n",
    "You have currently done the following steps: \n",
    "{past_steps}\n",
    "\n",
    "Update your plan accordingly. If no more steps are needed and you can return to the user, then respond with that. \n",
    "Otherwise, fill out the plan. Only add steps to the plan that still NEED to be done. \n",
    "Do not return previously done steps as part of the plan.\n",
    "''')"
   ]
  },
  {
   "cell_type": "code",
   "execution_count": 16,
   "metadata": {},
   "outputs": [],
   "source": [
    "replanner = replanner_prompt | ChatOpenAI(model='gpt-4o', temperature=0).with_structured_output(schema=Act)"
   ]
  },
  {
   "cell_type": "code",
   "execution_count": 21,
   "metadata": {},
   "outputs": [],
   "source": [
    "async def execute_step(state: PlanExecute):\n",
    "    plan = state['plan']\n",
    "    plan_str = '\\n'.join(f'{i + 1}. {step}' for i, step in enumerate(plan))\n",
    "    task = plan[0]\n",
    "    task_formatted = f'''For the following plan: {plan_str}\\n\\nYou are tasked with executing step {1}, {task}.'''\n",
    "    print(task_formatted)\n",
    "    agent_response = await agent_executor.ainvoke({'messages': [('user', task_formatted)]})\n",
    "    return {'past_steps': (task, agent_response['messages'][-1].content)}\n",
    "\n",
    "async def plan_step(state: PlanExecute):\n",
    "    plan = await planner.ainvoke({'objective': [('user', state['input'])]})\n",
    "    return {'plan': plan.steps}\n",
    "\n",
    "async def replan_step(state: PlanExecute):\n",
    "    output = await replanner.ainvoke(state)\n",
    "    if isinstance(output.action, Response):\n",
    "        return {'response': output.action.response}\n",
    "    else:\n",
    "        return {'plan': output.action.steps}\n",
    "\n",
    "def should_end(state: PlanExecute) -> Literal['agent', '__end__']:\n",
    "    if 'response' in state and state['response']:\n",
    "        return END\n",
    "    else:\n",
    "        return 'agent'"
   ]
  },
  {
   "cell_type": "code",
   "execution_count": 22,
   "metadata": {},
   "outputs": [],
   "source": [
    "workflow = StateGraph(PlanExecute)\n",
    "workflow.add_node('planner', plan_step)\n",
    "workflow.add_node('agent', execute_step)\n",
    "workflow.add_node('replan', replan_step)\n",
    "workflow.set_entry_point('planner')\n",
    "workflow.add_edge('planner', 'agent')\n",
    "workflow.add_edge('agent', 'replan')\n",
    "workflow.add_conditional_edges(\n",
    "    'replan',\n",
    "    should_end\n",
    ")\n",
    "\n",
    "app = workflow.compile()"
   ]
  },
  {
   "cell_type": "code",
   "execution_count": 23,
   "metadata": {},
   "outputs": [
    {
     "data": {
      "image/jpeg": "[encoded data removed]",
      "text/plain": [
       "<IPython.core.display.Image object>"
      ]
     },
     "metadata": {},
     "output_type": "display_data"
    }
   ],
   "source": [
    "display.display(Image(app.get_graph(xray=True).draw_mermaid_png()))"
   ]
  },
  {
   "cell_type": "code",
   "execution_count": 24,
   "metadata": {},
   "outputs": [
    {
     "name": "stdout",
     "output_type": "stream",
     "text": [
      "{'plan': ['Identify the objective clearly.', 'Break down the objective into smaller, manageable tasks.', 'Arrange the tasks in a logical sequence.', 'Ensure each task has all the necessary information to be executed independently.', 'Verify that the final task yields the correct answer.']}\n",
      "For the following plan: 1. Identify the objective clearly.\n",
      "2. Break down the objective into smaller, manageable tasks.\n",
      "3. Arrange the tasks in a logical sequence.\n",
      "4. Ensure each task has all the necessary information to be executed independently.\n",
      "5. Verify that the final task yields the correct answer.\n",
      "\n",
      "You are tasked with executing step 1, Identify the objective clearly..\n",
      "{'past_steps': ('Identify the objective clearly.', \"To identify the objective clearly, it's important to understand the overall goal of the plan. Here are some questions to help pinpoint the objective:\\n\\n1. **What is the desired outcome?**\\n   - Clearly state what you want to achieve by the end of this plan.\\n\\n2. **Why is this objective important?**\\n   - Understanding the importance helps in prioritizing tasks and ensuring alignment with broader goals.\\n\\n3. **Who will be involved in achieving this objective?**\\n   - Identify the key stakeholders, team members, and any external parties.\\n\\n4. **When should the objective be achieved?**\\n   - Define the timeline and any critical deadlines.\\n\\n5. **How will success be measured?**\\n   - Establish criteria or metrics to evaluate the success of the objective.\\n\\nBy answering these questions, you can clearly identify and articulate the objective. Please provide details about the overall goal you want to achieve, and I'll help you define the objective clearly.\")}\n",
      "{'plan': ['Identify the winner of the 2024 Australian Open.', 'Determine the hometown of the identified winner.']}\n",
      "For the following plan: 1. Identify the winner of the 2024 Australian Open.\n",
      "2. Determine the hometown of the identified winner.\n",
      "\n",
      "You are tasked with executing step 1, Identify the winner of the 2024 Australian Open..\n",
      "{'past_steps': ('Identify the winner of the 2024 Australian Open.', \"The winner of the 2024 Australian Open men's title is Jannik Sinner.\")}\n",
      "{'plan': ['Determine the hometown of Jannik Sinner.']}\n",
      "For the following plan: 1. Determine the hometown of Jannik Sinner.\n",
      "\n",
      "You are tasked with executing step 1, Determine the hometown of Jannik Sinner..\n",
      "{'past_steps': ('Determine the hometown of Jannik Sinner.', \"Jannik Sinner's hometown is Sexten in South Tyrol, Italy.\")}\n",
      "{'response': 'The plan has been completed successfully. The hometown of the 2024 Australian Open winner, Jannik Sinner, is Sexten in South Tyrol, Italy.'}\n"
     ]
    }
   ],
   "source": [
    "config = {'recursion_limit': 50}\n",
    "inputs = {'input': 'what is the hometown of the 2024 Australia open winner?'}\n",
    "async for event in app.astream(inputs, config=config):\n",
    "    for k, v in event.items():\n",
    "        if k != '__end__':\n",
    "            print(v)"
   ]
  },
  {
   "cell_type": "code",
   "execution_count": null,
   "metadata": {},
   "outputs": [],
   "source": []
  }
 ],
 "metadata": {
  "kernelspec": {
   "display_name": "pinegap",
   "language": "python",
   "name": "python3"
  },
  "language_info": {
   "codemirror_mode": {
    "name": "ipython",
    "version": 3
   },
   "file_extension": ".py",
   "mimetype": "text/x-python",
   "name": "python",
   "nbconvert_exporter": "python",
   "pygments_lexer": "ipython3",
   "version": "3.1.-1"
  }
 },
 "nbformat": 4,
 "nbformat_minor": 2
}
